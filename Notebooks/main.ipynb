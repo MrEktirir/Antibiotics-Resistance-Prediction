{
  "cells": [
    {
      "cell_type": "markdown",
      "metadata": {
        "id": "view-in-github",
        "colab_type": "text"
      },
      "source": [
        "<a href=\"https://colab.research.google.com/github/MrEktirir/Antibiotics-Resistance-Prediction/blob/feature%2FCreating_Resistance_Models/Notebooks/main.ipynb\" target=\"_parent\"><img src=\"https://colab.research.google.com/assets/colab-badge.svg\" alt=\"Open In Colab\"/></a>"
      ]
    },
    {
      "cell_type": "markdown",
      "source": [
        "# Libraries"
      ],
      "metadata": {
        "id": "K52bKNx6dnhU"
      },
      "id": "K52bKNx6dnhU"
    },
    {
      "cell_type": "markdown",
      "source": [
        "from google.colab import drive\n",
        "drive.mount('/content/drive')"
      ],
      "metadata": {
        "id": "xCBRbZHdS7Rz"
      },
      "id": "xCBRbZHdS7Rz"
    },
    {
      "cell_type": "code",
      "source": [
        "!pip install CatBoost\n",
        "!pip install country_converter"
      ],
      "metadata": {
        "colab": {
          "base_uri": "https://localhost:8080/"
        },
        "id": "kdJTw02DSnK9",
        "outputId": "a22f8760-c095-4ccb-8fa5-1bc7643a166f"
      },
      "id": "kdJTw02DSnK9",
      "execution_count": 2,
      "outputs": [
        {
          "output_type": "stream",
          "name": "stdout",
          "text": [
            "Collecting CatBoost\n",
            "  Downloading catboost-1.2.8-cp311-cp311-manylinux2014_x86_64.whl.metadata (1.2 kB)\n",
            "Requirement already satisfied: graphviz in /usr/local/lib/python3.11/dist-packages (from CatBoost) (0.21)\n",
            "Requirement already satisfied: matplotlib in /usr/local/lib/python3.11/dist-packages (from CatBoost) (3.10.0)\n",
            "Requirement already satisfied: numpy<3.0,>=1.16.0 in /usr/local/lib/python3.11/dist-packages (from CatBoost) (2.0.2)\n",
            "Requirement already satisfied: pandas>=0.24 in /usr/local/lib/python3.11/dist-packages (from CatBoost) (2.2.2)\n",
            "Requirement already satisfied: scipy in /usr/local/lib/python3.11/dist-packages (from CatBoost) (1.15.3)\n",
            "Requirement already satisfied: plotly in /usr/local/lib/python3.11/dist-packages (from CatBoost) (5.24.1)\n",
            "Requirement already satisfied: six in /usr/local/lib/python3.11/dist-packages (from CatBoost) (1.17.0)\n",
            "Requirement already satisfied: python-dateutil>=2.8.2 in /usr/local/lib/python3.11/dist-packages (from pandas>=0.24->CatBoost) (2.9.0.post0)\n",
            "Requirement already satisfied: pytz>=2020.1 in /usr/local/lib/python3.11/dist-packages (from pandas>=0.24->CatBoost) (2025.2)\n",
            "Requirement already satisfied: tzdata>=2022.7 in /usr/local/lib/python3.11/dist-packages (from pandas>=0.24->CatBoost) (2025.2)\n",
            "Requirement already satisfied: contourpy>=1.0.1 in /usr/local/lib/python3.11/dist-packages (from matplotlib->CatBoost) (1.3.2)\n",
            "Requirement already satisfied: cycler>=0.10 in /usr/local/lib/python3.11/dist-packages (from matplotlib->CatBoost) (0.12.1)\n",
            "Requirement already satisfied: fonttools>=4.22.0 in /usr/local/lib/python3.11/dist-packages (from matplotlib->CatBoost) (4.58.4)\n",
            "Requirement already satisfied: kiwisolver>=1.3.1 in /usr/local/lib/python3.11/dist-packages (from matplotlib->CatBoost) (1.4.8)\n",
            "Requirement already satisfied: packaging>=20.0 in /usr/local/lib/python3.11/dist-packages (from matplotlib->CatBoost) (24.2)\n",
            "Requirement already satisfied: pillow>=8 in /usr/local/lib/python3.11/dist-packages (from matplotlib->CatBoost) (11.2.1)\n",
            "Requirement already satisfied: pyparsing>=2.3.1 in /usr/local/lib/python3.11/dist-packages (from matplotlib->CatBoost) (3.2.3)\n",
            "Requirement already satisfied: tenacity>=6.2.0 in /usr/local/lib/python3.11/dist-packages (from plotly->CatBoost) (8.5.0)\n",
            "Downloading catboost-1.2.8-cp311-cp311-manylinux2014_x86_64.whl (99.2 MB)\n",
            "\u001b[2K   \u001b[90m━━━━━━━━━━━━━━━━━━━━━━━━━━━━━━━━━━━━━━━━\u001b[0m \u001b[32m99.2/99.2 MB\u001b[0m \u001b[31m25.5 MB/s\u001b[0m eta \u001b[36m0:00:00\u001b[0m\n",
            "\u001b[?25hInstalling collected packages: CatBoost\n",
            "Successfully installed CatBoost-1.2.8\n"
          ]
        }
      ]
    },
    {
      "cell_type": "code",
      "execution_count": 3,
      "id": "fdb5bef6",
      "metadata": {
        "id": "fdb5bef6",
        "colab": {
          "base_uri": "https://localhost:8080/"
        },
        "outputId": "aafad837-d37e-4fae-d402-73f26e35396f"
      },
      "outputs": [
        {
          "output_type": "stream",
          "name": "stdout",
          "text": [
            "Collecting biopython\n",
            "  Downloading biopython-1.85-cp311-cp311-manylinux_2_17_x86_64.manylinux2014_x86_64.whl.metadata (13 kB)\n",
            "Requirement already satisfied: numpy in /usr/local/lib/python3.11/dist-packages (from biopython) (2.0.2)\n",
            "Downloading biopython-1.85-cp311-cp311-manylinux_2_17_x86_64.manylinux2014_x86_64.whl (3.3 MB)\n",
            "\u001b[?25l   \u001b[90m━━━━━━━━━━━━━━━━━━━━━━━━━━━━━━━━━━━━━━━━\u001b[0m \u001b[32m0.0/3.3 MB\u001b[0m \u001b[31m?\u001b[0m eta \u001b[36m-:--:--\u001b[0m\r\u001b[2K   \u001b[91m━━━━━━━━━━━━━━━━━━━━━━━━━━━━━━━━━━━━━━━\u001b[0m\u001b[91m╸\u001b[0m \u001b[32m3.3/3.3 MB\u001b[0m \u001b[31m142.0 MB/s\u001b[0m eta \u001b[36m0:00:01\u001b[0m\r\u001b[2K   \u001b[90m━━━━━━━━━━━━━━━━━━━━━━━━━━━━━━━━━━━━━━━━\u001b[0m \u001b[32m3.3/3.3 MB\u001b[0m \u001b[31m78.7 MB/s\u001b[0m eta \u001b[36m0:00:00\u001b[0m\n",
            "\u001b[?25hInstalling collected packages: biopython\n",
            "Successfully installed biopython-1.85\n"
          ]
        }
      ],
      "source": [
        "import os\n",
        "import pandas as pd\n",
        "import numpy as np\n",
        "import matplotlib.pyplot as plt\n",
        "import seaborn as sns; sns.set(style='whitegrid')\n",
        "import time\n",
        "import plotly.express as px\n",
        "import plotly.graph_objects as go\n",
        "from matplotlib import cm\n",
        "from tqdm import tqdm\n",
        "!pip install biopython\n",
        "from Bio.Seq import Seq\n",
        "\n",
        "# Sklearn Module\n",
        "from sklearn.model_selection import KFold,GroupKFold,GridSearchCV,StratifiedKFold\n",
        "from sklearn.metrics import confusion_matrix,balanced_accuracy_score\n",
        "from sklearn.preprocessing import StandardScaler, MinMaxScaler, Normalizer,RobustScaler\n",
        "from sklearn.model_selection import train_test_split, KFold, cross_val_score, GridSearchCV\n",
        "from sklearn.model_selection import learning_curve,ShuffleSplit\n",
        "from sklearn.feature_selection import SelectKBest,f_regression\n",
        "from sklearn.pipeline import Pipeline\n",
        "from sklearn.metrics import classification_report, confusion_matrix, accuracy_score\n",
        "from sklearn import preprocessing\n",
        "from imblearn.over_sampling import SMOTE, SMOTENC, SMOTEN\n",
        "\n",
        "# Machine Learning Models\n",
        "from sklearn.linear_model import LogisticRegression,SGDClassifier\n",
        "from sklearn.tree import DecisionTreeClassifier\n",
        "from sklearn.neighbors import KNeighborsClassifier\n",
        "from sklearn.discriminant_analysis import LinearDiscriminantAnalysis\n",
        "from sklearn.naive_bayes import GaussianNB\n",
        "from sklearn.svm import SVC\n",
        "from sklearn.neural_network import MLPClassifier\n",
        "\n",
        "from catboost import CatBoostClassifier,CatBoostRegressor\n",
        "from xgboost import XGBRegressor,XGBClassifier\n",
        "from sklearn.ensemble import RandomForestClassifier,RandomForestRegressor\n",
        "from sklearn.ensemble import AdaBoostClassifier, GradientBoostingClassifier, ExtraTreesClassifier\n",
        "import os,warnings;warnings.filterwarnings(\"ignore\")"
      ]
    },
    {
      "cell_type": "code",
      "source": [
        "from google.colab import drive\n",
        "drive.mount('/content/drive')"
      ],
      "metadata": {
        "id": "M6GCwQr7xkOm",
        "outputId": "acb57a78-e517-4e1c-8da0-6c091d4be37f",
        "colab": {
          "base_uri": "https://localhost:8080/"
        }
      },
      "id": "M6GCwQr7xkOm",
      "execution_count": 4,
      "outputs": [
        {
          "output_type": "stream",
          "name": "stdout",
          "text": [
            "Mounted at /content/drive\n"
          ]
        }
      ]
    },
    {
      "cell_type": "markdown",
      "source": [
        "# Reading Files"
      ],
      "metadata": {
        "id": "1LGnoCF392-x"
      },
      "id": "1LGnoCF392-x"
    },
    {
      "cell_type": "code",
      "source": [
        "azm_sr_df = pd.read_csv('/content/drive/MyDrive/Dataset/azm_sr_gwas_filtered_unitigs.Rtab', sep=\"\\t\")\n",
        "cfx_sr_df = pd.read_csv('/content/drive/MyDrive/Dataset/cfx_sr_gwas_filtered_unitigs.Rtab', sep=\"\\t\")\n",
        "cip_sr_df = pd.read_csv('/content/drive/MyDrive/Dataset/cip_sr_gwas_filtered_unitigs.Rtab', sep=\"\\t\")\n",
        "metadata_df = pd.read_csv('/content/drive/MyDrive/Dataset/metadata.csv')"
      ],
      "metadata": {
        "id": "RUNAkltE9elS"
      },
      "id": "RUNAkltE9elS",
      "execution_count": 5,
      "outputs": []
    },
    {
      "cell_type": "markdown",
      "source": [
        "# Basic Stats"
      ],
      "metadata": {
        "id": "8WeXQ3Ia_Mle"
      },
      "id": "8WeXQ3Ia_Mle"
    },
    {
      "cell_type": "markdown",
      "source": [
        "# **1. Introduction**"
      ],
      "metadata": {
        "id": "TUZbXm3cN5ZY"
      },
      "id": "TUZbXm3cN5ZY"
    },
    {
      "cell_type": "markdown",
      "source": [
        "## 1.1 Background"
      ],
      "metadata": {
        "id": "jKAy3nfSN99s"
      },
      "id": "jKAy3nfSN99s"
    },
    {
      "cell_type": "markdown",
      "source": [
        "RESISTANCE OF BACTERIA\n",
        "\n",
        "  We will be focussing on a species called Neisseria gonorrhoeae, the bacteria which cause gonorrhoea.\n",
        "Gonorrhoea is the second most common sexually transmitted infection (STI) in Europe, after chlamydia.\n",
        "Rates of gonorrhoea infection are on the rise, with a 26% increase reported from 2017-2018 in the UK.\n",
        "\n",
        "  Many people who are infected (especially women) experience no symptoms, helping the disease to spread.\n",
        "If the infection is left untreated, it can lead to infertility in women, and can occasionally spread to\n",
        "other parts of the body such as your joints, heart valves, brain or spinal cord.\n",
        "Resistance of these bacteria to antibiotics is rising over time, making infections hard to treat.\n",
        "\n",
        "* In the past, patients were treated with an antibiotic called ciprofloxaxcin.\n",
        "* Doctors had to stop using this antibiotic because resistance to the drug became too common, causing treatments of infections to fail.\n",
        "* Until very recently, the recommended treatment was two drugs - ceftriaxone and azithromycin.\n",
        "* Azithromycin was removed from recommendations because of concern over rising resistance to the antibiotic.\n",
        "* In February 2018, the first ever reported case of resistance to treatment with ceftriaxone and azithromycin, as well as resistance to the last-resort treatment spectinomycin, was reported.\n",
        "* Currently in the UK, patients are only treated with ceftriaxone."
      ],
      "metadata": {
        "id": "fAO1L2b4OD3v"
      },
      "id": "fAO1L2b4OD3v"
    },
    {
      "cell_type": "markdown",
      "source": [
        "*ANTIBIOTICS*\n",
        "\n",
        "Three antibiotics and associated unitigs are used to make a model in this problem.\n",
        "\n",
        "*Azithromycin* :\n",
        "* Azithromycin is an antibiotic used to treat various types of infections of the respiratory tract, ear, skin and eye in adults and children. It is also effective in typhoid fever and some sexually transmitted diseases like gonorrhea.\n",
        "\n",
        "*Ciprofloxacin* :\n",
        "* Ciprofloxacin is an antibiotic, used in the treatment of bacterial infections. It is also used in treating infections of the urinary tract, nose, throat, skin and soft tissues and lungs (pneumonia). It prevents the bacterial cells from dividing and repairing, thereby killing them.\n",
        "\n",
        "*Cefixime* :\n",
        "* Cefixime is an antibiotic medicine used to treat a variety of bacterial infections. It is effective in infections of the respiratory tract (eg. pneumonia), urinary tract, ear, nasal sinus, throat, and some sexually transmitted diseases."
      ],
      "metadata": {
        "id": "DAUdHv91OUvB"
      },
      "id": "DAUdHv91OUvB"
    },
    {
      "cell_type": "markdown",
      "source": [
        "**UNITIGS**\n",
        "\n",
        "In our dataset, we will come across features data that will convey the presence or absence of a particular nucleotide sequence in the Bacteria's DNA\n",
        "\n",
        "For this analysis, we're using unitigs, stretches of DNA (in string format) shared by a subset of the strains in our study.\n",
        "* Unitigs are an efficient but flexible way of representing DNA variation in bacteria.\n",
        "* The full dataset consists of 584,362 unitigs, which takes a long time to train models on, so for this exercise\n",
        "* We will be using a set that has been filtered for unitigs associated with resistance.\n"
      ],
      "metadata": {
        "id": "3aF-BoSFPIQ5"
      },
      "id": "3aF-BoSFPIQ5"
    },
    {
      "cell_type": "markdown",
      "source": [
        "## 1.2. Target Variables\n",
        "\n",
        "*Neisseria gonorrhoeae* is either resistant (target=1) to a particular treatment or not resistant (target=0) for a particular.\n",
        "\n",
        "AVAILABLE UNITIG DATA:\n",
        "\n",
        "* We will be choosing one of the following antibiotic cases below:\n",
        "\n",
        "  1.   Bacteria resistance to *Azithromycin; azm_sr*\n",
        "  2.   Bacteria resistance to *Ciprofloxacin; cip_sr*\n",
        "  3.   Bacteria resistance to *Cefixime; cfx_sr*\n",
        "\n",
        "UNAVAILABLE UNITIG DATA:\n",
        "\n",
        "* We don't currently have unitig data for the following antibiotics, so we can't check these cases:\n",
        "\n",
        "  1.   Bacteria resistance to *Ceftriaxone; cro_sr*\n",
        "  2.   Bacteria resistance to *Tetracycline; tet_sr*\n",
        "  3.   Bacteria reistance to *Penicillin; pen_sr*"
      ],
      "metadata": {
        "id": "eNSyu2Q-P7F_"
      },
      "id": "eNSyu2Q-P7F_"
    },
    {
      "cell_type": "markdown",
      "source": [
        "# 2. Dataset"
      ],
      "metadata": {
        "id": "PMNjfqdmRsx8"
      },
      "id": "PMNjfqdmRsx8"
    },
    {
      "cell_type": "markdown",
      "source": [
        "## 2.1. Creating Dataset\n",
        "\n",
        "**GET_UNITIGS CLASS**\n",
        "\n",
        "  *   We need to do some data wrangling & combine two data files together; `.get_case`\n",
        "  *   In this problem, a case type format is used (grouped feature matrix & target vector)\n",
        "\n",
        "The feature matrix (stored within .X) will contain:\n",
        "\n",
        "  * All collected samples from across various databses, corresponding to the bacteria's DNA (which was cut into segments of 31-mers)\n",
        "\n",
        "  * When a particular DNA segment (unitig) is present in the bacterial sample DNA, it's value is set to 1 & 0 if it's not present\n",
        "\n",
        "**MERGING RTAB & METADATA**\n",
        "\n",
        "  * Filtered Unitig data is located in .Rtab files, corresponding to the same **`sample_id`** as that of the metadata\n",
        "\n",
        "  * We need read the .Rtab files & merge the two dataframes based on the **`sample_id`** index; using .get_case()\n",
        "\n"
      ],
      "metadata": {
        "id": "NO2a1V-TRxe3"
      },
      "id": "NO2a1V-TRxe3"
    },
    {
      "cell_type": "code",
      "source": [
        "''' Align Metadata Target values Unitig File & Compile Feature Matrix '''\n",
        "\n",
        "class get_unitigs:\n",
        "\n",
        "    def __init__(self,verbose=True):\n",
        "        self.df = pd.read_csv('/content/drive/MyDrive/Dataset/metadata.csv', index_col=0) # metadata\n",
        "        self.meta_names = self.df.columns\n",
        "        self.target_name = None\n",
        "        self.verbose = verbose\n",
        "\n",
        "    # Get Unitig Feature matrix & Target Vector\n",
        "    def get_case(self,phenotype=None):\n",
        "\n",
        "        self.target_name = phenotype\n",
        "        _metadata = self.df\n",
        "        if(self.verbose):\n",
        "            print(f'Target Antibiotic: {self.target_name}')\n",
        "            print(f'Metadata df: {_metadata.shape}')\n",
        "\n",
        "        # remove those that don't contain target values\n",
        "        _metadata = _metadata.dropna(subset=[phenotype])\n",
        "        self.metadata = _metadata.copy()\n",
        "\n",
        "        if(self.verbose):\n",
        "            print(f'Metadata df after na() removal {_metadata.shape}')\n",
        "        _metadata = _metadata[phenotype] # choose target variable\n",
        "\n",
        "        prefix = '/content/drive/MyDrive/Dataset/'\n",
        "        suffix = '_gwas_filtered_unitigs.Rtab'\n",
        "\n",
        "        if(self.verbose):\n",
        "            print('\\nCombining Metadata & Unitigs')\n",
        "\n",
        "        # unitig feature matrix for phenotype\n",
        "        tdf = pd.read_csv(prefix + phenotype + suffix, sep=\" \",\n",
        "                          index_col=0, low_memory=False)\n",
        "        # align column data w/ metadata df (pattern_id = sample_idd)\n",
        "        tdf = tdf.T\n",
        "        # keep only common rows, ie. that have resistence measure]\n",
        "        tdf = tdf[tdf.index.isin(_metadata.index)]\n",
        "\n",
        "        train = tdf\n",
        "        target = _metadata[_metadata.index.isin(tdf.index)]\n",
        "\n",
        "        self.X = pd.concat([train,target],axis=1)\n",
        "        if(self.verbose):\n",
        "            print(f'Unitig Matrix (+target): {self.X.shape}')"
      ],
      "metadata": {
        "id": "pRIEp9hnZw8N"
      },
      "id": "pRIEp9hnZw8N",
      "execution_count": 6,
      "outputs": []
    },
    {
      "cell_type": "code",
      "source": [
        "metadata_df['Year'] = metadata_df['Year'].fillna(0).astype(np.int64)"
      ],
      "metadata": {
        "id": "8DNiSmG9dO6W"
      },
      "id": "8DNiSmG9dO6W",
      "execution_count": 7,
      "outputs": []
    },
    {
      "cell_type": "code",
      "source": [
        "for row in metadata_df.Year:\n",
        "  if row==2008:\n",
        "    print(row)"
      ],
      "metadata": {
        "colab": {
          "base_uri": "https://localhost:8080/"
        },
        "id": "M6gHAXCYd1mz",
        "outputId": "d5f69b6b-a78a-482d-ea8d-21536d3c2d6c"
      },
      "id": "M6gHAXCYd1mz",
      "execution_count": 8,
      "outputs": [
        {
          "output_type": "stream",
          "name": "stdout",
          "text": [
            "2008\n",
            "2008\n",
            "2008\n",
            "2008\n",
            "2008\n",
            "2008\n",
            "2008\n",
            "2008\n",
            "2008\n",
            "2008\n",
            "2008\n",
            "2008\n",
            "2008\n",
            "2008\n",
            "2008\n",
            "2008\n",
            "2008\n",
            "2008\n",
            "2008\n",
            "2008\n",
            "2008\n",
            "2008\n",
            "2008\n",
            "2008\n",
            "2008\n",
            "2008\n",
            "2008\n",
            "2008\n",
            "2008\n",
            "2008\n",
            "2008\n",
            "2008\n",
            "2008\n",
            "2008\n",
            "2008\n",
            "2008\n",
            "2008\n",
            "2008\n",
            "2008\n",
            "2008\n",
            "2008\n",
            "2008\n",
            "2008\n",
            "2008\n",
            "2008\n",
            "2008\n",
            "2008\n",
            "2008\n",
            "2008\n",
            "2008\n",
            "2008\n",
            "2008\n",
            "2008\n",
            "2008\n",
            "2008\n",
            "2008\n",
            "2008\n",
            "2008\n",
            "2008\n",
            "2008\n",
            "2008\n",
            "2008\n",
            "2008\n",
            "2008\n",
            "2008\n",
            "2008\n",
            "2008\n",
            "2008\n",
            "2008\n",
            "2008\n",
            "2008\n",
            "2008\n",
            "2008\n",
            "2008\n",
            "2008\n",
            "2008\n",
            "2008\n",
            "2008\n"
          ]
        }
      ]
    },
    {
      "cell_type": "markdown",
      "source": [
        "## 2.2 Case Preview - Ciprofloxacin\n",
        "\n",
        "  We'll be looking at bacterial resistance for three different cases, let's check one case first & load the other when required..\n",
        "---\n",
        "\n",
        "**METADATA CONTENT**\n",
        "\n",
        "* Metadata is stored in .df, which contains our target variable (one of the _sr columns) for a specific Sample_ID\n",
        "\n",
        "* As we can see, we don't have all the data, some data is missing in our metadata, we'll only be dropping Nan cases for the target variable (_sr) we're concerned with.\n",
        "\n",
        "**FEATURE MATRIX**\n",
        "\n",
        "* The feature matrix is created from one of the .Rtab files, depending on which case we are testing.\n",
        "\n",
        "* Each column in the feature matrix is called a unitig (pattern_id); is treated as a feature for the specific Sample_ID, which is our index."
      ],
      "metadata": {
        "id": "GDiJxQa7gI7l"
      },
      "id": "GDiJxQa7gI7l"
    },
    {
      "cell_type": "code",
      "source": [
        "# Load meta data & look at the first 5 samples\n",
        "case_cip = get_unitigs()\n",
        "\n",
        "display(case_cip.df.T.iloc[:,:7])"
      ],
      "metadata": {
        "colab": {
          "base_uri": "https://localhost:8080/",
          "height": 990
        },
        "id": "RM9p0EDBhwWr",
        "outputId": "483f0483-531a-416d-d490-3337f02761fd"
      },
      "id": "RM9p0EDBhwWr",
      "execution_count": 9,
      "outputs": [
        {
          "output_type": "display_data",
          "data": {
            "text/plain": [
              "Sample_ID      ERR1549286 ERR1549290 ERR1549291 ERR1549287 ERR1549288  \\\n",
              "Year               2015.0     2015.0     2015.0     2015.0     2015.0   \n",
              "Country                UK         UK         UK         UK         UK   \n",
              "Continent          Europe     Europe     Europe     Europe     Europe   \n",
              "Beta.lactamase        NaN        NaN        NaN        NaN        NaN   \n",
              "Azithromycin         >256       >256       >256       >256       >256   \n",
              "Ciprofloxacin         NaN        NaN        NaN        NaN        NaN   \n",
              "Ceftriaxone         0.016      0.004      0.006      0.006      0.008   \n",
              "Cefixime              NaN        NaN        NaN        NaN        NaN   \n",
              "Tetracycline          NaN        NaN        NaN        NaN        NaN   \n",
              "Penicillin            NaN        NaN        NaN        NaN        NaN   \n",
              "NG_MAST              9768       9768       9768       9768       9768   \n",
              "Group                1058       1058       1058       1058       1058   \n",
              "azm_mic             512.0      512.0      512.0      512.0      512.0   \n",
              "cip_mic               NaN        NaN        NaN        NaN        NaN   \n",
              "cro_mic             0.016      0.004      0.006      0.006      0.008   \n",
              "cfx_mic               NaN        NaN        NaN        NaN        NaN   \n",
              "tet_mic               NaN        NaN        NaN        NaN        NaN   \n",
              "pen_mic               NaN        NaN        NaN        NaN        NaN   \n",
              "log2_azm_mic          9.0        9.0        9.0        9.0        9.0   \n",
              "log2_cip_mic          NaN        NaN        NaN        NaN        NaN   \n",
              "log2_cro_mic    -5.965784  -7.965784  -7.380822  -7.380822  -6.965784   \n",
              "log2_cfx_mic          NaN        NaN        NaN        NaN        NaN   \n",
              "log2_tet_mic          NaN        NaN        NaN        NaN        NaN   \n",
              "log2_pen_mic          NaN        NaN        NaN        NaN        NaN   \n",
              "azm_sr                1.0        1.0        1.0        1.0        1.0   \n",
              "cip_sr                NaN        NaN        NaN        NaN        NaN   \n",
              "cro_sr                0.0        0.0        0.0        0.0        0.0   \n",
              "cfx_sr                NaN        NaN        NaN        NaN        NaN   \n",
              "tet_sr                NaN        NaN        NaN        NaN        NaN   \n",
              "pen_sr                NaN        NaN        NaN        NaN        NaN   \n",
              "\n",
              "Sample_ID      ERR1549299 ERR1549292  \n",
              "Year               2015.0     2015.0  \n",
              "Country                UK         UK  \n",
              "Continent          Europe     Europe  \n",
              "Beta.lactamase        NaN        NaN  \n",
              "Azithromycin         >256       >256  \n",
              "Ciprofloxacin         NaN        NaN  \n",
              "Ceftriaxone         0.012      0.023  \n",
              "Cefixime              NaN        NaN  \n",
              "Tetracycline          NaN        NaN  \n",
              "Penicillin            NaN        NaN  \n",
              "NG_MAST               NaN       9768  \n",
              "Group                   0       1058  \n",
              "azm_mic             512.0      512.0  \n",
              "cip_mic               NaN        NaN  \n",
              "cro_mic             0.012      0.023  \n",
              "cfx_mic               NaN        NaN  \n",
              "tet_mic               NaN        NaN  \n",
              "pen_mic               NaN        NaN  \n",
              "log2_azm_mic          9.0        9.0  \n",
              "log2_cip_mic          NaN        NaN  \n",
              "log2_cro_mic    -6.380822  -5.442222  \n",
              "log2_cfx_mic          NaN        NaN  \n",
              "log2_tet_mic          NaN        NaN  \n",
              "log2_pen_mic          NaN        NaN  \n",
              "azm_sr                1.0        1.0  \n",
              "cip_sr                NaN        NaN  \n",
              "cro_sr                0.0        0.0  \n",
              "cfx_sr                NaN        NaN  \n",
              "tet_sr                NaN        NaN  \n",
              "pen_sr                NaN        NaN  "
            ],
            "text/html": [
              "\n",
              "  <div id=\"df-0b29404a-1278-47d2-9f84-a6c956bd9a90\" class=\"colab-df-container\">\n",
              "    <div>\n",
              "<style scoped>\n",
              "    .dataframe tbody tr th:only-of-type {\n",
              "        vertical-align: middle;\n",
              "    }\n",
              "\n",
              "    .dataframe tbody tr th {\n",
              "        vertical-align: top;\n",
              "    }\n",
              "\n",
              "    .dataframe thead th {\n",
              "        text-align: right;\n",
              "    }\n",
              "</style>\n",
              "<table border=\"1\" class=\"dataframe\">\n",
              "  <thead>\n",
              "    <tr style=\"text-align: right;\">\n",
              "      <th>Sample_ID</th>\n",
              "      <th>ERR1549286</th>\n",
              "      <th>ERR1549290</th>\n",
              "      <th>ERR1549291</th>\n",
              "      <th>ERR1549287</th>\n",
              "      <th>ERR1549288</th>\n",
              "      <th>ERR1549299</th>\n",
              "      <th>ERR1549292</th>\n",
              "    </tr>\n",
              "  </thead>\n",
              "  <tbody>\n",
              "    <tr>\n",
              "      <th>Year</th>\n",
              "      <td>2015.0</td>\n",
              "      <td>2015.0</td>\n",
              "      <td>2015.0</td>\n",
              "      <td>2015.0</td>\n",
              "      <td>2015.0</td>\n",
              "      <td>2015.0</td>\n",
              "      <td>2015.0</td>\n",
              "    </tr>\n",
              "    <tr>\n",
              "      <th>Country</th>\n",
              "      <td>UK</td>\n",
              "      <td>UK</td>\n",
              "      <td>UK</td>\n",
              "      <td>UK</td>\n",
              "      <td>UK</td>\n",
              "      <td>UK</td>\n",
              "      <td>UK</td>\n",
              "    </tr>\n",
              "    <tr>\n",
              "      <th>Continent</th>\n",
              "      <td>Europe</td>\n",
              "      <td>Europe</td>\n",
              "      <td>Europe</td>\n",
              "      <td>Europe</td>\n",
              "      <td>Europe</td>\n",
              "      <td>Europe</td>\n",
              "      <td>Europe</td>\n",
              "    </tr>\n",
              "    <tr>\n",
              "      <th>Beta.lactamase</th>\n",
              "      <td>NaN</td>\n",
              "      <td>NaN</td>\n",
              "      <td>NaN</td>\n",
              "      <td>NaN</td>\n",
              "      <td>NaN</td>\n",
              "      <td>NaN</td>\n",
              "      <td>NaN</td>\n",
              "    </tr>\n",
              "    <tr>\n",
              "      <th>Azithromycin</th>\n",
              "      <td>&gt;256</td>\n",
              "      <td>&gt;256</td>\n",
              "      <td>&gt;256</td>\n",
              "      <td>&gt;256</td>\n",
              "      <td>&gt;256</td>\n",
              "      <td>&gt;256</td>\n",
              "      <td>&gt;256</td>\n",
              "    </tr>\n",
              "    <tr>\n",
              "      <th>Ciprofloxacin</th>\n",
              "      <td>NaN</td>\n",
              "      <td>NaN</td>\n",
              "      <td>NaN</td>\n",
              "      <td>NaN</td>\n",
              "      <td>NaN</td>\n",
              "      <td>NaN</td>\n",
              "      <td>NaN</td>\n",
              "    </tr>\n",
              "    <tr>\n",
              "      <th>Ceftriaxone</th>\n",
              "      <td>0.016</td>\n",
              "      <td>0.004</td>\n",
              "      <td>0.006</td>\n",
              "      <td>0.006</td>\n",
              "      <td>0.008</td>\n",
              "      <td>0.012</td>\n",
              "      <td>0.023</td>\n",
              "    </tr>\n",
              "    <tr>\n",
              "      <th>Cefixime</th>\n",
              "      <td>NaN</td>\n",
              "      <td>NaN</td>\n",
              "      <td>NaN</td>\n",
              "      <td>NaN</td>\n",
              "      <td>NaN</td>\n",
              "      <td>NaN</td>\n",
              "      <td>NaN</td>\n",
              "    </tr>\n",
              "    <tr>\n",
              "      <th>Tetracycline</th>\n",
              "      <td>NaN</td>\n",
              "      <td>NaN</td>\n",
              "      <td>NaN</td>\n",
              "      <td>NaN</td>\n",
              "      <td>NaN</td>\n",
              "      <td>NaN</td>\n",
              "      <td>NaN</td>\n",
              "    </tr>\n",
              "    <tr>\n",
              "      <th>Penicillin</th>\n",
              "      <td>NaN</td>\n",
              "      <td>NaN</td>\n",
              "      <td>NaN</td>\n",
              "      <td>NaN</td>\n",
              "      <td>NaN</td>\n",
              "      <td>NaN</td>\n",
              "      <td>NaN</td>\n",
              "    </tr>\n",
              "    <tr>\n",
              "      <th>NG_MAST</th>\n",
              "      <td>9768</td>\n",
              "      <td>9768</td>\n",
              "      <td>9768</td>\n",
              "      <td>9768</td>\n",
              "      <td>9768</td>\n",
              "      <td>NaN</td>\n",
              "      <td>9768</td>\n",
              "    </tr>\n",
              "    <tr>\n",
              "      <th>Group</th>\n",
              "      <td>1058</td>\n",
              "      <td>1058</td>\n",
              "      <td>1058</td>\n",
              "      <td>1058</td>\n",
              "      <td>1058</td>\n",
              "      <td>0</td>\n",
              "      <td>1058</td>\n",
              "    </tr>\n",
              "    <tr>\n",
              "      <th>azm_mic</th>\n",
              "      <td>512.0</td>\n",
              "      <td>512.0</td>\n",
              "      <td>512.0</td>\n",
              "      <td>512.0</td>\n",
              "      <td>512.0</td>\n",
              "      <td>512.0</td>\n",
              "      <td>512.0</td>\n",
              "    </tr>\n",
              "    <tr>\n",
              "      <th>cip_mic</th>\n",
              "      <td>NaN</td>\n",
              "      <td>NaN</td>\n",
              "      <td>NaN</td>\n",
              "      <td>NaN</td>\n",
              "      <td>NaN</td>\n",
              "      <td>NaN</td>\n",
              "      <td>NaN</td>\n",
              "    </tr>\n",
              "    <tr>\n",
              "      <th>cro_mic</th>\n",
              "      <td>0.016</td>\n",
              "      <td>0.004</td>\n",
              "      <td>0.006</td>\n",
              "      <td>0.006</td>\n",
              "      <td>0.008</td>\n",
              "      <td>0.012</td>\n",
              "      <td>0.023</td>\n",
              "    </tr>\n",
              "    <tr>\n",
              "      <th>cfx_mic</th>\n",
              "      <td>NaN</td>\n",
              "      <td>NaN</td>\n",
              "      <td>NaN</td>\n",
              "      <td>NaN</td>\n",
              "      <td>NaN</td>\n",
              "      <td>NaN</td>\n",
              "      <td>NaN</td>\n",
              "    </tr>\n",
              "    <tr>\n",
              "      <th>tet_mic</th>\n",
              "      <td>NaN</td>\n",
              "      <td>NaN</td>\n",
              "      <td>NaN</td>\n",
              "      <td>NaN</td>\n",
              "      <td>NaN</td>\n",
              "      <td>NaN</td>\n",
              "      <td>NaN</td>\n",
              "    </tr>\n",
              "    <tr>\n",
              "      <th>pen_mic</th>\n",
              "      <td>NaN</td>\n",
              "      <td>NaN</td>\n",
              "      <td>NaN</td>\n",
              "      <td>NaN</td>\n",
              "      <td>NaN</td>\n",
              "      <td>NaN</td>\n",
              "      <td>NaN</td>\n",
              "    </tr>\n",
              "    <tr>\n",
              "      <th>log2_azm_mic</th>\n",
              "      <td>9.0</td>\n",
              "      <td>9.0</td>\n",
              "      <td>9.0</td>\n",
              "      <td>9.0</td>\n",
              "      <td>9.0</td>\n",
              "      <td>9.0</td>\n",
              "      <td>9.0</td>\n",
              "    </tr>\n",
              "    <tr>\n",
              "      <th>log2_cip_mic</th>\n",
              "      <td>NaN</td>\n",
              "      <td>NaN</td>\n",
              "      <td>NaN</td>\n",
              "      <td>NaN</td>\n",
              "      <td>NaN</td>\n",
              "      <td>NaN</td>\n",
              "      <td>NaN</td>\n",
              "    </tr>\n",
              "    <tr>\n",
              "      <th>log2_cro_mic</th>\n",
              "      <td>-5.965784</td>\n",
              "      <td>-7.965784</td>\n",
              "      <td>-7.380822</td>\n",
              "      <td>-7.380822</td>\n",
              "      <td>-6.965784</td>\n",
              "      <td>-6.380822</td>\n",
              "      <td>-5.442222</td>\n",
              "    </tr>\n",
              "    <tr>\n",
              "      <th>log2_cfx_mic</th>\n",
              "      <td>NaN</td>\n",
              "      <td>NaN</td>\n",
              "      <td>NaN</td>\n",
              "      <td>NaN</td>\n",
              "      <td>NaN</td>\n",
              "      <td>NaN</td>\n",
              "      <td>NaN</td>\n",
              "    </tr>\n",
              "    <tr>\n",
              "      <th>log2_tet_mic</th>\n",
              "      <td>NaN</td>\n",
              "      <td>NaN</td>\n",
              "      <td>NaN</td>\n",
              "      <td>NaN</td>\n",
              "      <td>NaN</td>\n",
              "      <td>NaN</td>\n",
              "      <td>NaN</td>\n",
              "    </tr>\n",
              "    <tr>\n",
              "      <th>log2_pen_mic</th>\n",
              "      <td>NaN</td>\n",
              "      <td>NaN</td>\n",
              "      <td>NaN</td>\n",
              "      <td>NaN</td>\n",
              "      <td>NaN</td>\n",
              "      <td>NaN</td>\n",
              "      <td>NaN</td>\n",
              "    </tr>\n",
              "    <tr>\n",
              "      <th>azm_sr</th>\n",
              "      <td>1.0</td>\n",
              "      <td>1.0</td>\n",
              "      <td>1.0</td>\n",
              "      <td>1.0</td>\n",
              "      <td>1.0</td>\n",
              "      <td>1.0</td>\n",
              "      <td>1.0</td>\n",
              "    </tr>\n",
              "    <tr>\n",
              "      <th>cip_sr</th>\n",
              "      <td>NaN</td>\n",
              "      <td>NaN</td>\n",
              "      <td>NaN</td>\n",
              "      <td>NaN</td>\n",
              "      <td>NaN</td>\n",
              "      <td>NaN</td>\n",
              "      <td>NaN</td>\n",
              "    </tr>\n",
              "    <tr>\n",
              "      <th>cro_sr</th>\n",
              "      <td>0.0</td>\n",
              "      <td>0.0</td>\n",
              "      <td>0.0</td>\n",
              "      <td>0.0</td>\n",
              "      <td>0.0</td>\n",
              "      <td>0.0</td>\n",
              "      <td>0.0</td>\n",
              "    </tr>\n",
              "    <tr>\n",
              "      <th>cfx_sr</th>\n",
              "      <td>NaN</td>\n",
              "      <td>NaN</td>\n",
              "      <td>NaN</td>\n",
              "      <td>NaN</td>\n",
              "      <td>NaN</td>\n",
              "      <td>NaN</td>\n",
              "      <td>NaN</td>\n",
              "    </tr>\n",
              "    <tr>\n",
              "      <th>tet_sr</th>\n",
              "      <td>NaN</td>\n",
              "      <td>NaN</td>\n",
              "      <td>NaN</td>\n",
              "      <td>NaN</td>\n",
              "      <td>NaN</td>\n",
              "      <td>NaN</td>\n",
              "      <td>NaN</td>\n",
              "    </tr>\n",
              "    <tr>\n",
              "      <th>pen_sr</th>\n",
              "      <td>NaN</td>\n",
              "      <td>NaN</td>\n",
              "      <td>NaN</td>\n",
              "      <td>NaN</td>\n",
              "      <td>NaN</td>\n",
              "      <td>NaN</td>\n",
              "      <td>NaN</td>\n",
              "    </tr>\n",
              "  </tbody>\n",
              "</table>\n",
              "</div>\n",
              "    <div class=\"colab-df-buttons\">\n",
              "\n",
              "  <div class=\"colab-df-container\">\n",
              "    <button class=\"colab-df-convert\" onclick=\"convertToInteractive('df-0b29404a-1278-47d2-9f84-a6c956bd9a90')\"\n",
              "            title=\"Convert this dataframe to an interactive table.\"\n",
              "            style=\"display:none;\">\n",
              "\n",
              "  <svg xmlns=\"http://www.w3.org/2000/svg\" height=\"24px\" viewBox=\"0 -960 960 960\">\n",
              "    <path d=\"M120-120v-720h720v720H120Zm60-500h600v-160H180v160Zm220 220h160v-160H400v160Zm0 220h160v-160H400v160ZM180-400h160v-160H180v160Zm440 0h160v-160H620v160ZM180-180h160v-160H180v160Zm440 0h160v-160H620v160Z\"/>\n",
              "  </svg>\n",
              "    </button>\n",
              "\n",
              "  <style>\n",
              "    .colab-df-container {\n",
              "      display:flex;\n",
              "      gap: 12px;\n",
              "    }\n",
              "\n",
              "    .colab-df-convert {\n",
              "      background-color: #E8F0FE;\n",
              "      border: none;\n",
              "      border-radius: 50%;\n",
              "      cursor: pointer;\n",
              "      display: none;\n",
              "      fill: #1967D2;\n",
              "      height: 32px;\n",
              "      padding: 0 0 0 0;\n",
              "      width: 32px;\n",
              "    }\n",
              "\n",
              "    .colab-df-convert:hover {\n",
              "      background-color: #E2EBFA;\n",
              "      box-shadow: 0px 1px 2px rgba(60, 64, 67, 0.3), 0px 1px 3px 1px rgba(60, 64, 67, 0.15);\n",
              "      fill: #174EA6;\n",
              "    }\n",
              "\n",
              "    .colab-df-buttons div {\n",
              "      margin-bottom: 4px;\n",
              "    }\n",
              "\n",
              "    [theme=dark] .colab-df-convert {\n",
              "      background-color: #3B4455;\n",
              "      fill: #D2E3FC;\n",
              "    }\n",
              "\n",
              "    [theme=dark] .colab-df-convert:hover {\n",
              "      background-color: #434B5C;\n",
              "      box-shadow: 0px 1px 3px 1px rgba(0, 0, 0, 0.15);\n",
              "      filter: drop-shadow(0px 1px 2px rgba(0, 0, 0, 0.3));\n",
              "      fill: #FFFFFF;\n",
              "    }\n",
              "  </style>\n",
              "\n",
              "    <script>\n",
              "      const buttonEl =\n",
              "        document.querySelector('#df-0b29404a-1278-47d2-9f84-a6c956bd9a90 button.colab-df-convert');\n",
              "      buttonEl.style.display =\n",
              "        google.colab.kernel.accessAllowed ? 'block' : 'none';\n",
              "\n",
              "      async function convertToInteractive(key) {\n",
              "        const element = document.querySelector('#df-0b29404a-1278-47d2-9f84-a6c956bd9a90');\n",
              "        const dataTable =\n",
              "          await google.colab.kernel.invokeFunction('convertToInteractive',\n",
              "                                                    [key], {});\n",
              "        if (!dataTable) return;\n",
              "\n",
              "        const docLinkHtml = 'Like what you see? Visit the ' +\n",
              "          '<a target=\"_blank\" href=https://colab.research.google.com/notebooks/data_table.ipynb>data table notebook</a>'\n",
              "          + ' to learn more about interactive tables.';\n",
              "        element.innerHTML = '';\n",
              "        dataTable['output_type'] = 'display_data';\n",
              "        await google.colab.output.renderOutput(dataTable, element);\n",
              "        const docLink = document.createElement('div');\n",
              "        docLink.innerHTML = docLinkHtml;\n",
              "        element.appendChild(docLink);\n",
              "      }\n",
              "    </script>\n",
              "  </div>\n",
              "\n",
              "\n",
              "    <div id=\"df-e8c8763e-2ccb-4c68-99db-54abfbded079\">\n",
              "      <button class=\"colab-df-quickchart\" onclick=\"quickchart('df-e8c8763e-2ccb-4c68-99db-54abfbded079')\"\n",
              "                title=\"Suggest charts\"\n",
              "                style=\"display:none;\">\n",
              "\n",
              "<svg xmlns=\"http://www.w3.org/2000/svg\" height=\"24px\"viewBox=\"0 0 24 24\"\n",
              "     width=\"24px\">\n",
              "    <g>\n",
              "        <path d=\"M19 3H5c-1.1 0-2 .9-2 2v14c0 1.1.9 2 2 2h14c1.1 0 2-.9 2-2V5c0-1.1-.9-2-2-2zM9 17H7v-7h2v7zm4 0h-2V7h2v10zm4 0h-2v-4h2v4z\"/>\n",
              "    </g>\n",
              "</svg>\n",
              "      </button>\n",
              "\n",
              "<style>\n",
              "  .colab-df-quickchart {\n",
              "      --bg-color: #E8F0FE;\n",
              "      --fill-color: #1967D2;\n",
              "      --hover-bg-color: #E2EBFA;\n",
              "      --hover-fill-color: #174EA6;\n",
              "      --disabled-fill-color: #AAA;\n",
              "      --disabled-bg-color: #DDD;\n",
              "  }\n",
              "\n",
              "  [theme=dark] .colab-df-quickchart {\n",
              "      --bg-color: #3B4455;\n",
              "      --fill-color: #D2E3FC;\n",
              "      --hover-bg-color: #434B5C;\n",
              "      --hover-fill-color: #FFFFFF;\n",
              "      --disabled-bg-color: #3B4455;\n",
              "      --disabled-fill-color: #666;\n",
              "  }\n",
              "\n",
              "  .colab-df-quickchart {\n",
              "    background-color: var(--bg-color);\n",
              "    border: none;\n",
              "    border-radius: 50%;\n",
              "    cursor: pointer;\n",
              "    display: none;\n",
              "    fill: var(--fill-color);\n",
              "    height: 32px;\n",
              "    padding: 0;\n",
              "    width: 32px;\n",
              "  }\n",
              "\n",
              "  .colab-df-quickchart:hover {\n",
              "    background-color: var(--hover-bg-color);\n",
              "    box-shadow: 0 1px 2px rgba(60, 64, 67, 0.3), 0 1px 3px 1px rgba(60, 64, 67, 0.15);\n",
              "    fill: var(--button-hover-fill-color);\n",
              "  }\n",
              "\n",
              "  .colab-df-quickchart-complete:disabled,\n",
              "  .colab-df-quickchart-complete:disabled:hover {\n",
              "    background-color: var(--disabled-bg-color);\n",
              "    fill: var(--disabled-fill-color);\n",
              "    box-shadow: none;\n",
              "  }\n",
              "\n",
              "  .colab-df-spinner {\n",
              "    border: 2px solid var(--fill-color);\n",
              "    border-color: transparent;\n",
              "    border-bottom-color: var(--fill-color);\n",
              "    animation:\n",
              "      spin 1s steps(1) infinite;\n",
              "  }\n",
              "\n",
              "  @keyframes spin {\n",
              "    0% {\n",
              "      border-color: transparent;\n",
              "      border-bottom-color: var(--fill-color);\n",
              "      border-left-color: var(--fill-color);\n",
              "    }\n",
              "    20% {\n",
              "      border-color: transparent;\n",
              "      border-left-color: var(--fill-color);\n",
              "      border-top-color: var(--fill-color);\n",
              "    }\n",
              "    30% {\n",
              "      border-color: transparent;\n",
              "      border-left-color: var(--fill-color);\n",
              "      border-top-color: var(--fill-color);\n",
              "      border-right-color: var(--fill-color);\n",
              "    }\n",
              "    40% {\n",
              "      border-color: transparent;\n",
              "      border-right-color: var(--fill-color);\n",
              "      border-top-color: var(--fill-color);\n",
              "    }\n",
              "    60% {\n",
              "      border-color: transparent;\n",
              "      border-right-color: var(--fill-color);\n",
              "    }\n",
              "    80% {\n",
              "      border-color: transparent;\n",
              "      border-right-color: var(--fill-color);\n",
              "      border-bottom-color: var(--fill-color);\n",
              "    }\n",
              "    90% {\n",
              "      border-color: transparent;\n",
              "      border-bottom-color: var(--fill-color);\n",
              "    }\n",
              "  }\n",
              "</style>\n",
              "\n",
              "      <script>\n",
              "        async function quickchart(key) {\n",
              "          const quickchartButtonEl =\n",
              "            document.querySelector('#' + key + ' button');\n",
              "          quickchartButtonEl.disabled = true;  // To prevent multiple clicks.\n",
              "          quickchartButtonEl.classList.add('colab-df-spinner');\n",
              "          try {\n",
              "            const charts = await google.colab.kernel.invokeFunction(\n",
              "                'suggestCharts', [key], {});\n",
              "          } catch (error) {\n",
              "            console.error('Error during call to suggestCharts:', error);\n",
              "          }\n",
              "          quickchartButtonEl.classList.remove('colab-df-spinner');\n",
              "          quickchartButtonEl.classList.add('colab-df-quickchart-complete');\n",
              "        }\n",
              "        (() => {\n",
              "          let quickchartButtonEl =\n",
              "            document.querySelector('#df-e8c8763e-2ccb-4c68-99db-54abfbded079 button');\n",
              "          quickchartButtonEl.style.display =\n",
              "            google.colab.kernel.accessAllowed ? 'block' : 'none';\n",
              "        })();\n",
              "      </script>\n",
              "    </div>\n",
              "\n",
              "    </div>\n",
              "  </div>\n"
            ],
            "application/vnd.google.colaboratory.intrinsic+json": {
              "type": "dataframe",
              "summary": "{\n  \"name\": \"display(case_cip\",\n  \"rows\": 30,\n  \"fields\": [\n    {\n      \"column\": \"ERR1549286\",\n      \"properties\": {\n        \"dtype\": \"category\",\n        \"num_unique_values\": 13,\n        \"samples\": [\n          1.0,\n          9.0,\n          2015.0\n        ],\n        \"semantic_type\": \"\",\n        \"description\": \"\"\n      }\n    },\n    {\n      \"column\": \"ERR1549290\",\n      \"properties\": {\n        \"dtype\": \"category\",\n        \"num_unique_values\": 13,\n        \"samples\": [\n          1.0,\n          9.0,\n          2015.0\n        ],\n        \"semantic_type\": \"\",\n        \"description\": \"\"\n      }\n    },\n    {\n      \"column\": \"ERR1549291\",\n      \"properties\": {\n        \"dtype\": \"category\",\n        \"num_unique_values\": 13,\n        \"samples\": [\n          1.0,\n          9.0,\n          2015.0\n        ],\n        \"semantic_type\": \"\",\n        \"description\": \"\"\n      }\n    },\n    {\n      \"column\": \"ERR1549287\",\n      \"properties\": {\n        \"dtype\": \"category\",\n        \"num_unique_values\": 13,\n        \"samples\": [\n          1.0,\n          9.0,\n          2015.0\n        ],\n        \"semantic_type\": \"\",\n        \"description\": \"\"\n      }\n    },\n    {\n      \"column\": \"ERR1549288\",\n      \"properties\": {\n        \"dtype\": \"category\",\n        \"num_unique_values\": 13,\n        \"samples\": [\n          1.0,\n          9.0,\n          2015.0\n        ],\n        \"semantic_type\": \"\",\n        \"description\": \"\"\n      }\n    },\n    {\n      \"column\": \"ERR1549299\",\n      \"properties\": {\n        \"dtype\": \"category\",\n        \"num_unique_values\": 11,\n        \"samples\": [\n          0,\n          2015.0,\n          -6.380821784\n        ],\n        \"semantic_type\": \"\",\n        \"description\": \"\"\n      }\n    },\n    {\n      \"column\": \"ERR1549292\",\n      \"properties\": {\n        \"dtype\": \"category\",\n        \"num_unique_values\": 13,\n        \"samples\": [\n          1.0,\n          9.0,\n          2015.0\n        ],\n        \"semantic_type\": \"\",\n        \"description\": \"\"\n      }\n    }\n  ]\n}"
            }
          },
          "metadata": {}
        }
      ]
    },
    {
      "cell_type": "code",
      "source": [
        "case_cip.get_case(phenotype='cip_sr')\n",
        "case_cip.X.iloc[:,:2].head()"
      ],
      "metadata": {
        "colab": {
          "base_uri": "https://localhost:8080/",
          "height": 310
        },
        "id": "DmJBtrx4i3kj",
        "outputId": "8666dfbe-715f-468c-b972-d8034efb1fc3"
      },
      "id": "DmJBtrx4i3kj",
      "execution_count": 10,
      "outputs": [
        {
          "output_type": "stream",
          "name": "stdout",
          "text": [
            "Target Antibiotic: cip_sr\n",
            "Metadata df: (3786, 30)\n",
            "Metadata df after na() removal (3088, 30)\n",
            "\n",
            "Combining Metadata & Unitigs\n",
            "Unitig Matrix (+target): (3088, 8874)\n"
          ]
        },
        {
          "output_type": "execute_result",
          "data": {
            "text/plain": [
              "            ACGTTTATGCCGTTATCGATCCGATAGCCGGT  \\\n",
              "SRR1661154                                 0   \n",
              "SRR1661156                                 0   \n",
              "SRR1661157                                 0   \n",
              "SRR1661158                                 0   \n",
              "SRR1661159                                 0   \n",
              "\n",
              "            CATCTGCACCCTGTCGGCACTCGCCGCCTGAACCACCCCGTCCGGACAAGG  \n",
              "SRR1661154                                                  0    \n",
              "SRR1661156                                                  0    \n",
              "SRR1661157                                                  0    \n",
              "SRR1661158                                                  0    \n",
              "SRR1661159                                                  0    "
            ],
            "text/html": [
              "\n",
              "  <div id=\"df-3941324e-23b4-4a31-a3ab-d84c1fd47c87\" class=\"colab-df-container\">\n",
              "    <div>\n",
              "<style scoped>\n",
              "    .dataframe tbody tr th:only-of-type {\n",
              "        vertical-align: middle;\n",
              "    }\n",
              "\n",
              "    .dataframe tbody tr th {\n",
              "        vertical-align: top;\n",
              "    }\n",
              "\n",
              "    .dataframe thead th {\n",
              "        text-align: right;\n",
              "    }\n",
              "</style>\n",
              "<table border=\"1\" class=\"dataframe\">\n",
              "  <thead>\n",
              "    <tr style=\"text-align: right;\">\n",
              "      <th></th>\n",
              "      <th>ACGTTTATGCCGTTATCGATCCGATAGCCGGT</th>\n",
              "      <th>CATCTGCACCCTGTCGGCACTCGCCGCCTGAACCACCCCGTCCGGACAAGG</th>\n",
              "    </tr>\n",
              "  </thead>\n",
              "  <tbody>\n",
              "    <tr>\n",
              "      <th>SRR1661154</th>\n",
              "      <td>0</td>\n",
              "      <td>0</td>\n",
              "    </tr>\n",
              "    <tr>\n",
              "      <th>SRR1661156</th>\n",
              "      <td>0</td>\n",
              "      <td>0</td>\n",
              "    </tr>\n",
              "    <tr>\n",
              "      <th>SRR1661157</th>\n",
              "      <td>0</td>\n",
              "      <td>0</td>\n",
              "    </tr>\n",
              "    <tr>\n",
              "      <th>SRR1661158</th>\n",
              "      <td>0</td>\n",
              "      <td>0</td>\n",
              "    </tr>\n",
              "    <tr>\n",
              "      <th>SRR1661159</th>\n",
              "      <td>0</td>\n",
              "      <td>0</td>\n",
              "    </tr>\n",
              "  </tbody>\n",
              "</table>\n",
              "</div>\n",
              "    <div class=\"colab-df-buttons\">\n",
              "\n",
              "  <div class=\"colab-df-container\">\n",
              "    <button class=\"colab-df-convert\" onclick=\"convertToInteractive('df-3941324e-23b4-4a31-a3ab-d84c1fd47c87')\"\n",
              "            title=\"Convert this dataframe to an interactive table.\"\n",
              "            style=\"display:none;\">\n",
              "\n",
              "  <svg xmlns=\"http://www.w3.org/2000/svg\" height=\"24px\" viewBox=\"0 -960 960 960\">\n",
              "    <path d=\"M120-120v-720h720v720H120Zm60-500h600v-160H180v160Zm220 220h160v-160H400v160Zm0 220h160v-160H400v160ZM180-400h160v-160H180v160Zm440 0h160v-160H620v160ZM180-180h160v-160H180v160Zm440 0h160v-160H620v160Z\"/>\n",
              "  </svg>\n",
              "    </button>\n",
              "\n",
              "  <style>\n",
              "    .colab-df-container {\n",
              "      display:flex;\n",
              "      gap: 12px;\n",
              "    }\n",
              "\n",
              "    .colab-df-convert {\n",
              "      background-color: #E8F0FE;\n",
              "      border: none;\n",
              "      border-radius: 50%;\n",
              "      cursor: pointer;\n",
              "      display: none;\n",
              "      fill: #1967D2;\n",
              "      height: 32px;\n",
              "      padding: 0 0 0 0;\n",
              "      width: 32px;\n",
              "    }\n",
              "\n",
              "    .colab-df-convert:hover {\n",
              "      background-color: #E2EBFA;\n",
              "      box-shadow: 0px 1px 2px rgba(60, 64, 67, 0.3), 0px 1px 3px 1px rgba(60, 64, 67, 0.15);\n",
              "      fill: #174EA6;\n",
              "    }\n",
              "\n",
              "    .colab-df-buttons div {\n",
              "      margin-bottom: 4px;\n",
              "    }\n",
              "\n",
              "    [theme=dark] .colab-df-convert {\n",
              "      background-color: #3B4455;\n",
              "      fill: #D2E3FC;\n",
              "    }\n",
              "\n",
              "    [theme=dark] .colab-df-convert:hover {\n",
              "      background-color: #434B5C;\n",
              "      box-shadow: 0px 1px 3px 1px rgba(0, 0, 0, 0.15);\n",
              "      filter: drop-shadow(0px 1px 2px rgba(0, 0, 0, 0.3));\n",
              "      fill: #FFFFFF;\n",
              "    }\n",
              "  </style>\n",
              "\n",
              "    <script>\n",
              "      const buttonEl =\n",
              "        document.querySelector('#df-3941324e-23b4-4a31-a3ab-d84c1fd47c87 button.colab-df-convert');\n",
              "      buttonEl.style.display =\n",
              "        google.colab.kernel.accessAllowed ? 'block' : 'none';\n",
              "\n",
              "      async function convertToInteractive(key) {\n",
              "        const element = document.querySelector('#df-3941324e-23b4-4a31-a3ab-d84c1fd47c87');\n",
              "        const dataTable =\n",
              "          await google.colab.kernel.invokeFunction('convertToInteractive',\n",
              "                                                    [key], {});\n",
              "        if (!dataTable) return;\n",
              "\n",
              "        const docLinkHtml = 'Like what you see? Visit the ' +\n",
              "          '<a target=\"_blank\" href=https://colab.research.google.com/notebooks/data_table.ipynb>data table notebook</a>'\n",
              "          + ' to learn more about interactive tables.';\n",
              "        element.innerHTML = '';\n",
              "        dataTable['output_type'] = 'display_data';\n",
              "        await google.colab.output.renderOutput(dataTable, element);\n",
              "        const docLink = document.createElement('div');\n",
              "        docLink.innerHTML = docLinkHtml;\n",
              "        element.appendChild(docLink);\n",
              "      }\n",
              "    </script>\n",
              "  </div>\n",
              "\n",
              "\n",
              "    <div id=\"df-e7c8cfed-4c33-4b78-88b9-8d6b8144115c\">\n",
              "      <button class=\"colab-df-quickchart\" onclick=\"quickchart('df-e7c8cfed-4c33-4b78-88b9-8d6b8144115c')\"\n",
              "                title=\"Suggest charts\"\n",
              "                style=\"display:none;\">\n",
              "\n",
              "<svg xmlns=\"http://www.w3.org/2000/svg\" height=\"24px\"viewBox=\"0 0 24 24\"\n",
              "     width=\"24px\">\n",
              "    <g>\n",
              "        <path d=\"M19 3H5c-1.1 0-2 .9-2 2v14c0 1.1.9 2 2 2h14c1.1 0 2-.9 2-2V5c0-1.1-.9-2-2-2zM9 17H7v-7h2v7zm4 0h-2V7h2v10zm4 0h-2v-4h2v4z\"/>\n",
              "    </g>\n",
              "</svg>\n",
              "      </button>\n",
              "\n",
              "<style>\n",
              "  .colab-df-quickchart {\n",
              "      --bg-color: #E8F0FE;\n",
              "      --fill-color: #1967D2;\n",
              "      --hover-bg-color: #E2EBFA;\n",
              "      --hover-fill-color: #174EA6;\n",
              "      --disabled-fill-color: #AAA;\n",
              "      --disabled-bg-color: #DDD;\n",
              "  }\n",
              "\n",
              "  [theme=dark] .colab-df-quickchart {\n",
              "      --bg-color: #3B4455;\n",
              "      --fill-color: #D2E3FC;\n",
              "      --hover-bg-color: #434B5C;\n",
              "      --hover-fill-color: #FFFFFF;\n",
              "      --disabled-bg-color: #3B4455;\n",
              "      --disabled-fill-color: #666;\n",
              "  }\n",
              "\n",
              "  .colab-df-quickchart {\n",
              "    background-color: var(--bg-color);\n",
              "    border: none;\n",
              "    border-radius: 50%;\n",
              "    cursor: pointer;\n",
              "    display: none;\n",
              "    fill: var(--fill-color);\n",
              "    height: 32px;\n",
              "    padding: 0;\n",
              "    width: 32px;\n",
              "  }\n",
              "\n",
              "  .colab-df-quickchart:hover {\n",
              "    background-color: var(--hover-bg-color);\n",
              "    box-shadow: 0 1px 2px rgba(60, 64, 67, 0.3), 0 1px 3px 1px rgba(60, 64, 67, 0.15);\n",
              "    fill: var(--button-hover-fill-color);\n",
              "  }\n",
              "\n",
              "  .colab-df-quickchart-complete:disabled,\n",
              "  .colab-df-quickchart-complete:disabled:hover {\n",
              "    background-color: var(--disabled-bg-color);\n",
              "    fill: var(--disabled-fill-color);\n",
              "    box-shadow: none;\n",
              "  }\n",
              "\n",
              "  .colab-df-spinner {\n",
              "    border: 2px solid var(--fill-color);\n",
              "    border-color: transparent;\n",
              "    border-bottom-color: var(--fill-color);\n",
              "    animation:\n",
              "      spin 1s steps(1) infinite;\n",
              "  }\n",
              "\n",
              "  @keyframes spin {\n",
              "    0% {\n",
              "      border-color: transparent;\n",
              "      border-bottom-color: var(--fill-color);\n",
              "      border-left-color: var(--fill-color);\n",
              "    }\n",
              "    20% {\n",
              "      border-color: transparent;\n",
              "      border-left-color: var(--fill-color);\n",
              "      border-top-color: var(--fill-color);\n",
              "    }\n",
              "    30% {\n",
              "      border-color: transparent;\n",
              "      border-left-color: var(--fill-color);\n",
              "      border-top-color: var(--fill-color);\n",
              "      border-right-color: var(--fill-color);\n",
              "    }\n",
              "    40% {\n",
              "      border-color: transparent;\n",
              "      border-right-color: var(--fill-color);\n",
              "      border-top-color: var(--fill-color);\n",
              "    }\n",
              "    60% {\n",
              "      border-color: transparent;\n",
              "      border-right-color: var(--fill-color);\n",
              "    }\n",
              "    80% {\n",
              "      border-color: transparent;\n",
              "      border-right-color: var(--fill-color);\n",
              "      border-bottom-color: var(--fill-color);\n",
              "    }\n",
              "    90% {\n",
              "      border-color: transparent;\n",
              "      border-bottom-color: var(--fill-color);\n",
              "    }\n",
              "  }\n",
              "</style>\n",
              "\n",
              "      <script>\n",
              "        async function quickchart(key) {\n",
              "          const quickchartButtonEl =\n",
              "            document.querySelector('#' + key + ' button');\n",
              "          quickchartButtonEl.disabled = true;  // To prevent multiple clicks.\n",
              "          quickchartButtonEl.classList.add('colab-df-spinner');\n",
              "          try {\n",
              "            const charts = await google.colab.kernel.invokeFunction(\n",
              "                'suggestCharts', [key], {});\n",
              "          } catch (error) {\n",
              "            console.error('Error during call to suggestCharts:', error);\n",
              "          }\n",
              "          quickchartButtonEl.classList.remove('colab-df-spinner');\n",
              "          quickchartButtonEl.classList.add('colab-df-quickchart-complete');\n",
              "        }\n",
              "        (() => {\n",
              "          let quickchartButtonEl =\n",
              "            document.querySelector('#df-e7c8cfed-4c33-4b78-88b9-8d6b8144115c button');\n",
              "          quickchartButtonEl.style.display =\n",
              "            google.colab.kernel.accessAllowed ? 'block' : 'none';\n",
              "        })();\n",
              "      </script>\n",
              "    </div>\n",
              "\n",
              "    </div>\n",
              "  </div>\n"
            ],
            "application/vnd.google.colaboratory.intrinsic+json": {
              "type": "dataframe",
              "summary": "{\n  \"name\": \"case_cip\",\n  \"rows\": 5,\n  \"fields\": [\n    {\n      \"column\": \"ACGTTTATGCCGTTATCGATCCGATAGCCGGT\",\n      \"properties\": {\n        \"dtype\": \"number\",\n        \"std\": 0,\n        \"min\": 0,\n        \"max\": 0,\n        \"num_unique_values\": 1,\n        \"samples\": [\n          0\n        ],\n        \"semantic_type\": \"\",\n        \"description\": \"\"\n      }\n    },\n    {\n      \"column\": \"CATCTGCACCCTGTCGGCACTCGCCGCCTGAACCACCCCGTCCGGACAAGG\",\n      \"properties\": {\n        \"dtype\": \"number\",\n        \"std\": 0,\n        \"min\": 0,\n        \"max\": 0,\n        \"num_unique_values\": 1,\n        \"samples\": [\n          0\n        ],\n        \"semantic_type\": \"\",\n        \"description\": \"\"\n      }\n    }\n  ]\n}"
            }
          },
          "metadata": {},
          "execution_count": 10
        }
      ]
    },
    {
      "cell_type": "markdown",
      "source": [
        "**TARGET VARIABLE**\n",
        "\n",
        "* The target vector, is also stored in .X, and represents the resistance property of the sample\n",
        "* The Sample_ID is either 1.0 (resistant) or 0.0 (non-resistant) to a particular antibiotic in question."
      ],
      "metadata": {
        "id": "6hdsB8WVjpWh"
      },
      "id": "6hdsB8WVjpWh"
    },
    {
      "cell_type": "code",
      "source": [
        "target = case_cip.X[case_cip.target_name]\n",
        "print(target[:5])"
      ],
      "metadata": {
        "colab": {
          "base_uri": "https://localhost:8080/"
        },
        "id": "gqZd0CFejuE1",
        "outputId": "f40031da-d21e-4247-e3c1-f1af4f76d0cb"
      },
      "id": "gqZd0CFejuE1",
      "execution_count": 11,
      "outputs": [
        {
          "output_type": "stream",
          "name": "stdout",
          "text": [
            "SRR1661154    0.0\n",
            "SRR1661156    1.0\n",
            "SRR1661157    0.0\n",
            "SRR1661158    0.0\n",
            "SRR1661159    0.0\n",
            "Name: cip_sr, dtype: float64\n"
          ]
        }
      ]
    },
    {
      "cell_type": "markdown",
      "source": [
        "## 2.3. Target Variable Distribution\n",
        "\n",
        "**TARGET DISTRIBUTIONS & UNITIG COUNT**\n",
        "\n",
        "* It's useful to look at the class distributions for all three cases we'll be making models for.\n",
        "* As we can see below, the unitig distributions are quite different as well, so our feature matrix will vary significantly for each case."
      ],
      "metadata": {
        "id": "QcRVPajhkGWu"
      },
      "id": "QcRVPajhkGWu"
    },
    {
      "cell_type": "code",
      "source": [
        "''' Ciprofloxacin '''\n",
        "\n",
        "case = get_unitigs()\n",
        "case.get_case('cip_sr')\n",
        "print(case.X[case.target_name].value_counts())"
      ],
      "metadata": {
        "colab": {
          "base_uri": "https://localhost:8080/"
        },
        "id": "wP0OLCSqkY6R",
        "outputId": "7f7ea502-3b48-49d5-f627-c45a667eb33c"
      },
      "id": "wP0OLCSqkY6R",
      "execution_count": 12,
      "outputs": [
        {
          "output_type": "stream",
          "name": "stdout",
          "text": [
            "Target Antibiotic: cip_sr\n",
            "Metadata df: (3786, 30)\n",
            "Metadata df after na() removal (3088, 30)\n",
            "\n",
            "Combining Metadata & Unitigs\n",
            "Unitig Matrix (+target): (3088, 8874)\n",
            "cip_sr\n",
            "0.0    1660\n",
            "1.0    1428\n",
            "Name: count, dtype: int64\n"
          ]
        }
      ]
    },
    {
      "cell_type": "code",
      "source": [
        "''' Azithromycin '''\n",
        "\n",
        "case = get_unitigs()\n",
        "case.get_case('azm_sr')\n",
        "print(case.X[case.target_name].value_counts())"
      ],
      "metadata": {
        "colab": {
          "base_uri": "https://localhost:8080/"
        },
        "id": "2JmNBZ3ckesV",
        "outputId": "d3fb7924-85a2-46c8-cab4-65b469185ecd"
      },
      "id": "2JmNBZ3ckesV",
      "execution_count": 13,
      "outputs": [
        {
          "output_type": "stream",
          "name": "stdout",
          "text": [
            "Target Antibiotic: azm_sr\n",
            "Metadata df: (3786, 30)\n",
            "Metadata df after na() removal (3478, 30)\n",
            "\n",
            "Combining Metadata & Unitigs\n",
            "Unitig Matrix (+target): (3478, 516)\n",
            "azm_sr\n",
            "0.0    3031\n",
            "1.0     447\n",
            "Name: count, dtype: int64\n"
          ]
        }
      ]
    },
    {
      "cell_type": "code",
      "source": [
        "''' Cefixime '''\n",
        "\n",
        "case = get_unitigs()\n",
        "case.get_case('cfx_sr')\n",
        "print(case.X[case.target_name].value_counts())"
      ],
      "metadata": {
        "colab": {
          "base_uri": "https://localhost:8080/"
        },
        "id": "-Um3Ng07kifE",
        "outputId": "7e97ac4e-cba9-4b69-8a30-f819377a25d7"
      },
      "id": "-Um3Ng07kifE",
      "execution_count": 14,
      "outputs": [
        {
          "output_type": "stream",
          "name": "stdout",
          "text": [
            "Target Antibiotic: cfx_sr\n",
            "Metadata df: (3786, 30)\n",
            "Metadata df after na() removal (3401, 30)\n",
            "\n",
            "Combining Metadata & Unitigs\n",
            "Unitig Matrix (+target): (3401, 385)\n",
            "cfx_sr\n",
            "0.0    3396\n",
            "1.0       5\n",
            "Name: count, dtype: int64\n"
          ]
        }
      ]
    },
    {
      "cell_type": "markdown",
      "source": [
        "# 3.Feature Matrix Modification"
      ],
      "metadata": {
        "id": "mBRZfY_Ll9Wc"
      },
      "id": "mBRZfY_Ll9Wc"
    },
    {
      "cell_type": "markdown",
      "source": [
        "## 3.1.Creating Case Data\n",
        "\n",
        "* In Section 2.3, we saw that for some antibiotics, there are very few resistant samples present , mainly Cefixime\n",
        "* This results in a very tricky situation if we want to use cross validation, we may not even have enough samples for the model to learn anything meaningful\n",
        "* Creating models Azithromycin & Ciprofloxacin should not have this issue, as we have sufficient number of samples, even if an imbalance is present\n",
        "\n",
        "We can try two approaches:\n",
        "\n",
        "* Downsample the dominant class (not resistant) `.split_case`\n",
        "* Utilise SMOTE based upsampling strategy `smote`"
      ],
      "metadata": {
        "id": "pq-cFxhLmCh5"
      },
      "id": "pq-cFxhLmCh5"
    },
    {
      "cell_type": "code",
      "source": [
        "''' Feature Matrix Upsampling Modification (+Target) '''\n",
        "# Model based approach to upsample minor class in target variable\n",
        "\n",
        "class mod_unitigs():\n",
        "\n",
        "    def __init__(self,unitigs):\n",
        "        self.X = unitigs.X # input data class\n",
        "        self.target_name = unitigs.target_name\n",
        "        self.verbose = True\n",
        "\n",
        "    ''' Downsampling Class 0 using .sample & recompile '''\n",
        "    # If there's too much of the dominant class, just downsample\n",
        "\n",
        "    def split_case(self,frac_id=0.5):\n",
        "\n",
        "        X = self.train\n",
        "        y = pd.Series(self.target,name=self.target_name)\n",
        "        XX = pd.concat([X,y],axis=1)\n",
        "\n",
        "        lst_temp = dict(tuple(XX.groupby(self.target_name))) # divide classes\n",
        "        ratio = lst_temp[0].shape[0]/lst_temp[1].shape[0] # get class ratio\n",
        "\n",
        "        # Sample approach for downsizing majority class\n",
        "        X_red = lst_temp[0].sample(frac=frac_id)\n",
        "        X_all = pd.concat([X_red,lst_temp[1]],axis=0)\n",
        "\n",
        "        if(self.verbose):\n",
        "            print(f'Class 0 : {lst_temp[0].shape}')\n",
        "            print(f'Class 1 : {lst_temp[1].shape}')\n",
        "            print(f'Class Ratio: {round(ratio,4)}')\n",
        "            print(f'Reduced Training Matrix: {X_all.shape}')\n",
        "\n",
        "        # Redefine .train, .target\n",
        "        self.target = X_all[self.target_name].copy()\n",
        "        X_all.drop(self.target_name, inplace=True, axis=1)\n",
        "        self.train = X_all\n",
        "\n",
        "    ''' SMOTE UPSAMPLING '''\n",
        "    # For unbalanced problems, synthetically/model new data\n",
        "\n",
        "    def smote(self,smote_id = 'smotenc',\n",
        "                   smote_strat=0.5,\n",
        "                   k_neighbours=5):\n",
        "\n",
        "        self.smote_id = smote_id\n",
        "        self.smote_strat = smote_strat\n",
        "        self.smote_nbr = k_neighbours\n",
        "\n",
        "        y = self.X[self.target_name].copy()\n",
        "        X = self.X.drop([self.target_name],axis=1).copy()\n",
        "\n",
        "        # smote for contin, smotenc for category\n",
        "        if(self.smote_id == 'smote'):\n",
        "            model_id = SMOTE(sampling_strategy=self.smote_strat,\n",
        "                             k_neighbors=self.smote_nbr)\n",
        "        elif(self.smote_id == 'smotenc'):\n",
        "            model_id = SMOTENC(sampling_strategy=self.smote_strat,\n",
        "                               k_neighbors=self.smote_nbr,\n",
        "                               categorical_features=[0,1])\n",
        "\n",
        "        X_mod, y_mod = model_id.fit_resample(X,y)\n",
        "        self.X = pd.concat([X_mod,y_mod],axis=1)\n",
        "\n",
        "        if(self.verbose):\n",
        "            print(f'\\nSMOTE Upsampling: {self.X.shape}')\n",
        "            print(f'Target Value Counts: \\n{pd.Series(y_mod).value_counts()}')\n",
        "        self.X = pd.concat([X_mod,y_mod],axis=1)"
      ],
      "metadata": {
        "id": "rtZSjqtpq0wG"
      },
      "id": "rtZSjqtpq0wG",
      "execution_count": 15,
      "outputs": []
    },
    {
      "cell_type": "markdown",
      "source": [
        "# 4.Explotary Data Analysis"
      ],
      "metadata": {
        "id": "tgFZDNa148v_"
      },
      "id": "tgFZDNa148v_"
    },
    {
      "cell_type": "markdown",
      "source": [
        "## 4.1. Parallel Categories\n",
        "\n",
        "**EXPLORING THE METADATA**\n",
        "\n",
        "* Aside from the unitig data, the Metadata Dataset contains some interesting info about each Sample_ID as well.\n",
        "* Having sorted by the X_mic column, *log2_X_mic* has the same ordering as X_mic & antibiotic column name, so it was not included to reduce clutter in the figures.\n",
        "* Beta.lactamase relation to antibiotic resistance doesn't seem to exhibit any particular patterns, other than Penicillin, for which the R (resistant) type almost exclsively indicates that the antibiotic will not be effective.\n",
        "* Most bacteria *Sample_ID* are also shown to be of S (sensitive) type.\n",
        "* If we highlight the uttermost right column, _sr, we can also note that resistance of these bacteria to antibiotics tends to be rising over time.\n",
        "* These figures clearly indicate that *cefixime* by far is the most effective treatment out of the tree antibiotics.\n",
        "* *Ciprofloxacin* on the otherhand has not been very effective treatment against the bacteria."
      ],
      "metadata": {
        "id": "FSxbLOlW5Vcw"
      },
      "id": "FSxbLOlW5Vcw"
    },
    {
      "cell_type": "code",
      "source": [
        "lst_azm = ['Year','Country','Continent','Beta.lactamase','azm_mic','Azithromycin','azm_sr']\n",
        "lst_cip = ['Year','Country','Continent','Beta.lactamase','cip_mic','Ciprofloxacin','cip_sr']\n",
        "lst_cfx = ['Year','Country','Continent','Beta.lactamase','cfx_mic','Cefixime','cfx_sr']\n",
        "lst_antibio = [lst_azm,lst_cip,lst_cfx]\n",
        "\n",
        "# Plot Parallel Categories Plot\n",
        "def plot_pp(lst,colour='ghostwhite'):\n",
        "    tdf = get_unitigs().df[lst]\n",
        "    tdf.dropna(inplace=True)\n",
        "    tdf.sort_values(by=lst[-3],inplace=True,ascending=False)\n",
        "    tdf['Year'] = tdf['Year'].astype(str)\n",
        "    fig = px.parallel_categories(tdf)\n",
        "    fig.update_traces(patch={\"line\": {\"color\":colour,'shape':'hspline'}})\n",
        "    fig.update_layout(title=f'Bacteria Resistance to {lst[-2]}')\n",
        "    fig.update_layout(margin=dict(t=60,b=10),height=400)\n",
        "    fig.show()\n",
        "\n",
        "def plot_geomean(lst):\n",
        "\n",
        "    global country_map\n",
        "\n",
        "    tdf = get_unitigs().df[lst]\n",
        "    tdf.dropna(inplace=True)\n",
        "    tdf.sort_values(by=lst[-3],inplace=True,ascending=False)\n",
        "    # tdf['Year'] = tdf['Year'].astype(str) # Exclude 'Year' from mean calculation\n",
        "\n",
        "    tdf['Country'] = tdf['Country'].map(country_map)\n",
        "    # Select only numeric columns for mean calculation\n",
        "    numeric_cols = tdf.select_dtypes(include=np.number).columns.tolist()\n",
        "    tdf2 = tdf.groupby(['Country'])[numeric_cols].mean()\n",
        "\n",
        "    fig = go.Figure(data=go.Choropleth(\n",
        "        locations = tdf2.index,\n",
        "        z = tdf2[lst[-1]],\n",
        "        colorscale = 'magenta',\n",
        "        autocolorscale=False,\n",
        "        reversescale=False,\n",
        "        marker_line_color='black',\n",
        "        marker_line_width=0.5,\n",
        "        colorbar_title = f'{lst[-1]}'))\n",
        "\n",
        "    fig.update_layout(title=f'Bacteria Resistance to {lst[-2]}',\n",
        "                      geo=dict(showframe=False,showcoastlines=False,\n",
        "                               projection_type='equirectangular'))\n",
        "    fig.update_layout(margin=dict(t=60,b=10),height=400)\n",
        "    fig.show()"
      ],
      "metadata": {
        "id": "DeiApUOn6qqI"
      },
      "id": "DeiApUOn6qqI",
      "execution_count": 16,
      "outputs": []
    },
    {
      "cell_type": "code",
      "source": [
        "for i in lst_antibio:\n",
        "    plot_pp(i,'mistyrose')"
      ],
      "metadata": {
        "colab": {
          "base_uri": "https://localhost:8080/",
          "height": 1000
        },
        "id": "-9c1n_QJ6uCX",
        "outputId": "33fa9d2a-206a-456a-b212-aea5c0839962"
      },
      "id": "-9c1n_QJ6uCX",
      "execution_count": 17,
      "outputs": [
        {
          "output_type": "display_data",
          "data": {
            "text/html": [
              "<html>\n",
              "<head><meta charset=\"utf-8\" /></head>\n",
              "<body>\n",
              "    <div>            <script src=\"https://cdnjs.cloudflare.com/ajax/libs/mathjax/2.7.5/MathJax.js?config=TeX-AMS-MML_SVG\"></script><script type=\"text/javascript\">if (window.MathJax && window.MathJax.Hub && window.MathJax.Hub.Config) {window.MathJax.Hub.Config({SVG: {font: \"STIX-Web\"}});}</script>                <script type=\"text/javascript\">window.PlotlyConfig = {MathJaxConfig: 'local'};</script>\n",
              "        <script charset=\"utf-8\" src=\"https://cdn.plot.ly/plotly-2.35.2.min.js\"></script>                <div id=\"c011b16c-e2ed-487b-8c6a-c91ec1b392de\" class=\"plotly-graph-div\" style=\"height:400px; width:100%;\"></div>            <script type=\"text/javascript\">                                    window.PLOTLYENV=window.PLOTLYENV || {};                                    if (document.getElementById(\"c011b16c-e2ed-487b-8c6a-c91ec1b392de\")) {                    Plotly.newPlot(                        \"c011b16c-e2ed-487b-8c6a-c91ec1b392de\",                        [{\"dimensions\":[{\"label\":\"Year\",\"values\":[\"2012.0\",\"2007.0\",\"2010.0\",\"2010.0\",\"2007.0\",\"2007.0\",\"2007.0\",\"2005.0\",\"2013.0\",\"2008.0\",\"2011.0\",\"2013.0\",\"2012.0\",\"2012.0\",\"2012.0\",\"2005.0\",\"2012.0\",\"2013.0\",\"2010.0\",\"2010.0\",\"2010.0\",\"2010.0\",\"2009.0\",\"2009.0\",\"2010.0\",\"2010.0\",\"2005.0\",\"2006.0\",\"2010.0\",\"2012.0\",\"2009.0\",\"2015.0\",\"2007.0\",\"2011.0\",\"2012.0\",\"2011.0\",\"2012.0\",\"2005.0\",\"2004.0\",\"2006.0\",\"2013.0\",\"2011.0\",\"2005.0\",\"2005.0\",\"2005.0\",\"2005.0\",\"2009.0\",\"2009.0\",\"2004.0\",\"2013.0\",\"2010.0\",\"2011.0\",\"2005.0\",\"2013.0\",\"2010.0\",\"2013.0\",\"2011.0\",\"2013.0\",\"2006.0\",\"2004.0\",\"2006.0\",\"2013.0\",\"2013.0\",\"2007.0\",\"2007.0\",\"2008.0\",\"2010.0\",\"2010.0\",\"2010.0\",\"2009.0\",\"2009.0\",\"2010.0\",\"2010.0\",\"2010.0\",\"2013.0\",\"2006.0\",\"2005.0\",\"2012.0\",\"2015.0\",\"2004.0\",\"2004.0\",\"2004.0\",\"2004.0\",\"2003.0\",\"2010.0\",\"2003.0\",\"2002.0\",\"1999.0\",\"2011.0\",\"2008.0\",\"2012.0\",\"2008.0\",\"2009.0\",\"2005.0\",\"2002.0\",\"2003.0\",\"2004.0\",\"2004.0\",\"2006.0\",\"2011.0\",\"2004.0\",\"2003.0\",\"2003.0\",\"2003.0\",\"2011.0\",\"2004.0\",\"2003.0\",\"2009.0\",\"2005.0\",\"2001.0\",\"2011.0\",\"2001.0\",\"2006.0\",\"2005.0\",\"2005.0\",\"2005.0\",\"2004.0\",\"2005.0\",\"2002.0\",\"2004.0\",\"2005.0\",\"2002.0\",\"2013.0\",\"2008.0\",\"2005.0\",\"2002.0\",\"2000.0\",\"2005.0\",\"2010.0\",\"2012.0\",\"2010.0\",\"2010.0\",\"2012.0\",\"2009.0\",\"2001.0\",\"2000.0\",\"2012.0\",\"2011.0\",\"2002.0\",\"2002.0\",\"2002.0\",\"2003.0\",\"2000.0\",\"2013.0\",\"2013.0\",\"2013.0\",\"2005.0\",\"2006.0\",\"2013.0\",\"2013.0\",\"2013.0\",\"2013.0\",\"2007.0\",\"2006.0\",\"2013.0\",\"2003.0\",\"2011.0\",\"2009.0\",\"2005.0\",\"2013.0\",\"2004.0\",\"2001.0\",\"2011.0\",\"2000.0\",\"2003.0\",\"2003.0\",\"2008.0\",\"2000.0\",\"2011.0\",\"2012.0\",\"2000.0\",\"2003.0\",\"2000.0\",\"2004.0\",\"2004.0\",\"2006.0\",\"2001.0\",\"2010.0\",\"2010.0\",\"2001.0\",\"2005.0\",\"2005.0\",\"2005.0\",\"2010.0\",\"2013.0\",\"2002.0\",\"2010.0\",\"2001.0\",\"2002.0\",\"2000.0\",\"2003.0\",\"2011.0\",\"2011.0\",\"2003.0\",\"2001.0\",\"2005.0\",\"2009.0\",\"2012.0\",\"2013.0\",\"1999.0\",\"2012.0\",\"2004.0\",\"2007.0\",\"2007.0\",\"2012.0\",\"2012.0\",\"2000.0\",\"2013.0\",\"2004.0\",\"2004.0\",\"2005.0\",\"2013.0\",\"2006.0\",\"2003.0\",\"2007.0\",\"2010.0\",\"2007.0\",\"2007.0\",\"2012.0\",\"2004.0\",\"2007.0\",\"2007.0\",\"2007.0\",\"2011.0\",\"2010.0\",\"2013.0\",\"2007.0\",\"2013.0\",\"2007.0\",\"2007.0\",\"2013.0\",\"2013.0\",\"2000.0\",\"2003.0\",\"2005.0\",\"2012.0\",\"2002.0\",\"2005.0\",\"2013.0\",\"2013.0\",\"2013.0\",\"2013.0\",\"2004.0\",\"2010.0\",\"2009.0\",\"2011.0\",\"2010.0\",\"2013.0\",\"2002.0\",\"2010.0\",\"2010.0\",\"2004.0\",\"2010.0\",\"2015.0\",\"2015.0\",\"2004.0\",\"2012.0\",\"2003.0\",\"2001.0\",\"2002.0\",\"2010.0\",\"2010.0\",\"2010.0\",\"2010.0\",\"2010.0\",\"2012.0\",\"2011.0\",\"2004.0\",\"2010.0\",\"2002.0\",\"2011.0\",\"2007.0\",\"2008.0\",\"2002.0\",\"2002.0\",\"2004.0\",\"2004.0\",\"2004.0\",\"2005.0\",\"2005.0\",\"2012.0\",\"2012.0\",\"2010.0\",\"2006.0\",\"2005.0\",\"2005.0\",\"2013.0\",\"2004.0\",\"2002.0\",\"2007.0\",\"2007.0\",\"2007.0\",\"2004.0\",\"2011.0\",\"2012.0\",\"2011.0\",\"2000.0\",\"2011.0\",\"2013.0\",\"2012.0\",\"2013.0\",\"2012.0\",\"2002.0\",\"2001.0\",\"2011.0\",\"2012.0\",\"2012.0\",\"2012.0\",\"2007.0\",\"2002.0\",\"2007.0\",\"2004.0\",\"2004.0\",\"2004.0\",\"2004.0\",\"2013.0\",\"2013.0\",\"2004.0\",\"2004.0\",\"2004.0\",\"2010.0\",\"2011.0\",\"2011.0\",\"2011.0\",\"2011.0\",\"2007.0\",\"2011.0\",\"2012.0\",\"2006.0\",\"2012.0\",\"2000.0\",\"2004.0\",\"2005.0\",\"2012.0\",\"2012.0\",\"2000.0\",\"2007.0\",\"2011.0\",\"2012.0\",\"2000.0\",\"2001.0\",\"2012.0\",\"2008.0\",\"2007.0\",\"2007.0\",\"2010.0\",\"2008.0\",\"2003.0\",\"2004.0\",\"2013.0\",\"2013.0\",\"2009.0\",\"2009.0\",\"2012.0\",\"2013.0\",\"2012.0\",\"2011.0\",\"2010.0\",\"2010.0\",\"2000.0\",\"2002.0\",\"2001.0\",\"2012.0\",\"2011.0\",\"2004.0\",\"2000.0\",\"2003.0\",\"2004.0\",\"2010.0\",\"2002.0\",\"2007.0\",\"2008.0\",\"2013.0\",\"2000.0\",\"2000.0\",\"2012.0\",\"2013.0\",\"2010.0\",\"2009.0\",\"2009.0\",\"2009.0\",\"2009.0\",\"2009.0\",\"2009.0\",\"2005.0\",\"2011.0\",\"2010.0\",\"2009.0\",\"2010.0\",\"2010.0\",\"2010.0\",\"2009.0\",\"2009.0\",\"2009.0\",\"2006.0\",\"2006.0\",\"2004.0\",\"2012.0\",\"2004.0\",\"2004.0\",\"2012.0\",\"2001.0\",\"2002.0\",\"2002.0\",\"2013.0\",\"2011.0\",\"2011.0\",\"2013.0\",\"2009.0\",\"2009.0\",\"2009.0\",\"2009.0\",\"2009.0\",\"2009.0\",\"2002.0\",\"2012.0\",\"2012.0\",\"2012.0\",\"2013.0\",\"2006.0\",\"2012.0\",\"2012.0\",\"2009.0\",\"2009.0\",\"2010.0\",\"2009.0\",\"2009.0\",\"2009.0\",\"2009.0\",\"2009.0\",\"2009.0\",\"2009.0\",\"2009.0\",\"2010.0\",\"2009.0\",\"2005.0\",\"2010.0\",\"2004.0\",\"2013.0\",\"2011.0\",\"2009.0\",\"2009.0\",\"2009.0\",\"2013.0\",\"2013.0\",\"2007.0\",\"2007.0\",\"2007.0\",\"2004.0\",\"2009.0\",\"2004.0\",\"2005.0\",\"2013.0\",\"2002.0\",\"2010.0\",\"2015.0\",\"2000.0\",\"2005.0\",\"2005.0\",\"2000.0\",\"2004.0\",\"2010.0\",\"2009.0\",\"2009.0\",\"2010.0\",\"2012.0\",\"2010.0\",\"2009.0\",\"2010.0\",\"2012.0\",\"2009.0\",\"2013.0\",\"2015.0\",\"2001.0\",\"2004.0\",\"2004.0\",\"2010.0\",\"2009.0\",\"2010.0\",\"2010.0\",\"2002.0\",\"2004.0\",\"2004.0\",\"2010.0\",\"2010.0\",\"2015.0\",\"2008.0\",\"2008.0\",\"2008.0\",\"2009.0\",\"2009.0\",\"2008.0\",\"2012.0\",\"2001.0\",\"2004.0\",\"2010.0\",\"2001.0\",\"2005.0\",\"2011.0\",\"2004.0\",\"2012.0\",\"1997.0\",\"2011.0\",\"2001.0\",\"2012.0\",\"2010.0\",\"2008.0\",\"2012.0\",\"2015.0\",\"2015.0\",\"2015.0\",\"2015.0\",\"2010.0\",\"2015.0\",\"2015.0\",\"2015.0\",\"2015.0\",\"2015.0\",\"2015.0\",\"2015.0\",\"2012.0\",\"2008.0\",\"2008.0\",\"2015.0\",\"2015.0\",\"2015.0\",\"2015.0\",\"2005.0\",\"2012.0\",\"2005.0\",\"2012.0\",\"2010.0\",\"2015.0\",\"2015.0\",\"2015.0\",\"2010.0\",\"2009.0\",\"2009.0\",\"2009.0\",\"2009.0\",\"2009.0\",\"2012.0\",\"2009.0\",\"2009.0\",\"2009.0\",\"2010.0\",\"2010.0\",\"2010.0\",\"2010.0\",\"2009.0\",\"2010.0\",\"2009.0\",\"2010.0\",\"2005.0\",\"2005.0\",\"2005.0\",\"2010.0\",\"2009.0\",\"2010.0\",\"2009.0\",\"2010.0\",\"2010.0\",\"2009.0\",\"2010.0\",\"2009.0\",\"2010.0\",\"2010.0\",\"2010.0\",\"2003.0\",\"2011.0\",\"2011.0\",\"2011.0\",\"2009.0\",\"2009.0\",\"2009.0\",\"2009.0\",\"2009.0\",\"2010.0\",\"2010.0\",\"2010.0\",\"2009.0\",\"2009.0\",\"2011.0\",\"2011.0\",\"2005.0\",\"2009.0\",\"2010.0\",\"2010.0\",\"2009.0\",\"2009.0\",\"2010.0\",\"2010.0\",\"2010.0\",\"2010.0\",\"2010.0\",\"2010.0\",\"2010.0\",\"2009.0\",\"2013.0\",\"2012.0\",\"2011.0\",\"2013.0\",\"2011.0\",\"2006.0\",\"2009.0\",\"2009.0\",\"2009.0\",\"2009.0\",\"2009.0\",\"2009.0\",\"2009.0\",\"2009.0\",\"2009.0\",\"2009.0\",\"2009.0\",\"2009.0\",\"2010.0\",\"2010.0\",\"2010.0\",\"2010.0\",\"2009.0\",\"2009.0\",\"2009.0\",\"2011.0\",\"2009.0\",\"2013.0\",\"2010.0\",\"2010.0\",\"2005.0\",\"2011.0\",\"2009.0\",\"2004.0\",\"2005.0\",\"2006.0\",\"2005.0\",\"2012.0\",\"2013.0\",\"2010.0\",\"2010.0\",\"2010.0\",\"2010.0\",\"2010.0\",\"2010.0\",\"2009.0\",\"2010.0\",\"2010.0\",\"2010.0\",\"2009.0\",\"2004.0\",\"2012.0\",\"2012.0\",\"2009.0\",\"2009.0\",\"2009.0\",\"2009.0\",\"2009.0\",\"2009.0\",\"2009.0\",\"2009.0\",\"2009.0\",\"2010.0\",\"2009.0\",\"2010.0\",\"2006.0\",\"2011.0\",\"2012.0\",\"2013.0\",\"2009.0\",\"2012.0\",\"2011.0\",\"2011.0\",\"2011.0\",\"2012.0\",\"2002.0\",\"2000.0\",\"2011.0\",\"2010.0\",\"2010.0\",\"2013.0\",\"2011.0\",\"2011.0\",\"2002.0\",\"2001.0\",\"2011.0\",\"2012.0\",\"2012.0\",\"2010.0\",\"2013.0\",\"2012.0\",\"2004.0\",\"2005.0\",\"2005.0\",\"2004.0\",\"2013.0\",\"2010.0\",\"2010.0\",\"2010.0\",\"2005.0\",\"2012.0\",\"2012.0\",\"2013.0\",\"2012.0\",\"2011.0\",\"2011.0\",\"2011.0\",\"2011.0\",\"2013.0\",\"2012.0\",\"2009.0\",\"2004.0\",\"2012.0\",\"2005.0\",\"2004.0\",\"2013.0\",\"2011.0\",\"2013.0\",\"2012.0\",\"2006.0\",\"2005.0\",\"2011.0\",\"2011.0\",\"2013.0\",\"2012.0\",\"2011.0\",\"2004.0\",\"2000.0\",\"2001.0\",\"2003.0\",\"2012.0\",\"2005.0\",\"2001.0\",\"1998.0\",\"2002.0\",\"2013.0\",\"2011.0\",\"2011.0\",\"2006.0\",\"2004.0\",\"2011.0\",\"2011.0\",\"2011.0\",\"2010.0\",\"2010.0\",\"2010.0\",\"2010.0\",\"2005.0\",\"2004.0\",\"2012.0\",\"2012.0\",\"2012.0\",\"2012.0\",\"2011.0\",\"2005.0\",\"2011.0\",\"2013.0\",\"2013.0\",\"2012.0\",\"2012.0\",\"2012.0\",\"2012.0\",\"2012.0\",\"2013.0\",\"1998.0\",\"1997.0\",\"2011.0\",\"2011.0\",\"2011.0\",\"2011.0\",\"2011.0\",\"2012.0\",\"2012.0\",\"2011.0\",\"2012.0\",\"2012.0\",\"2012.0\",\"2010.0\",\"2012.0\",\"2004.0\",\"2011.0\",\"2012.0\",\"2013.0\",\"2013.0\",\"2013.0\",\"2013.0\",\"2013.0\",\"2007.0\",\"2007.0\",\"2011.0\",\"2004.0\",\"2011.0\",\"2011.0\",\"2013.0\",\"2012.0\",\"2013.0\",\"2013.0\",\"2011.0\",\"2011.0\",\"2011.0\",\"2012.0\",\"2007.0\",\"2007.0\",\"2006.0\",\"2004.0\",\"2004.0\",\"2005.0\",\"2012.0\",\"2012.0\",\"2006.0\",\"2000.0\",\"2007.0\",\"2007.0\",\"2007.0\",\"2007.0\",\"2011.0\",\"2003.0\",\"2013.0\",\"2013.0\",\"2012.0\",\"2012.0\",\"2012.0\",\"2011.0\",\"2010.0\",\"2009.0\",\"2013.0\",\"2013.0\",\"2012.0\",\"2001.0\",\"2006.0\",\"2005.0\",\"2005.0\",\"2013.0\",\"2013.0\",\"2013.0\",\"2005.0\",\"2005.0\",\"2003.0\",\"2007.0\",\"2009.0\",\"2011.0\",\"2011.0\",\"2011.0\",\"2007.0\",\"2008.0\",\"2007.0\",\"2007.0\",\"2011.0\",\"2011.0\",\"2008.0\",\"2007.0\",\"2007.0\",\"2007.0\",\"2010.0\",\"2010.0\",\"2008.0\",\"2010.0\",\"2004.0\",\"2001.0\",\"2007.0\",\"2007.0\",\"2007.0\",\"2008.0\",\"2010.0\",\"2010.0\",\"2007.0\",\"2009.0\",\"2006.0\",\"2005.0\",\"2006.0\",\"2005.0\",\"2008.0\",\"2007.0\",\"2008.0\",\"2007.0\",\"2009.0\",\"2009.0\",\"2009.0\",\"2008.0\",\"2007.0\",\"2010.0\",\"2004.0\",\"2010.0\",\"2012.0\",\"2002.0\",\"2009.0\",\"2005.0\",\"2011.0\",\"2008.0\",\"2004.0\",\"2008.0\",\"2009.0\",\"2007.0\",\"1996.0\",\"2012.0\",\"2009.0\",\"2007.0\",\"2008.0\",\"2008.0\",\"2015.0\",\"2015.0\",\"2013.0\",\"2013.0\",\"2012.0\",\"2012.0\",\"2011.0\",\"2009.0\",\"2010.0\",\"2009.0\",\"2009.0\",\"2015.0\",\"2015.0\",\"2015.0\",\"2015.0\",\"2015.0\",\"2006.0\",\"2010.0\",\"2005.0\",\"2003.0\",\"2005.0\",\"2013.0\",\"2013.0\",\"2012.0\",\"2015.0\",\"2004.0\",\"2012.0\",\"2012.0\",\"2015.0\",\"2001.0\",\"2004.0\",\"2015.0\",\"2006.0\",\"2015.0\",\"2015.0\",\"2015.0\",\"2015.0\",\"2015.0\",\"2015.0\",\"2015.0\",\"2005.0\",\"2013.0\",\"2010.0\",\"2010.0\",\"2010.0\",\"2010.0\",\"2010.0\",\"2010.0\",\"2010.0\",\"2012.0\",\"2011.0\",\"2010.0\",\"2004.0\",\"2004.0\",\"2004.0\",\"2015.0\",\"2001.0\",\"2004.0\",\"2011.0\",\"2007.0\",\"2008.0\",\"2001.0\",\"2011.0\",\"2011.0\",\"2010.0\",\"2000.0\",\"2011.0\",\"1999.0\",\"2008.0\",\"2000.0\",\"1998.0\",\"2000.0\",\"2010.0\",\"2008.0\",\"2009.0\",\"1996.0\",\"2010.0\",\"2012.0\",\"2011.0\",\"2011.0\",\"2009.0\",\"2011.0\",\"2009.0\",\"1998.0\",\"1998.0\",\"2010.0\",\"2015.0\",\"2015.0\",\"1998.0\",\"1998.0\",\"1998.0\",\"2015.0\",\"2009.0\",\"2004.0\",\"2002.0\",\"2010.0\",\"2010.0\",\"1998.0\",\"2009.0\",\"2009.0\",\"2009.0\",\"2001.0\",\"2001.0\",\"2009.0\",\"2011.0\",\"2015.0\",\"2015.0\",\"2015.0\",\"2015.0\",\"2015.0\",\"2009.0\",\"2009.0\",\"2011.0\",\"2009.0\",\"2009.0\",\"2010.0\",\"2010.0\",\"2009.0\",\"2004.0\",\"2015.0\",\"2011.0\",\"2009.0\",\"2011.0\",\"2015.0\",\"2015.0\",\"2015.0\",\"2015.0\",\"2009.0\",\"2010.0\",\"2010.0\",\"2009.0\",\"2009.0\",\"2010.0\",\"2009.0\",\"2004.0\",\"2003.0\",\"2003.0\",\"2011.0\",\"2003.0\",\"2002.0\",\"2009.0\",\"2002.0\",\"2010.0\",\"2001.0\",\"2010.0\",\"2010.0\",\"2010.0\",\"2012.0\",\"2015.0\",\"2015.0\",\"2015.0\",\"2015.0\",\"2015.0\",\"2002.0\",\"2009.0\",\"2001.0\",\"2001.0\",\"2001.0\",\"2010.0\",\"2010.0\",\"2010.0\",\"2009.0\",\"2009.0\",\"2009.0\",\"2009.0\",\"2013.0\",\"2010.0\",\"2004.0\",\"2002.0\",\"2015.0\",\"2015.0\",\"2015.0\",\"2015.0\",\"2015.0\",\"2015.0\",\"2015.0\",\"2015.0\",\"2015.0\",\"2015.0\",\"2000.0\",\"2004.0\",\"2012.0\",\"2011.0\",\"2011.0\",\"2012.0\",\"2011.0\",\"2011.0\",\"2011.0\",\"2011.0\",\"2011.0\",\"2011.0\",\"2011.0\",\"2001.0\",\"2011.0\",\"2011.0\",\"2011.0\",\"2011.0\",\"2011.0\",\"2011.0\",\"2011.0\",\"2007.0\",\"2012.0\",\"2010.0\",\"2010.0\",\"2010.0\",\"2011.0\",\"2011.0\",\"2011.0\",\"2011.0\",\"2011.0\",\"1997.0\",\"2012.0\",\"2012.0\",\"2012.0\",\"2011.0\",\"1998.0\",\"2011.0\",\"2011.0\",\"2015.0\",\"2015.0\",\"2015.0\",\"2015.0\",\"2015.0\",\"2015.0\",\"2015.0\",\"2015.0\",\"2015.0\",\"2015.0\",\"2015.0\",\"2015.0\",\"2015.0\",\"2015.0\",\"2011.0\",\"2011.0\",\"2015.0\",\"2015.0\",\"2015.0\",\"2015.0\",\"2009.0\",\"2009.0\",\"2009.0\",\"2009.0\",\"2011.0\",\"2011.0\",\"2011.0\",\"2004.0\",\"2015.0\",\"2004.0\",\"2015.0\",\"2015.0\",\"2015.0\",\"2015.0\",\"2015.0\",\"2015.0\",\"2011.0\",\"2009.0\",\"2009.0\",\"2011.0\",\"2011.0\",\"2009.0\",\"2007.0\",\"2010.0\",\"2008.0\",\"2010.0\",\"1998.0\",\"2011.0\",\"2011.0\",\"2011.0\",\"2007.0\",\"2011.0\",\"2011.0\",\"1992.0\",\"2007.0\",\"2003.0\",\"2001.0\",\"1991.0\",\"2004.0\",\"2004.0\",\"2000.0\",\"2001.0\",\"2011.0\",\"2011.0\",\"2011.0\",\"2004.0\",\"2015.0\",\"2015.0\",\"2012.0\",\"2004.0\",\"2011.0\",\"2015.0\",\"2015.0\",\"2015.0\",\"2015.0\",\"2015.0\",\"2015.0\",\"2015.0\",\"2015.0\",\"2015.0\",\"2003.0\",\"2003.0\",\"2003.0\",\"2002.0\",\"2002.0\",\"2015.0\",\"2015.0\",\"2015.0\",\"2015.0\",\"2015.0\",\"2015.0\",\"2015.0\",\"2015.0\",\"2002.0\",\"2015.0\",\"2015.0\",\"2015.0\",\"2015.0\",\"2015.0\",\"2010.0\",\"2002.0\",\"2011.0\",\"2012.0\",\"2011.0\",\"2000.0\",\"2004.0\",\"2012.0\",\"2012.0\",\"2012.0\",\"2002.0\",\"2002.0\",\"2013.0\",\"2012.0\",\"2011.0\",\"2004.0\",\"2004.0\",\"2011.0\",\"2003.0\",\"2002.0\",\"2011.0\",\"2012.0\",\"2000.0\",\"2015.0\",\"2015.0\",\"2015.0\",\"2015.0\",\"2013.0\",\"2015.0\",\"2015.0\",\"2015.0\",\"2015.0\",\"2015.0\",\"1998.0\",\"2002.0\",\"2011.0\",\"2015.0\",\"2015.0\",\"2015.0\",\"2015.0\",\"2015.0\",\"2015.0\",\"2015.0\",\"2015.0\",\"2015.0\",\"2015.0\",\"2015.0\",\"2003.0\",\"1998.0\",\"2004.0\",\"2004.0\",\"2011.0\",\"2011.0\",\"2000.0\",\"2004.0\",\"2002.0\",\"2015.0\",\"2015.0\",\"2015.0\",\"2015.0\",\"2015.0\",\"2015.0\",\"2000.0\",\"2015.0\",\"2011.0\",\"2011.0\",\"2011.0\",\"2004.0\",\"2004.0\",\"2004.0\",\"2004.0\",\"2003.0\",\"2011.0\",\"2000.0\",\"2011.0\",\"2002.0\",\"2015.0\",\"2001.0\",\"2000.0\",\"2015.0\",\"2015.0\",\"2015.0\",\"2015.0\",\"2004.0\",\"2000.0\",\"2004.0\",\"2015.0\",\"2015.0\",\"2015.0\",\"2011.0\",\"2015.0\",\"2015.0\",\"2015.0\",\"2011.0\",\"2000.0\",\"2002.0\",\"2002.0\",\"2000.0\",\"2003.0\",\"2015.0\",\"2015.0\",\"2015.0\",\"2015.0\",\"2015.0\",\"2015.0\",\"2009.0\",\"2010.0\",\"2009.0\",\"2011.0\",\"2015.0\",\"2015.0\",\"2015.0\",\"2015.0\",\"2015.0\",\"2008.0\",\"2008.0\",\"2008.0\",\"2007.0\",\"2002.0\",\"2011.0\",\"2010.0\",\"2009.0\",\"2010.0\",\"2000.0\",\"2003.0\",\"2002.0\",\"2011.0\",\"2011.0\",\"2011.0\",\"2003.0\",\"2003.0\",\"2012.0\",\"2000.0\",\"2000.0\",\"2002.0\",\"2004.0\",\"2004.0\",\"2004.0\",\"2012.0\",\"2015.0\",\"2015.0\",\"2015.0\",\"2015.0\",\"2015.0\",\"2015.0\",\"2011.0\",\"2010.0\",\"2015.0\",\"2015.0\",\"2015.0\",\"2015.0\",\"2015.0\",\"2015.0\",\"2015.0\",\"2015.0\",\"2015.0\",\"2015.0\",\"2015.0\",\"2002.0\",\"2015.0\",\"2015.0\",\"2015.0\",\"2000.0\",\"2001.0\",\"2001.0\",\"2004.0\",\"2011.0\",\"2011.0\",\"2011.0\",\"2015.0\",\"2015.0\",\"2015.0\",\"2012.0\",\"2015.0\",\"2015.0\",\"2015.0\",\"2015.0\",\"2015.0\",\"2004.0\",\"2002.0\",\"2011.0\",\"2002.0\",\"2015.0\",\"2015.0\",\"2015.0\",\"2012.0\",\"2015.0\",\"2004.0\",\"1998.0\",\"2012.0\",\"2012.0\",\"2000.0\",\"2010.0\",\"1998.0\",\"1998.0\",\"1993.0\",\"1998.0\",\"1990.0\",\"2007.0\",\"1998.0\",\"1998.0\",\"2009.0\",\"2009.0\",\"2008.0\",\"2011.0\",\"2011.0\",\"2011.0\",\"1998.0\",\"2011.0\",\"2008.0\",\"2010.0\",\"2011.0\",\"2009.0\",\"2011.0\",\"2011.0\",\"2011.0\",\"2008.0\",\"2010.0\",\"2009.0\",\"2009.0\",\"2008.0\",\"2004.0\",\"2010.0\",\"2010.0\",\"2009.0\",\"2009.0\",\"2009.0\",\"2010.0\",\"2009.0\",\"2011.0\",\"2009.0\",\"1998.0\",\"1998.0\",\"1998.0\",\"1989.0\",\"2013.0\",\"1998.0\",\"2004.0\",\"1998.0\",\"2008.0\",\"2008.0\",\"2009.0\",\"1999.0\",\"2008.0\",\"2011.0\",\"2012.0\",\"2013.0\",\"1998.0\",\"1999.0\",\"1999.0\",\"1998.0\",\"1993.0\",\"1993.0\",\"2011.0\",\"2011.0\",\"2008.0\",\"2013.0\",\"2011.0\",\"1998.0\",\"2010.0\",\"2012.0\",\"2013.0\",\"1999.0\",\"2011.0\",\"2012.0\",\"2011.0\",\"2011.0\",\"2004.0\",\"2012.0\",\"2008.0\",\"2006.0\",\"2012.0\",\"2004.0\",\"2012.0\",\"1998.0\",\"2009.0\",\"1998.0\",\"1998.0\",\"2011.0\",\"2011.0\",\"2012.0\",\"2008.0\",\"1990.0\",\"2005.0\",\"2011.0\",\"2012.0\",\"2010.0\",\"2009.0\",\"2007.0\",\"2009.0\",\"2009.0\",\"2008.0\",\"2011.0\",\"2012.0\",\"2011.0\",\"2011.0\",\"2009.0\",\"2011.0\",\"2008.0\",\"2012.0\",\"2010.0\",\"2012.0\",\"2004.0\",\"2009.0\",\"2009.0\",\"2008.0\",\"2007.0\",\"1998.0\",\"2011.0\",\"2011.0\",\"2013.0\",\"2008.0\",\"2007.0\",\"2007.0\",\"2009.0\",\"2010.0\",\"2008.0\",\"1998.0\",\"1998.0\",\"2015.0\",\"2015.0\",\"2015.0\",\"2015.0\",\"2015.0\",\"2015.0\",\"2015.0\",\"2015.0\",\"2015.0\",\"2015.0\",\"2015.0\",\"2015.0\",\"2015.0\",\"2015.0\",\"2015.0\",\"2015.0\",\"2015.0\",\"2015.0\",\"2015.0\",\"2015.0\",\"2015.0\",\"2015.0\",\"2015.0\",\"2015.0\",\"2015.0\",\"2015.0\",\"2015.0\",\"2015.0\",\"2015.0\",\"2015.0\",\"2015.0\",\"2015.0\",\"2015.0\",\"2015.0\",\"2015.0\",\"2015.0\",\"2015.0\",\"2015.0\",\"2015.0\",\"2015.0\",\"2015.0\",\"2015.0\",\"2015.0\",\"2015.0\",\"2015.0\",\"2015.0\",\"2015.0\",\"2015.0\",\"2015.0\",\"2015.0\",\"2015.0\",\"2015.0\",\"2015.0\",\"2015.0\",\"2015.0\",\"2015.0\",\"2015.0\",\"2015.0\",\"2015.0\",\"2015.0\",\"2015.0\",\"2015.0\",\"2015.0\",\"2015.0\",\"2015.0\",\"2015.0\",\"2015.0\",\"2015.0\",\"2015.0\",\"2015.0\",\"2015.0\",\"2015.0\",\"2015.0\",\"2015.0\",\"2015.0\",\"2015.0\",\"2015.0\",\"2015.0\",\"2015.0\",\"2015.0\",\"2015.0\",\"2015.0\",\"2015.0\",\"2015.0\",\"2015.0\",\"2015.0\",\"2015.0\",\"2015.0\",\"2015.0\",\"2015.0\",\"2015.0\",\"2015.0\",\"2015.0\",\"2015.0\",\"2015.0\",\"1998.0\",\"1998.0\",\"1999.0\",\"1999.0\",\"1998.0\",\"2012.0\",\"2011.0\",\"2009.0\",\"1998.0\",\"1986.0\",\"1998.0\",\"1998.0\",\"1998.0\",\"1998.0\",\"1990.0\",\"1998.0\",\"2007.0\",\"2009.0\",\"2008.0\",\"2010.0\",\"2007.0\",\"2012.0\",\"2007.0\",\"2009.0\",\"1998.0\",\"2010.0\",\"2010.0\",\"2010.0\",\"2011.0\",\"1999.0\",\"2004.0\",\"2011.0\",\"1998.0\",\"2011.0\",\"2012.0\",\"2004.0\",\"1999.0\",\"1993.0\",\"2010.0\",\"2004.0\",\"1998.0\",\"2008.0\",\"1998.0\",\"2002.0\",\"2000.0\",\"1998.0\",\"1998.0\",\"2007.0\",\"1998.0\",\"2002.0\",\"2007.0\",\"2007.0\",\"2007.0\",\"2007.0\",\"1999.0\",\"2009.0\",\"2011.0\",\"2010.0\",\"2010.0\",\"2008.0\",\"1998.0\",\"1999.0\",\"2010.0\",\"1998.0\",\"2007.0\",\"2010.0\",\"2010.0\",\"2007.0\",\"2008.0\",\"2008.0\",\"1989.0\",\"1991.0\",\"2007.0\",\"1998.0\",\"1992.0\",\"2008.0\",\"2008.0\",\"1979.0\",\"2004.0\",\"2004.0\",\"2004.0\",\"1998.0\",\"2012.0\",\"2002.0\",\"1999.0\",\"2008.0\",\"2013.0\",\"2006.0\",\"2013.0\",\"2007.0\",\"2015.0\",\"2015.0\",\"2015.0\",\"2015.0\",\"2015.0\",\"2015.0\",\"2015.0\",\"2011.0\",\"2015.0\",\"2015.0\",\"2012.0\",\"2015.0\",\"2015.0\",\"2015.0\",\"2011.0\",\"2015.0\",\"2015.0\",\"2009.0\",\"2015.0\",\"2015.0\",\"2015.0\",\"2015.0\",\"2015.0\",\"2011.0\",\"2015.0\",\"2015.0\",\"2015.0\",\"2015.0\",\"2015.0\",\"2015.0\",\"2015.0\",\"2015.0\",\"2015.0\",\"2015.0\",\"2015.0\",\"2015.0\",\"2015.0\",\"2015.0\",\"2012.0\",\"2011.0\",\"2015.0\",\"2009.0\",\"2015.0\",\"2015.0\",\"2015.0\",\"2011.0\",\"2015.0\",\"2015.0\",\"2009.0\",\"2015.0\",\"2015.0\",\"2009.0\",\"2015.0\",\"2015.0\",\"2015.0\",\"2015.0\",\"2011.0\",\"2015.0\",\"2012.0\",\"2015.0\",\"2015.0\",\"2015.0\",\"2015.0\",\"2011.0\",\"2011.0\",\"2011.0\",\"2012.0\",\"2007.0\",\"2008.0\",\"2011.0\",\"2011.0\",\"2010.0\",\"2007.0\",\"2010.0\",\"2009.0\",\"2007.0\",\"2007.0\",\"1998.0\",\"1998.0\",\"2010.0\",\"2008.0\",\"2010.0\",\"2010.0\",\"1998.0\",\"2007.0\",\"2007.0\",\"1998.0\",\"1998.0\",\"1998.0\",\"1998.0\",\"2010.0\",\"1998.0\",\"2008.0\",\"2008.0\",\"1989.0\",\"2004.0\",\"2003.0\",\"1998.0\",\"2008.0\",\"2012.0\",\"1989.0\",\"2007.0\",\"1998.0\",\"1998.0\",\"1998.0\",\"2007.0\",\"1999.0\",\"2007.0\",\"1998.0\",\"1999.0\",\"1998.0\",\"1998.0\",\"2009.0\",\"1991.0\",\"2010.0\",\"1998.0\",\"1998.0\",\"2004.0\",\"1999.0\",\"1993.0\",\"2008.0\",\"1998.0\",\"2004.0\",\"1998.0\",\"1998.0\",\"2010.0\",\"2009.0\",\"1999.0\",\"2012.0\",\"2012.0\",\"2015.0\",\"2015.0\",\"2015.0\",\"2015.0\",\"2015.0\",\"2015.0\",\"2015.0\",\"2015.0\",\"2015.0\",\"2015.0\",\"2015.0\",\"2015.0\",\"2015.0\",\"2015.0\",\"2015.0\",\"2015.0\",\"2015.0\",\"2015.0\",\"2015.0\",\"2015.0\",\"2015.0\",\"2015.0\",\"2015.0\",\"2015.0\",\"2011.0\",\"2011.0\",\"2015.0\",\"2015.0\",\"2009.0\",\"2015.0\",\"2015.0\",\"2015.0\",\"2015.0\",\"2015.0\",\"2015.0\",\"2012.0\",\"2015.0\",\"2015.0\",\"2015.0\",\"2015.0\",\"2015.0\",\"2015.0\",\"2009.0\",\"2015.0\",\"2015.0\",\"2015.0\",\"2015.0\",\"2015.0\",\"2015.0\",\"2015.0\",\"2015.0\",\"2011.0\",\"2011.0\",\"2015.0\",\"2015.0\",\"2015.0\",\"2015.0\",\"2015.0\",\"2015.0\",\"1998.0\",\"1998.0\",\"1999.0\",\"2004.0\",\"1998.0\",\"1998.0\",\"1998.0\",\"2008.0\",\"1998.0\",\"1999.0\",\"1998.0\",\"1999.0\",\"2010.0\",\"1998.0\",\"1998.0\",\"1998.0\",\"2009.0\",\"1998.0\",\"1998.0\",\"1998.0\"]},{\"label\":\"Continent\",\"values\":[\"America\",\"America\",\"America\",\"America\",\"America\",\"America\",\"America\",\"America\",\"America\",\"America\",\"America\",\"America\",\"America\",\"America\",\"America\",\"America\",\"America\",\"America\",\"America\",\"America\",\"America\",\"America\",\"America\",\"America\",\"America\",\"America\",\"America\",\"America\",\"America\",\"Europe\",\"America\",\"Oceania\",\"America\",\"America\",\"America\",\"America\",\"America\",\"America\",\"America\",\"America\",\"America\",\"America\",\"America\",\"America\",\"America\",\"America\",\"America\",\"America\",\"America\",\"America\",\"America\",\"America\",\"America\",\"America\",\"America\",\"America\",\"America\",\"America\",\"America\",\"America\",\"America\",\"America\",\"America\",\"America\",\"America\",\"America\",\"America\",\"America\",\"America\",\"America\",\"America\",\"America\",\"America\",\"America\",\"America\",\"America\",\"America\",\"Europe\",\"Oceania\",\"America\",\"America\",\"America\",\"America\",\"America\",\"America\",\"America\",\"America\",\"America\",\"Europe\",\"America\",\"America\",\"America\",\"America\",\"America\",\"America\",\"America\",\"America\",\"America\",\"America\",\"America\",\"America\",\"America\",\"America\",\"America\",\"America\",\"America\",\"America\",\"America\",\"America\",\"America\",\"America\",\"America\",\"America\",\"America\",\"America\",\"America\",\"America\",\"America\",\"America\",\"America\",\"America\",\"America\",\"America\",\"Asia\",\"America\",\"America\",\"America\",\"America\",\"America\",\"Europe\",\"Asia\",\"Europe\",\"America\",\"America\",\"America\",\"America\",\"America\",\"America\",\"America\",\"America\",\"America\",\"America\",\"America\",\"America\",\"America\",\"America\",\"America\",\"America\",\"America\",\"America\",\"America\",\"America\",\"America\",\"America\",\"America\",\"America\",\"America\",\"America\",\"America\",\"America\",\"America\",\"America\",\"America\",\"America\",\"America\",\"America\",\"America\",\"America\",\"America\",\"America\",\"America\",\"America\",\"America\",\"America\",\"America\",\"America\",\"America\",\"America\",\"America\",\"America\",\"America\",\"America\",\"America\",\"America\",\"America\",\"America\",\"America\",\"America\",\"America\",\"America\",\"America\",\"America\",\"America\",\"America\",\"America\",\"America\",\"America\",\"America\",\"America\",\"Europe\",\"America\",\"America\",\"America\",\"America\",\"America\",\"America\",\"America\",\"America\",\"America\",\"America\",\"America\",\"America\",\"America\",\"America\",\"America\",\"America\",\"America\",\"America\",\"America\",\"America\",\"America\",\"America\",\"America\",\"America\",\"America\",\"America\",\"America\",\"America\",\"America\",\"America\",\"America\",\"America\",\"America\",\"America\",\"America\",\"America\",\"America\",\"America\",\"America\",\"America\",\"America\",\"America\",\"America\",\"Europe\",\"Europe\",\"America\",\"America\",\"America\",\"America\",\"America\",\"America\",\"America\",\"America\",\"Oceania\",\"Oceania\",\"America\",\"America\",\"America\",\"America\",\"America\",\"America\",\"Asia\",\"America\",\"America\",\"America\",\"America\",\"America\",\"America\",\"America\",\"America\",\"Europe\",\"America\",\"America\",\"America\",\"America\",\"America\",\"America\",\"America\",\"America\",\"America\",\"America\",\"America\",\"America\",\"America\",\"America\",\"America\",\"America\",\"America\",\"America\",\"America\",\"America\",\"America\",\"America\",\"America\",\"America\",\"America\",\"America\",\"America\",\"America\",\"America\",\"America\",\"America\",\"America\",\"America\",\"America\",\"America\",\"America\",\"America\",\"America\",\"America\",\"America\",\"America\",\"Asia\",\"America\",\"America\",\"America\",\"America\",\"America\",\"America\",\"America\",\"America\",\"Europe\",\"America\",\"America\",\"America\",\"America\",\"America\",\"America\",\"America\",\"America\",\"America\",\"America\",\"America\",\"America\",\"America\",\"America\",\"America\",\"America\",\"America\",\"America\",\"America\",\"America\",\"America\",\"America\",\"America\",\"Europe\",\"America\",\"America\",\"America\",\"America\",\"America\",\"America\",\"America\",\"America\",\"America\",\"America\",\"America\",\"America\",\"America\",\"America\",\"America\",\"America\",\"America\",\"America\",\"America\",\"America\",\"America\",\"America\",\"Europe\",\"America\",\"America\",\"America\",\"America\",\"America\",\"America\",\"America\",\"America\",\"America\",\"America\",\"America\",\"America\",\"America\",\"America\",\"America\",\"America\",\"America\",\"America\",\"America\",\"America\",\"America\",\"America\",\"America\",\"America\",\"America\",\"America\",\"America\",\"America\",\"America\",\"America\",\"America\",\"America\",\"America\",\"America\",\"America\",\"America\",\"America\",\"America\",\"America\",\"America\",\"America\",\"America\",\"America\",\"America\",\"America\",\"America\",\"America\",\"America\",\"America\",\"America\",\"America\",\"America\",\"America\",\"America\",\"America\",\"America\",\"America\",\"America\",\"America\",\"America\",\"America\",\"America\",\"America\",\"America\",\"America\",\"America\",\"America\",\"America\",\"America\",\"America\",\"America\",\"America\",\"America\",\"America\",\"America\",\"America\",\"America\",\"America\",\"America\",\"America\",\"America\",\"America\",\"America\",\"America\",\"America\",\"America\",\"Oceania\",\"Asia\",\"America\",\"America\",\"America\",\"America\",\"America\",\"America\",\"America\",\"America\",\"America\",\"America\",\"America\",\"America\",\"America\",\"America\",\"America\",\"Oceania\",\"America\",\"America\",\"America\",\"America\",\"America\",\"America\",\"America\",\"America\",\"America\",\"America\",\"America\",\"America\",\"Oceania\",\"Europe\",\"Europe\",\"Asia\",\"Europe\",\"Europe\",\"Europe\",\"Europe\",\"Asia\",\"Asia\",\"Europe\",\"Asia\",\"Asia\",\"Asia\",\"Asia\",\"Europe\",\"Asia\",\"Europe\",\"Asia\",\"Europe\",\"Asia\",\"America\",\"America\",\"Oceania\",\"Oceania\",\"Oceania\",\"Oceania\",\"Asia\",\"Oceania\",\"Oceania\",\"Oceania\",\"Oceania\",\"Oceania\",\"Oceania\",\"Oceania\",\"America\",\"Europe\",\"Europe\",\"Oceania\",\"Oceania\",\"Oceania\",\"Oceania\",\"America\",\"America\",\"America\",\"America\",\"America\",\"Oceania\",\"Oceania\",\"Oceania\",\"America\",\"America\",\"America\",\"America\",\"America\",\"America\",\"America\",\"America\",\"America\",\"America\",\"America\",\"America\",\"America\",\"America\",\"America\",\"America\",\"America\",\"America\",\"America\",\"America\",\"America\",\"America\",\"America\",\"America\",\"America\",\"America\",\"America\",\"America\",\"America\",\"America\",\"America\",\"America\",\"America\",\"America\",\"America\",\"America\",\"America\",\"America\",\"America\",\"America\",\"America\",\"America\",\"America\",\"America\",\"America\",\"America\",\"America\",\"America\",\"America\",\"America\",\"America\",\"America\",\"America\",\"America\",\"America\",\"America\",\"America\",\"America\",\"America\",\"America\",\"America\",\"America\",\"America\",\"America\",\"America\",\"America\",\"America\",\"America\",\"America\",\"America\",\"America\",\"America\",\"America\",\"America\",\"America\",\"America\",\"America\",\"America\",\"America\",\"America\",\"America\",\"America\",\"America\",\"America\",\"America\",\"America\",\"America\",\"America\",\"America\",\"America\",\"America\",\"America\",\"America\",\"America\",\"America\",\"America\",\"America\",\"America\",\"America\",\"America\",\"America\",\"America\",\"America\",\"America\",\"America\",\"America\",\"America\",\"America\",\"America\",\"America\",\"America\",\"America\",\"America\",\"America\",\"America\",\"America\",\"America\",\"America\",\"America\",\"America\",\"America\",\"America\",\"America\",\"America\",\"America\",\"America\",\"America\",\"America\",\"America\",\"America\",\"America\",\"America\",\"America\",\"America\",\"America\",\"America\",\"America\",\"America\",\"America\",\"America\",\"America\",\"America\",\"America\",\"America\",\"America\",\"America\",\"America\",\"America\",\"America\",\"America\",\"America\",\"Europe\",\"America\",\"America\",\"America\",\"America\",\"America\",\"America\",\"America\",\"America\",\"America\",\"America\",\"America\",\"America\",\"America\",\"America\",\"America\",\"America\",\"America\",\"America\",\"America\",\"America\",\"America\",\"America\",\"America\",\"America\",\"America\",\"America\",\"America\",\"America\",\"America\",\"America\",\"America\",\"America\",\"America\",\"America\",\"America\",\"America\",\"America\",\"America\",\"America\",\"Asia\",\"America\",\"America\",\"Asia\",\"Asia\",\"Europe\",\"America\",\"America\",\"America\",\"America\",\"America\",\"America\",\"America\",\"America\",\"America\",\"America\",\"America\",\"America\",\"America\",\"America\",\"America\",\"America\",\"America\",\"America\",\"America\",\"America\",\"America\",\"America\",\"America\",\"America\",\"America\",\"America\",\"America\",\"America\",\"America\",\"America\",\"Asia\",\"Asia\",\"America\",\"America\",\"America\",\"America\",\"America\",\"America\",\"America\",\"America\",\"Europe\",\"America\",\"America\",\"America\",\"America\",\"America\",\"America\",\"Europe\",\"America\",\"America\",\"America\",\"America\",\"America\",\"America\",\"America\",\"America\",\"America\",\"America\",\"America\",\"America\",\"America\",\"America\",\"America\",\"America\",\"America\",\"America\",\"America\",\"America\",\"America\",\"America\",\"America\",\"America\",\"America\",\"America\",\"America\",\"America\",\"America\",\"America\",\"America\",\"America\",\"America\",\"Europe\",\"America\",\"America\",\"America\",\"America\",\"America\",\"America\",\"America\",\"America\",\"America\",\"America\",\"America\",\"America\",\"Asia\",\"America\",\"America\",\"America\",\"America\",\"America\",\"America\",\"America\",\"America\",\"America\",\"America\",\"Asia\",\"Europe\",\"Europe\",\"Europe\",\"America\",\"America\",\"America\",\"America\",\"Europe\",\"Europe\",\"Europe\",\"America\",\"America\",\"America\",\"Europe\",\"Europe\",\"Europe\",\"Europe\",\"America\",\"America\",\"America\",\"America\",\"America\",\"America\",\"Europe\",\"Europe\",\"America\",\"Europe\",\"America\",\"America\",\"America\",\"America\",\"America\",\"America\",\"America\",\"America\",\"Europe\",\"Europe\",\"Europe\",\"America\",\"America\",\"America\",\"America\",\"America\",\"America\",\"America\",\"America\",\"America\",\"America\",\"America\",\"America\",\"America\",\"Asia\",\"Asia\",\"Oceania\",\"America\",\"America\",\"America\",\"Europe\",\"Europe\",\"Oceania\",\"Oceania\",\"America\",\"America\",\"America\",\"America\",\"America\",\"Europe\",\"America\",\"America\",\"America\",\"Oceania\",\"Oceania\",\"Oceania\",\"Oceania\",\"Oceania\",\"America\",\"America\",\"America\",\"America\",\"America\",\"America\",\"America\",\"America\",\"Oceania\",\"America\",\"America\",\"America\",\"Oceania\",\"America\",\"Asia\",\"Oceania\",\"America\",\"Oceania\",\"Oceania\",\"Oceania\",\"Oceania\",\"Oceania\",\"Oceania\",\"Oceania\",\"America\",\"America\",\"America\",\"America\",\"America\",\"America\",\"America\",\"America\",\"America\",\"America\",\"America\",\"America\",\"America\",\"America\",\"America\",\"Oceania\",\"Asia\",\"Asia\",\"Europe\",\"Asia\",\"Asia\",\"Asia\",\"Europe\",\"Asia\",\"Asia\",\"Asia\",\"Asia\",\"Asia\",\"Europe\",\"Asia\",\"Europe\",\"Asia\",\"Europe\",\"Europe\",\"Europe\",\"Oceania\",\"Asia\",\"Europe\",\"Asia\",\"Asia\",\"Asia\",\"Europe\",\"Asia\",\"Europe\",\"Asia\",\"Europe\",\"Oceania\",\"Oceania\",\"Europe\",\"Europe\",\"Europe\",\"Oceania\",\"America\",\"America\",\"America\",\"America\",\"America\",\"Europe\",\"America\",\"America\",\"America\",\"America\",\"America\",\"America\",\"America\",\"Oceania\",\"Oceania\",\"Oceania\",\"Oceania\",\"Oceania\",\"America\",\"America\",\"America\",\"America\",\"America\",\"America\",\"America\",\"America\",\"America\",\"Oceania\",\"America\",\"America\",\"America\",\"Oceania\",\"Oceania\",\"Oceania\",\"Oceania\",\"America\",\"America\",\"America\",\"America\",\"America\",\"America\",\"America\",\"America\",\"America\",\"America\",\"America\",\"America\",\"America\",\"America\",\"America\",\"America\",\"America\",\"America\",\"America\",\"America\",\"America\",\"Oceania\",\"Oceania\",\"Oceania\",\"Oceania\",\"Oceania\",\"America\",\"Asia\",\"America\",\"America\",\"America\",\"America\",\"America\",\"America\",\"America\",\"America\",\"America\",\"America\",\"America\",\"America\",\"America\",\"America\",\"Oceania\",\"Oceania\",\"Oceania\",\"Oceania\",\"Oceania\",\"Oceania\",\"Oceania\",\"Oceania\",\"Oceania\",\"Oceania\",\"America\",\"America\",\"America\",\"America\",\"America\",\"America\",\"America\",\"America\",\"America\",\"America\",\"America\",\"America\",\"America\",\"America\",\"America\",\"America\",\"America\",\"America\",\"America\",\"America\",\"Europe\",\"America\",\"Europe\",\"Asia\",\"Asia\",\"Asia\",\"America\",\"America\",\"America\",\"America\",\"America\",\"Oceania\",\"Europe\",\"America\",\"America\",\"America\",\"Asia\",\"America\",\"America\",\"Oceania\",\"Oceania\",\"Oceania\",\"Oceania\",\"Oceania\",\"Oceania\",\"Oceania\",\"Oceania\",\"Oceania\",\"Oceania\",\"Oceania\",\"Oceania\",\"Oceania\",\"Oceania\",\"America\",\"America\",\"Oceania\",\"Oceania\",\"Oceania\",\"Oceania\",\"Europe\",\"Europe\",\"Europe\",\"Europe\",\"America\",\"America\",\"Asia\",\"America\",\"Oceania\",\"America\",\"Oceania\",\"Oceania\",\"Oceania\",\"Oceania\",\"Oceania\",\"Oceania\",\"America\",\"America\",\"America\",\"America\",\"Asia\",\"Asia\",\"Africa\",\"Europe\",\"Europe\",\"Europe\",\"Africa\",\"America\",\"America\",\"America\",\"America\",\"Europe\",\"America\",\"Oceania\",\"Asia\",\"Asia\",\"Oceania\",\"America\",\"America\",\"America\",\"America\",\"America\",\"America\",\"America\",\"America\",\"America\",\"Oceania\",\"Oceania\",\"America\",\"America\",\"America\",\"Oceania\",\"Oceania\",\"Oceania\",\"Oceania\",\"Oceania\",\"Oceania\",\"Oceania\",\"Oceania\",\"Oceania\",\"America\",\"America\",\"America\",\"America\",\"America\",\"Oceania\",\"Oceania\",\"Oceania\",\"Oceania\",\"Oceania\",\"Oceania\",\"Oceania\",\"Oceania\",\"America\",\"Oceania\",\"Oceania\",\"Oceania\",\"Oceania\",\"Oceania\",\"Asia\",\"America\",\"America\",\"America\",\"America\",\"America\",\"America\",\"America\",\"America\",\"America\",\"America\",\"America\",\"America\",\"America\",\"America\",\"America\",\"America\",\"America\",\"America\",\"America\",\"America\",\"America\",\"America\",\"Oceania\",\"Oceania\",\"Oceania\",\"Oceania\",\"America\",\"Oceania\",\"Oceania\",\"Oceania\",\"Oceania\",\"Oceania\",\"Asia\",\"America\",\"America\",\"Oceania\",\"Oceania\",\"Oceania\",\"Oceania\",\"Oceania\",\"Oceania\",\"Oceania\",\"Oceania\",\"Oceania\",\"Oceania\",\"Oceania\",\"America\",\"Asia\",\"America\",\"America\",\"America\",\"America\",\"America\",\"America\",\"America\",\"Oceania\",\"Oceania\",\"Oceania\",\"Oceania\",\"Oceania\",\"Oceania\",\"America\",\"Oceania\",\"America\",\"America\",\"America\",\"America\",\"America\",\"America\",\"America\",\"America\",\"America\",\"America\",\"America\",\"America\",\"Oceania\",\"America\",\"America\",\"Oceania\",\"Oceania\",\"Oceania\",\"Oceania\",\"America\",\"America\",\"America\",\"Oceania\",\"Oceania\",\"Oceania\",\"America\",\"Oceania\",\"Oceania\",\"Oceania\",\"America\",\"America\",\"America\",\"America\",\"America\",\"America\",\"Oceania\",\"Oceania\",\"Oceania\",\"Oceania\",\"Oceania\",\"Oceania\",\"America\",\"America\",\"America\",\"America\",\"Oceania\",\"Oceania\",\"Oceania\",\"Oceania\",\"Oceania\",\"Asia\",\"Europe\",\"Europe\",\"Asia\",\"America\",\"America\",\"America\",\"America\",\"America\",\"America\",\"America\",\"America\",\"America\",\"America\",\"America\",\"America\",\"America\",\"America\",\"America\",\"America\",\"America\",\"America\",\"America\",\"America\",\"America\",\"Oceania\",\"Oceania\",\"Oceania\",\"Oceania\",\"Oceania\",\"Oceania\",\"America\",\"Asia\",\"Oceania\",\"Oceania\",\"Oceania\",\"Oceania\",\"Oceania\",\"Oceania\",\"Oceania\",\"Oceania\",\"Oceania\",\"Oceania\",\"Oceania\",\"America\",\"Oceania\",\"Oceania\",\"Oceania\",\"America\",\"America\",\"America\",\"America\",\"America\",\"America\",\"America\",\"Oceania\",\"Oceania\",\"Oceania\",\"America\",\"Oceania\",\"Oceania\",\"Oceania\",\"Oceania\",\"Oceania\",\"America\",\"America\",\"America\",\"America\",\"Oceania\",\"Oceania\",\"Oceania\",\"America\",\"Oceania\",\"Europe\",\"Europe\",\"Europe\",\"Europe\",\"Asia\",\"Asia\",\"Europe\",\"Europe\",\"Europe\",\"Asia\",\"Africa\",\"Asia\",\"Asia\",\"Asia\",\"Asia\",\"Asia\",\"Asia\",\"Europe\",\"Europe\",\"Europe\",\"Europe\",\"Europe\",\"Asia\",\"Europe\",\"Asia\",\"Asia\",\"Europe\",\"Europe\",\"Europe\",\"Asia\",\"Europe\",\"Europe\",\"Europe\",\"Europe\",\"Asia\",\"Europe\",\"Asia\",\"Europe\",\"Europe\",\"Asia\",\"Asia\",\"Europe\",\"Europe\",\"Europe\",\"Asia\",\"Asia\",\"Asia\",\"Europe\",\"America\",\"America\",\"Europe\",\"Asia\",\"Asia\",\"Asia\",\"Asia\",\"Asia\",\"Asia\",\"America\",\"America\",\"America\",\"Asia\",\"Europe\",\"Europe\",\"Asia\",\"Europe\",\"Europe\",\"America\",\"America\",\"Asia\",\"America\",\"America\",\"Africa\",\"Europe\",\"America\",\"America\",\"Europe\",\"Europe\",\"Europe\",\"America\",\"Europe\",\"Asia\",\"Europe\",\"Asia\",\"America\",\"America\",\"Oceania\",\"Europe\",\"Asia\",\"America\",\"Asia\",\"Europe\",\"America\",\"America\",\"America\",\"Asia\",\"America\",\"Europe\",\"America\",\"America\",\"Europe\",\"Europe\",\"America\",\"Europe\",\"Europe\",\"Asia\",\"America\",\"America\",\"America\",\"America\",\"America\",\"America\",\"Europe\",\"America\",\"Europe\",\"America\",\"Asia\",\"America\",\"America\",\"Asia\",\"Africa\",\"Europe\",\"America\",\"America\",\"America\",\"Europe\",\"Africa\",\"Africa\",\"Europe\",\"America\",\"America\",\"America\",\"America\",\"Oceania\",\"Oceania\",\"Oceania\",\"Oceania\",\"Oceania\",\"Oceania\",\"Oceania\",\"Oceania\",\"Oceania\",\"Oceania\",\"Oceania\",\"Oceania\",\"Oceania\",\"Oceania\",\"Oceania\",\"Oceania\",\"Oceania\",\"Oceania\",\"Oceania\",\"Oceania\",\"Oceania\",\"Oceania\",\"Oceania\",\"Oceania\",\"Oceania\",\"Oceania\",\"Oceania\",\"Oceania\",\"Oceania\",\"Oceania\",\"Oceania\",\"Oceania\",\"Oceania\",\"Oceania\",\"Oceania\",\"Oceania\",\"Oceania\",\"Oceania\",\"Oceania\",\"Oceania\",\"Oceania\",\"Oceania\",\"Oceania\",\"Oceania\",\"Oceania\",\"Oceania\",\"Oceania\",\"Oceania\",\"Oceania\",\"Oceania\",\"Oceania\",\"Oceania\",\"Oceania\",\"Oceania\",\"Oceania\",\"Oceania\",\"Oceania\",\"Oceania\",\"Oceania\",\"Oceania\",\"Oceania\",\"Oceania\",\"Oceania\",\"Oceania\",\"Oceania\",\"Oceania\",\"Oceania\",\"Oceania\",\"Oceania\",\"Oceania\",\"Oceania\",\"Oceania\",\"Oceania\",\"Oceania\",\"Oceania\",\"Oceania\",\"Oceania\",\"Oceania\",\"Oceania\",\"Oceania\",\"Oceania\",\"Oceania\",\"Oceania\",\"Oceania\",\"Oceania\",\"Oceania\",\"Oceania\",\"Oceania\",\"Oceania\",\"Oceania\",\"Oceania\",\"Oceania\",\"Oceania\",\"Oceania\",\"Oceania\",\"Europe\",\"Asia\",\"Asia\",\"Europe\",\"Europe\",\"Europe\",\"Asia\",\"Europe\",\"America\",\"Europe\",\"America\",\"Asia\",\"Asia\",\"Asia\",\"Europe\",\"Europe\",\"Africa\",\"Asia\",\"Asia\",\"Asia\",\"Africa\",\"Africa\",\"Africa\",\"Europe\",\"Europe\",\"Europe\",\"Europe\",\"Europe\",\"Europe\",\"Africa\",\"Asia\",\"Europe\",\"Europe\",\"Asia\",\"Europe\",\"Oceania\",\"Europe\",\"Europe\",\"Europe\",\"Asia\",\"Europe\",\"Europe\",\"Europe\",\"Europe\",\"Asia\",\"Asia\",\"America\",\"Africa\",\"Europe\",\"Europe\",\"Africa\",\"Africa\",\"Africa\",\"Africa\",\"Africa\",\"Europe\",\"Europe\",\"Europe\",\"Europe\",\"Asia\",\"Europe\",\"Asia\",\"Europe\",\"Asia\",\"Africa\",\"Europe\",\"Asia\",\"Africa\",\"Asia\",\"Europe\",\"Africa\",\"Africa\",\"Africa\",\"Asia\",\"Africa\",\"Asia\",\"Asia\",\"Asia\",\"Oceania\",\"Oceania\",\"Oceania\",\"Asia\",\"Europe\",\"Europe\",\"Europe\",\"America\",\"America\",\"America\",\"America\",\"America\",\"Oceania\",\"Oceania\",\"Oceania\",\"Oceania\",\"Oceania\",\"Oceania\",\"Oceania\",\"America\",\"Oceania\",\"Oceania\",\"America\",\"Oceania\",\"Oceania\",\"Oceania\",\"America\",\"Oceania\",\"Oceania\",\"America\",\"Oceania\",\"Oceania\",\"Oceania\",\"Oceania\",\"Oceania\",\"America\",\"Oceania\",\"Oceania\",\"Oceania\",\"Oceania\",\"Oceania\",\"Oceania\",\"Oceania\",\"Oceania\",\"Oceania\",\"Oceania\",\"Oceania\",\"Oceania\",\"Oceania\",\"Oceania\",\"America\",\"America\",\"Oceania\",\"America\",\"Oceania\",\"Oceania\",\"Oceania\",\"America\",\"Oceania\",\"Oceania\",\"America\",\"Oceania\",\"Oceania\",\"America\",\"Oceania\",\"Oceania\",\"Oceania\",\"Oceania\",\"America\",\"Oceania\",\"America\",\"Oceania\",\"Oceania\",\"Oceania\",\"Oceania\",\"America\",\"America\",\"America\",\"America\",\"Africa\",\"Europe\",\"Europe\",\"Asia\",\"Europe\",\"Africa\",\"Europe\",\"Europe\",\"Africa\",\"Africa\",\"Europe\",\"America\",\"Asia\",\"Asia\",\"Asia\",\"Asia\",\"Africa\",\"Africa\",\"Africa\",\"America\",\"Europe\",\"Europe\",\"Asia\",\"Asia\",\"Europe\",\"Asia\",\"Asia\",\"Europe\",\"Oceania\",\"Europe\",\"Asia\",\"Asia\",\"Africa\",\"Europe\",\"Africa\",\"Asia\",\"Asia\",\"Africa\",\"Africa\",\"Africa\",\"Africa\",\"Africa\",\"Asia\",\"Asia\",\"America\",\"Asia\",\"Africa\",\"Asia\",\"Europe\",\"Asia\",\"Oceania\",\"Asia\",\"Europe\",\"Asia\",\"Asia\",\"Europe\",\"America\",\"Europe\",\"Asia\",\"Asia\",\"Africa\",\"Europe\",\"Europe\",\"Oceania\",\"Oceania\",\"Oceania\",\"Oceania\",\"Oceania\",\"Oceania\",\"Oceania\",\"Oceania\",\"Oceania\",\"Oceania\",\"Oceania\",\"Oceania\",\"Oceania\",\"Oceania\",\"Oceania\",\"Oceania\",\"Oceania\",\"Oceania\",\"Oceania\",\"Oceania\",\"Oceania\",\"Oceania\",\"Oceania\",\"Oceania\",\"America\",\"America\",\"Oceania\",\"Oceania\",\"America\",\"Oceania\",\"Oceania\",\"Oceania\",\"Oceania\",\"Oceania\",\"Oceania\",\"America\",\"Oceania\",\"Oceania\",\"Oceania\",\"Oceania\",\"Oceania\",\"Oceania\",\"America\",\"Oceania\",\"Oceania\",\"Oceania\",\"Oceania\",\"Oceania\",\"Oceania\",\"Oceania\",\"Oceania\",\"America\",\"America\",\"Oceania\",\"Oceania\",\"Oceania\",\"Oceania\",\"Oceania\",\"Oceania\",\"Europe\",\"Africa\",\"Africa\",\"Oceania\",\"Asia\",\"Asia\",\"America\",\"Europe\",\"Asia\",\"Asia\",\"America\",\"Europe\",\"Europe\",\"America\",\"Europe\",\"Europe\",\"Asia\",\"Africa\",\"Africa\",\"Asia\"]},{\"label\":\"Beta.lactamase\",\"values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},{\"label\":\"azm_mic\",\"values\":[256.0,16.0,16.0,16.0,16.0,16.0,16.0,16.0,16.0,16.0,16.0,16.0,16.0,16.0,16.0,16.0,16.0,16.0,16.0,16.0,16.0,16.0,16.0,16.0,16.0,16.0,16.0,16.0,16.0,12.0,8.0,8.0,8.0,8.0,8.0,8.0,8.0,8.0,8.0,8.0,8.0,8.0,8.0,8.0,8.0,8.0,8.0,8.0,8.0,8.0,8.0,8.0,8.0,8.0,8.0,8.0,8.0,8.0,8.0,8.0,8.0,8.0,8.0,8.0,8.0,8.0,8.0,8.0,8.0,8.0,8.0,8.0,8.0,8.0,8.0,8.0,8.0,6.0,4.0,4.0,4.0,4.0,4.0,4.0,4.0,4.0,4.0,4.0,4.0,4.0,4.0,4.0,4.0,4.0,4.0,4.0,4.0,4.0,4.0,4.0,4.0,4.0,4.0,4.0,4.0,4.0,4.0,4.0,4.0,4.0,4.0,4.0,4.0,4.0,4.0,4.0,4.0,4.0,4.0,4.0,4.0,4.0,4.0,4.0,4.0,4.0,4.0,4.0,4.0,4.0,3.0,3.0,2.0,2.0,2.0,2.0,2.0,2.0,2.0,2.0,2.0,2.0,2.0,2.0,2.0,2.0,2.0,2.0,2.0,2.0,2.0,2.0,2.0,2.0,2.0,2.0,2.0,2.0,2.0,2.0,2.0,2.0,2.0,2.0,2.0,2.0,2.0,2.0,2.0,2.0,2.0,2.0,2.0,2.0,2.0,2.0,2.0,2.0,2.0,2.0,2.0,2.0,2.0,2.0,2.0,2.0,2.0,2.0,2.0,2.0,2.0,2.0,2.0,2.0,2.0,2.0,2.0,2.0,2.0,2.0,2.0,2.0,2.0,2.0,2.0,2.0,2.0,2.0,2.0,2.0,2.0,2.0,2.0,2.0,2.0,2.0,2.0,2.0,2.0,2.0,2.0,2.0,2.0,2.0,2.0,2.0,2.0,2.0,2.0,2.0,2.0,2.0,2.0,2.0,2.0,2.0,2.0,2.0,2.0,2.0,2.0,2.0,2.0,1.5,1.5,1.0,1.0,1.0,1.0,1.0,1.0,1.0,1.0,1.0,1.0,1.0,1.0,1.0,1.0,1.0,1.0,1.0,1.0,1.0,1.0,1.0,1.0,1.0,1.0,1.0,1.0,1.0,1.0,1.0,1.0,1.0,1.0,1.0,1.0,1.0,1.0,1.0,1.0,1.0,1.0,1.0,1.0,1.0,1.0,1.0,1.0,1.0,1.0,1.0,1.0,1.0,1.0,1.0,1.0,1.0,1.0,1.0,1.0,1.0,1.0,1.0,1.0,1.0,1.0,1.0,1.0,1.0,1.0,1.0,1.0,1.0,1.0,1.0,1.0,1.0,1.0,1.0,1.0,1.0,1.0,1.0,1.0,1.0,1.0,1.0,1.0,1.0,1.0,1.0,1.0,1.0,1.0,1.0,1.0,1.0,1.0,1.0,1.0,1.0,1.0,1.0,1.0,1.0,1.0,1.0,1.0,1.0,1.0,1.0,1.0,1.0,1.0,1.0,1.0,1.0,1.0,1.0,1.0,1.0,1.0,1.0,1.0,1.0,1.0,1.0,1.0,1.0,1.0,1.0,1.0,1.0,1.0,1.0,1.0,1.0,1.0,1.0,1.0,1.0,1.0,1.0,1.0,1.0,1.0,1.0,1.0,1.0,1.0,1.0,1.0,1.0,1.0,1.0,1.0,1.0,1.0,1.0,1.0,1.0,1.0,1.0,1.0,1.0,1.0,1.0,1.0,1.0,1.0,1.0,1.0,1.0,1.0,1.0,1.0,1.0,1.0,1.0,1.0,1.0,1.0,1.0,1.0,1.0,1.0,1.0,1.0,1.0,1.0,1.0,1.0,1.0,1.0,1.0,1.0,1.0,1.0,1.0,1.0,1.0,1.0,1.0,1.0,1.0,1.0,1.0,1.0,1.0,1.0,1.0,1.0,1.0,1.0,1.0,1.0,1.0,1.0,1.0,1.0,1.0,1.0,1.0,1.0,1.0,1.0,1.0,1.0,1.0,1.0,1.0,1.0,1.0,1.0,1.0,1.0,1.0,1.0,1.0,1.0,1.0,1.0,1.0,0.75,0.75,0.75,0.75,0.75,0.75,0.75,0.75,0.75,0.75,0.75,0.75,0.75,0.75,0.75,0.75,0.75,0.75,0.75,0.75,0.75,0.5,0.5,0.5,0.5,0.5,0.5,0.5,0.5,0.5,0.5,0.5,0.5,0.5,0.5,0.5,0.5,0.5,0.5,0.5,0.5,0.5,0.5,0.5,0.5,0.5,0.5,0.5,0.5,0.5,0.5,0.5,0.5,0.5,0.5,0.5,0.5,0.5,0.5,0.5,0.5,0.5,0.5,0.5,0.5,0.5,0.5,0.5,0.5,0.5,0.5,0.5,0.5,0.5,0.5,0.5,0.5,0.5,0.5,0.5,0.5,0.5,0.5,0.5,0.5,0.5,0.5,0.5,0.5,0.5,0.5,0.5,0.5,0.5,0.5,0.5,0.5,0.5,0.5,0.5,0.5,0.5,0.5,0.5,0.5,0.5,0.5,0.5,0.5,0.5,0.5,0.5,0.5,0.5,0.5,0.5,0.5,0.5,0.5,0.5,0.5,0.5,0.5,0.5,0.5,0.5,0.5,0.5,0.5,0.5,0.5,0.5,0.5,0.5,0.5,0.5,0.5,0.5,0.5,0.5,0.5,0.5,0.5,0.5,0.5,0.5,0.5,0.5,0.5,0.5,0.5,0.5,0.5,0.5,0.5,0.5,0.5,0.5,0.5,0.5,0.5,0.5,0.5,0.5,0.5,0.5,0.5,0.5,0.5,0.5,0.5,0.5,0.5,0.5,0.5,0.5,0.5,0.5,0.5,0.5,0.5,0.5,0.5,0.5,0.5,0.5,0.5,0.5,0.5,0.5,0.5,0.5,0.5,0.5,0.5,0.5,0.5,0.5,0.5,0.5,0.5,0.5,0.5,0.5,0.5,0.5,0.5,0.5,0.5,0.5,0.5,0.5,0.5,0.5,0.5,0.5,0.5,0.5,0.5,0.5,0.5,0.5,0.5,0.5,0.5,0.5,0.5,0.5,0.5,0.5,0.5,0.5,0.5,0.5,0.5,0.5,0.5,0.5,0.5,0.5,0.5,0.5,0.5,0.5,0.5,0.5,0.5,0.5,0.5,0.5,0.5,0.5,0.5,0.5,0.5,0.5,0.5,0.5,0.5,0.5,0.5,0.5,0.5,0.5,0.5,0.5,0.5,0.5,0.5,0.5,0.5,0.5,0.5,0.5,0.5,0.5,0.5,0.5,0.5,0.5,0.5,0.5,0.5,0.5,0.5,0.5,0.5,0.5,0.5,0.5,0.5,0.5,0.5,0.5,0.5,0.5,0.5,0.5,0.5,0.5,0.5,0.5,0.5,0.5,0.5,0.5,0.5,0.5,0.5,0.5,0.5,0.5,0.5,0.5,0.5,0.5,0.5,0.5,0.5,0.5,0.5,0.5,0.5,0.5,0.5,0.5,0.5,0.5,0.5,0.5,0.5,0.5,0.5,0.5,0.5,0.5,0.5,0.5,0.5,0.5,0.5,0.5,0.5,0.5,0.5,0.5,0.5,0.5,0.5,0.5,0.5,0.5,0.5,0.5,0.5,0.5,0.5,0.5,0.5,0.5,0.5,0.5,0.5,0.5,0.5,0.5,0.5,0.5,0.5,0.5,0.5,0.5,0.5,0.5,0.5,0.5,0.5,0.5,0.5,0.5,0.5,0.5,0.5,0.5,0.5,0.5,0.5,0.5,0.5,0.5,0.5,0.5,0.5,0.5,0.5,0.5,0.5,0.5,0.5,0.5,0.5,0.5,0.5,0.5,0.5,0.5,0.5,0.5,0.5,0.5,0.5,0.5,0.5,0.5,0.5,0.5,0.5,0.5,0.5,0.5,0.5,0.5,0.5,0.5,0.5,0.5,0.5,0.5,0.5,0.5,0.5,0.5,0.5,0.5,0.5,0.5,0.5,0.5,0.5,0.5,0.5,0.5,0.5,0.5,0.5,0.5,0.5,0.5,0.5,0.5,0.5,0.5,0.5,0.5,0.5,0.5,0.5,0.5,0.5,0.5,0.5,0.5,0.5,0.5,0.5,0.5,0.5,0.38,0.38,0.38,0.38,0.38,0.38,0.38,0.38,0.38,0.38,0.38,0.38,0.38,0.38,0.38,0.38,0.38,0.38,0.38,0.38,0.38,0.38,0.38,0.38,0.38,0.38,0.38,0.38,0.38,0.38,0.25,0.25,0.25,0.25,0.25,0.25,0.25,0.25,0.25,0.25,0.25,0.25,0.25,0.25,0.25,0.25,0.25,0.25,0.25,0.25,0.25,0.25,0.25,0.25,0.25,0.25,0.25,0.25,0.25,0.25,0.25,0.25,0.25,0.25,0.25,0.25,0.25,0.25,0.25,0.25,0.25,0.25,0.25,0.25,0.25,0.25,0.25,0.25,0.25,0.25,0.25,0.25,0.25,0.25,0.25,0.25,0.25,0.25,0.25,0.25,0.25,0.25,0.25,0.25,0.25,0.25,0.25,0.25,0.25,0.25,0.25,0.25,0.25,0.25,0.25,0.25,0.25,0.25,0.25,0.25,0.25,0.25,0.25,0.25,0.25,0.25,0.25,0.25,0.25,0.25,0.25,0.25,0.25,0.25,0.25,0.25,0.25,0.25,0.25,0.25,0.25,0.25,0.25,0.25,0.25,0.25,0.25,0.25,0.25,0.25,0.25,0.25,0.25,0.25,0.25,0.25,0.25,0.25,0.25,0.25,0.25,0.25,0.25,0.25,0.25,0.25,0.25,0.25,0.25,0.25,0.25,0.25,0.25,0.25,0.25,0.25,0.25,0.25,0.25,0.25,0.25,0.25,0.25,0.25,0.25,0.25,0.25,0.25,0.25,0.25,0.25,0.25,0.25,0.25,0.25,0.25,0.25,0.25,0.25,0.25,0.25,0.25,0.25,0.25,0.25,0.25,0.25,0.25,0.25,0.25,0.25,0.25,0.25,0.25,0.25,0.25,0.25,0.25,0.25,0.25,0.25,0.25,0.25,0.25,0.25,0.25,0.25,0.25,0.25,0.25,0.25,0.25,0.25,0.25,0.25,0.25,0.25,0.25,0.25,0.25,0.25,0.25,0.25,0.25,0.25,0.25,0.25,0.25,0.25,0.25,0.25,0.25,0.25,0.25,0.25,0.25,0.25,0.25,0.25,0.25,0.25,0.25,0.25,0.25,0.25,0.25,0.25,0.25,0.25,0.25,0.25,0.25,0.25,0.25,0.25,0.25,0.25,0.25,0.25,0.25,0.25,0.25,0.25,0.25,0.25,0.25,0.25,0.25,0.25,0.25,0.25,0.25,0.25,0.25,0.25,0.25,0.25,0.25,0.25,0.25,0.25,0.25,0.25,0.25,0.25,0.25,0.25,0.25,0.25,0.25,0.25,0.25,0.25,0.25,0.25,0.25,0.25,0.25,0.25,0.25,0.25,0.25,0.25,0.25,0.25,0.25,0.25,0.25,0.25,0.25,0.25,0.25,0.25,0.25,0.25,0.25,0.25,0.25,0.25,0.25,0.25,0.25,0.25,0.25,0.25,0.25,0.25,0.25,0.25,0.25,0.25,0.25,0.25,0.25,0.25,0.25,0.25,0.25,0.25,0.25,0.25,0.25,0.25,0.25,0.25,0.25,0.25,0.25,0.25,0.25,0.25,0.25,0.25,0.25,0.25,0.25,0.25,0.25,0.25,0.25,0.25,0.25,0.25,0.25,0.25,0.25,0.25,0.25,0.25,0.25,0.25,0.25,0.25,0.25,0.25,0.25,0.25,0.25,0.25,0.25,0.25,0.25,0.25,0.25,0.25,0.25,0.25,0.25,0.25,0.25,0.25,0.25,0.25,0.25,0.25,0.25,0.25,0.25,0.25,0.25,0.25,0.25,0.25,0.25,0.25,0.25,0.25,0.25,0.25,0.25,0.25,0.25,0.25,0.25,0.25,0.25,0.25,0.25,0.25,0.25,0.25,0.25,0.25,0.25,0.25,0.25,0.25,0.25,0.25,0.25,0.25,0.25,0.25,0.25,0.25,0.25,0.25,0.25,0.19,0.19,0.19,0.19,0.19,0.19,0.19,0.19,0.19,0.19,0.19,0.19,0.19,0.19,0.19,0.19,0.19,0.19,0.19,0.19,0.19,0.19,0.19,0.19,0.19,0.19,0.19,0.19,0.19,0.19,0.19,0.19,0.19,0.19,0.19,0.19,0.19,0.19,0.19,0.19,0.19,0.19,0.19,0.19,0.19,0.19,0.19,0.19,0.125,0.125,0.125,0.125,0.125,0.125,0.125,0.125,0.125,0.125,0.125,0.125,0.125,0.125,0.125,0.125,0.125,0.125,0.125,0.125,0.125,0.125,0.125,0.125,0.125,0.125,0.125,0.125,0.125,0.125,0.125,0.125,0.125,0.125,0.125,0.125,0.125,0.125,0.125,0.125,0.125,0.125,0.125,0.125,0.125,0.125,0.125,0.125,0.125,0.125,0.125,0.125,0.125,0.125,0.125,0.125,0.125,0.125,0.125,0.125,0.125,0.125,0.125,0.125,0.125,0.125,0.125,0.125,0.125,0.125,0.125,0.125,0.125,0.125,0.125,0.125,0.125,0.125,0.125,0.125,0.125,0.125,0.125,0.125,0.12,0.12,0.12,0.12,0.12,0.12,0.12,0.12,0.12,0.12,0.12,0.12,0.12,0.12,0.12,0.12,0.12,0.12,0.12,0.12,0.12,0.12,0.12,0.12,0.12,0.12,0.12,0.12,0.12,0.12,0.12,0.12,0.12,0.12,0.12,0.12,0.12,0.12,0.12,0.12,0.12,0.12,0.12,0.12,0.12,0.12,0.12,0.12,0.12,0.12,0.12,0.12,0.12,0.12,0.12,0.12,0.12,0.12,0.12,0.12,0.12,0.12,0.12,0.12,0.12,0.12,0.12,0.12,0.12,0.12,0.12,0.12,0.12,0.12,0.12,0.12,0.12,0.12,0.12,0.12,0.12,0.12,0.12,0.12,0.12,0.12,0.12,0.12,0.12,0.12,0.12,0.12,0.12,0.12,0.12,0.094,0.094,0.094,0.094,0.094,0.094,0.094,0.094,0.094,0.094,0.094,0.094,0.094,0.094,0.094,0.094,0.094,0.094,0.094,0.094,0.094,0.094,0.094,0.094,0.094,0.094,0.094,0.094,0.094,0.094,0.094,0.094,0.094,0.094,0.094,0.094,0.094,0.094,0.094,0.094,0.094,0.094,0.094,0.094,0.064,0.064,0.064,0.064,0.064,0.064,0.064,0.064,0.064,0.064,0.064,0.064,0.064,0.064,0.064,0.064,0.064,0.064,0.064,0.064,0.064,0.064,0.064,0.064,0.064,0.064,0.064,0.064,0.064,0.064,0.064,0.064,0.064,0.064,0.064,0.064,0.064,0.064,0.064,0.064,0.064,0.064,0.063,0.063,0.063,0.063,0.06,0.06,0.06,0.06,0.06,0.06,0.06,0.06,0.06,0.06,0.06,0.06,0.06,0.06,0.06,0.06,0.06,0.06,0.06,0.06,0.06,0.06,0.06,0.06,0.06,0.06,0.06,0.06,0.06,0.06,0.06,0.06,0.06,0.06,0.06,0.06,0.06,0.06,0.06,0.06,0.06,0.06,0.06,0.06,0.06,0.06,0.06,0.06,0.06,0.06,0.06,0.06,0.06,0.06,0.06,0.06,0.06,0.06,0.06,0.06,0.06,0.06,0.06,0.06,0.06,0.06,0.06,0.047,0.047,0.047,0.047,0.047,0.047,0.047,0.047,0.047,0.047,0.047,0.047,0.047,0.047,0.047,0.047,0.047,0.047,0.047,0.047,0.047,0.047,0.047,0.047,0.047,0.047,0.047,0.047,0.047,0.047,0.047,0.047,0.047,0.032,0.032,0.032,0.032,0.032,0.032,0.032,0.032,0.032,0.032,0.032,0.032,0.032,0.032,0.032,0.032,0.032,0.032,0.032,0.032,0.032,0.032,0.032,0.032,0.032,0.032,0.032,0.032,0.032,0.032,0.03,0.03,0.03,0.03,0.03,0.03,0.03,0.03,0.03,0.03,0.03,0.03,0.03,0.03,0.03,0.03,0.03,0.03,0.03,0.03,0.03,0.03,0.03,0.03,0.03,0.03,0.03,0.03,0.03,0.03,0.03,0.03,0.03,0.03,0.03,0.03,0.03,0.03,0.03,0.03,0.03,0.03,0.03,0.03,0.03,0.03,0.03,0.03,0.03,0.03,0.03,0.03,0.03,0.03,0.03,0.03,0.03,0.03,0.03,0.023,0.023,0.023,0.023,0.023,0.023,0.023,0.023,0.023,0.016,0.016,0.016,0.016,0.016,0.016,0.016,0.016,0.016,0.016,0.016]},{\"label\":\"Azithromycin\",\"values\":[\"256\",\"16\",\"16\",\"16\",\"16\",\"16\",\"16\",\"16\",\"16\",\"16\",\"16\",\"16\",\"16\",\"16\",\"16\",\"16\",\"16\",\"16\",\"16\",\"16\",\"16\",\"16\",\"16\",\"16\",\"16\",\"16\",\"16\",\"16\",\"16\",\"12\",\"8\",\"8\",\"8\",\"8\",\"8\",\"8\",\"8\",\"8\",\"8\",\"8\",\"8\",\"8\",\"8\",\"8\",\"8\",\"8\",\"8\",\"8\",\"8\",\"8\",\"8\",\"8\",\"8\",\"8\",\"8\",\"8\",\"8\",\"8\",\"8\",\"8\",\"8\",\"8\",\"8\",\"8\",\"8\",\"8\",\"8\",\"8\",\"8\",\"8\",\"8\",\"8\",\"8\",\"8\",\"8\",\"8\",\"8\",\"6\",\"4\",\"4\",\"4\",\"4\",\"4\",\"4\",\"4\",\"4\",\"4\",\"4\",\"4\",\"4\",\"4\",\"4\",\"4\",\"4\",\"4\",\"4\",\"4\",\"4\",\"4\",\"4\",\"4\",\"4\",\"4\",\"4\",\"4\",\"4\",\"4\",\"4\",\"4\",\"4\",\"4\",\"4\",\"4\",\"4\",\"4\",\"4\",\"4\",\"4\",\"4\",\"4\",\"4\",\"4\",\"4\",\"4\",\"4\",\"4\",\"4\",\"4\",\"4\",\"4\",\"3\",\"3\",\"2\",\"2\",\"2\",\"2\",\"2\",\"2\",\"2\",\"2\",\"2\",\"2\",\"2\",\"2\",\"2\",\"2\",\"2\",\"2\",\"2\",\"2\",\"2\",\"2\",\"2\",\"2\",\"2\",\"2\",\"2\",\"2\",\"2\",\"2\",\"2\",\"2\",\"2\",\"2\",\"2\",\"2\",\"2\",\"2\",\"2\",\"2\",\"2\",\"2\",\"2\",\"2\",\"2\",\"2\",\"2\",\"2\",\"2\",\"2\",\"2\",\"2\",\"2\",\"2\",\"2\",\"2\",\"2\",\"2\",\"2\",\"2\",\"2\",\"2\",\"2\",\"2\",\"2\",\"2\",\"2\",\"2\",\"2\",\"2\",\"2\",\"2\",\"2\",\"2\",\"2\",\"2\",\"2\",\"2\",\"2\",\"2\",\"2\",\"2\",\"2\",\"2\",\"2\",\"2\",\"2\",\"2\",\"2\",\"2\",\"2\",\"2\",\"2\",\"2\",\"2\",\"2\",\"2\",\"2\",\"2\",\"2\",\"2\",\"2\",\"2\",\"2\",\"2\",\"2\",\"2\",\"2\",\"2\",\"2\",\"2\",\"2\",\"2\",\"1.5\",\"1.5\",\"1\",\"1\",\"1\",\"1\",\"1\",\"1\",\"1\",\"1\",\"1\",\"1\",\"1\",\"1\",\"1\",\"1\",\"1\",\"1\",\"1\",\"1\",\"1\",\"1\",\"1\",\"1\",\"1\",\"1\",\"1\",\"1\",\"1\",\"1\",\"1\",\"1\",\"1\",\"1\",\"1\",\"1\",\"1\",\"1\",\"1\",\"1\",\"1\",\"1\",\"1\",\"1\",\"1\",\"1\",\"1\",\"1\",\"1\",\"1\",\"1\",\"1\",\"1\",\"1\",\"1\",\"1\",\"1\",\"1\",\"1\",\"1\",\"1\",\"1\",\"1\",\"1\",\"1\",\"1\",\"1\",\"1\",\"1\",\"1\",\"1\",\"1\",\"1\",\"1\",\"1\",\"1\",\"1\",\"1\",\"1\",\"1\",\"1\",\"1\",\"1\",\"1\",\"1\",\"1\",\"1\",\"1\",\"1\",\"1\",\"1\",\"1\",\"1\",\"1\",\"1\",\"1\",\"1\",\"1\",\"1\",\"1\",\"1\",\"1\",\"1\",\"1\",\"1\",\"1\",\"1\",\"1\",\"1\",\"1\",\"1\",\"1\",\"1\",\"1\",\"1\",\"1\",\"1\",\"1\",\"1\",\"1\",\"1\",\"1\",\"1\",\"1\",\"1\",\"1\",\"1\",\"1\",\"1\",\"1\",\"1\",\"1\",\"1\",\"1\",\"1\",\"1\",\"1\",\"1\",\"1\",\"1\",\"1\",\"1\",\"1\",\"1\",\"1\",\"1\",\"1\",\"1\",\"1\",\"1\",\"1\",\"1\",\"1\",\"1\",\"1\",\"1\",\"1\",\"1\",\"1\",\"1\",\"1\",\"1\",\"1\",\"1\",\"1\",\"1\",\"1\",\"1\",\"1\",\"1\",\"1\",\"1\",\"1\",\"1\",\"1\",\"1\",\"1\",\"1\",\"1\",\"1\",\"1\",\"1\",\"1\",\"1\",\"1\",\"1\",\"1\",\"1\",\"1\",\"1\",\"1\",\"1\",\"1\",\"1\",\"1\",\"1\",\"1\",\"1\",\"1\",\"1\",\"1\",\"1\",\"1\",\"1\",\"1\",\"1\",\"1\",\"1\",\"1\",\"1\",\"1\",\"1\",\"1\",\"1\",\"1\",\"1\",\"1\",\"1\",\"1\",\"1\",\"1\",\"1\",\"1\",\"1\",\"1\",\"1\",\"1\",\"1\",\"1\",\"1\",\"1\",\"1\",\"1\",\"1\",\"1\",\"1\",\"1\",\"1\",\"1\",\"1\",\"1\",\"1\",\"1\",\"0.75\",\"0.75\",\"0.75\",\"0.75\",\"0.75\",\"0.75\",\"0.75\",\"0.75\",\"0.75\",\"0.75\",\"0.75\",\"0.75\",\"0.75\",\"0.75\",\"0.75\",\"0.75\",\"0.75\",\"0.75\",\"0.75\",\"0.75\",\"0.75\",\"0.5\",\"0.5\",\"0.5\",\"0.5\",\"0.5\",\"0.5\",\"0.5\",\"0.5\",\"0.5\",\"0.5\",\"0.5\",\"0.5\",\"0.5\",\"0.5\",\"0.5\",\"0.5\",\"0.5\",\"0.5\",\"0.5\",\"0.5\",\"0.5\",\"0.5\",\"0.5\",\"0.5\",\"0.5\",\"0.5\",\"0.5\",\"0.5\",\"0.5\",\"0.5\",\"0.5\",\"0.5\",\"0.5\",\"0.5\",\"0.5\",\"0.5\",\"0.5\",\"0.5\",\"0.5\",\"0.5\",\"0.5\",\"0.5\",\"0.5\",\"0.5\",\"0.5\",\"0.5\",\"0.5\",\"0.5\",\"0.5\",\"0.5\",\"0.5\",\"0.5\",\"0.5\",\"0.5\",\"0.5\",\"0.5\",\"0.5\",\"0.5\",\"0.5\",\"0.5\",\"0.5\",\"0.5\",\"0.5\",\"0.5\",\"0.5\",\"0.5\",\"0.5\",\"0.5\",\"0.5\",\"0.5\",\"0.5\",\"0.5\",\"0.5\",\"0.5\",\"0.5\",\"0.5\",\"0.5\",\"0.5\",\"0.5\",\"0.5\",\"0.5\",\"0.5\",\"0.5\",\"0.5\",\"0.5\",\"0.5\",\"0.5\",\"0.5\",\"0.5\",\"0.5\",\"0.5\",\"0.5\",\"0.5\",\"0.5\",\"0.5\",\"0.5\",\"0.5\",\"0.5\",\"0.5\",\"0.5\",\"0.5\",\"0.5\",\"0.5\",\"0.5\",\"0.5\",\"0.5\",\"0.5\",\"0.5\",\"0.5\",\"0.5\",\"0.5\",\"0.5\",\"0.5\",\"0.5\",\"0.5\",\"0.5\",\"0.5\",\"0.5\",\"0.5\",\"0.5\",\"0.5\",\"0.5\",\"0.5\",\"0.5\",\"0.5\",\"0.5\",\"0.5\",\"0.5\",\"0.5\",\"0.5\",\"0.5\",\"0.5\",\"0.5\",\"0.5\",\"0.5\",\"0.5\",\"0.5\",\"0.5\",\"0.5\",\"0.5\",\"0.5\",\"0.5\",\"0.5\",\"0.5\",\"0.5\",\"0.5\",\"0.5\",\"0.5\",\"0.5\",\"0.5\",\"0.5\",\"0.5\",\"0.5\",\"0.5\",\"0.5\",\"0.5\",\"0.5\",\"0.5\",\"0.5\",\"0.5\",\"0.5\",\"0.5\",\"0.5\",\"0.5\",\"0.5\",\"0.5\",\"0.5\",\"0.5\",\"0.5\",\"0.5\",\"0.5\",\"0.5\",\"0.5\",\"0.5\",\"0.5\",\"0.5\",\"0.5\",\"0.5\",\"0.5\",\"0.5\",\"0.5\",\"0.5\",\"0.5\",\"0.5\",\"0.5\",\"0.5\",\"0.5\",\"0.5\",\"0.5\",\"0.5\",\"0.5\",\"0.5\",\"0.5\",\"0.5\",\"0.5\",\"0.5\",\"0.5\",\"0.5\",\"0.5\",\"0.5\",\"0.5\",\"0.5\",\"0.5\",\"0.5\",\"0.5\",\"0.5\",\"0.5\",\"0.5\",\"0.5\",\"0.5\",\"0.5\",\"0.5\",\"0.5\",\"0.5\",\"0.5\",\"0.5\",\"0.5\",\"0.5\",\"0.5\",\"0.5\",\"0.5\",\"0.5\",\"0.5\",\"0.5\",\"0.5\",\"0.5\",\"0.5\",\"0.5\",\"0.5\",\"0.5\",\"0.5\",\"0.5\",\"0.5\",\"0.5\",\"0.5\",\"0.5\",\"0.5\",\"0.5\",\"0.5\",\"0.5\",\"0.5\",\"0.5\",\"0.5\",\"0.5\",\"0.5\",\"0.5\",\"0.5\",\"0.5\",\"0.5\",\"0.5\",\"0.5\",\"0.5\",\"0.5\",\"0.5\",\"0.5\",\"0.5\",\"0.5\",\"0.5\",\"0.5\",\"0.5\",\"0.5\",\"0.5\",\"0.5\",\"0.5\",\"0.5\",\"0.5\",\"0.5\",\"0.5\",\"0.5\",\"0.5\",\"0.5\",\"0.5\",\"0.5\",\"0.5\",\"0.5\",\"0.5\",\"0.5\",\"0.5\",\"0.5\",\"0.5\",\"0.5\",\"0.5\",\"0.5\",\"0.5\",\"0.5\",\"0.5\",\"0.5\",\"0.5\",\"0.5\",\"0.5\",\"0.5\",\"0.5\",\"0.5\",\"0.5\",\"0.5\",\"0.5\",\"0.5\",\"0.5\",\"0.5\",\"0.5\",\"0.5\",\"0.5\",\"0.5\",\"0.5\",\"0.5\",\"0.5\",\"0.5\",\"0.5\",\"0.5\",\"0.5\",\"0.5\",\"0.5\",\"0.5\",\"0.5\",\"0.5\",\"0.5\",\"0.5\",\"0.5\",\"0.5\",\"0.5\",\"0.5\",\"0.5\",\"0.5\",\"0.5\",\"0.5\",\"0.5\",\"0.5\",\"0.5\",\"0.5\",\"0.5\",\"0.5\",\"0.5\",\"0.5\",\"0.5\",\"0.5\",\"0.5\",\"0.5\",\"0.5\",\"0.5\",\"0.5\",\"0.5\",\"0.5\",\"0.5\",\"0.5\",\"0.5\",\"0.5\",\"0.5\",\"0.5\",\"0.5\",\"0.5\",\"0.5\",\"0.5\",\"0.5\",\"0.5\",\"0.5\",\"0.5\",\"0.5\",\"0.5\",\"0.5\",\"0.5\",\"0.5\",\"0.5\",\"0.5\",\"0.5\",\"0.5\",\"0.5\",\"0.5\",\"0.5\",\"0.5\",\"0.5\",\"0.5\",\"0.5\",\"0.5\",\"0.5\",\"0.5\",\"0.5\",\"0.5\",\"0.5\",\"0.5\",\"0.5\",\"0.5\",\"0.5\",\"0.5\",\"0.5\",\"0.5\",\"0.5\",\"0.5\",\"0.5\",\"0.5\",\"0.5\",\"0.5\",\"0.5\",\"0.5\",\"0.5\",\"0.5\",\"0.5\",\"0.5\",\"0.5\",\"0.5\",\"0.5\",\"0.5\",\"0.5\",\"0.5\",\"0.5\",\"0.5\",\"0.5\",\"0.5\",\"0.5\",\"0.5\",\"0.5\",\"0.5\",\"0.5\",\"0.5\",\"0.5\",\"0.5\",\"0.5\",\"0.5\",\"0.5\",\"0.5\",\"0.5\",\"0.5\",\"0.5\",\"0.5\",\"0.5\",\"0.5\",\"0.5\",\"0.5\",\"0.5\",\"0.5\",\"0.5\",\"0.5\",\"0.5\",\"0.5\",\"0.5\",\"0.5\",\"0.5\",\"0.5\",\"0.5\",\"0.5\",\"0.5\",\"0.5\",\"0.5\",\"0.5\",\"0.5\",\"0.5\",\"0.5\",\"0.38\",\"0.38\",\"0.38\",\"0.38\",\"0.38\",\"0.38\",\"0.38\",\"0.38\",\"0.38\",\"0.38\",\"0.38\",\"0.38\",\"0.38\",\"0.38\",\"0.38\",\"0.38\",\"0.38\",\"0.38\",\"0.38\",\"0.38\",\"0.38\",\"0.38\",\"0.38\",\"0.38\",\"0.38\",\"0.38\",\"0.38\",\"0.38\",\"0.38\",\"0.38\",\"0.25\",\"0.25\",\"0.25\",\"0.25\",\"0.25\",\"0.25\",\"0.25\",\"0.25\",\"0.25\",\"0.25\",\"0.25\",\"0.25\",\"0.25\",\"0.25\",\"0.25\",\"0.25\",\"0.25\",\"0.25\",\"0.25\",\"0.25\",\"0.25\",\"0.25\",\"0.25\",\"0.25\",\"0.25\",\"0.25\",\"0.25\",\"0.25\",\"0.25\",\"0.25\",\"0.25\",\"0.25\",\"0.25\",\"0.25\",\"0.25\",\"0.25\",\"0.25\",\"0.25\",\"0.25\",\"0.25\",\"0.25\",\"0.25\",\"0.25\",\"0.25\",\"0.25\",\"0.25\",\"0.25\",\"0.25\",\"0.25\",\"0.25\",\"0.25\",\"0.25\",\"0.25\",\"0.25\",\"0.25\",\"0.25\",\"0.25\",\"0.25\",\"0.25\",\"0.25\",\"0.25\",\"0.25\",\"0.25\",\"0.25\",\"0.25\",\"0.25\",\"0.25\",\"0.25\",\"0.25\",\"0.25\",\"0.25\",\"0.25\",\"0.25\",\"0.25\",\"0.25\",\"0.25\",\"0.25\",\"0.25\",\"0.25\",\"0.25\",\"0.25\",\"0.25\",\"0.25\",\"0.25\",\"0.25\",\"0.25\",\"0.25\",\"0.25\",\"0.25\",\"0.25\",\"0.25\",\"0.25\",\"0.25\",\"0.25\",\"0.25\",\"0.25\",\"0.25\",\"0.25\",\"0.25\",\"0.25\",\"0.25\",\"0.25\",\"0.25\",\"0.25\",\"0.25\",\"0.25\",\"0.25\",\"0.25\",\"0.25\",\"0.25\",\"0.25\",\"0.25\",\"0.25\",\"0.25\",\"0.25\",\"0.25\",\"0.25\",\"0.25\",\"0.25\",\"0.25\",\"0.25\",\"0.25\",\"0.25\",\"0.25\",\"0.25\",\"0.25\",\"0.25\",\"0.25\",\"0.25\",\"0.25\",\"0.25\",\"0.25\",\"0.25\",\"0.25\",\"0.25\",\"0.25\",\"0.25\",\"0.25\",\"0.25\",\"0.25\",\"0.25\",\"0.25\",\"0.25\",\"0.25\",\"0.25\",\"0.25\",\"0.25\",\"0.25\",\"0.25\",\"0.25\",\"0.25\",\"0.25\",\"0.25\",\"0.25\",\"0.25\",\"0.25\",\"0.25\",\"0.25\",\"0.25\",\"0.25\",\"0.25\",\"0.25\",\"0.25\",\"0.25\",\"0.25\",\"0.25\",\"0.25\",\"0.25\",\"0.25\",\"0.25\",\"0.25\",\"0.25\",\"0.25\",\"0.25\",\"0.25\",\"0.25\",\"0.25\",\"0.25\",\"0.25\",\"0.25\",\"0.25\",\"0.25\",\"0.25\",\"0.25\",\"0.25\",\"0.25\",\"0.25\",\"0.25\",\"0.25\",\"0.25\",\"0.25\",\"0.25\",\"0.25\",\"0.25\",\"0.25\",\"0.25\",\"0.25\",\"0.25\",\"0.25\",\"0.25\",\"0.25\",\"0.25\",\"0.25\",\"0.25\",\"0.25\",\"0.25\",\"0.25\",\"0.25\",\"0.25\",\"0.25\",\"0.25\",\"0.25\",\"0.25\",\"0.25\",\"0.25\",\"0.25\",\"0.25\",\"0.25\",\"0.25\",\"0.25\",\"0.25\",\"0.25\",\"0.25\",\"0.25\",\"0.25\",\"0.25\",\"0.25\",\"0.25\",\"0.25\",\"0.25\",\"0.25\",\"0.25\",\"0.25\",\"0.25\",\"0.25\",\"0.25\",\"0.25\",\"0.25\",\"0.25\",\"0.25\",\"0.25\",\"0.25\",\"0.25\",\"0.25\",\"0.25\",\"0.25\",\"0.25\",\"0.25\",\"0.25\",\"0.25\",\"0.25\",\"0.25\",\"0.25\",\"0.25\",\"0.25\",\"0.25\",\"0.25\",\"0.25\",\"0.25\",\"0.25\",\"0.25\",\"0.25\",\"0.25\",\"0.25\",\"0.25\",\"0.25\",\"0.25\",\"0.25\",\"0.25\",\"0.25\",\"0.25\",\"0.25\",\"0.25\",\"0.25\",\"0.25\",\"0.25\",\"0.25\",\"0.25\",\"0.25\",\"0.25\",\"0.25\",\"0.25\",\"0.25\",\"0.25\",\"0.25\",\"0.25\",\"0.25\",\"0.25\",\"0.25\",\"0.25\",\"0.25\",\"0.25\",\"0.25\",\"0.25\",\"0.25\",\"0.25\",\"0.25\",\"0.25\",\"0.25\",\"0.25\",\"0.25\",\"0.25\",\"0.25\",\"0.25\",\"0.25\",\"0.25\",\"0.25\",\"0.25\",\"0.25\",\"0.25\",\"0.25\",\"0.25\",\"0.25\",\"0.25\",\"0.25\",\"0.25\",\"0.25\",\"0.25\",\"0.25\",\"0.25\",\"0.25\",\"0.25\",\"0.25\",\"0.25\",\"0.25\",\"0.25\",\"0.25\",\"0.25\",\"0.25\",\"0.25\",\"0.25\",\"0.25\",\"0.25\",\"0.25\",\"0.25\",\"0.25\",\"0.25\",\"0.25\",\"0.25\",\"0.25\",\"0.25\",\"0.25\",\"0.25\",\"0.25\",\"0.25\",\"0.25\",\"0.25\",\"0.25\",\"0.25\",\"0.25\",\"0.25\",\"0.25\",\"0.25\",\"0.25\",\"0.25\",\"0.25\",\"0.25\",\"0.25\",\"0.25\",\"0.25\",\"0.25\",\"0.25\",\"0.25\",\"0.25\",\"0.25\",\"0.25\",\"0.25\",\"0.25\",\"0.25\",\"0.25\",\"0.25\",\"0.25\",\"0.25\",\"0.25\",\"0.25\",\"0.25\",\"0.25\",\"0.25\",\"0.25\",\"0.25\",\"0.25\",\"0.25\",\"0.25\",\"0.25\",\"0.25\",\"0.25\",\"0.25\",\"0.25\",\"0.25\",\"0.25\",\"0.25\",\"0.25\",\"0.25\",\"0.25\",\"0.25\",\"0.25\",\"0.25\",\"0.25\",\"0.25\",\"0.25\",\"0.25\",\"0.25\",\"0.25\",\"0.25\",\"0.25\",\"0.25\",\"0.25\",\"0.25\",\"0.25\",\"0.25\",\"0.25\",\"0.25\",\"0.25\",\"0.25\",\"0.25\",\"0.25\",\"0.25\",\"0.25\",\"0.19\",\"0.19\",\"0.19\",\"0.19\",\"0.19\",\"0.19\",\"0.19\",\"0.19\",\"0.19\",\"0.19\",\"0.19\",\"0.19\",\"0.19\",\"0.19\",\"0.19\",\"0.19\",\"0.19\",\"0.19\",\"0.19\",\"0.19\",\"0.19\",\"0.19\",\"0.19\",\"0.19\",\"0.19\",\"0.19\",\"0.19\",\"0.19\",\"0.19\",\"0.19\",\"0.19\",\"0.19\",\"0.19\",\"0.19\",\"0.19\",\"0.19\",\"0.19\",\"0.19\",\"0.19\",\"0.19\",\"0.19\",\"0.19\",\"0.19\",\"0.19\",\"0.19\",\"0.19\",\"0.19\",\"0.19\",\"0.125\",\"0.125\",\"0.125\",\"0.125\",\"0.125\",\"0.125\",\"0.125\",\"0.125\",\"0.125\",\"0.125\",\"0.125\",\"0.125\",\"0.125\",\"0.125\",\"0.125\",\"0.125\",\"0.125\",\"0.125\",\"0.125\",\"0.125\",\"0.125\",\"0.125\",\"0.125\",\"0.125\",\"0.125\",\"0.125\",\"0.125\",\"0.125\",\"0.125\",\"0.125\",\"0.125\",\"0.125\",\"0.125\",\"0.125\",\"0.125\",\"0.125\",\"0.125\",\"0.125\",\"0.125\",\"0.125\",\"0.125\",\"0.125\",\"0.125\",\"0.125\",\"0.125\",\"0.125\",\"0.125\",\"0.125\",\"0.125\",\"0.125\",\"0.125\",\"0.125\",\"0.125\",\"0.125\",\"0.125\",\"0.125\",\"0.125\",\"0.125\",\"0.125\",\"0.125\",\"0.125\",\"0.125\",\"0.125\",\"0.125\",\"0.125\",\"0.125\",\"0.125\",\"0.125\",\"0.125\",\"0.125\",\"0.125\",\"0.125\",\"0.125\",\"0.125\",\"0.125\",\"0.125\",\"0.125\",\"0.125\",\"0.125\",\"0.125\",\"0.125\",\"0.125\",\"0.125\",\"0.125\",\"0.12\",\"0.12\",\"0.12\",\"0.12\",\"0.12\",\"0.12\",\"0.12\",\"0.12\",\"0.12\",\"0.12\",\"0.12\",\"0.12\",\"0.12\",\"0.12\",\"0.12\",\"0.12\",\"0.12\",\"0.12\",\"0.12\",\"0.12\",\"0.12\",\"0.12\",\"0.12\",\"0.12\",\"0.12\",\"0.12\",\"0.12\",\"0.12\",\"0.12\",\"0.12\",\"0.12\",\"0.12\",\"0.12\",\"0.12\",\"0.12\",\"0.12\",\"0.12\",\"0.12\",\"0.12\",\"0.12\",\"0.12\",\"0.12\",\"0.12\",\"0.12\",\"0.12\",\"0.12\",\"0.12\",\"0.12\",\"0.12\",\"0.12\",\"0.12\",\"0.12\",\"0.12\",\"0.12\",\"0.12\",\"0.12\",\"0.12\",\"0.12\",\"0.12\",\"0.12\",\"0.12\",\"0.12\",\"0.12\",\"0.12\",\"0.12\",\"0.12\",\"0.12\",\"0.12\",\"0.12\",\"0.12\",\"0.12\",\"0.12\",\"0.12\",\"0.12\",\"0.12\",\"0.12\",\"0.12\",\"0.12\",\"0.12\",\"0.12\",\"0.12\",\"0.12\",\"0.12\",\"0.12\",\"0.12\",\"0.12\",\"0.12\",\"0.12\",\"0.12\",\"0.12\",\"0.12\",\"0.12\",\"0.12\",\"0.12\",\"0.12\",\"0.094\",\"0.094\",\"0.094\",\"0.094\",\"0.094\",\"0.094\",\"0.094\",\"0.094\",\"0.094\",\"0.094\",\"0.094\",\"0.094\",\"0.094\",\"0.094\",\"0.094\",\"0.094\",\"0.094\",\"0.094\",\"0.094\",\"0.094\",\"0.094\",\"0.094\",\"0.094\",\"0.094\",\"0.094\",\"0.094\",\"0.094\",\"0.094\",\"0.094\",\"0.094\",\"0.094\",\"0.094\",\"0.094\",\"0.094\",\"0.094\",\"0.094\",\"0.094\",\"0.094\",\"0.094\",\"0.094\",\"0.094\",\"0.094\",\"0.094\",\"0.094\",\"0.064\",\"0.064\",\"0.064\",\"0.064\",\"0.064\",\"0.064\",\"0.064\",\"0.064\",\"0.064\",\"0.064\",\"0.064\",\"0.064\",\"0.064\",\"0.064\",\"0.064\",\"0.064\",\"0.064\",\"0.064\",\"0.064\",\"0.064\",\"0.064\",\"0.064\",\"0.064\",\"0.064\",\"0.064\",\"0.064\",\"0.064\",\"0.064\",\"0.064\",\"0.064\",\"0.064\",\"0.064\",\"0.064\",\"0.064\",\"0.064\",\"0.064\",\"0.064\",\"0.064\",\"0.064\",\"0.064\",\"0.064\",\"0.064\",\"0.063\",\"0.063\",\"0.063\",\"0.063\",\"0.06\",\"0.06\",\"0.06\",\"0.06\",\"0.06\",\"0.06\",\"0.06\",\"0.06\",\"0.06\",\"0.06\",\"0.06\",\"0.06\",\"0.06\",\"0.06\",\"0.06\",\"0.06\",\"0.06\",\"0.06\",\"0.06\",\"0.06\",\"0.06\",\"0.06\",\"0.06\",\"0.06\",\"0.06\",\"0.06\",\"0.06\",\"0.06\",\"0.06\",\"0.06\",\"0.06\",\"0.06\",\"0.06\",\"0.06\",\"0.06\",\"0.06\",\"0.06\",\"0.06\",\"0.06\",\"0.06\",\"0.06\",\"0.06\",\"0.06\",\"0.06\",\"0.06\",\"0.06\",\"0.06\",\"0.06\",\"0.06\",\"0.06\",\"0.06\",\"0.06\",\"0.06\",\"0.06\",\"0.06\",\"0.06\",\"0.06\",\"0.06\",\"0.06\",\"0.06\",\"0.06\",\"0.06\",\"0.06\",\"0.06\",\"0.06\",\"0.06\",\"0.06\",\"0.047\",\"0.047\",\"0.047\",\"0.047\",\"0.047\",\"0.047\",\"0.047\",\"0.047\",\"0.047\",\"0.047\",\"0.047\",\"0.047\",\"0.047\",\"0.047\",\"0.047\",\"0.047\",\"0.047\",\"0.047\",\"0.047\",\"0.047\",\"0.047\",\"0.047\",\"0.047\",\"0.047\",\"0.047\",\"0.047\",\"0.047\",\"0.047\",\"0.047\",\"0.047\",\"0.047\",\"0.047\",\"0.047\",\"0.032\",\"0.032\",\"0.032\",\"0.032\",\"0.032\",\"0.032\",\"0.032\",\"0.032\",\"0.032\",\"0.032\",\"0.032\",\"0.032\",\"0.032\",\"0.032\",\"0.032\",\"0.032\",\"0.032\",\"0.032\",\"0.032\",\"0.032\",\"0.032\",\"0.032\",\"0.032\",\"0.032\",\"0.032\",\"0.032\",\"0.032\",\"0.032\",\"0.032\",\"0.032\",\"0.03\",\"0.03\",\"0.03\",\"0.03\",\"0.03\",\"0.03\",\"0.03\",\"0.03\",\"0.03\",\"0.03\",\"0.03\",\"0.03\",\"0.03\",\"0.03\",\"0.03\",\"0.03\",\"0.03\",\"0.03\",\"0.03\",\"0.03\",\"0.03\",\"0.03\",\"0.03\",\"0.03\",\"0.03\",\"0.03\",\"0.03\",\"0.03\",\"0.03\",\"0.03\",\"0.03\",\"0.03\",\"0.03\",\"0.03\",\"0.03\",\"0.03\",\"0.03\",\"0.03\",\"0.03\",\"0.03\",\"0.03\",\"0.03\",\"0.03\",\"0.03\",\"0.03\",\"0.03\",\"0.03\",\"0.03\",\"0.03\",\"0.03\",\"0.03\",\"0.03\",\"0.03\",\"0.03\",\"0.03\",\"0.03\",\"0.03\",\"0.03\",\"0.03\",\"0.023\",\"0.023\",\"0.023\",\"0.023\",\"0.023\",\"0.023\",\"0.023\",\"0.023\",\"0.023\",\"0.016\",\"0.016\",\"0.016\",\"0.016\",\"0.016\",\"0.016\",\"0.016\",\"0.016\",\"0.016\",\"0.016\",\"0.016\"]},{\"label\":\"azm_sr\",\"values\":[1.0,1.0,1.0,1.0,1.0,1.0,1.0,1.0,1.0,1.0,1.0,1.0,1.0,1.0,1.0,1.0,1.0,1.0,1.0,1.0,1.0,1.0,1.0,1.0,1.0,1.0,1.0,1.0,1.0,1.0,1.0,1.0,1.0,1.0,1.0,1.0,1.0,1.0,1.0,1.0,1.0,1.0,1.0,1.0,1.0,1.0,1.0,1.0,1.0,1.0,1.0,1.0,1.0,1.0,1.0,1.0,1.0,1.0,1.0,1.0,1.0,1.0,1.0,1.0,1.0,1.0,1.0,1.0,1.0,1.0,1.0,1.0,1.0,1.0,1.0,1.0,1.0,1.0,1.0,1.0,1.0,1.0,1.0,1.0,1.0,1.0,1.0,1.0,1.0,1.0,1.0,1.0,1.0,1.0,1.0,1.0,1.0,1.0,1.0,1.0,1.0,1.0,1.0,1.0,1.0,1.0,1.0,1.0,1.0,1.0,1.0,1.0,1.0,1.0,1.0,1.0,1.0,1.0,1.0,1.0,1.0,1.0,1.0,1.0,1.0,1.0,1.0,1.0,1.0,1.0,1.0,1.0,0.0,0.0,0.0,0.0,0.0,0.0,0.0,0.0,0.0,0.0,0.0,0.0,0.0,0.0,0.0,0.0,0.0,0.0,0.0,0.0,0.0,0.0,0.0,0.0,0.0,0.0,0.0,0.0,0.0,0.0,0.0,0.0,0.0,0.0,0.0,0.0,0.0,0.0,0.0,0.0,0.0,0.0,0.0,0.0,0.0,0.0,0.0,0.0,0.0,0.0,0.0,0.0,0.0,0.0,0.0,0.0,0.0,0.0,0.0,0.0,0.0,0.0,0.0,0.0,0.0,0.0,0.0,0.0,0.0,0.0,0.0,0.0,0.0,0.0,0.0,0.0,0.0,0.0,0.0,0.0,0.0,0.0,0.0,0.0,0.0,0.0,0.0,0.0,0.0,0.0,0.0,0.0,0.0,0.0,0.0,0.0,0.0,0.0,0.0,0.0,0.0,0.0,0.0,0.0,0.0,0.0,0.0,0.0,0.0,0.0,0.0,0.0,0.0,0.0,0.0,0.0,0.0,0.0,0.0,0.0,0.0,0.0,0.0,0.0,0.0,0.0,0.0,0.0,0.0,0.0,0.0,0.0,0.0,0.0,0.0,0.0,0.0,0.0,0.0,0.0,0.0,0.0,0.0,0.0,0.0,0.0,0.0,0.0,0.0,0.0,0.0,0.0,0.0,0.0,0.0,0.0,0.0,0.0,0.0,0.0,0.0,0.0,0.0,0.0,0.0,0.0,0.0,0.0,0.0,0.0,0.0,0.0,0.0,0.0,0.0,0.0,0.0,0.0,0.0,0.0,0.0,0.0,0.0,0.0,0.0,0.0,0.0,0.0,0.0,0.0,0.0,0.0,0.0,0.0,0.0,0.0,0.0,0.0,0.0,0.0,0.0,0.0,0.0,0.0,0.0,0.0,0.0,0.0,0.0,0.0,0.0,0.0,0.0,0.0,0.0,0.0,0.0,0.0,0.0,0.0,0.0,0.0,0.0,0.0,0.0,0.0,0.0,0.0,0.0,0.0,0.0,0.0,0.0,0.0,0.0,0.0,0.0,0.0,0.0,0.0,0.0,0.0,0.0,0.0,0.0,0.0,0.0,0.0,0.0,0.0,0.0,0.0,0.0,0.0,0.0,0.0,0.0,0.0,0.0,0.0,0.0,0.0,0.0,0.0,0.0,0.0,0.0,0.0,0.0,0.0,0.0,0.0,0.0,0.0,0.0,0.0,0.0,0.0,0.0,0.0,0.0,0.0,0.0,0.0,0.0,0.0,0.0,0.0,0.0,0.0,0.0,0.0,0.0,0.0,0.0,0.0,0.0,0.0,0.0,0.0,0.0,0.0,0.0,0.0,0.0,0.0,0.0,0.0,0.0,0.0,0.0,0.0,0.0,0.0,0.0,0.0,0.0,0.0,0.0,0.0,0.0,0.0,0.0,0.0,0.0,0.0,0.0,0.0,0.0,0.0,0.0,0.0,0.0,0.0,0.0,0.0,0.0,0.0,0.0,0.0,0.0,0.0,0.0,0.0,0.0,0.0,0.0,0.0,0.0,0.0,0.0,0.0,0.0,0.0,0.0,0.0,0.0,0.0,0.0,0.0,0.0,0.0,0.0,0.0,0.0,0.0,0.0,0.0,0.0,0.0,0.0,0.0,0.0,0.0,0.0,0.0,0.0,0.0,0.0,0.0,0.0,0.0,0.0,0.0,0.0,0.0,0.0,0.0,0.0,0.0,0.0,0.0,0.0,0.0,0.0,0.0,0.0,0.0,0.0,0.0,0.0,0.0,0.0,0.0,0.0,0.0,0.0,0.0,0.0,0.0,0.0,0.0,0.0,0.0,0.0,0.0,0.0,0.0,0.0,0.0,0.0,0.0,0.0,0.0,0.0,0.0,0.0,0.0,0.0,0.0,0.0,0.0,0.0,0.0,0.0,0.0,0.0,0.0,0.0,0.0,0.0,0.0,0.0,0.0,0.0,0.0,0.0,0.0,0.0,0.0,0.0,0.0,0.0,0.0,0.0,0.0,0.0,0.0,0.0,0.0,0.0,0.0,0.0,0.0,0.0,0.0,0.0,0.0,0.0,0.0,0.0,0.0,0.0,0.0,0.0,0.0,0.0,0.0,0.0,0.0,0.0,0.0,0.0,0.0,0.0,0.0,0.0,0.0,0.0,0.0,0.0,0.0,0.0,0.0,0.0,0.0,0.0,0.0,0.0,0.0,0.0,0.0,0.0,0.0,0.0,0.0,0.0,0.0,0.0,0.0,0.0,0.0,0.0,0.0,0.0,0.0,0.0,0.0,0.0,0.0,0.0,0.0,0.0,0.0,0.0,0.0,0.0,0.0,0.0,0.0,0.0,0.0,0.0,0.0,0.0,0.0,0.0,0.0,0.0,0.0,0.0,0.0,0.0,0.0,0.0,0.0,0.0,0.0,0.0,0.0,0.0,0.0,0.0,0.0,0.0,0.0,0.0,0.0,0.0,0.0,0.0,0.0,0.0,0.0,0.0,0.0,0.0,0.0,0.0,0.0,0.0,0.0,0.0,0.0,0.0,0.0,0.0,0.0,0.0,0.0,0.0,0.0,0.0,0.0,0.0,0.0,0.0,0.0,0.0,0.0,0.0,0.0,0.0,0.0,0.0,0.0,0.0,0.0,0.0,0.0,0.0,0.0,0.0,0.0,0.0,0.0,0.0,0.0,0.0,0.0,0.0,0.0,0.0,0.0,0.0,0.0,0.0,0.0,0.0,0.0,0.0,0.0,0.0,0.0,0.0,0.0,0.0,0.0,0.0,0.0,0.0,0.0,0.0,0.0,0.0,0.0,0.0,0.0,0.0,0.0,0.0,0.0,0.0,0.0,0.0,0.0,0.0,0.0,0.0,0.0,0.0,0.0,0.0,0.0,0.0,0.0,0.0,0.0,0.0,0.0,0.0,0.0,0.0,0.0,0.0,0.0,0.0,0.0,0.0,0.0,0.0,0.0,0.0,0.0,0.0,0.0,0.0,0.0,0.0,0.0,0.0,0.0,0.0,0.0,0.0,0.0,0.0,0.0,0.0,0.0,0.0,0.0,0.0,0.0,0.0,0.0,0.0,0.0,0.0,0.0,0.0,0.0,0.0,0.0,0.0,0.0,0.0,0.0,0.0,0.0,0.0,0.0,0.0,0.0,0.0,0.0,0.0,0.0,0.0,0.0,0.0,0.0,0.0,0.0,0.0,0.0,0.0,0.0,0.0,0.0,0.0,0.0,0.0,0.0,0.0,0.0,0.0,0.0,0.0,0.0,0.0,0.0,0.0,0.0,0.0,0.0,0.0,0.0,0.0,0.0,0.0,0.0,0.0,0.0,0.0,0.0,0.0,0.0,0.0,0.0,0.0,0.0,0.0,0.0,0.0,0.0,0.0,0.0,0.0,0.0,0.0,0.0,0.0,0.0,0.0,0.0,0.0,0.0,0.0,0.0,0.0,0.0,0.0,0.0,0.0,0.0,0.0,0.0,0.0,0.0,0.0,0.0,0.0,0.0,0.0,0.0,0.0,0.0,0.0,0.0,0.0,0.0,0.0,0.0,0.0,0.0,0.0,0.0,0.0,0.0,0.0,0.0,0.0,0.0,0.0,0.0,0.0,0.0,0.0,0.0,0.0,0.0,0.0,0.0,0.0,0.0,0.0,0.0,0.0,0.0,0.0,0.0,0.0,0.0,0.0,0.0,0.0,0.0,0.0,0.0,0.0,0.0,0.0,0.0,0.0,0.0,0.0,0.0,0.0,0.0,0.0,0.0,0.0,0.0,0.0,0.0,0.0,0.0,0.0,0.0,0.0,0.0,0.0,0.0,0.0,0.0,0.0,0.0,0.0,0.0,0.0,0.0,0.0,0.0,0.0,0.0,0.0,0.0,0.0,0.0,0.0,0.0,0.0,0.0,0.0,0.0,0.0,0.0,0.0,0.0,0.0,0.0,0.0,0.0,0.0,0.0,0.0,0.0,0.0,0.0,0.0,0.0,0.0,0.0,0.0,0.0,0.0,0.0,0.0,0.0,0.0,0.0,0.0,0.0,0.0,0.0,0.0,0.0,0.0,0.0,0.0,0.0,0.0,0.0,0.0,0.0,0.0,0.0,0.0,0.0,0.0,0.0,0.0,0.0,0.0,0.0,0.0,0.0,0.0,0.0,0.0,0.0,0.0,0.0,0.0,0.0,0.0,0.0,0.0,0.0,0.0,0.0,0.0,0.0,0.0,0.0,0.0,0.0,0.0,0.0,0.0,0.0,0.0,0.0,0.0,0.0,0.0,0.0,0.0,0.0,0.0,0.0,0.0,0.0,0.0,0.0,0.0,0.0,0.0,0.0,0.0,0.0,0.0,0.0,0.0,0.0,0.0,0.0,0.0,0.0,0.0,0.0,0.0,0.0,0.0,0.0,0.0,0.0,0.0,0.0,0.0,0.0,0.0,0.0,0.0,0.0,0.0,0.0,0.0,0.0,0.0,0.0,0.0,0.0,0.0,0.0,0.0,0.0,0.0,0.0,0.0,0.0,0.0,0.0,0.0,0.0,0.0,0.0,0.0,0.0,0.0,0.0,0.0,0.0,0.0,0.0,0.0,0.0,0.0,0.0,0.0,0.0,0.0,0.0,0.0,0.0,0.0,0.0,0.0,0.0,0.0,0.0,0.0,0.0,0.0,0.0,0.0,0.0,0.0,0.0,0.0,0.0,0.0,0.0,0.0,0.0,0.0,0.0,0.0,0.0,0.0,0.0,0.0,0.0,0.0,0.0,0.0,0.0,0.0,0.0,0.0,0.0,0.0,0.0,0.0,0.0,0.0,0.0,0.0,0.0,0.0,0.0,0.0,0.0,0.0,0.0,0.0,0.0,0.0,0.0,0.0,0.0,0.0,0.0,0.0,0.0,0.0,0.0,0.0,0.0,0.0,0.0,0.0,0.0,0.0,0.0,0.0,0.0,0.0,0.0,0.0,0.0,0.0,0.0,0.0,0.0,0.0,0.0,0.0,0.0,0.0,0.0,0.0,0.0,0.0,0.0,0.0,0.0,0.0,0.0,0.0,0.0,0.0,0.0,0.0,0.0,0.0,0.0,0.0,0.0,0.0,0.0,0.0,0.0,0.0,0.0,0.0,0.0,0.0,0.0,0.0,0.0,0.0,0.0,0.0,0.0,0.0,0.0,0.0,0.0,0.0,0.0,0.0,0.0,0.0,0.0,0.0,0.0,0.0,0.0,0.0,0.0,0.0,0.0,0.0,0.0,0.0,0.0,0.0,0.0,0.0,0.0,0.0,0.0,0.0,0.0,0.0,0.0,0.0,0.0,0.0,0.0,0.0,0.0,0.0,0.0,0.0,0.0,0.0,0.0,0.0,0.0,0.0,0.0,0.0,0.0,0.0,0.0,0.0,0.0,0.0,0.0,0.0,0.0,0.0,0.0,0.0,0.0,0.0,0.0,0.0,0.0,0.0,0.0,0.0,0.0,0.0,0.0,0.0,0.0,0.0,0.0,0.0,0.0,0.0,0.0,0.0,0.0,0.0,0.0,0.0,0.0,0.0,0.0,0.0,0.0,0.0,0.0,0.0,0.0,0.0,0.0,0.0,0.0,0.0,0.0,0.0,0.0,0.0,0.0,0.0,0.0,0.0,0.0,0.0,0.0,0.0,0.0,0.0,0.0,0.0,0.0,0.0,0.0,0.0,0.0,0.0,0.0,0.0,0.0,0.0,0.0,0.0,0.0,0.0,0.0,0.0,0.0,0.0,0.0,0.0,0.0,0.0,0.0,0.0,0.0,0.0,0.0,0.0,0.0,0.0,0.0,0.0,0.0,0.0,0.0,0.0,0.0,0.0,0.0,0.0,0.0,0.0,0.0,0.0,0.0,0.0,0.0,0.0,0.0,0.0,0.0,0.0,0.0,0.0,0.0,0.0,0.0,0.0,0.0,0.0,0.0,0.0,0.0,0.0,0.0,0.0,0.0,0.0,0.0,0.0,0.0,0.0,0.0,0.0,0.0,0.0,0.0,0.0,0.0,0.0,0.0,0.0,0.0,0.0,0.0,0.0,0.0,0.0,0.0,0.0,0.0,0.0,0.0,0.0,0.0,0.0,0.0,0.0,0.0,0.0,0.0,0.0,0.0,0.0,0.0,0.0,0.0,0.0,0.0,0.0,0.0,0.0,0.0,0.0,0.0,0.0,0.0,0.0,0.0,0.0,0.0,0.0,0.0,0.0,0.0,0.0,0.0,0.0,0.0,0.0,0.0,0.0,0.0,0.0,0.0,0.0,0.0,0.0,0.0,0.0,0.0,0.0,0.0,0.0,0.0,0.0,0.0,0.0,0.0,0.0,0.0,0.0,0.0,0.0,0.0,0.0,0.0,0.0,0.0,0.0,0.0,0.0,0.0,0.0,0.0,0.0,0.0,0.0,0.0,0.0,0.0,0.0,0.0,0.0,0.0,0.0,0.0,0.0,0.0,0.0,0.0,0.0,0.0,0.0,0.0,0.0,0.0,0.0,0.0,0.0,0.0,0.0,0.0,0.0,0.0,0.0,0.0,0.0,0.0,0.0,0.0,0.0,0.0,0.0,0.0,0.0,0.0,0.0,0.0,0.0,0.0,0.0,0.0,0.0,0.0,0.0,0.0,0.0,0.0,0.0,0.0,0.0,0.0,0.0,0.0,0.0,0.0,0.0,0.0,0.0,0.0,0.0,0.0,0.0,0.0,0.0,0.0,0.0,0.0,0.0,0.0,0.0,0.0,0.0,0.0,0.0,0.0,0.0,0.0,0.0,0.0,0.0,0.0,0.0,0.0,0.0,0.0,0.0,0.0,0.0,0.0,0.0,0.0,0.0,0.0,0.0,0.0,0.0,0.0,0.0,0.0,0.0,0.0,0.0,0.0,0.0,0.0,0.0,0.0,0.0,0.0,0.0,0.0,0.0,0.0,0.0,0.0,0.0,0.0,0.0,0.0,0.0,0.0,0.0,0.0,0.0,0.0,0.0,0.0,0.0,0.0,0.0,0.0,0.0,0.0,0.0,0.0,0.0,0.0,0.0,0.0,0.0,0.0,0.0,0.0,0.0,0.0,0.0,0.0,0.0,0.0,0.0,0.0,0.0,0.0,0.0,0.0,0.0,0.0,0.0,0.0,0.0,0.0,0.0,0.0,0.0,0.0,0.0,0.0,0.0,0.0,0.0,0.0,0.0,0.0,0.0,0.0,0.0,0.0,0.0,0.0,0.0,0.0,0.0,0.0,0.0,0.0,0.0,0.0,0.0,0.0,0.0,0.0,0.0,0.0,0.0,0.0,0.0,0.0,0.0,0.0,0.0,0.0,0.0,0.0,0.0,0.0,0.0,0.0,0.0,0.0,0.0,0.0,0.0,0.0,0.0,0.0,0.0,0.0,0.0,0.0,0.0,0.0,0.0,0.0,0.0,0.0,0.0,0.0,0.0,0.0,0.0,0.0,0.0,0.0,0.0,0.0,0.0,0.0,0.0,0.0,0.0,0.0,0.0,0.0,0.0,0.0,0.0,0.0,0.0,0.0,0.0,0.0,0.0,0.0,0.0,0.0,0.0,0.0,0.0,0.0,0.0,0.0,0.0,0.0,0.0,0.0,0.0,0.0,0.0,0.0,0.0,0.0,0.0,0.0,0.0,0.0,0.0,0.0,0.0,0.0,0.0,0.0,0.0,0.0,0.0,0.0,0.0,0.0,0.0,0.0,0.0,0.0,0.0,0.0,0.0,0.0,0.0,0.0,0.0,0.0,0.0,0.0,0.0,0.0,0.0,0.0,0.0,0.0,0.0,0.0,0.0,0.0,0.0,0.0,0.0,0.0,0.0,0.0,0.0,0.0,0.0,0.0,0.0,0.0,0.0,0.0,0.0,0.0,0.0,0.0,0.0,0.0,0.0,0.0,0.0,0.0,0.0,0.0,0.0,0.0,0.0,0.0,0.0]}],\"domain\":{\"x\":[0.0,1.0],\"y\":[0.0,1.0]},\"name\":\"\",\"type\":\"parcats\",\"line\":{\"color\":\"mistyrose\",\"shape\":\"hspline\"}}],                        {\"template\":{\"data\":{\"histogram2dcontour\":[{\"type\":\"histogram2dcontour\",\"colorbar\":{\"outlinewidth\":0,\"ticks\":\"\"},\"colorscale\":[[0.0,\"#0d0887\"],[0.1111111111111111,\"#46039f\"],[0.2222222222222222,\"#7201a8\"],[0.3333333333333333,\"#9c179e\"],[0.4444444444444444,\"#bd3786\"],[0.5555555555555556,\"#d8576b\"],[0.6666666666666666,\"#ed7953\"],[0.7777777777777778,\"#fb9f3a\"],[0.8888888888888888,\"#fdca26\"],[1.0,\"#f0f921\"]]}],\"choropleth\":[{\"type\":\"choropleth\",\"colorbar\":{\"outlinewidth\":0,\"ticks\":\"\"}}],\"histogram2d\":[{\"type\":\"histogram2d\",\"colorbar\":{\"outlinewidth\":0,\"ticks\":\"\"},\"colorscale\":[[0.0,\"#0d0887\"],[0.1111111111111111,\"#46039f\"],[0.2222222222222222,\"#7201a8\"],[0.3333333333333333,\"#9c179e\"],[0.4444444444444444,\"#bd3786\"],[0.5555555555555556,\"#d8576b\"],[0.6666666666666666,\"#ed7953\"],[0.7777777777777778,\"#fb9f3a\"],[0.8888888888888888,\"#fdca26\"],[1.0,\"#f0f921\"]]}],\"heatmap\":[{\"type\":\"heatmap\",\"colorbar\":{\"outlinewidth\":0,\"ticks\":\"\"},\"colorscale\":[[0.0,\"#0d0887\"],[0.1111111111111111,\"#46039f\"],[0.2222222222222222,\"#7201a8\"],[0.3333333333333333,\"#9c179e\"],[0.4444444444444444,\"#bd3786\"],[0.5555555555555556,\"#d8576b\"],[0.6666666666666666,\"#ed7953\"],[0.7777777777777778,\"#fb9f3a\"],[0.8888888888888888,\"#fdca26\"],[1.0,\"#f0f921\"]]}],\"heatmapgl\":[{\"type\":\"heatmapgl\",\"colorbar\":{\"outlinewidth\":0,\"ticks\":\"\"},\"colorscale\":[[0.0,\"#0d0887\"],[0.1111111111111111,\"#46039f\"],[0.2222222222222222,\"#7201a8\"],[0.3333333333333333,\"#9c179e\"],[0.4444444444444444,\"#bd3786\"],[0.5555555555555556,\"#d8576b\"],[0.6666666666666666,\"#ed7953\"],[0.7777777777777778,\"#fb9f3a\"],[0.8888888888888888,\"#fdca26\"],[1.0,\"#f0f921\"]]}],\"contourcarpet\":[{\"type\":\"contourcarpet\",\"colorbar\":{\"outlinewidth\":0,\"ticks\":\"\"}}],\"contour\":[{\"type\":\"contour\",\"colorbar\":{\"outlinewidth\":0,\"ticks\":\"\"},\"colorscale\":[[0.0,\"#0d0887\"],[0.1111111111111111,\"#46039f\"],[0.2222222222222222,\"#7201a8\"],[0.3333333333333333,\"#9c179e\"],[0.4444444444444444,\"#bd3786\"],[0.5555555555555556,\"#d8576b\"],[0.6666666666666666,\"#ed7953\"],[0.7777777777777778,\"#fb9f3a\"],[0.8888888888888888,\"#fdca26\"],[1.0,\"#f0f921\"]]}],\"surface\":[{\"type\":\"surface\",\"colorbar\":{\"outlinewidth\":0,\"ticks\":\"\"},\"colorscale\":[[0.0,\"#0d0887\"],[0.1111111111111111,\"#46039f\"],[0.2222222222222222,\"#7201a8\"],[0.3333333333333333,\"#9c179e\"],[0.4444444444444444,\"#bd3786\"],[0.5555555555555556,\"#d8576b\"],[0.6666666666666666,\"#ed7953\"],[0.7777777777777778,\"#fb9f3a\"],[0.8888888888888888,\"#fdca26\"],[1.0,\"#f0f921\"]]}],\"mesh3d\":[{\"type\":\"mesh3d\",\"colorbar\":{\"outlinewidth\":0,\"ticks\":\"\"}}],\"scatter\":[{\"fillpattern\":{\"fillmode\":\"overlay\",\"size\":10,\"solidity\":0.2},\"type\":\"scatter\"}],\"parcoords\":[{\"type\":\"parcoords\",\"line\":{\"colorbar\":{\"outlinewidth\":0,\"ticks\":\"\"}}}],\"scatterpolargl\":[{\"type\":\"scatterpolargl\",\"marker\":{\"colorbar\":{\"outlinewidth\":0,\"ticks\":\"\"}}}],\"bar\":[{\"error_x\":{\"color\":\"#2a3f5f\"},\"error_y\":{\"color\":\"#2a3f5f\"},\"marker\":{\"line\":{\"color\":\"#E5ECF6\",\"width\":0.5},\"pattern\":{\"fillmode\":\"overlay\",\"size\":10,\"solidity\":0.2}},\"type\":\"bar\"}],\"scattergeo\":[{\"type\":\"scattergeo\",\"marker\":{\"colorbar\":{\"outlinewidth\":0,\"ticks\":\"\"}}}],\"scatterpolar\":[{\"type\":\"scatterpolar\",\"marker\":{\"colorbar\":{\"outlinewidth\":0,\"ticks\":\"\"}}}],\"histogram\":[{\"marker\":{\"pattern\":{\"fillmode\":\"overlay\",\"size\":10,\"solidity\":0.2}},\"type\":\"histogram\"}],\"scattergl\":[{\"type\":\"scattergl\",\"marker\":{\"colorbar\":{\"outlinewidth\":0,\"ticks\":\"\"}}}],\"scatter3d\":[{\"type\":\"scatter3d\",\"line\":{\"colorbar\":{\"outlinewidth\":0,\"ticks\":\"\"}},\"marker\":{\"colorbar\":{\"outlinewidth\":0,\"ticks\":\"\"}}}],\"scattermapbox\":[{\"type\":\"scattermapbox\",\"marker\":{\"colorbar\":{\"outlinewidth\":0,\"ticks\":\"\"}}}],\"scatterternary\":[{\"type\":\"scatterternary\",\"marker\":{\"colorbar\":{\"outlinewidth\":0,\"ticks\":\"\"}}}],\"scattercarpet\":[{\"type\":\"scattercarpet\",\"marker\":{\"colorbar\":{\"outlinewidth\":0,\"ticks\":\"\"}}}],\"carpet\":[{\"aaxis\":{\"endlinecolor\":\"#2a3f5f\",\"gridcolor\":\"white\",\"linecolor\":\"white\",\"minorgridcolor\":\"white\",\"startlinecolor\":\"#2a3f5f\"},\"baxis\":{\"endlinecolor\":\"#2a3f5f\",\"gridcolor\":\"white\",\"linecolor\":\"white\",\"minorgridcolor\":\"white\",\"startlinecolor\":\"#2a3f5f\"},\"type\":\"carpet\"}],\"table\":[{\"cells\":{\"fill\":{\"color\":\"#EBF0F8\"},\"line\":{\"color\":\"white\"}},\"header\":{\"fill\":{\"color\":\"#C8D4E3\"},\"line\":{\"color\":\"white\"}},\"type\":\"table\"}],\"barpolar\":[{\"marker\":{\"line\":{\"color\":\"#E5ECF6\",\"width\":0.5},\"pattern\":{\"fillmode\":\"overlay\",\"size\":10,\"solidity\":0.2}},\"type\":\"barpolar\"}],\"pie\":[{\"automargin\":true,\"type\":\"pie\"}]},\"layout\":{\"autotypenumbers\":\"strict\",\"colorway\":[\"#636efa\",\"#EF553B\",\"#00cc96\",\"#ab63fa\",\"#FFA15A\",\"#19d3f3\",\"#FF6692\",\"#B6E880\",\"#FF97FF\",\"#FECB52\"],\"font\":{\"color\":\"#2a3f5f\"},\"hovermode\":\"closest\",\"hoverlabel\":{\"align\":\"left\"},\"paper_bgcolor\":\"white\",\"plot_bgcolor\":\"#E5ECF6\",\"polar\":{\"bgcolor\":\"#E5ECF6\",\"angularaxis\":{\"gridcolor\":\"white\",\"linecolor\":\"white\",\"ticks\":\"\"},\"radialaxis\":{\"gridcolor\":\"white\",\"linecolor\":\"white\",\"ticks\":\"\"}},\"ternary\":{\"bgcolor\":\"#E5ECF6\",\"aaxis\":{\"gridcolor\":\"white\",\"linecolor\":\"white\",\"ticks\":\"\"},\"baxis\":{\"gridcolor\":\"white\",\"linecolor\":\"white\",\"ticks\":\"\"},\"caxis\":{\"gridcolor\":\"white\",\"linecolor\":\"white\",\"ticks\":\"\"}},\"coloraxis\":{\"colorbar\":{\"outlinewidth\":0,\"ticks\":\"\"}},\"colorscale\":{\"sequential\":[[0.0,\"#0d0887\"],[0.1111111111111111,\"#46039f\"],[0.2222222222222222,\"#7201a8\"],[0.3333333333333333,\"#9c179e\"],[0.4444444444444444,\"#bd3786\"],[0.5555555555555556,\"#d8576b\"],[0.6666666666666666,\"#ed7953\"],[0.7777777777777778,\"#fb9f3a\"],[0.8888888888888888,\"#fdca26\"],[1.0,\"#f0f921\"]],\"sequentialminus\":[[0.0,\"#0d0887\"],[0.1111111111111111,\"#46039f\"],[0.2222222222222222,\"#7201a8\"],[0.3333333333333333,\"#9c179e\"],[0.4444444444444444,\"#bd3786\"],[0.5555555555555556,\"#d8576b\"],[0.6666666666666666,\"#ed7953\"],[0.7777777777777778,\"#fb9f3a\"],[0.8888888888888888,\"#fdca26\"],[1.0,\"#f0f921\"]],\"diverging\":[[0,\"#8e0152\"],[0.1,\"#c51b7d\"],[0.2,\"#de77ae\"],[0.3,\"#f1b6da\"],[0.4,\"#fde0ef\"],[0.5,\"#f7f7f7\"],[0.6,\"#e6f5d0\"],[0.7,\"#b8e186\"],[0.8,\"#7fbc41\"],[0.9,\"#4d9221\"],[1,\"#276419\"]]},\"xaxis\":{\"gridcolor\":\"white\",\"linecolor\":\"white\",\"ticks\":\"\",\"title\":{\"standoff\":15},\"zerolinecolor\":\"white\",\"automargin\":true,\"zerolinewidth\":2},\"yaxis\":{\"gridcolor\":\"white\",\"linecolor\":\"white\",\"ticks\":\"\",\"title\":{\"standoff\":15},\"zerolinecolor\":\"white\",\"automargin\":true,\"zerolinewidth\":2},\"scene\":{\"xaxis\":{\"backgroundcolor\":\"#E5ECF6\",\"gridcolor\":\"white\",\"linecolor\":\"white\",\"showbackground\":true,\"ticks\":\"\",\"zerolinecolor\":\"white\",\"gridwidth\":2},\"yaxis\":{\"backgroundcolor\":\"#E5ECF6\",\"gridcolor\":\"white\",\"linecolor\":\"white\",\"showbackground\":true,\"ticks\":\"\",\"zerolinecolor\":\"white\",\"gridwidth\":2},\"zaxis\":{\"backgroundcolor\":\"#E5ECF6\",\"gridcolor\":\"white\",\"linecolor\":\"white\",\"showbackground\":true,\"ticks\":\"\",\"zerolinecolor\":\"white\",\"gridwidth\":2}},\"shapedefaults\":{\"line\":{\"color\":\"#2a3f5f\"}},\"annotationdefaults\":{\"arrowcolor\":\"#2a3f5f\",\"arrowhead\":0,\"arrowwidth\":1},\"geo\":{\"bgcolor\":\"white\",\"landcolor\":\"#E5ECF6\",\"subunitcolor\":\"white\",\"showland\":true,\"showlakes\":true,\"lakecolor\":\"white\"},\"title\":{\"x\":0.05},\"mapbox\":{\"style\":\"light\"}}},\"legend\":{\"tracegroupgap\":0},\"margin\":{\"t\":60,\"b\":10},\"title\":{\"text\":\"Bacteria Resistance to Azithromycin\"},\"height\":400},                        {\"responsive\": true}                    ).then(function(){\n",
              "                            \n",
              "var gd = document.getElementById('c011b16c-e2ed-487b-8c6a-c91ec1b392de');\n",
              "var x = new MutationObserver(function (mutations, observer) {{\n",
              "        var display = window.getComputedStyle(gd).display;\n",
              "        if (!display || display === 'none') {{\n",
              "            console.log([gd, 'removed!']);\n",
              "            Plotly.purge(gd);\n",
              "            observer.disconnect();\n",
              "        }}\n",
              "}});\n",
              "\n",
              "// Listen for the removal of the full notebook cells\n",
              "var notebookContainer = gd.closest('#notebook-container');\n",
              "if (notebookContainer) {{\n",
              "    x.observe(notebookContainer, {childList: true});\n",
              "}}\n",
              "\n",
              "// Listen for the clearing of the current output cell\n",
              "var outputEl = gd.closest('.output');\n",
              "if (outputEl) {{\n",
              "    x.observe(outputEl, {childList: true});\n",
              "}}\n",
              "\n",
              "                        })                };                            </script>        </div>\n",
              "</body>\n",
              "</html>"
            ]
          },
          "metadata": {}
        },
        {
          "output_type": "display_data",
          "data": {
            "text/html": [
              "<html>\n",
              "<head><meta charset=\"utf-8\" /></head>\n",
              "<body>\n",
              "    <div>            <script src=\"https://cdnjs.cloudflare.com/ajax/libs/mathjax/2.7.5/MathJax.js?config=TeX-AMS-MML_SVG\"></script><script type=\"text/javascript\">if (window.MathJax && window.MathJax.Hub && window.MathJax.Hub.Config) {window.MathJax.Hub.Config({SVG: {font: \"STIX-Web\"}});}</script>                <script type=\"text/javascript\">window.PlotlyConfig = {MathJaxConfig: 'local'};</script>\n",
              "        <script charset=\"utf-8\" src=\"https://cdn.plot.ly/plotly-2.35.2.min.js\"></script>                <div id=\"f9fd83ec-a011-45f4-aaea-e523fe13e79a\" class=\"plotly-graph-div\" style=\"height:400px; width:100%;\"></div>            <script type=\"text/javascript\">                                    window.PLOTLYENV=window.PLOTLYENV || {};                                    if (document.getElementById(\"f9fd83ec-a011-45f4-aaea-e523fe13e79a\")) {                    Plotly.newPlot(                        \"f9fd83ec-a011-45f4-aaea-e523fe13e79a\",                        [{\"dimensions\":[{\"label\":\"Year\",\"values\":[\"2007.0\",\"1996.0\",\"2003.0\",\"2009.0\",\"2010.0\",\"2009.0\",\"2009.0\",\"2009.0\",\"2010.0\",\"2013.0\",\"2010.0\",\"2009.0\",\"2009.0\",\"2010.0\",\"2011.0\",\"2009.0\",\"2009.0\",\"2009.0\",\"2009.0\",\"2010.0\",\"2006.0\",\"2010.0\",\"2010.0\",\"2010.0\",\"2010.0\",\"2012.0\",\"2013.0\",\"2010.0\",\"2010.0\",\"2010.0\",\"2012.0\",\"2010.0\",\"2011.0\",\"2007.0\",\"2011.0\",\"2011.0\",\"2011.0\",\"2010.0\",\"2009.0\",\"2010.0\",\"2010.0\",\"2001.0\",\"2001.0\",\"2001.0\",\"2001.0\",\"2000.0\",\"2004.0\",\"2010.0\",\"2010.0\",\"2010.0\",\"2011.0\",\"2010.0\",\"2009.0\",\"2003.0\",\"2005.0\",\"2005.0\",\"2001.0\",\"2001.0\",\"2010.0\",\"2010.0\",\"2011.0\",\"1998.0\",\"2007.0\",\"2012.0\",\"2012.0\",\"2012.0\",\"2012.0\",\"2009.0\",\"2012.0\",\"2012.0\",\"2012.0\",\"2011.0\",\"2011.0\",\"2011.0\",\"2009.0\",\"2011.0\",\"2011.0\",\"2011.0\",\"2011.0\",\"2011.0\",\"2011.0\",\"2011.0\",\"2008.0\",\"2011.0\",\"2008.0\",\"2008.0\",\"2007.0\",\"2009.0\",\"2009.0\",\"2008.0\",\"2008.0\",\"2010.0\",\"2011.0\",\"2010.0\",\"2008.0\",\"2010.0\",\"2011.0\",\"2006.0\",\"2010.0\",\"2003.0\",\"2009.0\",\"2009.0\",\"2011.0\",\"2011.0\",\"2009.0\",\"2009.0\",\"2009.0\",\"2009.0\",\"2008.0\",\"2008.0\",\"2012.0\",\"2008.0\",\"2008.0\",\"2008.0\",\"2008.0\",\"1998.0\",\"2010.0\",\"2006.0\",\"2009.0\",\"2000.0\",\"2010.0\",\"2009.0\",\"2010.0\",\"2009.0\",\"2011.0\",\"2009.0\",\"1996.0\",\"2011.0\",\"2010.0\",\"2010.0\",\"2009.0\",\"2009.0\",\"2002.0\",\"2005.0\",\"2011.0\",\"2011.0\",\"2011.0\",\"2011.0\",\"2012.0\",\"2013.0\",\"2013.0\",\"2009.0\",\"2009.0\",\"2009.0\",\"2009.0\",\"2010.0\",\"2010.0\",\"2010.0\",\"2010.0\",\"2013.0\",\"2013.0\",\"2011.0\",\"2013.0\",\"2012.0\",\"2010.0\",\"2009.0\",\"2013.0\",\"2011.0\",\"2011.0\",\"2010.0\",\"2013.0\",\"2009.0\",\"2003.0\",\"2012.0\",\"2011.0\",\"2013.0\",\"2006.0\",\"2013.0\",\"2013.0\",\"2013.0\",\"2013.0\",\"2012.0\",\"2012.0\",\"2011.0\",\"2011.0\",\"2011.0\",\"2005.0\",\"2012.0\",\"2012.0\",\"2005.0\",\"2005.0\",\"2005.0\",\"2004.0\",\"2013.0\",\"2012.0\",\"2012.0\",\"2006.0\",\"2012.0\",\"2012.0\",\"2005.0\",\"2012.0\",\"2012.0\",\"2013.0\",\"2012.0\",\"2011.0\",\"2011.0\",\"2011.0\",\"2011.0\",\"2011.0\",\"2011.0\",\"2011.0\",\"2011.0\",\"2011.0\",\"2011.0\",\"2011.0\",\"2011.0\",\"2013.0\",\"2012.0\",\"2012.0\",\"2012.0\",\"2011.0\",\"2011.0\",\"2010.0\",\"2012.0\",\"2004.0\",\"2012.0\",\"2011.0\",\"2011.0\",\"2011.0\",\"2005.0\",\"2011.0\",\"2011.0\",\"2011.0\",\"2012.0\",\"2012.0\",\"2012.0\",\"2012.0\",\"2012.0\",\"2011.0\",\"2010.0\",\"2009.0\",\"2005.0\",\"2011.0\",\"2011.0\",\"2011.0\",\"2011.0\",\"2011.0\",\"2013.0\",\"2013.0\",\"2013.0\",\"2013.0\",\"2012.0\",\"2012.0\",\"2012.0\",\"2012.0\",\"2012.0\",\"2011.0\",\"2011.0\",\"2012.0\",\"2011.0\",\"2010.0\",\"2005.0\",\"2013.0\",\"2012.0\",\"2012.0\",\"2012.0\",\"2012.0\",\"2012.0\",\"2011.0\",\"2011.0\",\"2011.0\",\"2011.0\",\"2012.0\",\"2012.0\",\"2012.0\",\"2011.0\",\"2011.0\",\"2011.0\",\"2011.0\",\"2013.0\",\"2013.0\",\"2012.0\",\"2012.0\",\"2011.0\",\"2011.0\",\"2005.0\",\"2011.0\",\"2011.0\",\"2011.0\",\"2011.0\",\"2012.0\",\"2011.0\",\"2011.0\",\"2012.0\",\"2013.0\",\"2012.0\",\"2012.0\",\"2011.0\",\"1998.0\",\"2007.0\",\"2008.0\",\"2008.0\",\"2007.0\",\"2007.0\",\"2007.0\",\"2007.0\",\"2007.0\",\"2011.0\",\"2011.0\",\"2013.0\",\"2013.0\",\"2009.0\",\"2010.0\",\"2007.0\",\"2007.0\",\"2007.0\",\"2007.0\",\"2007.0\",\"2007.0\",\"2007.0\",\"2010.0\",\"2004.0\",\"2011.0\",\"2005.0\",\"2010.0\",\"2006.0\",\"2010.0\",\"2004.0\",\"2010.0\",\"2010.0\",\"2010.0\",\"2011.0\",\"2012.0\",\"2011.0\",\"2013.0\",\"2006.0\",\"2012.0\",\"2011.0\",\"2009.0\",\"2011.0\",\"2011.0\",\"2010.0\",\"2010.0\",\"2010.0\",\"2009.0\",\"2010.0\",\"2010.0\",\"2010.0\",\"2010.0\",\"2010.0\",\"2010.0\",\"2004.0\",\"2007.0\",\"2010.0\",\"2010.0\",\"2010.0\",\"2010.0\",\"2010.0\",\"2010.0\",\"2009.0\",\"2009.0\",\"2010.0\",\"2010.0\",\"2010.0\",\"2010.0\",\"2007.0\",\"2008.0\",\"2008.0\",\"2008.0\",\"2007.0\",\"2008.0\",\"2010.0\",\"2010.0\",\"2010.0\",\"2010.0\",\"2011.0\",\"2003.0\",\"2011.0\",\"2011.0\",\"2010.0\",\"2012.0\",\"2011.0\",\"2013.0\",\"2009.0\",\"2007.0\",\"2007.0\",\"2008.0\",\"2008.0\",\"2007.0\",\"2008.0\",\"2009.0\",\"2010.0\",\"2010.0\",\"2008.0\",\"2007.0\",\"2007.0\",\"2007.0\",\"2009.0\",\"2010.0\",\"2010.0\",\"2010.0\",\"2010.0\",\"2010.0\",\"2011.0\",\"2011.0\",\"2011.0\",\"2010.0\",\"2009.0\",\"2009.0\",\"2009.0\",\"2009.0\",\"2009.0\",\"2009.0\",\"2009.0\",\"2009.0\",\"2009.0\",\"2010.0\",\"2010.0\",\"2010.0\",\"2010.0\",\"2010.0\",\"2010.0\",\"2010.0\",\"2012.0\",\"2006.0\",\"2011.0\",\"2005.0\",\"2013.0\",\"2011.0\",\"2009.0\",\"2009.0\",\"2009.0\",\"2009.0\",\"2009.0\",\"2009.0\",\"2009.0\",\"2009.0\",\"2009.0\",\"2009.0\",\"2011.0\",\"2011.0\",\"2010.0\",\"2013.0\",\"2012.0\",\"2010.0\",\"2009.0\",\"2012.0\",\"2009.0\",\"2009.0\",\"2010.0\",\"2010.0\",\"2010.0\",\"2009.0\",\"2009.0\",\"2009.0\",\"2011.0\",\"2010.0\",\"2009.0\",\"2009.0\",\"2009.0\",\"2009.0\",\"2009.0\",\"2009.0\",\"2009.0\",\"2009.0\",\"2009.0\",\"2009.0\",\"2009.0\",\"2006.0\",\"2005.0\",\"2013.0\",\"2009.0\",\"2011.0\",\"2011.0\",\"2015.0\",\"2005.0\",\"2005.0\",\"2003.0\",\"2015.0\",\"2010.0\",\"2009.0\",\"2015.0\",\"2015.0\",\"2009.0\",\"2009.0\",\"2009.0\",\"2009.0\",\"2015.0\",\"2008.0\",\"2005.0\",\"2009.0\",\"2010.0\",\"2007.0\",\"2009.0\",\"2007.0\",\"2009.0\",\"2007.0\",\"2009.0\",\"2015.0\",\"2009.0\",\"2009.0\",\"2012.0\",\"2011.0\",\"2011.0\",\"2011.0\",\"2006.0\",\"2006.0\",\"2009.0\",\"2011.0\",\"2006.0\",\"2002.0\",\"2015.0\",\"2011.0\",\"2011.0\",\"2005.0\",\"2015.0\",\"2015.0\",\"2015.0\",\"2012.0\",\"2011.0\",\"2011.0\",\"2011.0\",\"2008.0\",\"2010.0\",\"2011.0\",\"2015.0\",\"2009.0\",\"2009.0\",\"2009.0\",\"2010.0\",\"2015.0\",\"2009.0\",\"2007.0\",\"2015.0\",\"2015.0\",\"2013.0\",\"2015.0\",\"2009.0\",\"2008.0\",\"2012.0\",\"2011.0\",\"2011.0\",\"2006.0\",\"2005.0\",\"2004.0\",\"2015.0\",\"2015.0\",\"2015.0\",\"2015.0\",\"2011.0\",\"2005.0\",\"2005.0\",\"2004.0\",\"2007.0\",\"2007.0\",\"2015.0\",\"2015.0\",\"2015.0\",\"2012.0\",\"2011.0\",\"2009.0\",\"2009.0\",\"2004.0\",\"2007.0\",\"2004.0\",\"2011.0\",\"2002.0\",\"2009.0\",\"2004.0\",\"2004.0\",\"2015.0\",\"2002.0\",\"2004.0\",\"2015.0\",\"2015.0\",\"2015.0\",\"2004.0\",\"2004.0\",\"2004.0\",\"2011.0\",\"2011.0\",\"2015.0\",\"2015.0\",\"2015.0\",\"2015.0\",\"2013.0\",\"2012.0\",\"2012.0\",\"2012.0\",\"2012.0\",\"2012.0\",\"2002.0\",\"2011.0\",\"2004.0\",\"2010.0\",\"2004.0\",\"2011.0\",\"2004.0\",\"2015.0\",\"2004.0\",\"2002.0\",\"2005.0\",\"2012.0\",\"2000.0\",\"2004.0\",\"2010.0\",\"2005.0\",\"2004.0\",\"2015.0\",\"2015.0\",\"2013.0\",\"2013.0\",\"2015.0\",\"2015.0\",\"2009.0\",\"2009.0\",\"2015.0\",\"2015.0\",\"2011.0\",\"2015.0\",\"2011.0\",\"2011.0\",\"2011.0\",\"2002.0\",\"2012.0\",\"2011.0\",\"2015.0\",\"1998.0\",\"2008.0\",\"2001.0\",\"2012.0\",\"2012.0\",\"1998.0\",\"2010.0\",\"2008.0\",\"2010.0\",\"2008.0\",\"2008.0\",\"2004.0\",\"2015.0\",\"2015.0\",\"2015.0\",\"2015.0\",\"2004.0\",\"2012.0\",\"2015.0\",\"2015.0\",\"2015.0\",\"2015.0\",\"2004.0\",\"2004.0\",\"2011.0\",\"2004.0\",\"2011.0\",\"2011.0\",\"2005.0\",\"2003.0\",\"2009.0\",\"2009.0\",\"2015.0\",\"2009.0\",\"2015.0\",\"2015.0\",\"2015.0\",\"2009.0\",\"2007.0\",\"2015.0\",\"2015.0\",\"2015.0\",\"2003.0\",\"2003.0\",\"2015.0\",\"2015.0\",\"1998.0\",\"2011.0\",\"2010.0\",\"2011.0\",\"2015.0\",\"2006.0\",\"2015.0\",\"2011.0\",\"2004.0\",\"2009.0\",\"2015.0\",\"2011.0\",\"2004.0\",\"2004.0\",\"2015.0\",\"2015.0\",\"2011.0\",\"2015.0\",\"2007.0\",\"2015.0\",\"2011.0\",\"2011.0\",\"2002.0\",\"2010.0\",\"2015.0\",\"2015.0\",\"2015.0\",\"2003.0\",\"2006.0\",\"2004.0\",\"2005.0\",\"2015.0\",\"2015.0\",\"2015.0\",\"2004.0\",\"2005.0\",\"2011.0\",\"2011.0\",\"2011.0\",\"2004.0\",\"2009.0\",\"2011.0\",\"2015.0\",\"2015.0\",\"2015.0\",\"2015.0\",\"2015.0\",\"2015.0\",\"2010.0\",\"2015.0\",\"2015.0\",\"2011.0\",\"2009.0\",\"2009.0\",\"2009.0\",\"2001.0\",\"2009.0\",\"2007.0\",\"2007.0\",\"2007.0\",\"2007.0\",\"2015.0\",\"2015.0\",\"2009.0\",\"2012.0\",\"2006.0\",\"2011.0\",\"2011.0\",\"2011.0\",\"2015.0\",\"2012.0\",\"2015.0\",\"2015.0\",\"2005.0\",\"2015.0\",\"2015.0\",\"2015.0\",\"2015.0\",\"2010.0\",\"2013.0\",\"2011.0\",\"2015.0\",\"2015.0\",\"2015.0\",\"2005.0\",\"2011.0\",\"2011.0\",\"2015.0\",\"2004.0\",\"2003.0\",\"2003.0\",\"2011.0\",\"2011.0\",\"2012.0\",\"2015.0\",\"2015.0\",\"2010.0\",\"2009.0\",\"2009.0\",\"2009.0\",\"2009.0\",\"2009.0\",\"2011.0\",\"2011.0\",\"2015.0\",\"2007.0\",\"2015.0\",\"2013.0\",\"2015.0\",\"2009.0\",\"2009.0\",\"2015.0\",\"2009.0\",\"2015.0\",\"2015.0\",\"2015.0\",\"2015.0\",\"2015.0\",\"2015.0\",\"2015.0\",\"2008.0\",\"2008.0\",\"2011.0\",\"2008.0\",\"2008.0\",\"2009.0\",\"2009.0\",\"2011.0\",\"2011.0\",\"2011.0\",\"2011.0\",\"2015.0\",\"2015.0\",\"2015.0\",\"2015.0\",\"2013.0\",\"2015.0\",\"2011.0\",\"2011.0\",\"2011.0\",\"2003.0\",\"2011.0\",\"2011.0\",\"2011.0\",\"2003.0\",\"2002.0\",\"2015.0\",\"1999.0\",\"2002.0\",\"2015.0\",\"2010.0\",\"2010.0\",\"2010.0\",\"2005.0\",\"2011.0\",\"2015.0\",\"2008.0\",\"2015.0\",\"2015.0\",\"2015.0\",\"2009.0\",\"2003.0\",\"2009.0\",\"1992.0\",\"2009.0\",\"2009.0\",\"2007.0\",\"2004.0\",\"2004.0\",\"2015.0\",\"2009.0\",\"2011.0\",\"2015.0\",\"2015.0\",\"2013.0\",\"2011.0\",\"2011.0\",\"2015.0\",\"2007.0\",\"2009.0\",\"2009.0\",\"2004.0\",\"2015.0\",\"2015.0\",\"2013.0\",\"2009.0\",\"2015.0\",\"2015.0\",\"2015.0\",\"2007.0\",\"1998.0\",\"2008.0\",\"2008.0\",\"2010.0\",\"2010.0\",\"2008.0\",\"2000.0\",\"2010.0\",\"2000.0\",\"2008.0\",\"2008.0\",\"2009.0\",\"2009.0\",\"2011.0\",\"2009.0\",\"2015.0\",\"2015.0\",\"2008.0\",\"2008.0\",\"2011.0\",\"2008.0\",\"2011.0\",\"2013.0\",\"2009.0\",\"2009.0\",\"2010.0\",\"2015.0\",\"2009.0\",\"2009.0\",\"2011.0\",\"2011.0\",\"2004.0\",\"1998.0\",\"1997.0\",\"2011.0\",\"1998.0\",\"2010.0\",\"2000.0\",\"2009.0\",\"1998.0\",\"2013.0\",\"2012.0\",\"2001.0\",\"2012.0\",\"1997.0\",\"2012.0\",\"1999.0\",\"2008.0\",\"1998.0\",\"2008.0\",\"2010.0\",\"1998.0\",\"1998.0\",\"2010.0\",\"1998.0\",\"1998.0\",\"1998.0\",\"1998.0\",\"1998.0\",\"2010.0\",\"2009.0\",\"1998.0\",\"1997.0\",\"2007.0\",\"2007.0\",\"1999.0\",\"2000.0\",\"1998.0\",\"2004.0\",\"2009.0\",\"2009.0\",\"2010.0\",\"1993.0\",\"2008.0\",\"2008.0\",\"2003.0\",\"1998.0\",\"2007.0\",\"2012.0\",\"1998.0\",\"1999.0\",\"2006.0\",\"2008.0\",\"2012.0\",\"2003.0\",\"2007.0\",\"2009.0\",\"2010.0\",\"2009.0\",\"2009.0\",\"2009.0\",\"2009.0\",\"2010.0\",\"2010.0\",\"2010.0\",\"2010.0\",\"2009.0\",\"1998.0\",\"2010.0\",\"2010.0\",\"1999.0\",\"2010.0\",\"2000.0\",\"2000.0\",\"2015.0\",\"2003.0\",\"1998.0\",\"2008.0\",\"2010.0\",\"2012.0\",\"2013.0\",\"2000.0\",\"2013.0\",\"2004.0\",\"2013.0\",\"2004.0\",\"2008.0\",\"2004.0\",\"2012.0\",\"2013.0\",\"2000.0\",\"2013.0\",\"2003.0\",\"2012.0\",\"2002.0\",\"2015.0\",\"2002.0\",\"2005.0\",\"2015.0\",\"2001.0\",\"2012.0\",\"2009.0\",\"2004.0\",\"1998.0\",\"2004.0\",\"2011.0\",\"2011.0\",\"2011.0\",\"2011.0\",\"2013.0\",\"2010.0\",\"2013.0\",\"2012.0\",\"2012.0\",\"2012.0\",\"2013.0\",\"2001.0\",\"2002.0\",\"2009.0\",\"2012.0\",\"2012.0\",\"2000.0\",\"2005.0\",\"2002.0\",\"2004.0\",\"2010.0\",\"2010.0\",\"2010.0\",\"2012.0\",\"2013.0\",\"2013.0\",\"2012.0\",\"2013.0\",\"2010.0\",\"2010.0\",\"2010.0\",\"2009.0\",\"2012.0\",\"2012.0\",\"2013.0\",\"2013.0\",\"2002.0\",\"2010.0\",\"2012.0\",\"2012.0\",\"2013.0\",\"2011.0\",\"2010.0\",\"2010.0\",\"2010.0\",\"2009.0\",\"2010.0\",\"2009.0\",\"2009.0\",\"2009.0\",\"2010.0\",\"2010.0\",\"2010.0\",\"2010.0\",\"2011.0\",\"2012.0\",\"2013.0\",\"2013.0\",\"2010.0\",\"2010.0\",\"2009.0\",\"2012.0\",\"2009.0\",\"2009.0\",\"2009.0\",\"2009.0\",\"2012.0\",\"2013.0\",\"2013.0\",\"2013.0\",\"2013.0\",\"2011.0\",\"2010.0\",\"2012.0\",\"2010.0\",\"2010.0\",\"2009.0\",\"2010.0\",\"2007.0\",\"2009.0\",\"2009.0\",\"2011.0\",\"2010.0\",\"2001.0\",\"2012.0\",\"2011.0\",\"2011.0\",\"2009.0\",\"2012.0\",\"2012.0\",\"2009.0\",\"2010.0\",\"2013.0\",\"2012.0\",\"2009.0\",\"2010.0\",\"2010.0\",\"2010.0\",\"2010.0\",\"2010.0\",\"2010.0\",\"2010.0\",\"2010.0\",\"2001.0\",\"2002.0\",\"2011.0\",\"2010.0\",\"2010.0\",\"2010.0\",\"2010.0\",\"2009.0\",\"2009.0\",\"2010.0\",\"2010.0\",\"2001.0\",\"2012.0\",\"2013.0\",\"2006.0\",\"2012.0\",\"2011.0\",\"2001.0\",\"2000.0\",\"2011.0\",\"2010.0\",\"2013.0\",\"2013.0\",\"2011.0\",\"2012.0\",\"2012.0\",\"2012.0\",\"2012.0\",\"2012.0\",\"2011.0\",\"2012.0\",\"2001.0\",\"2012.0\",\"2013.0\",\"2013.0\",\"2011.0\",\"2010.0\",\"2011.0\",\"2011.0\",\"2000.0\",\"2013.0\",\"2013.0\",\"2013.0\",\"2012.0\",\"2013.0\",\"2011.0\",\"2012.0\",\"2013.0\",\"2011.0\",\"2002.0\",\"2011.0\",\"2012.0\",\"2012.0\",\"2010.0\",\"2013.0\",\"2013.0\",\"2012.0\",\"2013.0\",\"2010.0\",\"2013.0\",\"2005.0\",\"2004.0\",\"2002.0\",\"2000.0\",\"2011.0\",\"2009.0\",\"2009.0\",\"2009.0\",\"2013.0\",\"2010.0\",\"2010.0\",\"2009.0\",\"2010.0\",\"2002.0\",\"2001.0\",\"2013.0\",\"2013.0\",\"2012.0\",\"2000.0\",\"2004.0\",\"2012.0\",\"2012.0\",\"2011.0\",\"2011.0\",\"2009.0\",\"2013.0\",\"2002.0\",\"2012.0\",\"2013.0\",\"2013.0\",\"2004.0\",\"2011.0\",\"2008.0\",\"2007.0\",\"2007.0\",\"2007.0\",\"2007.0\",\"2010.0\",\"2010.0\",\"2012.0\",\"2012.0\",\"2013.0\",\"2013.0\",\"2009.0\",\"2010.0\",\"2009.0\",\"2010.0\",\"2010.0\",\"2012.0\",\"2009.0\",\"2012.0\",\"2011.0\",\"2011.0\",\"2000.0\",\"2013.0\",\"2013.0\",\"2012.0\",\"2012.0\",\"2004.0\",\"2011.0\",\"2013.0\",\"2013.0\",\"2012.0\",\"2012.0\",\"2012.0\",\"2012.0\",\"2013.0\",\"2004.0\",\"2011.0\",\"2000.0\",\"2012.0\",\"2012.0\",\"2010.0\",\"2004.0\",\"2013.0\",\"2012.0\",\"2012.0\",\"2012.0\",\"2012.0\",\"2004.0\",\"2012.0\",\"2000.0\",\"2003.0\",\"2002.0\",\"2013.0\",\"2012.0\",\"2012.0\",\"2010.0\",\"2012.0\",\"2002.0\",\"1998.0\",\"1998.0\",\"1998.0\",\"2004.0\",\"2015.0\",\"2000.0\",\"2002.0\",\"2001.0\",\"2005.0\",\"1998.0\",\"2015.0\",\"2006.0\",\"2002.0\",\"2004.0\",\"2001.0\",\"2010.0\",\"2010.0\",\"2004.0\",\"2005.0\",\"2004.0\",\"2006.0\",\"2004.0\",\"2004.0\",\"2008.0\",\"2000.0\",\"2004.0\",\"2000.0\",\"2005.0\",\"2004.0\",\"2015.0\",\"2015.0\",\"2015.0\",\"2015.0\",\"2001.0\",\"2011.0\",\"2005.0\",\"2005.0\",\"2002.0\",\"2004.0\",\"2002.0\",\"2002.0\",\"2015.0\",\"2006.0\",\"2004.0\",\"1998.0\",\"1990.0\",\"1991.0\",\"2015.0\",\"1998.0\",\"2015.0\",\"2008.0\",\"2000.0\",\"2004.0\",\"2001.0\",\"2002.0\",\"2002.0\",\"2002.0\",\"2002.0\",\"2002.0\",\"1998.0\",\"2000.0\",\"2004.0\",\"2003.0\",\"1998.0\",\"1998.0\",\"2001.0\",\"2007.0\",\"2007.0\",\"2008.0\",\"2004.0\",\"2007.0\",\"2007.0\",\"2007.0\",\"2002.0\",\"2008.0\",\"1998.0\",\"1998.0\",\"2005.0\",\"2000.0\",\"2002.0\",\"2000.0\",\"2004.0\",\"2005.0\",\"2001.0\",\"2009.0\",\"2007.0\",\"2004.0\",\"2004.0\",\"2007.0\",\"1998.0\",\"2000.0\",\"2007.0\",\"2000.0\",\"2005.0\",\"2000.0\",\"2000.0\",\"2005.0\",\"2007.0\",\"2007.0\",\"2000.0\",\"2007.0\",\"2007.0\",\"2007.0\",\"2000.0\",\"2007.0\",\"2005.0\",\"2003.0\",\"1998.0\",\"2001.0\",\"2005.0\",\"2005.0\",\"2005.0\",\"2005.0\",\"2005.0\",\"2015.0\",\"2002.0\",\"2000.0\",\"2005.0\",\"2005.0\",\"2002.0\",\"2007.0\",\"1993.0\",\"2010.0\",\"1998.0\",\"1999.0\",\"2004.0\",\"2004.0\",\"2010.0\",\"2011.0\",\"2012.0\",\"2012.0\",\"2009.0\",\"2007.0\",\"1998.0\",\"2008.0\",\"2008.0\",\"2010.0\",\"2010.0\",\"2010.0\",\"2002.0\",\"2015.0\",\"2015.0\",\"2015.0\",\"2015.0\",\"2015.0\",\"2005.0\",\"2002.0\",\"2015.0\",\"2015.0\",\"2015.0\",\"2015.0\",\"2015.0\",\"2015.0\",\"2015.0\",\"2015.0\",\"2015.0\",\"2015.0\",\"2015.0\",\"2015.0\",\"2010.0\",\"2002.0\",\"2001.0\",\"2006.0\",\"2000.0\",\"2002.0\",\"2005.0\",\"2006.0\",\"2002.0\",\"2004.0\",\"2000.0\",\"2004.0\",\"2004.0\",\"2004.0\",\"2004.0\",\"2001.0\",\"2001.0\",\"2010.0\",\"2004.0\",\"2005.0\",\"2004.0\",\"2005.0\",\"2006.0\",\"2000.0\",\"2001.0\",\"2001.0\",\"2004.0\",\"2006.0\",\"2011.0\",\"2012.0\",\"2011.0\",\"2004.0\",\"2004.0\",\"2005.0\",\"2004.0\",\"2002.0\",\"2003.0\",\"2003.0\",\"2004.0\",\"2005.0\",\"2005.0\",\"2004.0\",\"2005.0\",\"2003.0\",\"2000.0\",\"2000.0\",\"2004.0\",\"2004.0\",\"2002.0\",\"2004.0\",\"2002.0\",\"2000.0\",\"2000.0\",\"2001.0\",\"2006.0\",\"2004.0\",\"2003.0\",\"2005.0\",\"2013.0\",\"2004.0\",\"2004.0\",\"2002.0\",\"2004.0\",\"2005.0\",\"2005.0\",\"2005.0\",\"2010.0\",\"2009.0\",\"2009.0\",\"2009.0\",\"2004.0\",\"2005.0\",\"2003.0\",\"2005.0\",\"2006.0\",\"2006.0\",\"2002.0\",\"2003.0\",\"2004.0\",\"2015.0\",\"2015.0\",\"2015.0\",\"2006.0\",\"2001.0\",\"2001.0\",\"2003.0\",\"2003.0\",\"2003.0\",\"2004.0\",\"2015.0\",\"2015.0\",\"2015.0\",\"2004.0\",\"2005.0\",\"2001.0\",\"2010.0\",\"2010.0\",\"2010.0\",\"2015.0\",\"2007.0\",\"1990.0\",\"2015.0\",\"2015.0\",\"2015.0\",\"2015.0\",\"2015.0\",\"2015.0\",\"2015.0\",\"2015.0\",\"2013.0\",\"2013.0\",\"2013.0\",\"2002.0\",\"2004.0\",\"2004.0\",\"2004.0\",\"2004.0\",\"2005.0\",\"2013.0\",\"2015.0\",\"2015.0\",\"2015.0\",\"2015.0\",\"2015.0\",\"2015.0\",\"2015.0\",\"2015.0\",\"2015.0\",\"2015.0\",\"2015.0\",\"2011.0\",\"2001.0\",\"2015.0\",\"2015.0\",\"2015.0\",\"2015.0\",\"2004.0\",\"2015.0\",\"2015.0\",\"2015.0\",\"2015.0\",\"2015.0\",\"2015.0\",\"2004.0\",\"2004.0\",\"2004.0\",\"2000.0\",\"2001.0\",\"2015.0\",\"2015.0\",\"2015.0\",\"2015.0\",\"2015.0\",\"2015.0\",\"2015.0\",\"2015.0\",\"2015.0\",\"2015.0\",\"2015.0\",\"2015.0\",\"2015.0\",\"1999.0\",\"2015.0\",\"2015.0\",\"2015.0\",\"2015.0\",\"2011.0\",\"2011.0\",\"2011.0\",\"2012.0\",\"2015.0\",\"2015.0\",\"2015.0\",\"2015.0\",\"2013.0\",\"2005.0\",\"2000.0\",\"2003.0\",\"2015.0\",\"2015.0\",\"2015.0\",\"2015.0\",\"2015.0\",\"2015.0\",\"2015.0\",\"2015.0\",\"2015.0\",\"2015.0\",\"2015.0\",\"2015.0\",\"2015.0\",\"2015.0\",\"2015.0\",\"2015.0\",\"2015.0\",\"2015.0\",\"2015.0\",\"2015.0\",\"2010.0\",\"2015.0\",\"2015.0\",\"2015.0\",\"2015.0\",\"2015.0\",\"2015.0\",\"2015.0\",\"2015.0\",\"2015.0\",\"2015.0\",\"2015.0\",\"2015.0\",\"2015.0\",\"2015.0\",\"2011.0\",\"2011.0\",\"2015.0\",\"2015.0\",\"2015.0\",\"2015.0\",\"2015.0\",\"2015.0\",\"2015.0\",\"2015.0\",\"2015.0\",\"2015.0\",\"2015.0\",\"2002.0\",\"2000.0\",\"2004.0\",\"2001.0\",\"2002.0\",\"2003.0\",\"2003.0\",\"2001.0\",\"2015.0\",\"2015.0\",\"2015.0\",\"2015.0\",\"2015.0\",\"2008.0\",\"2015.0\",\"2015.0\",\"2015.0\",\"2002.0\",\"2003.0\",\"2015.0\",\"2015.0\",\"2015.0\",\"2015.0\",\"2015.0\",\"2015.0\",\"2015.0\",\"2015.0\",\"2002.0\",\"2004.0\",\"2004.0\",\"2003.0\",\"2004.0\",\"2010.0\",\"2010.0\",\"2010.0\",\"2015.0\",\"2015.0\",\"2015.0\",\"2015.0\",\"2015.0\",\"2009.0\",\"2009.0\",\"2009.0\",\"2015.0\",\"2015.0\",\"2015.0\",\"2015.0\",\"2015.0\",\"1986.0\",\"1990.0\",\"1998.0\",\"1998.0\",\"1999.0\",\"2008.0\",\"2009.0\",\"2009.0\",\"2008.0\",\"2008.0\",\"2004.0\",\"2004.0\",\"2004.0\",\"2012.0\",\"2012.0\",\"2011.0\",\"2004.0\",\"2004.0\",\"2012.0\",\"1998.0\",\"2011.0\",\"2008.0\",\"2008.0\",\"2012.0\",\"2008.0\",\"2009.0\",\"2009.0\",\"2008.0\",\"2005.0\",\"2007.0\",\"2007.0\",\"2007.0\",\"2007.0\",\"2007.0\",\"1998.0\",\"1998.0\",\"2007.0\",\"1998.0\",\"2004.0\",\"1998.0\",\"1998.0\",\"2007.0\",\"2007.0\",\"1998.0\",\"1998.0\",\"2007.0\",\"1998.0\",\"1999.0\",\"2007.0\",\"1999.0\",\"2015.0\",\"2015.0\",\"2015.0\",\"2015.0\",\"2015.0\",\"2015.0\",\"2015.0\",\"2015.0\",\"2015.0\",\"2015.0\",\"1989.0\",\"2015.0\",\"2015.0\",\"2015.0\",\"2015.0\",\"2015.0\",\"2015.0\",\"2015.0\",\"2015.0\",\"2015.0\",\"2015.0\",\"2015.0\",\"2015.0\",\"2015.0\",\"2015.0\",\"2015.0\",\"2015.0\",\"2015.0\",\"2015.0\",\"2015.0\",\"2015.0\",\"2011.0\",\"2015.0\",\"2015.0\",\"2015.0\",\"2008.0\",\"2015.0\",\"2010.0\",\"2015.0\",\"2010.0\",\"2015.0\",\"2015.0\",\"2015.0\",\"2015.0\",\"2015.0\",\"2015.0\",\"2015.0\",\"2015.0\",\"2015.0\",\"2015.0\",\"2015.0\",\"2015.0\",\"1999.0\",\"2015.0\",\"2015.0\",\"2015.0\",\"1989.0\",\"1989.0\",\"1993.0\",\"1998.0\",\"1998.0\",\"1998.0\",\"1998.0\",\"2015.0\",\"2015.0\",\"2015.0\",\"2015.0\",\"2015.0\",\"2015.0\",\"2015.0\",\"2015.0\",\"2015.0\",\"2015.0\",\"1993.0\",\"1998.0\",\"2015.0\",\"2015.0\",\"1998.0\",\"1998.0\",\"1998.0\",\"1998.0\",\"2015.0\",\"1998.0\",\"2004.0\",\"2004.0\",\"2015.0\",\"2004.0\",\"2015.0\",\"2015.0\",\"2015.0\",\"2004.0\",\"2015.0\",\"2015.0\",\"2015.0\",\"2015.0\",\"2015.0\",\"1979.0\",\"2015.0\",\"1999.0\",\"1999.0\",\"1999.0\",\"2015.0\",\"2015.0\",\"2015.0\",\"2015.0\",\"2015.0\",\"2015.0\",\"2002.0\",\"1999.0\",\"1992.0\",\"1991.0\",\"1991.0\",\"1989.0\",\"2015.0\",\"2002.0\",\"2015.0\",\"2015.0\",\"2015.0\",\"2015.0\",\"2015.0\",\"2015.0\",\"2015.0\",\"2004.0\",\"1998.0\",\"1998.0\",\"1998.0\",\"2007.0\",\"2007.0\",\"2007.0\",\"1999.0\",\"1999.0\",\"1999.0\",\"1998.0\",\"2015.0\",\"2015.0\",\"2015.0\",\"2015.0\",\"2015.0\",\"2015.0\",\"1998.0\",\"1998.0\",\"1998.0\",\"1998.0\",\"1998.0\",\"1998.0\",\"1998.0\",\"2007.0\",\"2007.0\",\"2007.0\",\"1999.0\",\"1999.0\",\"2015.0\",\"2015.0\",\"1999.0\",\"1998.0\",\"2015.0\",\"2015.0\",\"2015.0\",\"2015.0\",\"2015.0\",\"2015.0\",\"2007.0\",\"2007.0\",\"2007.0\",\"2002.0\",\"2007.0\",\"2004.0\",\"2015.0\",\"2015.0\",\"2015.0\",\"2015.0\",\"2015.0\",\"2002.0\",\"2004.0\",\"2003.0\",\"1998.0\",\"2015.0\",\"1998.0\",\"1998.0\",\"2006.0\",\"2003.0\",\"2003.0\",\"2015.0\",\"2015.0\",\"1998.0\",\"1998.0\",\"1998.0\",\"1998.0\",\"2002.0\",\"2011.0\",\"2015.0\",\"2015.0\",\"2015.0\",\"1993.0\",\"1998.0\",\"1998.0\",\"2015.0\",\"1998.0\",\"1998.0\",\"2015.0\",\"1998.0\",\"1998.0\",\"1998.0\"]},{\"label\":\"Continent\",\"values\":[\"Asia\",\"Oceania\",\"Asia\",\"Asia\",\"Europe\",\"America\",\"America\",\"America\",\"America\",\"America\",\"America\",\"America\",\"America\",\"America\",\"America\",\"America\",\"America\",\"America\",\"America\",\"America\",\"America\",\"America\",\"America\",\"America\",\"America\",\"Europe\",\"America\",\"America\",\"America\",\"America\",\"Europe\",\"Europe\",\"Asia\",\"America\",\"Asia\",\"Asia\",\"Asia\",\"America\",\"America\",\"America\",\"America\",\"Asia\",\"Asia\",\"Asia\",\"Asia\",\"Asia\",\"Asia\",\"America\",\"America\",\"America\",\"Europe\",\"America\",\"America\",\"America\",\"Asia\",\"Asia\",\"Asia\",\"Asia\",\"America\",\"America\",\"Europe\",\"Asia\",\"America\",\"Europe\",\"Europe\",\"Europe\",\"Europe\",\"America\",\"Europe\",\"Europe\",\"Europe\",\"Europe\",\"Europe\",\"America\",\"America\",\"Europe\",\"Europe\",\"Europe\",\"Europe\",\"Europe\",\"Europe\",\"Europe\",\"Europe\",\"America\",\"Asia\",\"Asia\",\"Asia\",\"Asia\",\"Asia\",\"Asia\",\"Asia\",\"Europe\",\"America\",\"Europe\",\"Europe\",\"Europe\",\"America\",\"America\",\"Asia\",\"America\",\"Europe\",\"Europe\",\"America\",\"America\",\"Europe\",\"Europe\",\"Europe\",\"Europe\",\"Europe\",\"Europe\",\"America\",\"Europe\",\"Europe\",\"Europe\",\"Europe\",\"America\",\"Asia\",\"America\",\"Asia\",\"Asia\",\"Asia\",\"America\",\"Asia\",\"America\",\"America\",\"America\",\"Oceania\",\"Europe\",\"Asia\",\"Asia\",\"Asia\",\"America\",\"America\",\"America\",\"America\",\"America\",\"America\",\"America\",\"America\",\"America\",\"America\",\"America\",\"America\",\"America\",\"America\",\"America\",\"America\",\"America\",\"America\",\"America\",\"America\",\"America\",\"America\",\"America\",\"America\",\"America\",\"America\",\"America\",\"America\",\"America\",\"America\",\"America\",\"America\",\"America\",\"America\",\"America\",\"America\",\"America\",\"America\",\"America\",\"America\",\"America\",\"America\",\"America\",\"America\",\"America\",\"America\",\"America\",\"America\",\"America\",\"America\",\"America\",\"America\",\"America\",\"America\",\"America\",\"America\",\"America\",\"America\",\"America\",\"America\",\"America\",\"America\",\"America\",\"America\",\"America\",\"America\",\"America\",\"America\",\"America\",\"America\",\"America\",\"America\",\"America\",\"America\",\"America\",\"America\",\"America\",\"America\",\"America\",\"America\",\"America\",\"America\",\"America\",\"America\",\"America\",\"America\",\"America\",\"America\",\"America\",\"America\",\"America\",\"America\",\"America\",\"America\",\"America\",\"America\",\"America\",\"America\",\"Europe\",\"America\",\"America\",\"America\",\"America\",\"America\",\"America\",\"America\",\"America\",\"America\",\"America\",\"America\",\"America\",\"America\",\"America\",\"America\",\"America\",\"America\",\"America\",\"America\",\"America\",\"America\",\"America\",\"America\",\"America\",\"America\",\"America\",\"America\",\"America\",\"America\",\"America\",\"America\",\"America\",\"America\",\"America\",\"America\",\"America\",\"America\",\"America\",\"America\",\"America\",\"America\",\"America\",\"America\",\"America\",\"America\",\"America\",\"America\",\"America\",\"America\",\"America\",\"America\",\"America\",\"America\",\"America\",\"America\",\"America\",\"America\",\"America\",\"Asia\",\"America\",\"America\",\"America\",\"America\",\"America\",\"America\",\"America\",\"America\",\"America\",\"America\",\"America\",\"America\",\"America\",\"America\",\"America\",\"America\",\"America\",\"America\",\"America\",\"America\",\"America\",\"America\",\"America\",\"America\",\"America\",\"America\",\"America\",\"America\",\"America\",\"America\",\"America\",\"America\",\"America\",\"America\",\"America\",\"America\",\"America\",\"America\",\"America\",\"America\",\"America\",\"America\",\"America\",\"America\",\"America\",\"America\",\"America\",\"America\",\"America\",\"America\",\"America\",\"America\",\"America\",\"America\",\"America\",\"America\",\"America\",\"America\",\"America\",\"America\",\"America\",\"America\",\"America\",\"America\",\"America\",\"America\",\"America\",\"America\",\"America\",\"America\",\"America\",\"America\",\"America\",\"America\",\"America\",\"America\",\"America\",\"America\",\"America\",\"America\",\"America\",\"America\",\"America\",\"America\",\"America\",\"America\",\"America\",\"America\",\"America\",\"America\",\"America\",\"America\",\"America\",\"America\",\"America\",\"America\",\"America\",\"America\",\"America\",\"America\",\"America\",\"America\",\"America\",\"America\",\"America\",\"America\",\"America\",\"America\",\"America\",\"America\",\"America\",\"America\",\"America\",\"America\",\"America\",\"America\",\"America\",\"America\",\"America\",\"America\",\"America\",\"America\",\"America\",\"America\",\"America\",\"America\",\"America\",\"America\",\"America\",\"America\",\"America\",\"America\",\"America\",\"America\",\"America\",\"America\",\"America\",\"America\",\"America\",\"America\",\"America\",\"America\",\"America\",\"America\",\"America\",\"America\",\"America\",\"America\",\"America\",\"America\",\"America\",\"America\",\"America\",\"America\",\"America\",\"America\",\"America\",\"America\",\"America\",\"America\",\"America\",\"America\",\"America\",\"America\",\"America\",\"America\",\"America\",\"America\",\"America\",\"America\",\"America\",\"America\",\"Europe\",\"Europe\",\"Europe\",\"Oceania\",\"America\",\"America\",\"America\",\"Oceania\",\"Asia\",\"America\",\"Oceania\",\"Oceania\",\"America\",\"America\",\"America\",\"America\",\"Oceania\",\"Europe\",\"America\",\"America\",\"America\",\"America\",\"America\",\"America\",\"America\",\"America\",\"America\",\"Oceania\",\"America\",\"America\",\"America\",\"America\",\"America\",\"America\",\"America\",\"America\",\"America\",\"America\",\"America\",\"America\",\"Oceania\",\"America\",\"America\",\"America\",\"Oceania\",\"Oceania\",\"Oceania\",\"America\",\"America\",\"America\",\"America\",\"Asia\",\"America\",\"America\",\"Oceania\",\"America\",\"America\",\"America\",\"America\",\"Oceania\",\"America\",\"America\",\"Oceania\",\"Oceania\",\"America\",\"Oceania\",\"Asia\",\"America\",\"America\",\"America\",\"America\",\"America\",\"America\",\"America\",\"Oceania\",\"Oceania\",\"Oceania\",\"Oceania\",\"America\",\"America\",\"America\",\"America\",\"America\",\"America\",\"Oceania\",\"Oceania\",\"Oceania\",\"America\",\"America\",\"America\",\"America\",\"America\",\"America\",\"America\",\"America\",\"America\",\"Europe\",\"America\",\"America\",\"Oceania\",\"America\",\"America\",\"Oceania\",\"Oceania\",\"Oceania\",\"America\",\"America\",\"America\",\"America\",\"America\",\"Oceania\",\"Oceania\",\"Oceania\",\"Oceania\",\"America\",\"America\",\"America\",\"America\",\"Europe\",\"Europe\",\"America\",\"America\",\"America\",\"America\",\"America\",\"America\",\"Asia\",\"Oceania\",\"America\",\"America\",\"America\",\"America\",\"Asia\",\"America\",\"America\",\"America\",\"America\",\"Oceania\",\"Oceania\",\"America\",\"America\",\"Oceania\",\"Oceania\",\"Europe\",\"Europe\",\"Oceania\",\"Oceania\",\"America\",\"Oceania\",\"America\",\"America\",\"America\",\"America\",\"America\",\"America\",\"Oceania\",\"Asia\",\"Europe\",\"Asia\",\"Europe\",\"Europe\",\"Asia\",\"Asia\",\"Asia\",\"Europe\",\"America\",\"America\",\"Asia\",\"Oceania\",\"Oceania\",\"Oceania\",\"Oceania\",\"America\",\"America\",\"Oceania\",\"Oceania\",\"Oceania\",\"Oceania\",\"America\",\"America\",\"America\",\"America\",\"America\",\"America\",\"America\",\"America\",\"America\",\"America\",\"Oceania\",\"America\",\"Oceania\",\"Oceania\",\"Oceania\",\"America\",\"America\",\"Oceania\",\"Oceania\",\"Oceania\",\"America\",\"America\",\"Oceania\",\"Oceania\",\"Asia\",\"America\",\"America\",\"Europe\",\"Oceania\",\"America\",\"Oceania\",\"Europe\",\"America\",\"America\",\"Oceania\",\"America\",\"America\",\"America\",\"Oceania\",\"Oceania\",\"America\",\"Oceania\",\"America\",\"Oceania\",\"America\",\"America\",\"America\",\"America\",\"Oceania\",\"Oceania\",\"Oceania\",\"America\",\"America\",\"America\",\"America\",\"Oceania\",\"Oceania\",\"Oceania\",\"America\",\"America\",\"America\",\"America\",\"America\",\"America\",\"America\",\"America\",\"Oceania\",\"Oceania\",\"Oceania\",\"Oceania\",\"Oceania\",\"Oceania\",\"Europe\",\"Oceania\",\"Oceania\",\"America\",\"America\",\"America\",\"America\",\"Oceania\",\"America\",\"America\",\"America\",\"America\",\"America\",\"Oceania\",\"Oceania\",\"America\",\"America\",\"America\",\"America\",\"America\",\"America\",\"Oceania\",\"America\",\"Oceania\",\"Oceania\",\"America\",\"Oceania\",\"Oceania\",\"Oceania\",\"Oceania\",\"Europe\",\"America\",\"America\",\"Oceania\",\"Oceania\",\"Oceania\",\"America\",\"America\",\"America\",\"Oceania\",\"America\",\"America\",\"America\",\"America\",\"America\",\"America\",\"Oceania\",\"Oceania\",\"Asia\",\"Asia\",\"America\",\"Asia\",\"America\",\"America\",\"America\",\"America\",\"Oceania\",\"America\",\"Oceania\",\"America\",\"Oceania\",\"America\",\"America\",\"Oceania\",\"Asia\",\"Oceania\",\"Oceania\",\"Oceania\",\"Oceania\",\"Oceania\",\"Oceania\",\"Oceania\",\"Asia\",\"Europe\",\"Asia\",\"Asia\",\"Asia\",\"Europe\",\"Europe\",\"Asia\",\"Asia\",\"America\",\"America\",\"Oceania\",\"Oceania\",\"Oceania\",\"Oceania\",\"America\",\"Oceania\",\"America\",\"America\",\"America\",\"America\",\"Europe\",\"Europe\",\"America\",\"America\",\"America\",\"Oceania\",\"Asia\",\"America\",\"Oceania\",\"Asia\",\"Asia\",\"Europe\",\"America\",\"America\",\"Oceania\",\"Asia\",\"Oceania\",\"Oceania\",\"Oceania\",\"America\",\"America\",\"America\",\"Oceania\",\"America\",\"America\",\"America\",\"America\",\"America\",\"Oceania\",\"America\",\"America\",\"Oceania\",\"Oceania\",\"America\",\"America\",\"Asia\",\"Oceania\",\"Africa\",\"America\",\"America\",\"America\",\"Oceania\",\"Oceania\",\"America\",\"America\",\"Oceania\",\"Oceania\",\"Oceania\",\"Africa\",\"Asia\",\"Asia\",\"Asia\",\"Asia\",\"Europe\",\"Asia\",\"Asia\",\"Asia\",\"Asia\",\"Asia\",\"Europe\",\"America\",\"America\",\"Asia\",\"America\",\"Oceania\",\"Oceania\",\"Europe\",\"Asia\",\"America\",\"Asia\",\"America\",\"America\",\"America\",\"America\",\"Asia\",\"Oceania\",\"Asia\",\"America\",\"America\",\"Asia\",\"Asia\",\"Asia\",\"Oceania\",\"Asia\",\"Asia\",\"Asia\",\"Asia\",\"Asia\",\"Asia\",\"America\",\"America\",\"Asia\",\"America\",\"Asia\",\"America\",\"Asia\",\"Asia\",\"Asia\",\"Asia\",\"Asia\",\"Asia\",\"Asia\",\"Europe\",\"Asia\",\"Europe\",\"Asia\",\"Asia\",\"Europe\",\"Asia\",\"Asia\",\"Asia\",\"Asia\",\"Asia\",\"Asia\",\"Asia\",\"America\",\"Asia\",\"Oceania\",\"Asia\",\"Asia\",\"Europe\",\"Europe\",\"America\",\"Asia\",\"Europe\",\"Asia\",\"Asia\",\"Africa\",\"Asia\",\"Asia\",\"America\",\"Asia\",\"Africa\",\"America\",\"America\",\"Europe\",\"Europe\",\"Europe\",\"Europe\",\"Europe\",\"Europe\",\"Europe\",\"Europe\",\"Europe\",\"Asia\",\"Asia\",\"Asia\",\"Asia\",\"Asia\",\"Europe\",\"Asia\",\"America\",\"America\",\"Oceania\",\"America\",\"Asia\",\"Asia\",\"Asia\",\"America\",\"America\",\"America\",\"America\",\"America\",\"America\",\"America\",\"America\",\"America\",\"America\",\"America\",\"America\",\"America\",\"America\",\"Europe\",\"America\",\"Oceania\",\"America\",\"America\",\"Oceania\",\"America\",\"America\",\"Europe\",\"Asia\",\"Africa\",\"Asia\",\"America\",\"America\",\"America\",\"America\",\"America\",\"America\",\"America\",\"America\",\"America\",\"America\",\"America\",\"America\",\"America\",\"America\",\"America\",\"America\",\"America\",\"America\",\"America\",\"America\",\"America\",\"America\",\"America\",\"America\",\"America\",\"America\",\"America\",\"America\",\"America\",\"America\",\"America\",\"America\",\"America\",\"America\",\"America\",\"America\",\"America\",\"America\",\"America\",\"America\",\"America\",\"America\",\"America\",\"America\",\"America\",\"America\",\"America\",\"America\",\"America\",\"America\",\"America\",\"America\",\"America\",\"America\",\"America\",\"America\",\"America\",\"America\",\"America\",\"America\",\"America\",\"America\",\"America\",\"America\",\"America\",\"America\",\"America\",\"America\",\"America\",\"America\",\"America\",\"America\",\"America\",\"America\",\"America\",\"America\",\"America\",\"America\",\"America\",\"America\",\"America\",\"America\",\"America\",\"America\",\"America\",\"America\",\"America\",\"America\",\"America\",\"America\",\"America\",\"America\",\"America\",\"America\",\"America\",\"America\",\"America\",\"America\",\"America\",\"America\",\"America\",\"America\",\"America\",\"America\",\"America\",\"America\",\"America\",\"America\",\"America\",\"America\",\"America\",\"America\",\"America\",\"America\",\"America\",\"America\",\"America\",\"America\",\"America\",\"America\",\"America\",\"America\",\"America\",\"America\",\"America\",\"America\",\"America\",\"America\",\"America\",\"America\",\"America\",\"America\",\"America\",\"America\",\"America\",\"America\",\"America\",\"America\",\"America\",\"America\",\"America\",\"America\",\"America\",\"America\",\"America\",\"America\",\"America\",\"America\",\"America\",\"America\",\"America\",\"America\",\"America\",\"America\",\"America\",\"America\",\"America\",\"America\",\"America\",\"America\",\"America\",\"America\",\"America\",\"America\",\"America\",\"America\",\"America\",\"America\",\"America\",\"America\",\"America\",\"America\",\"America\",\"America\",\"America\",\"America\",\"America\",\"America\",\"America\",\"America\",\"America\",\"America\",\"America\",\"America\",\"America\",\"America\",\"America\",\"America\",\"America\",\"America\",\"America\",\"America\",\"America\",\"America\",\"America\",\"America\",\"America\",\"America\",\"America\",\"America\",\"America\",\"America\",\"America\",\"America\",\"America\",\"America\",\"America\",\"America\",\"America\",\"America\",\"America\",\"America\",\"Europe\",\"America\",\"America\",\"America\",\"America\",\"America\",\"America\",\"America\",\"America\",\"America\",\"America\",\"America\",\"America\",\"America\",\"America\",\"America\",\"America\",\"America\",\"America\",\"America\",\"America\",\"America\",\"America\",\"America\",\"America\",\"America\",\"America\",\"America\",\"America\",\"America\",\"America\",\"America\",\"America\",\"America\",\"America\",\"America\",\"America\",\"America\",\"America\",\"America\",\"America\",\"Europe\",\"Europe\",\"Asia\",\"America\",\"Oceania\",\"America\",\"America\",\"America\",\"America\",\"Europe\",\"Oceania\",\"America\",\"America\",\"America\",\"America\",\"Europe\",\"Europe\",\"America\",\"America\",\"America\",\"America\",\"America\",\"America\",\"Europe\",\"America\",\"America\",\"America\",\"America\",\"America\",\"Oceania\",\"Oceania\",\"Oceania\",\"Oceania\",\"America\",\"Europe\",\"America\",\"America\",\"America\",\"America\",\"America\",\"America\",\"Oceania\",\"America\",\"America\",\"Africa\",\"Africa\",\"America\",\"Oceania\",\"Asia\",\"Oceania\",\"America\",\"America\",\"America\",\"America\",\"America\",\"America\",\"America\",\"America\",\"America\",\"Asia\",\"America\",\"America\",\"America\",\"Europe\",\"Europe\",\"America\",\"America\",\"America\",\"America\",\"America\",\"America\",\"America\",\"America\",\"America\",\"Europe\",\"Europe\",\"Europe\",\"America\",\"America\",\"America\",\"America\",\"America\",\"America\",\"America\",\"America\",\"America\",\"America\",\"America\",\"America\",\"Europe\",\"America\",\"America\",\"America\",\"America\",\"America\",\"America\",\"America\",\"America\",\"America\",\"America\",\"America\",\"America\",\"America\",\"America\",\"America\",\"America\",\"America\",\"Europe\",\"America\",\"America\",\"America\",\"America\",\"America\",\"America\",\"Oceania\",\"America\",\"America\",\"America\",\"America\",\"America\",\"America\",\"Europe\",\"Europe\",\"Europe\",\"Europe\",\"Europe\",\"Asia\",\"Europe\",\"Europe\",\"Europe\",\"Europe\",\"Europe\",\"Africa\",\"Europe\",\"America\",\"Asia\",\"Europe\",\"Europe\",\"Europe\",\"America\",\"Oceania\",\"Oceania\",\"Oceania\",\"Oceania\",\"Oceania\",\"America\",\"America\",\"Oceania\",\"Oceania\",\"Oceania\",\"Oceania\",\"Oceania\",\"Oceania\",\"Oceania\",\"Oceania\",\"Oceania\",\"Oceania\",\"Oceania\",\"Oceania\",\"Europe\",\"America\",\"America\",\"America\",\"America\",\"America\",\"America\",\"America\",\"America\",\"America\",\"America\",\"America\",\"America\",\"America\",\"America\",\"America\",\"America\",\"Europe\",\"America\",\"America\",\"America\",\"America\",\"America\",\"America\",\"America\",\"America\",\"America\",\"America\",\"America\",\"America\",\"America\",\"America\",\"America\",\"America\",\"America\",\"America\",\"America\",\"America\",\"America\",\"America\",\"America\",\"America\",\"America\",\"America\",\"America\",\"America\",\"America\",\"America\",\"America\",\"America\",\"America\",\"America\",\"America\",\"America\",\"America\",\"America\",\"America\",\"America\",\"America\",\"America\",\"America\",\"America\",\"America\",\"America\",\"America\",\"America\",\"America\",\"America\",\"America\",\"America\",\"America\",\"America\",\"America\",\"America\",\"America\",\"America\",\"America\",\"America\",\"America\",\"Oceania\",\"Oceania\",\"Oceania\",\"America\",\"America\",\"America\",\"America\",\"America\",\"America\",\"America\",\"Oceania\",\"Oceania\",\"Oceania\",\"America\",\"America\",\"America\",\"America\",\"America\",\"America\",\"Oceania\",\"Africa\",\"America\",\"Oceania\",\"Oceania\",\"Oceania\",\"Oceania\",\"Oceania\",\"Oceania\",\"Oceania\",\"Oceania\",\"America\",\"America\",\"America\",\"America\",\"America\",\"America\",\"America\",\"America\",\"America\",\"America\",\"Oceania\",\"Oceania\",\"Oceania\",\"Oceania\",\"Oceania\",\"Oceania\",\"Oceania\",\"Oceania\",\"Oceania\",\"Oceania\",\"Oceania\",\"Europe\",\"America\",\"Oceania\",\"Oceania\",\"Oceania\",\"Oceania\",\"Asia\",\"Oceania\",\"Oceania\",\"Oceania\",\"Oceania\",\"Oceania\",\"Oceania\",\"America\",\"America\",\"America\",\"America\",\"America\",\"Oceania\",\"Oceania\",\"Oceania\",\"Oceania\",\"Oceania\",\"Oceania\",\"Oceania\",\"Oceania\",\"Oceania\",\"Oceania\",\"Oceania\",\"Oceania\",\"Oceania\",\"America\",\"Oceania\",\"Oceania\",\"Oceania\",\"Oceania\",\"Europe\",\"Europe\",\"Europe\",\"Europe\",\"Oceania\",\"Oceania\",\"Oceania\",\"Oceania\",\"America\",\"America\",\"America\",\"America\",\"Oceania\",\"Oceania\",\"Oceania\",\"Oceania\",\"Oceania\",\"Oceania\",\"Oceania\",\"Oceania\",\"Oceania\",\"Oceania\",\"Oceania\",\"Oceania\",\"Oceania\",\"Oceania\",\"Oceania\",\"Oceania\",\"Oceania\",\"Oceania\",\"Oceania\",\"Oceania\",\"Europe\",\"Oceania\",\"Oceania\",\"Oceania\",\"Oceania\",\"Oceania\",\"Oceania\",\"Oceania\",\"Oceania\",\"Oceania\",\"Oceania\",\"Oceania\",\"Oceania\",\"Oceania\",\"Oceania\",\"Europe\",\"Europe\",\"Oceania\",\"Oceania\",\"Oceania\",\"Oceania\",\"Oceania\",\"Oceania\",\"Oceania\",\"Oceania\",\"Oceania\",\"Oceania\",\"Oceania\",\"America\",\"America\",\"America\",\"America\",\"America\",\"America\",\"America\",\"America\",\"Oceania\",\"Oceania\",\"Oceania\",\"Oceania\",\"Oceania\",\"Europe\",\"Oceania\",\"Oceania\",\"Oceania\",\"America\",\"America\",\"Oceania\",\"Oceania\",\"Oceania\",\"Oceania\",\"Oceania\",\"Oceania\",\"Oceania\",\"Oceania\",\"America\",\"America\",\"America\",\"America\",\"America\",\"Europe\",\"Europe\",\"Europe\",\"Oceania\",\"Oceania\",\"Oceania\",\"Oceania\",\"Oceania\",\"Europe\",\"Europe\",\"Europe\",\"Oceania\",\"Oceania\",\"Oceania\",\"Oceania\",\"Oceania\",\"Europe\",\"Europe\",\"Europe\",\"Europe\",\"Europe\",\"Europe\",\"Europe\",\"Europe\",\"Europe\",\"Europe\",\"Asia\",\"Asia\",\"Oceania\",\"Europe\",\"Europe\",\"Europe\",\"Oceania\",\"Oceania\",\"Europe\",\"Asia\",\"Europe\",\"Asia\",\"Asia\",\"Europe\",\"Europe\",\"Europe\",\"Europe\",\"Europe\",\"Europe\",\"Africa\",\"Africa\",\"Africa\",\"Africa\",\"Africa\",\"Africa\",\"Europe\",\"Africa\",\"America\",\"Europe\",\"Asia\",\"America\",\"Africa\",\"Africa\",\"America\",\"Europe\",\"Africa\",\"Africa\",\"Asia\",\"Africa\",\"Africa\",\"Oceania\",\"Oceania\",\"Oceania\",\"Oceania\",\"Oceania\",\"Oceania\",\"Oceania\",\"Oceania\",\"Oceania\",\"Oceania\",\"Europe\",\"Oceania\",\"Oceania\",\"Oceania\",\"Oceania\",\"Oceania\",\"Oceania\",\"Oceania\",\"Oceania\",\"Oceania\",\"Oceania\",\"Oceania\",\"Oceania\",\"Oceania\",\"Oceania\",\"Oceania\",\"Oceania\",\"Oceania\",\"Oceania\",\"Oceania\",\"Oceania\",\"Europe\",\"Oceania\",\"Oceania\",\"Oceania\",\"Asia\",\"Oceania\",\"Europe\",\"Oceania\",\"Europe\",\"Oceania\",\"Oceania\",\"Oceania\",\"Oceania\",\"Oceania\",\"Oceania\",\"Oceania\",\"Oceania\",\"Oceania\",\"Oceania\",\"Oceania\",\"Oceania\",\"Asia\",\"Oceania\",\"Oceania\",\"Oceania\",\"Europe\",\"Europe\",\"Europe\",\"Europe\",\"America\",\"Europe\",\"Europe\",\"Oceania\",\"Oceania\",\"Oceania\",\"Oceania\",\"Oceania\",\"Oceania\",\"Oceania\",\"Oceania\",\"Oceania\",\"Oceania\",\"Europe\",\"Europe\",\"Oceania\",\"Oceania\",\"Asia\",\"Asia\",\"Asia\",\"Asia\",\"Oceania\",\"Asia\",\"Oceania\",\"Oceania\",\"Oceania\",\"Oceania\",\"Oceania\",\"Oceania\",\"Oceania\",\"Oceania\",\"Oceania\",\"Oceania\",\"Oceania\",\"Oceania\",\"Oceania\",\"Asia\",\"Oceania\",\"Africa\",\"Europe\",\"Europe\",\"Oceania\",\"Oceania\",\"Oceania\",\"Oceania\",\"Oceania\",\"Oceania\",\"Europe\",\"Asia\",\"Africa\",\"Africa\",\"Africa\",\"Africa\",\"Oceania\",\"Europe\",\"Oceania\",\"Oceania\",\"Oceania\",\"Oceania\",\"Oceania\",\"Oceania\",\"Oceania\",\"Europe\",\"Europe\",\"Europe\",\"America\",\"Africa\",\"Africa\",\"Africa\",\"Africa\",\"Africa\",\"Africa\",\"Asia\",\"Oceania\",\"Oceania\",\"Oceania\",\"Oceania\",\"Oceania\",\"Oceania\",\"Europe\",\"Europe\",\"Asia\",\"Africa\",\"Africa\",\"Africa\",\"Africa\",\"Africa\",\"Africa\",\"Africa\",\"Europe\",\"Europe\",\"Oceania\",\"Oceania\",\"Europe\",\"America\",\"Oceania\",\"Oceania\",\"Oceania\",\"Oceania\",\"Oceania\",\"Oceania\",\"Africa\",\"Africa\",\"Africa\",\"Europe\",\"Africa\",\"America\",\"Oceania\",\"Oceania\",\"Oceania\",\"Oceania\",\"Oceania\",\"America\",\"America\",\"America\",\"Europe\",\"Oceania\",\"Europe\",\"America\",\"America\",\"America\",\"America\",\"Oceania\",\"Oceania\",\"Europe\",\"Europe\",\"Europe\",\"Asia\",\"America\",\"America\",\"Oceania\",\"Oceania\",\"Oceania\",\"Europe\",\"Asia\",\"Europe\",\"Oceania\",\"America\",\"America\",\"Oceania\",\"America\",\"America\",\"America\"]},{\"label\":\"Beta.lactamase\",\"values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},{\"label\":\"cip_mic\",\"values\":[64.0,64.0,64.0,64.0,64.0,32.0,32.0,32.0,32.0,32.0,32.0,32.0,32.0,32.0,32.0,32.0,32.0,32.0,32.0,32.0,32.0,32.0,32.0,32.0,32.0,32.0,32.0,32.0,32.0,32.0,32.0,32.0,32.0,32.0,32.0,32.0,32.0,32.0,32.0,32.0,32.0,32.0,32.0,32.0,32.0,32.0,32.0,32.0,32.0,32.0,32.0,32.0,32.0,32.0,32.0,32.0,32.0,32.0,32.0,32.0,32.0,32.0,32.0,32.0,32.0,32.0,32.0,32.0,32.0,32.0,32.0,32.0,32.0,32.0,32.0,32.0,32.0,32.0,32.0,32.0,32.0,32.0,32.0,32.0,32.0,32.0,32.0,32.0,32.0,32.0,32.0,32.0,32.0,32.0,32.0,32.0,32.0,32.0,32.0,32.0,32.0,32.0,32.0,32.0,32.0,32.0,32.0,32.0,32.0,32.0,32.0,32.0,32.0,32.0,32.0,32.0,32.0,32.0,32.0,32.0,32.0,32.0,32.0,32.0,32.0,32.0,24.0,24.0,24.0,24.0,24.0,16.0,16.0,16.0,16.0,16.0,16.0,16.0,16.0,16.0,16.0,16.0,16.0,16.0,16.0,16.0,16.0,16.0,16.0,16.0,16.0,16.0,16.0,16.0,16.0,16.0,16.0,16.0,16.0,16.0,16.0,16.0,16.0,16.0,16.0,16.0,16.0,16.0,16.0,16.0,16.0,16.0,16.0,16.0,16.0,16.0,16.0,16.0,16.0,16.0,16.0,16.0,16.0,16.0,16.0,16.0,16.0,16.0,16.0,16.0,16.0,16.0,16.0,16.0,16.0,16.0,16.0,16.0,16.0,16.0,16.0,16.0,16.0,16.0,16.0,16.0,16.0,16.0,16.0,16.0,16.0,16.0,16.0,16.0,16.0,16.0,16.0,16.0,16.0,16.0,16.0,16.0,16.0,16.0,16.0,16.0,16.0,16.0,16.0,16.0,16.0,16.0,16.0,16.0,16.0,16.0,16.0,16.0,16.0,16.0,16.0,16.0,16.0,16.0,16.0,16.0,16.0,16.0,16.0,16.0,16.0,16.0,16.0,16.0,16.0,16.0,16.0,16.0,16.0,16.0,16.0,16.0,16.0,16.0,16.0,16.0,16.0,16.0,16.0,16.0,16.0,16.0,16.0,16.0,16.0,16.0,16.0,16.0,16.0,16.0,16.0,16.0,16.0,16.0,16.0,16.0,16.0,16.0,16.0,16.0,16.0,16.0,16.0,16.0,16.0,16.0,16.0,16.0,16.0,16.0,16.0,16.0,16.0,16.0,16.0,16.0,16.0,16.0,16.0,16.0,16.0,16.0,16.0,16.0,16.0,16.0,16.0,16.0,16.0,16.0,16.0,16.0,16.0,16.0,16.0,16.0,16.0,16.0,16.0,16.0,16.0,16.0,16.0,16.0,16.0,16.0,16.0,16.0,16.0,16.0,16.0,16.0,16.0,16.0,16.0,16.0,16.0,16.0,16.0,16.0,16.0,16.0,16.0,16.0,16.0,16.0,16.0,16.0,16.0,16.0,16.0,16.0,16.0,16.0,16.0,16.0,16.0,16.0,16.0,16.0,16.0,16.0,16.0,16.0,16.0,16.0,16.0,16.0,16.0,16.0,16.0,16.0,16.0,16.0,16.0,16.0,16.0,16.0,16.0,16.0,16.0,16.0,16.0,16.0,16.0,16.0,16.0,16.0,16.0,16.0,16.0,16.0,16.0,16.0,16.0,16.0,16.0,16.0,16.0,16.0,16.0,16.0,16.0,16.0,16.0,16.0,16.0,16.0,16.0,16.0,16.0,16.0,16.0,16.0,16.0,16.0,16.0,16.0,16.0,16.0,16.0,16.0,16.0,16.0,16.0,16.0,16.0,16.0,16.0,16.0,16.0,16.0,16.0,16.0,16.0,16.0,16.0,16.0,16.0,16.0,16.0,16.0,16.0,16.0,16.0,16.0,16.0,16.0,16.0,16.0,16.0,12.0,12.0,12.0,8.0,8.0,8.0,8.0,8.0,8.0,8.0,8.0,8.0,8.0,8.0,8.0,8.0,8.0,8.0,8.0,8.0,8.0,8.0,8.0,8.0,8.0,8.0,8.0,8.0,8.0,8.0,8.0,8.0,8.0,8.0,8.0,8.0,8.0,8.0,8.0,8.0,8.0,8.0,8.0,8.0,8.0,8.0,8.0,8.0,8.0,8.0,8.0,8.0,8.0,8.0,8.0,8.0,8.0,8.0,8.0,8.0,8.0,8.0,8.0,8.0,8.0,8.0,8.0,8.0,8.0,8.0,8.0,8.0,8.0,8.0,8.0,8.0,8.0,8.0,8.0,8.0,8.0,8.0,8.0,8.0,8.0,8.0,8.0,8.0,8.0,8.0,8.0,8.0,8.0,8.0,8.0,8.0,8.0,8.0,8.0,8.0,8.0,8.0,8.0,8.0,8.0,8.0,8.0,8.0,8.0,8.0,8.0,8.0,8.0,8.0,8.0,8.0,8.0,8.0,8.0,8.0,8.0,8.0,8.0,8.0,8.0,8.0,8.0,8.0,8.0,8.0,8.0,8.0,8.0,8.0,8.0,8.0,8.0,8.0,8.0,8.0,8.0,8.0,8.0,8.0,8.0,8.0,8.0,8.0,8.0,8.0,8.0,8.0,8.0,8.0,8.0,8.0,6.0,6.0,6.0,6.0,6.0,6.0,6.0,6.0,6.0,6.0,6.0,6.0,4.0,4.0,4.0,4.0,4.0,4.0,4.0,4.0,4.0,4.0,4.0,4.0,4.0,4.0,4.0,4.0,4.0,4.0,4.0,4.0,4.0,4.0,4.0,4.0,4.0,4.0,4.0,4.0,4.0,4.0,4.0,4.0,4.0,4.0,4.0,4.0,4.0,4.0,4.0,4.0,4.0,4.0,4.0,4.0,4.0,4.0,4.0,4.0,4.0,4.0,4.0,4.0,4.0,4.0,4.0,4.0,4.0,4.0,4.0,4.0,4.0,4.0,4.0,4.0,4.0,4.0,4.0,4.0,4.0,4.0,4.0,4.0,4.0,4.0,4.0,4.0,4.0,4.0,4.0,4.0,4.0,4.0,4.0,4.0,4.0,4.0,4.0,4.0,4.0,4.0,4.0,4.0,4.0,4.0,4.0,4.0,4.0,4.0,4.0,4.0,4.0,4.0,4.0,4.0,4.0,4.0,4.0,4.0,4.0,4.0,4.0,4.0,4.0,4.0,4.0,4.0,4.0,4.0,4.0,4.0,4.0,4.0,4.0,4.0,4.0,4.0,4.0,4.0,4.0,4.0,4.0,4.0,4.0,4.0,4.0,4.0,4.0,4.0,4.0,4.0,4.0,4.0,4.0,4.0,4.0,4.0,4.0,4.0,4.0,4.0,4.0,4.0,4.0,4.0,3.0,3.0,3.0,3.0,3.0,3.0,3.0,3.0,3.0,2.0,2.0,2.0,2.0,2.0,2.0,2.0,2.0,2.0,2.0,2.0,2.0,2.0,2.0,2.0,2.0,2.0,2.0,2.0,2.0,2.0,2.0,2.0,2.0,2.0,2.0,2.0,2.0,2.0,2.0,2.0,2.0,2.0,2.0,2.0,2.0,2.0,2.0,2.0,2.0,2.0,2.0,2.0,2.0,2.0,2.0,2.0,2.0,2.0,2.0,2.0,2.0,2.0,2.0,2.0,2.0,2.0,2.0,2.0,2.0,1.5,1.5,1.5,1.5,1.5,1.5,1.5,1.5,1.5,1.5,1.5,1.5,1.0,1.0,1.0,1.0,1.0,1.0,1.0,1.0,1.0,1.0,1.0,1.0,1.0,1.0,1.0,1.0,1.0,1.0,1.0,0.75,0.75,0.75,0.75,0.75,0.75,0.75,0.75,0.75,0.5,0.5,0.5,0.5,0.5,0.5,0.5,0.5,0.5,0.38,0.38,0.38,0.38,0.38,0.38,0.38,0.25,0.25,0.25,0.25,0.25,0.25,0.25,0.25,0.25,0.25,0.25,0.25,0.25,0.25,0.25,0.25,0.25,0.19,0.19,0.19,0.19,0.125,0.125,0.125,0.125,0.125,0.125,0.125,0.125,0.125,0.125,0.12,0.12,0.12,0.12,0.12,0.12,0.12,0.12,0.12,0.094,0.094,0.064,0.064,0.064,0.064,0.064,0.06,0.06,0.06,0.06,0.047,0.047,0.047,0.03,0.03,0.03,0.03,0.03,0.03,0.03,0.03,0.03,0.03,0.03,0.03,0.03,0.03,0.023,0.0169,0.016,0.016,0.016,0.016,0.016,0.016,0.016,0.016,0.016,0.016,0.015,0.015,0.015,0.015,0.015,0.015,0.015,0.015,0.015,0.015,0.015,0.015,0.015,0.015,0.015,0.015,0.015,0.015,0.015,0.015,0.015,0.015,0.015,0.015,0.015,0.015,0.015,0.015,0.015,0.015,0.015,0.015,0.015,0.015,0.015,0.015,0.015,0.015,0.015,0.015,0.015,0.015,0.015,0.015,0.015,0.015,0.015,0.015,0.015,0.015,0.015,0.015,0.015,0.015,0.015,0.015,0.015,0.015,0.015,0.015,0.015,0.015,0.015,0.015,0.015,0.015,0.015,0.015,0.015,0.015,0.015,0.015,0.015,0.015,0.015,0.015,0.015,0.015,0.015,0.015,0.015,0.015,0.015,0.015,0.015,0.015,0.015,0.015,0.015,0.015,0.015,0.015,0.015,0.015,0.015,0.015,0.015,0.015,0.015,0.015,0.015,0.015,0.015,0.015,0.015,0.015,0.015,0.015,0.015,0.015,0.015,0.015,0.015,0.015,0.015,0.015,0.015,0.015,0.015,0.015,0.015,0.015,0.015,0.015,0.015,0.015,0.015,0.015,0.015,0.015,0.015,0.015,0.015,0.015,0.015,0.015,0.015,0.015,0.015,0.015,0.015,0.015,0.015,0.015,0.015,0.015,0.015,0.015,0.015,0.015,0.015,0.015,0.015,0.015,0.015,0.015,0.015,0.015,0.015,0.015,0.015,0.015,0.015,0.015,0.015,0.015,0.015,0.015,0.015,0.015,0.015,0.015,0.015,0.015,0.015,0.015,0.015,0.015,0.015,0.015,0.015,0.015,0.015,0.015,0.015,0.015,0.015,0.015,0.015,0.015,0.015,0.015,0.015,0.015,0.015,0.015,0.015,0.015,0.015,0.015,0.015,0.015,0.015,0.015,0.015,0.015,0.015,0.015,0.015,0.015,0.015,0.015,0.015,0.015,0.015,0.015,0.015,0.015,0.015,0.015,0.015,0.015,0.015,0.015,0.015,0.015,0.015,0.015,0.015,0.015,0.015,0.015,0.015,0.015,0.015,0.015,0.015,0.015,0.015,0.015,0.015,0.015,0.015,0.015,0.015,0.015,0.015,0.015,0.015,0.015,0.015,0.015,0.015,0.012,0.012,0.012,0.008,0.008,0.008,0.008,0.008,0.008,0.008,0.008,0.008,0.008,0.008,0.008,0.008,0.008,0.008,0.008,0.008,0.008,0.008,0.008,0.008,0.008,0.008,0.008,0.008,0.008,0.008,0.008,0.008,0.008,0.008,0.008,0.008,0.008,0.008,0.008,0.008,0.008,0.008,0.008,0.008,0.008,0.008,0.008,0.008,0.008,0.008,0.008,0.008,0.008,0.008,0.008,0.008,0.008,0.008,0.008,0.008,0.008,0.008,0.008,0.008,0.008,0.008,0.008,0.008,0.008,0.008,0.008,0.008,0.008,0.008,0.008,0.008,0.008,0.008,0.008,0.008,0.008,0.008,0.008,0.008,0.008,0.008,0.008,0.008,0.008,0.008,0.008,0.008,0.008,0.008,0.008,0.008,0.008,0.008,0.008,0.008,0.008,0.008,0.008,0.008,0.008,0.008,0.008,0.008,0.008,0.008,0.008,0.008,0.008,0.008,0.008,0.008,0.008,0.008,0.008,0.008,0.008,0.006,0.006,0.006,0.006,0.006,0.006,0.006,0.006,0.006,0.006,0.006,0.006,0.006,0.006,0.006,0.006,0.006,0.006,0.004,0.004,0.004,0.004,0.004,0.004,0.004,0.004,0.004,0.004,0.004,0.004,0.004,0.004,0.004,0.004,0.004,0.004,0.004,0.004,0.004,0.004,0.004,0.004,0.004,0.004,0.004,0.004,0.004,0.004,0.004,0.004,0.004,0.004,0.004,0.004,0.004,0.004,0.004,0.004,0.004,0.004,0.004,0.004,0.004,0.004,0.004,0.004,0.004,0.004,0.004,0.004,0.004,0.004,0.004,0.004,0.004,0.004,0.004,0.004,0.004,0.004,0.004,0.004,0.004,0.004,0.004,0.004,0.004,0.004,0.004,0.004,0.004,0.004,0.004,0.004,0.004,0.004,0.004,0.004,0.004,0.004,0.004,0.004,0.004,0.004,0.004,0.004,0.004,0.004,0.004,0.004,0.004,0.004,0.004,0.004,0.004,0.004,0.004,0.004,0.004,0.004,0.004,0.004,0.004,0.004,0.004,0.004,0.004,0.004,0.004,0.004,0.004,0.004,0.004,0.004,0.004,0.004,0.004,0.004,0.004,0.004,0.004,0.004,0.004,0.004,0.004,0.004,0.004,0.004,0.004,0.004,0.004,0.004,0.004,0.004,0.004,0.004,0.004,0.004,0.004,0.004,0.004,0.004,0.004,0.004,0.004,0.004,0.004,0.004,0.004,0.004,0.004,0.004,0.004,0.004,0.004,0.004,0.004,0.004,0.004,0.004,0.004,0.004,0.004,0.004,0.004,0.004,0.004,0.004,0.004,0.004,0.004,0.004,0.004,0.004,0.004,0.004,0.004,0.004,0.004,0.004,0.004,0.004,0.004,0.004,0.004,0.004,0.004,0.004,0.004,0.004,0.004,0.004,0.004,0.004,0.004,0.004,0.004,0.004,0.004,0.004,0.004,0.004,0.004,0.004,0.004,0.004,0.004,0.004,0.004,0.004,0.004,0.004,0.004,0.004,0.004,0.004,0.004,0.004,0.004,0.004,0.004,0.004,0.004,0.004,0.004,0.004,0.004,0.004,0.004,0.004,0.004,0.004,0.004,0.004,0.004,0.004,0.004,0.004,0.004,0.004,0.004,0.004,0.004,0.004,0.004,0.004,0.004,0.004,0.004,0.004,0.004,0.004,0.004,0.004,0.004,0.004,0.004,0.004,0.004,0.004,0.004,0.004,0.004,0.004,0.004,0.004,0.004,0.004,0.004,0.004,0.004,0.004,0.004,0.004,0.004,0.004,0.004,0.004,0.004,0.004,0.004,0.004,0.004,0.004,0.004,0.004,0.004,0.004,0.004,0.004,0.004,0.004,0.003,0.003,0.003,0.003,0.003,0.003,0.003,0.003,0.003,0.003,0.003,0.003,0.003,0.003,0.003,0.003,0.003,0.003,0.003,0.003,0.003,0.003,0.003,0.003,0.003,0.003,0.003,0.003,0.003,0.003,0.003,0.003,0.003,0.003,0.003,0.003,0.003,0.003,0.003,0.003,0.003,0.003,0.003,0.003,0.003,0.003,0.003,0.003,0.003,0.003,0.002,0.002,0.002,0.002,0.002,0.002,0.002,0.002,0.002,0.002,0.002,0.002,0.002,0.002,0.002,0.002,0.002,0.002,0.002,0.002,0.002,0.002,0.002,0.002,0.002,0.002,0.002,0.002,0.002,0.002,0.002,0.002,0.002,0.002,0.002,0.002,0.002,0.002,0.002,0.002,0.002,0.002,0.002,0.002,0.002,0.002,0.002,0.002,0.002,0.002,0.002,0.002,0.002,0.002,0.002,0.002,0.002,0.002,0.002,0.002,0.002,0.002,0.002,0.002,0.002,0.002,0.002,0.002,0.002,0.002,0.002,0.002,0.002,0.002,0.002,0.002,0.002,0.002,0.002,0.002,0.002,0.002,0.002,0.002,0.002,0.002,0.002,0.002,0.002,0.002,0.002,0.002,0.002,0.002,0.002,0.002,0.002,0.002,0.002,0.002,0.002,0.002,0.002,0.002,0.002,0.002,0.002,0.002,0.002,0.002,0.002,0.002,0.002,0.002,0.002,0.002,0.002,0.002,0.002,0.002,0.002,0.002,0.002,0.002,0.002,0.002,0.002,0.002,0.002,0.002,0.002,0.002,0.002,0.002,0.002,0.002,0.002,0.002,0.002,0.002,0.002,0.002,0.002,0.002,0.002,0.002,0.002,0.002,0.002,0.002,0.002,0.002,0.002,0.002,0.002,0.002,0.002,0.002,0.002,0.002,0.002,0.002,0.002,0.002,0.002,0.002,0.002,0.002,0.002,0.002,0.002,0.002,0.002,0.002,0.002,0.002,0.002,0.002,0.002,0.002,0.002,0.002,0.002,0.002,0.002,0.002,0.002,0.002,0.002,0.002,0.002,0.002,0.002,0.002,0.002,0.002,0.002,0.002,0.002,0.002,0.002,0.002,0.002]},{\"label\":\"Ciprofloxacin\",\"values\":[\"\\u003e32\",\"\\u003e32\",\"\\u003e32\",\"\\u003e32\",\"\\u003e32\",\"32\",\"32\",\"32\",\"32\",\"32\",\"32\",\"32\",\"32\",\"32\",\"32\",\"32\",\"32\",\"32\",\"32\",\"32\",\"32\",\"32\",\"32\",\"32\",\"32\",\"32\",\"32\",\"32\",\"32\",\"32\",\"32\",\"32\",\"32\",\"32\",\"32\",\"32\",\"32\",\"32\",\"32\",\"32\",\"32\",\"32\",\"32\",\"32\",\"32\",\"32\",\"32\",\"32\",\"32\",\"32\",\"32\",\"32\",\"32\",\"32\",\"32\",\"32\",\"32\",\"32\",\"32\",\"32\",\"32\",\"32\",\"32\",\"32\",\"32\",\"32\",\"32\",\"32\",\"32\",\"32\",\"32\",\"32\",\"32\",\"32\",\"32\",\"32\",\"32\",\"32\",\"32\",\"32\",\"32\",\"32\",\"32\",\"32\",\"32\",\"32\",\"32\",\"32\",\"32\",\"32\",\"32\",\"32\",\"32\",\"32\",\"32\",\"32\",\"32\",\"32\",\"32\",\"32\",\"32\",\"32\",\"32\",\"32\",\"32\",\"32\",\"32\",\"32\",\"32\",\"32\",\"32\",\"32\",\"32\",\"32\",\"32\",\"32\",\"32\",\"32\",\"32\",\"32\",\"32\",\"32\",\"32\",\"32\",\"32\",\"32\",\"24\",\"24\",\"24\",\"24\",\"24\",\"16\",\"16\",\"16\",\"16\",\"16\",\"16\",\"16\",\"16\",\"16\",\"16\",\"16\",\"16\",\"16\",\"16\",\"16\",\"16\",\"16\",\"16\",\"16\",\"16\",\"16\",\"16\",\"16\",\"16\",\"16\",\"16\",\"16\",\"16\",\"16\",\"16\",\"16\",\"16\",\"16\",\"16\",\"16\",\"16\",\"16\",\"16\",\"16\",\"16\",\"16\",\"16\",\"16\",\"16\",\"16\",\"16\",\"16\",\"16\",\"16\",\"16\",\"16\",\"16\",\"16\",\"16\",\"16\",\"16\",\"16\",\"16\",\"16\",\"16\",\"16\",\"16\",\"16\",\"16\",\"16\",\"16\",\"16\",\"16\",\"16\",\"16\",\"16\",\"16\",\"16\",\"16\",\"16\",\"16\",\"16\",\"16\",\"16\",\"16\",\"16\",\"16\",\"16\",\"16\",\"16\",\"16\",\"16\",\"16\",\"16\",\"16\",\"16\",\"16\",\"16\",\"16\",\"16\",\"16\",\"16\",\"16\",\"16\",\"16\",\"16\",\"16\",\"16\",\"16\",\"16\",\"16\",\"16\",\"16\",\"16\",\"16\",\"16\",\"16\",\"16\",\"16\",\"16\",\"16\",\"16\",\"16\",\"16\",\"16\",\"16\",\"16\",\"16\",\"16\",\"16\",\"16\",\"16\",\"16\",\"16\",\"16\",\"16\",\"16\",\"16\",\"16\",\"16\",\"16\",\"16\",\"16\",\"16\",\"16\",\"16\",\"16\",\"16\",\"16\",\"16\",\"16\",\"16\",\"16\",\"16\",\"16\",\"16\",\"16\",\"16\",\"16\",\"16\",\"16\",\"16\",\"16\",\"16\",\"16\",\"16\",\"16\",\"16\",\"16\",\"16\",\"16\",\"16\",\"16\",\"16\",\"16\",\"16\",\"16\",\"16\",\"16\",\"16\",\"16\",\"16\",\"16\",\"16\",\"16\",\"16\",\"16\",\"16\",\"16\",\"16\",\"16\",\"16\",\"16\",\"16\",\"16\",\"16\",\"16\",\"16\",\"16\",\"16\",\"16\",\"16\",\"16\",\"16\",\"16\",\"16\",\"16\",\"16\",\"16\",\"16\",\"16\",\"16\",\"16\",\"16\",\"16\",\"16\",\"16\",\"16\",\"16\",\"16\",\"16\",\"16\",\"16\",\"16\",\"16\",\"16\",\"16\",\"16\",\"16\",\"16\",\"16\",\"16\",\"16\",\"16\",\"16\",\"16\",\"16\",\"16\",\"16\",\"16\",\"16\",\"16\",\"16\",\"16\",\"16\",\"16\",\"16\",\"16\",\"16\",\"16\",\"16\",\"16\",\"16\",\"16\",\"16\",\"16\",\"16\",\"16\",\"16\",\"16\",\"16\",\"16\",\"16\",\"16\",\"16\",\"16\",\"16\",\"16\",\"16\",\"16\",\"16\",\"16\",\"16\",\"16\",\"16\",\"16\",\"16\",\"16\",\"16\",\"16\",\"16\",\"16\",\"16\",\"16\",\"16\",\"16\",\"16\",\"16\",\"16\",\"16\",\"16\",\"16\",\"16\",\"16\",\"16\",\"16\",\"16\",\"16\",\"16\",\"16\",\"16\",\"16\",\"16\",\"16\",\"16\",\"16\",\"16\",\"16\",\"16\",\"16\",\"16\",\"16\",\"16\",\"16\",\"16\",\"16\",\"16\",\"16\",\"16\",\"16\",\"16\",\"16\",\"16\",\"16\",\"16\",\"16\",\"16\",\"16\",\"16\",\"16\",\"16\",\"16\",\"16\",\"16\",\"16\",\"12\",\"12\",\"12\",\"8\",\"8\",\"8\",\"8\",\"8\",\"8\",\"8\",\"8\",\"8\",\"8\",\"8\",\"8\",\"8\",\"8\",\"8\",\"8\",\"8\",\"8\",\"8\",\"8\",\"8\",\"8\",\"8\",\"8\",\"8\",\"8\",\"8\",\"8\",\"8\",\"8\",\"8\",\"8\",\"8\",\"8\",\"8\",\"8\",\"8\",\"8\",\"8\",\"8\",\"8\",\"8\",\"8\",\"8\",\"8\",\"8\",\"8\",\"8\",\"8\",\"8\",\"8\",\"8\",\"8\",\"8\",\"8\",\"8\",\"8\",\"8\",\"8\",\"8\",\"8\",\"8\",\"8\",\"8\",\"8\",\"8\",\"8\",\"8\",\"8\",\"8\",\"8\",\"8\",\"8\",\"8\",\"8\",\"8\",\"8\",\"8\",\"8\",\"8\",\"8\",\"8\",\"8\",\"8\",\"8\",\"8\",\"8\",\"8\",\"8\",\"8\",\"8\",\"8\",\"8\",\"8\",\"8\",\"8\",\"8\",\"8\",\"8\",\"8\",\"8\",\"8\",\"8\",\"8\",\"8\",\"8\",\"8\",\"8\",\"8\",\"8\",\"8\",\"8\",\"8\",\"8\",\"8\",\"8\",\"8\",\"8\",\"8\",\"8\",\"8\",\"8\",\"8\",\"8\",\"8\",\"8\",\"8\",\"8\",\"8\",\"8\",\"8\",\"8\",\"8\",\"8\",\"8\",\"8\",\"8\",\"8\",\"8\",\"8\",\"8\",\"8\",\"8\",\"8\",\"8\",\"8\",\"8\",\"8\",\"8\",\"8\",\"8\",\"8\",\"8\",\"6\",\"6\",\"6\",\"6\",\"6\",\"6\",\"6\",\"6\",\"6\",\"6\",\"6\",\"6\",\"4\",\"4\",\"4\",\"4\",\"4\",\"4\",\"4\",\"4\",\"4\",\"4\",\"4\",\"4\",\"4\",\"4\",\"4\",\"4\",\"4\",\"4\",\"4\",\"4\",\"4\",\"4\",\"4\",\"4\",\"4\",\"4\",\"4\",\"4\",\"4\",\"4\",\"4\",\"4\",\"4\",\"4\",\"4\",\"4\",\"4\",\"4\",\"4\",\"4\",\"4\",\"4\",\"4\",\"4\",\"4\",\"4\",\"4\",\"4\",\"4\",\"4\",\"4\",\"4\",\"4\",\"4\",\"4\",\"4\",\"4\",\"4\",\"4\",\"4\",\"4\",\"4\",\"4\",\"4\",\"4\",\"4\",\"4\",\"4\",\"4\",\"4\",\"4\",\"4\",\"4\",\"4\",\"4\",\"4\",\"4\",\"4\",\"4\",\"4\",\"4\",\"4\",\"4\",\"4\",\"4\",\"4\",\"4\",\"4\",\"4\",\"4\",\"4\",\"4\",\"4\",\"4\",\"4\",\"4\",\"4\",\"4\",\"4\",\"4\",\"4\",\"4\",\"4\",\"4\",\"4\",\"4\",\"4\",\"4\",\"4\",\"4\",\"4\",\"4\",\"4\",\"4\",\"4\",\"4\",\"4\",\"4\",\"4\",\"4\",\"4\",\"4\",\"4\",\"4\",\"4\",\"4\",\"4\",\"4\",\"4\",\"4\",\"4\",\"4\",\"4\",\"4\",\"4\",\"4\",\"4\",\"4\",\"4\",\"4\",\"4\",\"4\",\"4\",\"4\",\"4\",\"4\",\"4\",\"4\",\"4\",\"4\",\"4\",\"4\",\"4\",\"4\",\"3\",\"3\",\"3\",\"3\",\"3\",\"3\",\"3\",\"3\",\"3\",\"2\",\"2\",\"2\",\"2\",\"2\",\"2\",\"2\",\"2\",\"2\",\"2\",\"2\",\"2\",\"2\",\"2\",\"2\",\"2\",\"2\",\"2\",\"2\",\"2\",\"2\",\"2\",\"2\",\"2\",\"2\",\"2\",\"2\",\"2\",\"2\",\"2\",\"2\",\"2\",\"2\",\"2\",\"2\",\"2\",\"2\",\"2\",\"2\",\"2\",\"2\",\"2\",\"2\",\"2\",\"2\",\"2\",\"2\",\"2\",\"2\",\"2\",\"2\",\"2\",\"2\",\"2\",\"2\",\"2\",\"2\",\"2\",\"2\",\"2\",\"1.5\",\"1.5\",\"1.5\",\"1.5\",\"1.5\",\"1.5\",\"1.5\",\"1.5\",\"1.5\",\"1.5\",\"1.5\",\"1.5\",\"1\",\"1\",\"1\",\"1\",\"1\",\"1\",\"1\",\"1\",\"1\",\"1\",\"1\",\"1\",\"1\",\"1\",\"1\",\"1\",\"1\",\"1\",\"1\",\"0.75\",\"0.75\",\"0.75\",\"0.75\",\"0.75\",\"0.75\",\"0.75\",\"0.75\",\"0.75\",\"0.5\",\"0.5\",\"0.5\",\"0.5\",\"0.5\",\"0.5\",\"0.5\",\"0.5\",\"0.5\",\"0.38\",\"0.38\",\"0.38\",\"0.38\",\"0.38\",\"0.38\",\"0.38\",\"0.25\",\"0.25\",\"0.25\",\"0.25\",\"0.25\",\"0.25\",\"0.25\",\"0.25\",\"0.25\",\"0.25\",\"0.25\",\"0.25\",\"0.25\",\"0.25\",\"0.25\",\"0.25\",\"0.25\",\"0.19\",\"0.19\",\"0.19\",\"0.19\",\"0.125\",\"0.125\",\"0.125\",\"0.125\",\"0.125\",\"0.125\",\"0.125\",\"0.125\",\"0.125\",\"0.125\",\"0.12\",\"0.12\",\"0.12\",\"0.12\",\"0.12\",\"0.12\",\"0.12\",\"0.12\",\"0.12\",\"0.094\",\"0.094\",\"0.064\",\"0.064\",\"0.064\",\"0.064\",\"0.064\",\"0.06\",\"0.06\",\"0.06\",\"0.06\",\"0.047\",\"0.047\",\"0.047\",\"0.03\",\"0.03\",\"0.03\",\"0.03\",\"0.03\",\"0.03\",\"0.03\",\"0.03\",\"0.03\",\"0.03\",\"0.03\",\"0.03\",\"0.03\",\"0.03\",\"0.023\",\"0.0169\",\"0.016\",\"0.016\",\"0.016\",\"0.016\",\"0.016\",\"0.016\",\"0.016\",\"0.016\",\"0.016\",\"0.016\",\"0.015\",\"0.015\",\"0.015\",\"0.015\",\"0.015\",\"0.015\",\"0.015\",\"0.015\",\"0.015\",\"0.015\",\"0.015\",\"0.015\",\"0.015\",\"0.015\",\"0.015\",\"0.015\",\"0.015\",\"0.015\",\"0.015\",\"0.015\",\"0.015\",\"0.015\",\"0.015\",\"0.015\",\"0.015\",\"0.015\",\"0.015\",\"0.015\",\"0.015\",\"0.015\",\"0.015\",\"0.015\",\"0.015\",\"0.015\",\"0.015\",\"0.015\",\"0.015\",\"0.015\",\"0.015\",\"0.015\",\"0.015\",\"0.015\",\"0.015\",\"0.015\",\"0.015\",\"0.015\",\"0.015\",\"0.015\",\"0.015\",\"0.015\",\"0.015\",\"0.015\",\"0.015\",\"0.015\",\"0.015\",\"0.015\",\"0.015\",\"0.015\",\"0.015\",\"0.015\",\"0.015\",\"0.015\",\"0.015\",\"0.015\",\"0.015\",\"0.015\",\"0.015\",\"0.015\",\"0.015\",\"0.015\",\"0.015\",\"0.015\",\"0.015\",\"0.015\",\"0.015\",\"0.015\",\"0.015\",\"0.015\",\"0.015\",\"0.015\",\"0.015\",\"0.015\",\"0.015\",\"0.015\",\"0.015\",\"0.015\",\"0.015\",\"0.015\",\"0.015\",\"0.015\",\"0.015\",\"0.015\",\"0.015\",\"0.015\",\"0.015\",\"0.015\",\"0.015\",\"0.015\",\"0.015\",\"0.015\",\"0.015\",\"0.015\",\"0.015\",\"0.015\",\"0.015\",\"0.015\",\"0.015\",\"0.015\",\"0.015\",\"0.015\",\"0.015\",\"0.015\",\"0.015\",\"0.015\",\"0.015\",\"0.015\",\"0.015\",\"0.015\",\"0.015\",\"0.015\",\"0.015\",\"0.015\",\"0.015\",\"0.015\",\"0.015\",\"0.015\",\"0.015\",\"0.015\",\"0.015\",\"0.015\",\"0.015\",\"0.015\",\"0.015\",\"0.015\",\"0.015\",\"0.015\",\"0.015\",\"0.015\",\"0.015\",\"0.015\",\"0.015\",\"0.015\",\"0.015\",\"0.015\",\"0.015\",\"0.015\",\"0.015\",\"0.015\",\"0.015\",\"0.015\",\"0.015\",\"0.015\",\"0.015\",\"0.015\",\"0.015\",\"0.015\",\"0.015\",\"0.015\",\"0.015\",\"0.015\",\"0.015\",\"0.015\",\"0.015\",\"0.015\",\"0.015\",\"0.015\",\"0.015\",\"0.015\",\"0.015\",\"0.015\",\"0.015\",\"0.015\",\"0.015\",\"0.015\",\"0.015\",\"0.015\",\"0.015\",\"0.015\",\"0.015\",\"0.015\",\"0.015\",\"0.015\",\"0.015\",\"0.015\",\"0.015\",\"0.015\",\"0.015\",\"0.015\",\"0.015\",\"0.015\",\"0.015\",\"0.015\",\"0.015\",\"0.015\",\"0.015\",\"0.015\",\"0.015\",\"0.015\",\"0.015\",\"0.015\",\"0.015\",\"0.015\",\"0.015\",\"0.015\",\"0.015\",\"0.015\",\"0.015\",\"0.015\",\"0.015\",\"0.015\",\"0.015\",\"0.015\",\"0.015\",\"0.015\",\"0.015\",\"0.015\",\"0.015\",\"0.015\",\"0.015\",\"0.015\",\"0.015\",\"0.015\",\"0.015\",\"0.015\",\"0.015\",\"0.015\",\"0.015\",\"0.015\",\"0.015\",\"0.015\",\"0.015\",\"0.015\",\"0.015\",\"0.015\",\"0.015\",\"0.015\",\"0.015\",\"0.015\",\"0.015\",\"0.015\",\"0.015\",\"0.015\",\"0.015\",\"0.015\",\"0.015\",\"0.015\",\"0.015\",\"0.015\",\"0.015\",\"0.015\",\"0.015\",\"0.015\",\"0.015\",\"0.012\",\"0.012\",\"0.012\",\"0.008\",\"0.008\",\"0.008\",\"0.008\",\"0.008\",\"0.008\",\"0.008\",\"0.008\",\"0.008\",\"0.008\",\"0.008\",\"0.008\",\"0.008\",\"0.008\",\"0.008\",\"0.008\",\"0.008\",\"0.008\",\"0.008\",\"0.008\",\"0.008\",\"0.008\",\"0.008\",\"0.008\",\"0.008\",\"0.008\",\"0.008\",\"0.008\",\"0.008\",\"0.008\",\"0.008\",\"0.008\",\"0.008\",\"0.008\",\"0.008\",\"0.008\",\"0.008\",\"0.008\",\"0.008\",\"0.008\",\"0.008\",\"0.008\",\"0.008\",\"0.008\",\"0.008\",\"0.008\",\"0.008\",\"0.008\",\"0.008\",\"0.008\",\"0.008\",\"0.008\",\"0.008\",\"0.008\",\"0.008\",\"0.008\",\"0.008\",\"0.008\",\"0.008\",\"0.008\",\"0.008\",\"0.008\",\"0.008\",\"0.008\",\"0.008\",\"0.008\",\"0.008\",\"0.008\",\"0.008\",\"0.008\",\"0.008\",\"0.008\",\"0.008\",\"0.008\",\"0.008\",\"0.008\",\"0.008\",\"0.008\",\"0.008\",\"0.008\",\"0.008\",\"0.008\",\"0.008\",\"0.008\",\"0.008\",\"0.008\",\"0.008\",\"0.008\",\"0.008\",\"0.008\",\"0.008\",\"0.008\",\"0.008\",\"0.008\",\"0.008\",\"0.008\",\"0.008\",\"0.008\",\"0.008\",\"0.008\",\"0.008\",\"0.008\",\"0.008\",\"0.008\",\"0.008\",\"0.008\",\"0.008\",\"0.008\",\"0.008\",\"0.008\",\"0.008\",\"0.008\",\"0.008\",\"0.008\",\"0.008\",\"0.008\",\"0.008\",\"0.008\",\"0.006\",\"0.006\",\"0.006\",\"0.006\",\"0.006\",\"0.006\",\"0.006\",\"0.006\",\"0.006\",\"0.006\",\"0.006\",\"0.006\",\"0.006\",\"0.006\",\"0.006\",\"0.006\",\"0.006\",\"0.006\",\"0.004\",\"0.004\",\"0.004\",\"0.004\",\"0.004\",\"0.004\",\"0.004\",\"0.004\",\"0.004\",\"0.004\",\"0.004\",\"0.004\",\"0.004\",\"0.004\",\"0.004\",\"0.004\",\"0.004\",\"0.004\",\"0.004\",\"0.004\",\"0.004\",\"0.004\",\"0.004\",\"0.004\",\"0.004\",\"0.004\",\"0.004\",\"0.004\",\"0.004\",\"0.004\",\"0.004\",\"0.004\",\"0.004\",\"0.004\",\"0.004\",\"0.004\",\"0.004\",\"0.004\",\"0.004\",\"0.004\",\"0.004\",\"0.004\",\"0.004\",\"0.004\",\"0.004\",\"0.004\",\"0.004\",\"0.004\",\"0.004\",\"0.004\",\"0.004\",\"0.004\",\"0.004\",\"0.004\",\"0.004\",\"0.004\",\"0.004\",\"0.004\",\"0.004\",\"0.004\",\"0.004\",\"0.004\",\"0.004\",\"0.004\",\"0.004\",\"0.004\",\"0.004\",\"0.004\",\"0.004\",\"0.004\",\"0.004\",\"0.004\",\"0.004\",\"0.004\",\"0.004\",\"0.004\",\"0.004\",\"0.004\",\"0.004\",\"0.004\",\"0.004\",\"0.004\",\"0.004\",\"0.004\",\"0.004\",\"0.004\",\"0.004\",\"0.004\",\"0.004\",\"0.004\",\"0.004\",\"0.004\",\"0.004\",\"0.004\",\"0.004\",\"0.004\",\"0.004\",\"0.004\",\"0.004\",\"0.004\",\"0.004\",\"0.004\",\"0.004\",\"0.004\",\"0.004\",\"0.004\",\"0.004\",\"0.004\",\"0.004\",\"0.004\",\"0.004\",\"0.004\",\"0.004\",\"0.004\",\"0.004\",\"0.004\",\"0.004\",\"0.004\",\"0.004\",\"0.004\",\"0.004\",\"0.004\",\"0.004\",\"0.004\",\"0.004\",\"0.004\",\"0.004\",\"0.004\",\"0.004\",\"0.004\",\"0.004\",\"0.004\",\"0.004\",\"0.004\",\"0.004\",\"0.004\",\"0.004\",\"0.004\",\"0.004\",\"0.004\",\"0.004\",\"0.004\",\"0.004\",\"0.004\",\"0.004\",\"0.004\",\"0.004\",\"0.004\",\"0.004\",\"0.004\",\"0.004\",\"0.004\",\"0.004\",\"0.004\",\"0.004\",\"0.004\",\"0.004\",\"0.004\",\"0.004\",\"0.004\",\"0.004\",\"0.004\",\"0.004\",\"0.004\",\"0.004\",\"0.004\",\"0.004\",\"0.004\",\"0.004\",\"0.004\",\"0.004\",\"0.004\",\"0.004\",\"0.004\",\"0.004\",\"0.004\",\"0.004\",\"0.004\",\"0.004\",\"0.004\",\"0.004\",\"0.004\",\"0.004\",\"0.004\",\"0.004\",\"0.004\",\"0.004\",\"0.004\",\"0.004\",\"0.004\",\"0.004\",\"0.004\",\"0.004\",\"0.004\",\"0.004\",\"0.004\",\"0.004\",\"0.004\",\"0.004\",\"0.004\",\"0.004\",\"0.004\",\"0.004\",\"0.004\",\"0.004\",\"0.004\",\"0.004\",\"0.004\",\"0.004\",\"0.004\",\"0.004\",\"0.004\",\"0.004\",\"0.004\",\"0.004\",\"0.004\",\"0.004\",\"0.004\",\"0.004\",\"0.004\",\"0.004\",\"0.004\",\"0.004\",\"0.004\",\"0.004\",\"0.004\",\"0.004\",\"0.004\",\"0.004\",\"0.004\",\"0.004\",\"0.004\",\"0.004\",\"0.004\",\"0.004\",\"0.004\",\"0.004\",\"0.004\",\"0.004\",\"0.004\",\"0.004\",\"0.004\",\"0.004\",\"0.004\",\"0.004\",\"0.004\",\"0.004\",\"0.004\",\"0.004\",\"0.004\",\"0.004\",\"0.004\",\"0.004\",\"0.004\",\"0.004\",\"0.004\",\"0.004\",\"0.004\",\"0.004\",\"0.004\",\"0.004\",\"0.004\",\"0.004\",\"0.004\",\"0.004\",\"0.004\",\"0.004\",\"0.004\",\"0.004\",\"0.004\",\"0.004\",\"0.004\",\"0.004\",\"0.004\",\"0.004\",\"0.004\",\"0.004\",\"0.004\",\"0.004\",\"0.004\",\"0.004\",\"0.004\",\"0.004\",\"0.004\",\"0.004\",\"0.004\",\"0.004\",\"0.004\",\"0.004\",\"0.004\",\"0.004\",\"0.004\",\"0.004\",\"0.004\",\"0.003\",\"0.003\",\"0.003\",\"0.003\",\"0.003\",\"0.003\",\"0.003\",\"0.003\",\"0.003\",\"0.003\",\"0.003\",\"0.003\",\"0.003\",\"0.003\",\"0.003\",\"0.003\",\"0.003\",\"0.003\",\"0.003\",\"0.003\",\"0.003\",\"0.003\",\"0.003\",\"0.003\",\"0.003\",\"0.003\",\"0.003\",\"0.003\",\"0.003\",\"0.003\",\"0.003\",\"0.003\",\"0.003\",\"0.003\",\"0.003\",\"0.003\",\"0.003\",\"0.003\",\"0.003\",\"0.003\",\"0.003\",\"0.003\",\"0.003\",\"0.003\",\"0.003\",\"0.003\",\"0.003\",\"0.003\",\"0.003\",\"0.003\",\"0.002\",\"0.002\",\"0.002\",\"0.002\",\"0.002\",\"0.002\",\"0.002\",\"0.002\",\"0.002\",\"0.002\",\"0.002\",\"0.002\",\"0.002\",\"0.002\",\"0.002\",\"0.002\",\"0.002\",\"0.002\",\"0.002\",\"0.002\",\"0.002\",\"0.002\",\"0.002\",\"0.002\",\"0.002\",\"0.002\",\"0.002\",\"0.002\",\"0.002\",\"0.002\",\"0.002\",\"0.002\",\"0.002\",\"0.002\",\"0.002\",\"0.002\",\"0.002\",\"0.002\",\"0.002\",\"0.002\",\"0.002\",\"0.002\",\"0.002\",\"0.002\",\"0.002\",\"0.002\",\"0.002\",\"0.002\",\"0.002\",\"0.002\",\"0.002\",\"0.002\",\"0.002\",\"0.002\",\"0.002\",\"0.002\",\"0.002\",\"0.002\",\"0.002\",\"0.002\",\"0.002\",\"0.002\",\"0.002\",\"0.002\",\"0.002\",\"0.002\",\"0.002\",\"0.002\",\"0.002\",\"0.002\",\"0.002\",\"0.002\",\"0.002\",\"0.002\",\"0.002\",\"0.002\",\"0.002\",\"0.002\",\"0.002\",\"0.002\",\"0.002\",\"0.002\",\"0.002\",\"0.002\",\"0.002\",\"0.002\",\"0.002\",\"0.002\",\"0.002\",\"0.002\",\"0.002\",\"0.002\",\"0.002\",\"0.002\",\"0.002\",\"0.002\",\"0.002\",\"0.002\",\"0.002\",\"0.002\",\"0.002\",\"0.002\",\"0.002\",\"0.002\",\"0.002\",\"0.002\",\"0.002\",\"0.002\",\"0.002\",\"0.002\",\"0.002\",\"0.002\",\"0.002\",\"0.002\",\"0.002\",\"0.002\",\"0.002\",\"0.002\",\"0.002\",\"0.002\",\"0.002\",\"0.002\",\"0.002\",\"0.002\",\"0.002\",\"0.002\",\"0.002\",\"0.002\",\"0.002\",\"0.002\",\"0.002\",\"0.002\",\"0.002\",\"0.002\",\"0.002\",\"0.002\",\"0.002\",\"0.002\",\"0.002\",\"0.002\",\"0.002\",\"0.002\",\"0.002\",\"0.002\",\"0.002\",\"0.002\",\"0.002\",\"0.002\",\"0.002\",\"0.002\",\"0.002\",\"0.002\",\"0.002\",\"0.002\",\"0.002\",\"0.002\",\"0.002\",\"0.002\",\"0.002\",\"0.002\",\"0.002\",\"0.002\",\"0.002\",\"0.002\",\"0.002\",\"0.002\",\"0.002\",\"0.002\",\"0.002\",\"0.002\",\"0.002\",\"0.002\",\"0.002\",\"0.002\",\"0.002\",\"0.002\",\"0.002\",\"0.002\",\"0.002\",\"0.002\",\"0.002\",\"0.002\",\"0.002\",\"0.002\",\"0.002\",\"0.002\",\"0.002\",\"0.002\",\"0.002\",\"0.002\",\"0.002\",\"0.002\",\"0.002\",\"0.002\",\"0.002\",\"0.002\",\"0.002\",\"0.002\",\"0.002\",\"0.002\",\"0.002\",\"0.002\",\"0.002\"]},{\"label\":\"cip_sr\",\"values\":[1.0,1.0,1.0,1.0,1.0,1.0,1.0,1.0,1.0,1.0,1.0,1.0,1.0,1.0,1.0,1.0,1.0,1.0,1.0,1.0,1.0,1.0,1.0,1.0,1.0,1.0,1.0,1.0,1.0,1.0,1.0,1.0,1.0,1.0,1.0,1.0,1.0,1.0,1.0,1.0,1.0,1.0,1.0,1.0,1.0,1.0,1.0,1.0,1.0,1.0,1.0,1.0,1.0,1.0,1.0,1.0,1.0,1.0,1.0,1.0,1.0,1.0,1.0,1.0,1.0,1.0,1.0,1.0,1.0,1.0,1.0,1.0,1.0,1.0,1.0,1.0,1.0,1.0,1.0,1.0,1.0,1.0,1.0,1.0,1.0,1.0,1.0,1.0,1.0,1.0,1.0,1.0,1.0,1.0,1.0,1.0,1.0,1.0,1.0,1.0,1.0,1.0,1.0,1.0,1.0,1.0,1.0,1.0,1.0,1.0,1.0,1.0,1.0,1.0,1.0,1.0,1.0,1.0,1.0,1.0,1.0,1.0,1.0,1.0,1.0,1.0,1.0,1.0,1.0,1.0,1.0,1.0,1.0,1.0,1.0,1.0,1.0,1.0,1.0,1.0,1.0,1.0,1.0,1.0,1.0,1.0,1.0,1.0,1.0,1.0,1.0,1.0,1.0,1.0,1.0,1.0,1.0,1.0,1.0,1.0,1.0,1.0,1.0,1.0,1.0,1.0,1.0,1.0,1.0,1.0,1.0,1.0,1.0,1.0,1.0,1.0,1.0,1.0,1.0,1.0,1.0,1.0,1.0,1.0,1.0,1.0,1.0,1.0,1.0,1.0,1.0,1.0,1.0,1.0,1.0,1.0,1.0,1.0,1.0,1.0,1.0,1.0,1.0,1.0,1.0,1.0,1.0,1.0,1.0,1.0,1.0,1.0,1.0,1.0,1.0,1.0,1.0,1.0,1.0,1.0,1.0,1.0,1.0,1.0,1.0,1.0,1.0,1.0,1.0,1.0,1.0,1.0,1.0,1.0,1.0,1.0,1.0,1.0,1.0,1.0,1.0,1.0,1.0,1.0,1.0,1.0,1.0,1.0,1.0,1.0,1.0,1.0,1.0,1.0,1.0,1.0,1.0,1.0,1.0,1.0,1.0,1.0,1.0,1.0,1.0,1.0,1.0,1.0,1.0,1.0,1.0,1.0,1.0,1.0,1.0,1.0,1.0,1.0,1.0,1.0,1.0,1.0,1.0,1.0,1.0,1.0,1.0,1.0,1.0,1.0,1.0,1.0,1.0,1.0,1.0,1.0,1.0,1.0,1.0,1.0,1.0,1.0,1.0,1.0,1.0,1.0,1.0,1.0,1.0,1.0,1.0,1.0,1.0,1.0,1.0,1.0,1.0,1.0,1.0,1.0,1.0,1.0,1.0,1.0,1.0,1.0,1.0,1.0,1.0,1.0,1.0,1.0,1.0,1.0,1.0,1.0,1.0,1.0,1.0,1.0,1.0,1.0,1.0,1.0,1.0,1.0,1.0,1.0,1.0,1.0,1.0,1.0,1.0,1.0,1.0,1.0,1.0,1.0,1.0,1.0,1.0,1.0,1.0,1.0,1.0,1.0,1.0,1.0,1.0,1.0,1.0,1.0,1.0,1.0,1.0,1.0,1.0,1.0,1.0,1.0,1.0,1.0,1.0,1.0,1.0,1.0,1.0,1.0,1.0,1.0,1.0,1.0,1.0,1.0,1.0,1.0,1.0,1.0,1.0,1.0,1.0,1.0,1.0,1.0,1.0,1.0,1.0,1.0,1.0,1.0,1.0,1.0,1.0,1.0,1.0,1.0,1.0,1.0,1.0,1.0,1.0,1.0,1.0,1.0,1.0,1.0,1.0,1.0,1.0,1.0,1.0,1.0,1.0,1.0,1.0,1.0,1.0,1.0,1.0,1.0,1.0,1.0,1.0,1.0,1.0,1.0,1.0,1.0,1.0,1.0,1.0,1.0,1.0,1.0,1.0,1.0,1.0,1.0,1.0,1.0,1.0,1.0,1.0,1.0,1.0,1.0,1.0,1.0,1.0,1.0,1.0,1.0,1.0,1.0,1.0,1.0,1.0,1.0,1.0,1.0,1.0,1.0,1.0,1.0,1.0,1.0,1.0,1.0,1.0,1.0,1.0,1.0,1.0,1.0,1.0,1.0,1.0,1.0,1.0,1.0,1.0,1.0,1.0,1.0,1.0,1.0,1.0,1.0,1.0,1.0,1.0,1.0,1.0,1.0,1.0,1.0,1.0,1.0,1.0,1.0,1.0,1.0,1.0,1.0,1.0,1.0,1.0,1.0,1.0,1.0,1.0,1.0,1.0,1.0,1.0,1.0,1.0,1.0,1.0,1.0,1.0,1.0,1.0,1.0,1.0,1.0,1.0,1.0,1.0,1.0,1.0,1.0,1.0,1.0,1.0,1.0,1.0,1.0,1.0,1.0,1.0,1.0,1.0,1.0,1.0,1.0,1.0,1.0,1.0,1.0,1.0,1.0,1.0,1.0,1.0,1.0,1.0,1.0,1.0,1.0,1.0,1.0,1.0,1.0,1.0,1.0,1.0,1.0,1.0,1.0,1.0,1.0,1.0,1.0,1.0,1.0,1.0,1.0,1.0,1.0,1.0,1.0,1.0,1.0,1.0,1.0,1.0,1.0,1.0,1.0,1.0,1.0,1.0,1.0,1.0,1.0,1.0,1.0,1.0,1.0,1.0,1.0,1.0,1.0,1.0,1.0,1.0,1.0,1.0,1.0,1.0,1.0,1.0,1.0,1.0,1.0,1.0,1.0,1.0,1.0,1.0,1.0,1.0,1.0,1.0,1.0,1.0,1.0,1.0,1.0,1.0,1.0,1.0,1.0,1.0,1.0,1.0,1.0,1.0,1.0,1.0,1.0,1.0,1.0,1.0,1.0,1.0,1.0,1.0,1.0,1.0,1.0,1.0,1.0,1.0,1.0,1.0,1.0,1.0,1.0,1.0,1.0,1.0,1.0,1.0,1.0,1.0,1.0,1.0,1.0,1.0,1.0,1.0,1.0,1.0,1.0,1.0,1.0,1.0,1.0,1.0,1.0,1.0,1.0,1.0,1.0,1.0,1.0,1.0,1.0,1.0,1.0,1.0,1.0,1.0,1.0,1.0,1.0,1.0,1.0,1.0,1.0,1.0,1.0,1.0,1.0,1.0,1.0,1.0,1.0,1.0,1.0,1.0,1.0,1.0,1.0,1.0,1.0,1.0,1.0,1.0,1.0,1.0,1.0,1.0,1.0,1.0,1.0,1.0,1.0,1.0,1.0,1.0,1.0,1.0,1.0,1.0,1.0,1.0,1.0,1.0,1.0,1.0,1.0,1.0,1.0,1.0,1.0,1.0,1.0,1.0,1.0,1.0,1.0,1.0,1.0,1.0,1.0,1.0,1.0,1.0,1.0,1.0,1.0,1.0,1.0,1.0,1.0,1.0,1.0,1.0,1.0,1.0,1.0,1.0,1.0,1.0,1.0,1.0,1.0,1.0,1.0,1.0,1.0,1.0,1.0,1.0,1.0,1.0,1.0,1.0,1.0,1.0,1.0,1.0,1.0,1.0,1.0,1.0,1.0,1.0,1.0,1.0,1.0,1.0,1.0,1.0,1.0,1.0,1.0,1.0,1.0,1.0,1.0,1.0,1.0,1.0,1.0,1.0,1.0,1.0,1.0,1.0,1.0,1.0,1.0,1.0,1.0,1.0,1.0,1.0,1.0,1.0,1.0,1.0,1.0,1.0,1.0,1.0,1.0,1.0,1.0,1.0,1.0,0.0,0.0,0.0,0.0,0.0,0.0,0.0,0.0,0.0,0.0,0.0,0.0,0.0,0.0,0.0,0.0,0.0,0.0,0.0,0.0,0.0,0.0,0.0,0.0,0.0,0.0,0.0,0.0,0.0,0.0,0.0,0.0,0.0,0.0,0.0,0.0,0.0,0.0,0.0,0.0,0.0,0.0,0.0,0.0,0.0,0.0,0.0,0.0,0.0,0.0,0.0,0.0,0.0,0.0,0.0,0.0,0.0,0.0,0.0,0.0,0.0,0.0,0.0,0.0,0.0,0.0,0.0,0.0,0.0,0.0,0.0,0.0,0.0,0.0,0.0,0.0,0.0,0.0,0.0,0.0,0.0,0.0,0.0,0.0,0.0,0.0,0.0,0.0,0.0,0.0,0.0,0.0,0.0,0.0,0.0,0.0,0.0,0.0,0.0,0.0,0.0,0.0,0.0,0.0,0.0,0.0,0.0,0.0,0.0,0.0,0.0,0.0,0.0,0.0,0.0,0.0,0.0,0.0,0.0,0.0,0.0,0.0,0.0,0.0,0.0,0.0,0.0,0.0,0.0,0.0,0.0,0.0,0.0,0.0,0.0,0.0,0.0,0.0,0.0,0.0,0.0,0.0,0.0,0.0,0.0,0.0,0.0,0.0,0.0,0.0,0.0,0.0,0.0,0.0,0.0,0.0,0.0,0.0,0.0,0.0,0.0,0.0,0.0,0.0,0.0,0.0,0.0,0.0,0.0,0.0,0.0,0.0,0.0,0.0,0.0,0.0,0.0,0.0,0.0,0.0,0.0,0.0,0.0,0.0,0.0,0.0,0.0,0.0,0.0,0.0,0.0,0.0,0.0,0.0,0.0,0.0,0.0,0.0,0.0,0.0,0.0,0.0,0.0,0.0,0.0,0.0,0.0,0.0,0.0,0.0,0.0,0.0,0.0,0.0,0.0,0.0,0.0,0.0,0.0,0.0,0.0,0.0,0.0,0.0,0.0,0.0,0.0,0.0,0.0,0.0,0.0,0.0,0.0,0.0,0.0,0.0,0.0,0.0,0.0,0.0,0.0,0.0,0.0,0.0,0.0,0.0,0.0,0.0,0.0,0.0,0.0,0.0,0.0,0.0,0.0,0.0,0.0,0.0,0.0,0.0,0.0,0.0,0.0,0.0,0.0,0.0,0.0,0.0,0.0,0.0,0.0,0.0,0.0,0.0,0.0,0.0,0.0,0.0,0.0,0.0,0.0,0.0,0.0,0.0,0.0,0.0,0.0,0.0,0.0,0.0,0.0,0.0,0.0,0.0,0.0,0.0,0.0,0.0,0.0,0.0,0.0,0.0,0.0,0.0,0.0,0.0,0.0,0.0,0.0,0.0,0.0,0.0,0.0,0.0,0.0,0.0,0.0,0.0,0.0,0.0,0.0,0.0,0.0,0.0,0.0,0.0,0.0,0.0,0.0,0.0,0.0,0.0,0.0,0.0,0.0,0.0,0.0,0.0,0.0,0.0,0.0,0.0,0.0,0.0,0.0,0.0,0.0,0.0,0.0,0.0,0.0,0.0,0.0,0.0,0.0,0.0,0.0,0.0,0.0,0.0,0.0,0.0,0.0,0.0,0.0,0.0,0.0,0.0,0.0,0.0,0.0,0.0,0.0,0.0,0.0,0.0,0.0,0.0,0.0,0.0,0.0,0.0,0.0,0.0,0.0,0.0,0.0,0.0,0.0,0.0,0.0,0.0,0.0,0.0,0.0,0.0,0.0,0.0,0.0,0.0,0.0,0.0,0.0,0.0,0.0,0.0,0.0,0.0,0.0,0.0,0.0,0.0,0.0,0.0,0.0,0.0,0.0,0.0,0.0,0.0,0.0,0.0,0.0,0.0,0.0,0.0,0.0,0.0,0.0,0.0,0.0,0.0,0.0,0.0,0.0,0.0,0.0,0.0,0.0,0.0,0.0,0.0,0.0,0.0,0.0,0.0,0.0,0.0,0.0,0.0,0.0,0.0,0.0,0.0,0.0,0.0,0.0,0.0,0.0,0.0,0.0,0.0,0.0,0.0,0.0,0.0,0.0,0.0,0.0,0.0,0.0,0.0,0.0,0.0,0.0,0.0,0.0,0.0,0.0,0.0,0.0,0.0,0.0,0.0,0.0,0.0,0.0,0.0,0.0,0.0,0.0,0.0,0.0,0.0,0.0,0.0,0.0,0.0,0.0,0.0,0.0,0.0,0.0,0.0,0.0,0.0,0.0,0.0,0.0,0.0,0.0,0.0,0.0,0.0,0.0,0.0,0.0,0.0,0.0,0.0,0.0,0.0,0.0,0.0,0.0,0.0,0.0,0.0,0.0,0.0,0.0,0.0,0.0,0.0,0.0,0.0,0.0,0.0,0.0,0.0,0.0,0.0,0.0,0.0,0.0,0.0,0.0,0.0,0.0,0.0,0.0,0.0,0.0,0.0,0.0,0.0,0.0,0.0,0.0,0.0,0.0,0.0,0.0,0.0,0.0,0.0,0.0,0.0,0.0,0.0,0.0,0.0,0.0,0.0,0.0,0.0,0.0,0.0,0.0,0.0,0.0,0.0,0.0,0.0,0.0,0.0,0.0,0.0,0.0,0.0,0.0,0.0,0.0,0.0,0.0,0.0,0.0,0.0,0.0,0.0,0.0,0.0,0.0,0.0,0.0,0.0,0.0,0.0,0.0,0.0,0.0,0.0,0.0,0.0,0.0,0.0,0.0,0.0,0.0,0.0,0.0,0.0,0.0,0.0,0.0,0.0,0.0,0.0,0.0,0.0,0.0,0.0,0.0,0.0,0.0,0.0,0.0,0.0,0.0,0.0,0.0,0.0,0.0,0.0,0.0,0.0,0.0,0.0,0.0,0.0,0.0,0.0,0.0,0.0,0.0,0.0,0.0,0.0,0.0,0.0,0.0,0.0,0.0,0.0,0.0,0.0,0.0,0.0,0.0,0.0,0.0,0.0,0.0,0.0,0.0,0.0,0.0,0.0,0.0,0.0,0.0,0.0,0.0,0.0,0.0,0.0,0.0,0.0,0.0,0.0,0.0,0.0,0.0,0.0,0.0,0.0,0.0,0.0,0.0,0.0,0.0,0.0,0.0,0.0,0.0,0.0,0.0,0.0,0.0,0.0,0.0,0.0,0.0,0.0,0.0,0.0,0.0,0.0,0.0,0.0,0.0,0.0,0.0,0.0,0.0,0.0,0.0,0.0,0.0,0.0,0.0,0.0,0.0,0.0,0.0,0.0,0.0,0.0,0.0,0.0,0.0,0.0,0.0,0.0,0.0,0.0,0.0,0.0,0.0,0.0,0.0,0.0,0.0,0.0,0.0,0.0,0.0,0.0,0.0,0.0,0.0,0.0,0.0,0.0,0.0,0.0,0.0,0.0,0.0,0.0,0.0,0.0,0.0,0.0,0.0,0.0,0.0,0.0,0.0,0.0,0.0,0.0,0.0,0.0,0.0,0.0,0.0,0.0,0.0,0.0,0.0,0.0,0.0,0.0,0.0,0.0,0.0,0.0,0.0,0.0,0.0,0.0,0.0,0.0,0.0,0.0,0.0,0.0,0.0,0.0,0.0,0.0,0.0,0.0,0.0,0.0,0.0,0.0,0.0,0.0,0.0,0.0,0.0,0.0,0.0,0.0,0.0,0.0,0.0,0.0,0.0,0.0,0.0,0.0,0.0,0.0,0.0,0.0,0.0,0.0,0.0,0.0,0.0,0.0,0.0,0.0,0.0,0.0,0.0,0.0,0.0,0.0,0.0,0.0,0.0,0.0,0.0,0.0,0.0,0.0,0.0,0.0,0.0,0.0,0.0,0.0,0.0,0.0,0.0,0.0,0.0,0.0,0.0,0.0,0.0,0.0,0.0,0.0,0.0,0.0,0.0,0.0,0.0,0.0,0.0,0.0,0.0,0.0,0.0,0.0,0.0,0.0,0.0,0.0,0.0,0.0,0.0,0.0,0.0,0.0,0.0,0.0,0.0,0.0,0.0,0.0,0.0,0.0,0.0,0.0,0.0,0.0,0.0,0.0,0.0,0.0,0.0,0.0,0.0,0.0,0.0,0.0,0.0,0.0,0.0,0.0,0.0,0.0,0.0,0.0,0.0,0.0,0.0,0.0,0.0,0.0,0.0,0.0,0.0,0.0,0.0,0.0,0.0,0.0,0.0,0.0,0.0,0.0,0.0,0.0,0.0,0.0,0.0,0.0,0.0,0.0,0.0,0.0,0.0,0.0,0.0,0.0,0.0,0.0,0.0,0.0,0.0,0.0,0.0,0.0,0.0,0.0,0.0,0.0,0.0,0.0,0.0,0.0,0.0,0.0,0.0,0.0,0.0,0.0,0.0,0.0,0.0,0.0,0.0,0.0,0.0,0.0,0.0,0.0,0.0,0.0,0.0,0.0,0.0,0.0,0.0,0.0,0.0,0.0,0.0,0.0,0.0,0.0,0.0,0.0,0.0,0.0,0.0,0.0,0.0,0.0,0.0,0.0,0.0,0.0,0.0,0.0,0.0,0.0,0.0,0.0,0.0,0.0,0.0,0.0,0.0,0.0,0.0,0.0,0.0,0.0,0.0,0.0,0.0,0.0,0.0,0.0,0.0,0.0,0.0,0.0,0.0,0.0,0.0,0.0,0.0,0.0,0.0,0.0,0.0,0.0,0.0,0.0,0.0,0.0,0.0,0.0,0.0]}],\"domain\":{\"x\":[0.0,1.0],\"y\":[0.0,1.0]},\"name\":\"\",\"type\":\"parcats\",\"line\":{\"color\":\"mistyrose\",\"shape\":\"hspline\"}}],                        {\"template\":{\"data\":{\"histogram2dcontour\":[{\"type\":\"histogram2dcontour\",\"colorbar\":{\"outlinewidth\":0,\"ticks\":\"\"},\"colorscale\":[[0.0,\"#0d0887\"],[0.1111111111111111,\"#46039f\"],[0.2222222222222222,\"#7201a8\"],[0.3333333333333333,\"#9c179e\"],[0.4444444444444444,\"#bd3786\"],[0.5555555555555556,\"#d8576b\"],[0.6666666666666666,\"#ed7953\"],[0.7777777777777778,\"#fb9f3a\"],[0.8888888888888888,\"#fdca26\"],[1.0,\"#f0f921\"]]}],\"choropleth\":[{\"type\":\"choropleth\",\"colorbar\":{\"outlinewidth\":0,\"ticks\":\"\"}}],\"histogram2d\":[{\"type\":\"histogram2d\",\"colorbar\":{\"outlinewidth\":0,\"ticks\":\"\"},\"colorscale\":[[0.0,\"#0d0887\"],[0.1111111111111111,\"#46039f\"],[0.2222222222222222,\"#7201a8\"],[0.3333333333333333,\"#9c179e\"],[0.4444444444444444,\"#bd3786\"],[0.5555555555555556,\"#d8576b\"],[0.6666666666666666,\"#ed7953\"],[0.7777777777777778,\"#fb9f3a\"],[0.8888888888888888,\"#fdca26\"],[1.0,\"#f0f921\"]]}],\"heatmap\":[{\"type\":\"heatmap\",\"colorbar\":{\"outlinewidth\":0,\"ticks\":\"\"},\"colorscale\":[[0.0,\"#0d0887\"],[0.1111111111111111,\"#46039f\"],[0.2222222222222222,\"#7201a8\"],[0.3333333333333333,\"#9c179e\"],[0.4444444444444444,\"#bd3786\"],[0.5555555555555556,\"#d8576b\"],[0.6666666666666666,\"#ed7953\"],[0.7777777777777778,\"#fb9f3a\"],[0.8888888888888888,\"#fdca26\"],[1.0,\"#f0f921\"]]}],\"heatmapgl\":[{\"type\":\"heatmapgl\",\"colorbar\":{\"outlinewidth\":0,\"ticks\":\"\"},\"colorscale\":[[0.0,\"#0d0887\"],[0.1111111111111111,\"#46039f\"],[0.2222222222222222,\"#7201a8\"],[0.3333333333333333,\"#9c179e\"],[0.4444444444444444,\"#bd3786\"],[0.5555555555555556,\"#d8576b\"],[0.6666666666666666,\"#ed7953\"],[0.7777777777777778,\"#fb9f3a\"],[0.8888888888888888,\"#fdca26\"],[1.0,\"#f0f921\"]]}],\"contourcarpet\":[{\"type\":\"contourcarpet\",\"colorbar\":{\"outlinewidth\":0,\"ticks\":\"\"}}],\"contour\":[{\"type\":\"contour\",\"colorbar\":{\"outlinewidth\":0,\"ticks\":\"\"},\"colorscale\":[[0.0,\"#0d0887\"],[0.1111111111111111,\"#46039f\"],[0.2222222222222222,\"#7201a8\"],[0.3333333333333333,\"#9c179e\"],[0.4444444444444444,\"#bd3786\"],[0.5555555555555556,\"#d8576b\"],[0.6666666666666666,\"#ed7953\"],[0.7777777777777778,\"#fb9f3a\"],[0.8888888888888888,\"#fdca26\"],[1.0,\"#f0f921\"]]}],\"surface\":[{\"type\":\"surface\",\"colorbar\":{\"outlinewidth\":0,\"ticks\":\"\"},\"colorscale\":[[0.0,\"#0d0887\"],[0.1111111111111111,\"#46039f\"],[0.2222222222222222,\"#7201a8\"],[0.3333333333333333,\"#9c179e\"],[0.4444444444444444,\"#bd3786\"],[0.5555555555555556,\"#d8576b\"],[0.6666666666666666,\"#ed7953\"],[0.7777777777777778,\"#fb9f3a\"],[0.8888888888888888,\"#fdca26\"],[1.0,\"#f0f921\"]]}],\"mesh3d\":[{\"type\":\"mesh3d\",\"colorbar\":{\"outlinewidth\":0,\"ticks\":\"\"}}],\"scatter\":[{\"fillpattern\":{\"fillmode\":\"overlay\",\"size\":10,\"solidity\":0.2},\"type\":\"scatter\"}],\"parcoords\":[{\"type\":\"parcoords\",\"line\":{\"colorbar\":{\"outlinewidth\":0,\"ticks\":\"\"}}}],\"scatterpolargl\":[{\"type\":\"scatterpolargl\",\"marker\":{\"colorbar\":{\"outlinewidth\":0,\"ticks\":\"\"}}}],\"bar\":[{\"error_x\":{\"color\":\"#2a3f5f\"},\"error_y\":{\"color\":\"#2a3f5f\"},\"marker\":{\"line\":{\"color\":\"#E5ECF6\",\"width\":0.5},\"pattern\":{\"fillmode\":\"overlay\",\"size\":10,\"solidity\":0.2}},\"type\":\"bar\"}],\"scattergeo\":[{\"type\":\"scattergeo\",\"marker\":{\"colorbar\":{\"outlinewidth\":0,\"ticks\":\"\"}}}],\"scatterpolar\":[{\"type\":\"scatterpolar\",\"marker\":{\"colorbar\":{\"outlinewidth\":0,\"ticks\":\"\"}}}],\"histogram\":[{\"marker\":{\"pattern\":{\"fillmode\":\"overlay\",\"size\":10,\"solidity\":0.2}},\"type\":\"histogram\"}],\"scattergl\":[{\"type\":\"scattergl\",\"marker\":{\"colorbar\":{\"outlinewidth\":0,\"ticks\":\"\"}}}],\"scatter3d\":[{\"type\":\"scatter3d\",\"line\":{\"colorbar\":{\"outlinewidth\":0,\"ticks\":\"\"}},\"marker\":{\"colorbar\":{\"outlinewidth\":0,\"ticks\":\"\"}}}],\"scattermapbox\":[{\"type\":\"scattermapbox\",\"marker\":{\"colorbar\":{\"outlinewidth\":0,\"ticks\":\"\"}}}],\"scatterternary\":[{\"type\":\"scatterternary\",\"marker\":{\"colorbar\":{\"outlinewidth\":0,\"ticks\":\"\"}}}],\"scattercarpet\":[{\"type\":\"scattercarpet\",\"marker\":{\"colorbar\":{\"outlinewidth\":0,\"ticks\":\"\"}}}],\"carpet\":[{\"aaxis\":{\"endlinecolor\":\"#2a3f5f\",\"gridcolor\":\"white\",\"linecolor\":\"white\",\"minorgridcolor\":\"white\",\"startlinecolor\":\"#2a3f5f\"},\"baxis\":{\"endlinecolor\":\"#2a3f5f\",\"gridcolor\":\"white\",\"linecolor\":\"white\",\"minorgridcolor\":\"white\",\"startlinecolor\":\"#2a3f5f\"},\"type\":\"carpet\"}],\"table\":[{\"cells\":{\"fill\":{\"color\":\"#EBF0F8\"},\"line\":{\"color\":\"white\"}},\"header\":{\"fill\":{\"color\":\"#C8D4E3\"},\"line\":{\"color\":\"white\"}},\"type\":\"table\"}],\"barpolar\":[{\"marker\":{\"line\":{\"color\":\"#E5ECF6\",\"width\":0.5},\"pattern\":{\"fillmode\":\"overlay\",\"size\":10,\"solidity\":0.2}},\"type\":\"barpolar\"}],\"pie\":[{\"automargin\":true,\"type\":\"pie\"}]},\"layout\":{\"autotypenumbers\":\"strict\",\"colorway\":[\"#636efa\",\"#EF553B\",\"#00cc96\",\"#ab63fa\",\"#FFA15A\",\"#19d3f3\",\"#FF6692\",\"#B6E880\",\"#FF97FF\",\"#FECB52\"],\"font\":{\"color\":\"#2a3f5f\"},\"hovermode\":\"closest\",\"hoverlabel\":{\"align\":\"left\"},\"paper_bgcolor\":\"white\",\"plot_bgcolor\":\"#E5ECF6\",\"polar\":{\"bgcolor\":\"#E5ECF6\",\"angularaxis\":{\"gridcolor\":\"white\",\"linecolor\":\"white\",\"ticks\":\"\"},\"radialaxis\":{\"gridcolor\":\"white\",\"linecolor\":\"white\",\"ticks\":\"\"}},\"ternary\":{\"bgcolor\":\"#E5ECF6\",\"aaxis\":{\"gridcolor\":\"white\",\"linecolor\":\"white\",\"ticks\":\"\"},\"baxis\":{\"gridcolor\":\"white\",\"linecolor\":\"white\",\"ticks\":\"\"},\"caxis\":{\"gridcolor\":\"white\",\"linecolor\":\"white\",\"ticks\":\"\"}},\"coloraxis\":{\"colorbar\":{\"outlinewidth\":0,\"ticks\":\"\"}},\"colorscale\":{\"sequential\":[[0.0,\"#0d0887\"],[0.1111111111111111,\"#46039f\"],[0.2222222222222222,\"#7201a8\"],[0.3333333333333333,\"#9c179e\"],[0.4444444444444444,\"#bd3786\"],[0.5555555555555556,\"#d8576b\"],[0.6666666666666666,\"#ed7953\"],[0.7777777777777778,\"#fb9f3a\"],[0.8888888888888888,\"#fdca26\"],[1.0,\"#f0f921\"]],\"sequentialminus\":[[0.0,\"#0d0887\"],[0.1111111111111111,\"#46039f\"],[0.2222222222222222,\"#7201a8\"],[0.3333333333333333,\"#9c179e\"],[0.4444444444444444,\"#bd3786\"],[0.5555555555555556,\"#d8576b\"],[0.6666666666666666,\"#ed7953\"],[0.7777777777777778,\"#fb9f3a\"],[0.8888888888888888,\"#fdca26\"],[1.0,\"#f0f921\"]],\"diverging\":[[0,\"#8e0152\"],[0.1,\"#c51b7d\"],[0.2,\"#de77ae\"],[0.3,\"#f1b6da\"],[0.4,\"#fde0ef\"],[0.5,\"#f7f7f7\"],[0.6,\"#e6f5d0\"],[0.7,\"#b8e186\"],[0.8,\"#7fbc41\"],[0.9,\"#4d9221\"],[1,\"#276419\"]]},\"xaxis\":{\"gridcolor\":\"white\",\"linecolor\":\"white\",\"ticks\":\"\",\"title\":{\"standoff\":15},\"zerolinecolor\":\"white\",\"automargin\":true,\"zerolinewidth\":2},\"yaxis\":{\"gridcolor\":\"white\",\"linecolor\":\"white\",\"ticks\":\"\",\"title\":{\"standoff\":15},\"zerolinecolor\":\"white\",\"automargin\":true,\"zerolinewidth\":2},\"scene\":{\"xaxis\":{\"backgroundcolor\":\"#E5ECF6\",\"gridcolor\":\"white\",\"linecolor\":\"white\",\"showbackground\":true,\"ticks\":\"\",\"zerolinecolor\":\"white\",\"gridwidth\":2},\"yaxis\":{\"backgroundcolor\":\"#E5ECF6\",\"gridcolor\":\"white\",\"linecolor\":\"white\",\"showbackground\":true,\"ticks\":\"\",\"zerolinecolor\":\"white\",\"gridwidth\":2},\"zaxis\":{\"backgroundcolor\":\"#E5ECF6\",\"gridcolor\":\"white\",\"linecolor\":\"white\",\"showbackground\":true,\"ticks\":\"\",\"zerolinecolor\":\"white\",\"gridwidth\":2}},\"shapedefaults\":{\"line\":{\"color\":\"#2a3f5f\"}},\"annotationdefaults\":{\"arrowcolor\":\"#2a3f5f\",\"arrowhead\":0,\"arrowwidth\":1},\"geo\":{\"bgcolor\":\"white\",\"landcolor\":\"#E5ECF6\",\"subunitcolor\":\"white\",\"showland\":true,\"showlakes\":true,\"lakecolor\":\"white\"},\"title\":{\"x\":0.05},\"mapbox\":{\"style\":\"light\"}}},\"legend\":{\"tracegroupgap\":0},\"margin\":{\"t\":60,\"b\":10},\"title\":{\"text\":\"Bacteria Resistance to Ciprofloxacin\"},\"height\":400},                        {\"responsive\": true}                    ).then(function(){\n",
              "                            \n",
              "var gd = document.getElementById('f9fd83ec-a011-45f4-aaea-e523fe13e79a');\n",
              "var x = new MutationObserver(function (mutations, observer) {{\n",
              "        var display = window.getComputedStyle(gd).display;\n",
              "        if (!display || display === 'none') {{\n",
              "            console.log([gd, 'removed!']);\n",
              "            Plotly.purge(gd);\n",
              "            observer.disconnect();\n",
              "        }}\n",
              "}});\n",
              "\n",
              "// Listen for the removal of the full notebook cells\n",
              "var notebookContainer = gd.closest('#notebook-container');\n",
              "if (notebookContainer) {{\n",
              "    x.observe(notebookContainer, {childList: true});\n",
              "}}\n",
              "\n",
              "// Listen for the clearing of the current output cell\n",
              "var outputEl = gd.closest('.output');\n",
              "if (outputEl) {{\n",
              "    x.observe(outputEl, {childList: true});\n",
              "}}\n",
              "\n",
              "                        })                };                            </script>        </div>\n",
              "</body>\n",
              "</html>"
            ]
          },
          "metadata": {}
        },
        {
          "output_type": "display_data",
          "data": {
            "text/html": [
              "<html>\n",
              "<head><meta charset=\"utf-8\" /></head>\n",
              "<body>\n",
              "    <div>            <script src=\"https://cdnjs.cloudflare.com/ajax/libs/mathjax/2.7.5/MathJax.js?config=TeX-AMS-MML_SVG\"></script><script type=\"text/javascript\">if (window.MathJax && window.MathJax.Hub && window.MathJax.Hub.Config) {window.MathJax.Hub.Config({SVG: {font: \"STIX-Web\"}});}</script>                <script type=\"text/javascript\">window.PlotlyConfig = {MathJaxConfig: 'local'};</script>\n",
              "        <script charset=\"utf-8\" src=\"https://cdn.plot.ly/plotly-2.35.2.min.js\"></script>                <div id=\"18f91a19-27ec-42e3-80d3-e3790b7c2b05\" class=\"plotly-graph-div\" style=\"height:400px; width:100%;\"></div>            <script type=\"text/javascript\">                                    window.PLOTLYENV=window.PLOTLYENV || {};                                    if (document.getElementById(\"18f91a19-27ec-42e3-80d3-e3790b7c2b05\")) {                    Plotly.newPlot(                        \"18f91a19-27ec-42e3-80d3-e3790b7c2b05\",                        [{\"dimensions\":[{\"label\":\"Year\",\"values\":[\"2012.0\",\"2009.0\",\"2011.0\",\"2010.0\",\"2012.0\",\"2007.0\",\"2012.0\",\"2000.0\",\"2008.0\",\"2011.0\",\"2010.0\",\"2009.0\",\"2010.0\",\"2009.0\",\"2011.0\",\"2012.0\",\"2009.0\",\"2009.0\",\"2011.0\",\"2010.0\",\"2010.0\",\"2010.0\",\"2010.0\",\"2010.0\",\"2010.0\",\"2010.0\",\"2010.0\",\"2010.0\",\"2009.0\",\"2009.0\",\"2010.0\",\"2003.0\",\"2011.0\",\"2012.0\",\"2012.0\",\"2012.0\",\"2013.0\",\"2011.0\",\"2011.0\",\"2012.0\",\"2011.0\",\"2011.0\",\"2012.0\",\"2012.0\",\"2012.0\",\"2013.0\",\"2011.0\",\"2011.0\",\"2011.0\",\"2011.0\",\"2011.0\",\"2011.0\",\"2011.0\",\"2011.0\",\"2012.0\",\"2012.0\",\"2012.0\",\"2013.0\",\"2011.0\",\"2013.0\",\"2013.0\",\"2012.0\",\"2012.0\",\"2009.0\",\"2009.0\",\"2009.0\",\"2009.0\",\"2009.0\",\"2009.0\",\"2009.0\",\"2009.0\",\"2009.0\",\"2011.0\",\"2013.0\",\"2013.0\",\"2010.0\",\"2013.0\",\"2009.0\",\"2011.0\",\"2011.0\",\"2011.0\",\"2012.0\",\"2012.0\",\"2012.0\",\"2012.0\",\"2012.0\",\"2012.0\",\"2011.0\",\"2011.0\",\"2011.0\",\"2011.0\",\"2011.0\",\"2012.0\",\"2012.0\",\"2009.0\",\"2005.0\",\"2013.0\",\"2013.0\",\"2013.0\",\"2010.0\",\"2010.0\",\"2010.0\",\"2010.0\",\"2010.0\",\"2010.0\",\"2010.0\",\"2010.0\",\"2010.0\",\"2010.0\",\"2011.0\",\"2009.0\",\"2011.0\",\"2011.0\",\"2011.0\",\"2012.0\",\"2011.0\",\"2011.0\",\"2011.0\",\"2012.0\",\"2013.0\",\"2012.0\",\"2012.0\",\"2010.0\",\"2010.0\",\"2010.0\",\"2010.0\",\"2006.0\",\"2012.0\",\"2012.0\",\"2012.0\",\"2011.0\",\"2011.0\",\"2011.0\",\"2011.0\",\"2011.0\",\"2011.0\",\"2011.0\",\"2011.0\",\"2005.0\",\"2012.0\",\"2012.0\",\"2011.0\",\"2010.0\",\"2010.0\",\"2010.0\",\"2010.0\",\"2010.0\",\"2011.0\",\"2010.0\",\"2010.0\",\"2010.0\",\"2010.0\",\"2012.0\",\"2011.0\",\"2011.0\",\"2013.0\",\"2012.0\",\"2011.0\",\"2010.0\",\"2010.0\",\"2010.0\",\"2010.0\",\"2010.0\",\"2010.0\",\"2010.0\",\"2010.0\",\"2010.0\",\"2010.0\",\"2010.0\",\"2010.0\",\"2010.0\",\"2010.0\",\"2010.0\",\"2009.0\",\"2010.0\",\"2010.0\",\"2010.0\",\"2010.0\",\"2010.0\",\"2010.0\",\"2010.0\",\"2010.0\",\"2010.0\",\"2010.0\",\"2010.0\",\"2010.0\",\"2010.0\",\"2010.0\",\"2010.0\",\"2010.0\",\"2011.0\",\"2006.0\",\"2012.0\",\"2011.0\",\"2011.0\",\"2011.0\",\"2011.0\",\"2011.0\",\"2011.0\",\"2011.0\",\"2011.0\",\"2012.0\",\"2011.0\",\"2011.0\",\"2013.0\",\"2012.0\",\"2013.0\",\"2010.0\",\"2001.0\",\"2010.0\",\"2010.0\",\"2010.0\",\"2011.0\",\"2012.0\",\"2011.0\",\"2011.0\",\"2011.0\",\"2011.0\",\"2012.0\",\"2012.0\",\"2013.0\",\"2012.0\",\"2009.0\",\"2009.0\",\"2009.0\",\"2009.0\",\"2009.0\",\"2011.0\",\"2013.0\",\"2013.0\",\"2013.0\",\"2013.0\",\"2012.0\",\"2012.0\",\"2011.0\",\"2011.0\",\"2009.0\",\"2005.0\",\"2012.0\",\"2012.0\",\"2012.0\",\"2011.0\",\"2011.0\",\"2011.0\",\"2011.0\",\"2011.0\",\"2012.0\",\"2012.0\",\"2012.0\",\"2011.0\",\"2011.0\",\"2011.0\",\"2009.0\",\"2009.0\",\"2010.0\",\"2009.0\",\"2009.0\",\"2007.0\",\"2003.0\",\"2008.0\",\"2009.0\",\"2009.0\",\"2010.0\",\"2009.0\",\"2010.0\",\"2010.0\",\"2010.0\",\"2010.0\",\"2010.0\",\"2010.0\",\"2009.0\",\"2009.0\",\"2009.0\",\"2009.0\",\"2009.0\",\"2009.0\",\"2009.0\",\"2009.0\",\"2007.0\",\"2009.0\",\"2009.0\",\"2009.0\",\"2009.0\",\"2009.0\",\"2010.0\",\"2010.0\",\"2001.0\",\"2005.0\",\"2011.0\",\"2010.0\",\"2008.0\",\"2008.0\",\"2009.0\",\"2012.0\",\"2008.0\",\"2001.0\",\"2009.0\",\"2010.0\",\"2008.0\",\"2010.0\",\"2010.0\",\"2007.0\",\"2000.0\",\"2011.0\",\"2012.0\",\"2008.0\",\"2011.0\",\"2009.0\",\"2006.0\",\"2010.0\",\"2012.0\",\"2001.0\",\"2012.0\",\"2007.0\",\"2007.0\",\"2009.0\",\"2009.0\",\"2013.0\",\"2012.0\",\"2009.0\",\"2002.0\",\"2010.0\",\"2013.0\",\"2012.0\",\"2012.0\",\"2009.0\",\"2004.0\",\"2011.0\",\"2013.0\",\"2001.0\",\"2011.0\",\"2011.0\",\"2001.0\",\"2012.0\",\"2013.0\",\"1996.0\",\"2007.0\",\"2013.0\",\"2010.0\",\"2011.0\",\"2001.0\",\"1997.0\",\"2001.0\",\"2010.0\",\"1999.0\",\"2013.0\",\"2005.0\",\"2001.0\",\"2004.0\",\"2012.0\",\"2000.0\",\"2008.0\",\"2013.0\",\"2011.0\",\"2001.0\",\"2004.0\",\"2011.0\",\"2003.0\",\"2010.0\",\"2004.0\",\"2011.0\",\"2010.0\",\"2009.0\",\"2013.0\",\"2002.0\",\"2013.0\",\"2013.0\",\"2012.0\",\"2002.0\",\"2011.0\",\"2015.0\",\"2015.0\",\"2015.0\",\"2015.0\",\"2012.0\",\"2008.0\",\"2009.0\",\"1998.0\",\"2012.0\",\"2012.0\",\"2012.0\",\"2011.0\",\"2001.0\",\"2000.0\",\"2011.0\",\"1997.0\",\"2011.0\",\"2003.0\",\"2009.0\",\"2008.0\",\"2009.0\",\"2009.0\",\"2009.0\",\"2009.0\",\"2013.0\",\"2010.0\",\"2009.0\",\"2005.0\",\"2011.0\",\"2009.0\",\"2009.0\",\"2003.0\",\"2012.0\",\"2015.0\",\"2015.0\",\"2015.0\",\"2009.0\",\"2015.0\",\"2015.0\",\"2015.0\",\"2015.0\",\"2000.0\",\"2013.0\",\"2013.0\",\"2010.0\",\"2015.0\",\"2015.0\",\"2015.0\",\"2015.0\",\"2009.0\",\"2010.0\",\"2009.0\",\"2010.0\",\"2010.0\",\"2010.0\",\"2012.0\",\"2013.0\",\"2013.0\",\"2013.0\",\"2013.0\",\"2012.0\",\"2005.0\",\"2005.0\",\"2006.0\",\"2011.0\",\"2011.0\",\"2001.0\",\"2011.0\",\"2011.0\",\"2011.0\",\"2011.0\",\"2011.0\",\"2011.0\",\"2009.0\",\"2009.0\",\"2009.0\",\"2009.0\",\"2009.0\",\"2009.0\",\"2000.0\",\"2006.0\",\"2002.0\",\"2002.0\",\"2002.0\",\"2003.0\",\"2005.0\",\"2005.0\",\"2005.0\",\"2005.0\",\"2011.0\",\"2011.0\",\"2011.0\",\"2011.0\",\"2001.0\",\"2011.0\",\"2011.0\",\"2009.0\",\"2009.0\",\"2009.0\",\"2009.0\",\"2009.0\",\"2009.0\",\"2009.0\",\"2012.0\",\"2004.0\",\"2004.0\",\"2009.0\",\"2010.0\",\"2010.0\",\"2010.0\",\"2010.0\",\"2010.0\",\"2009.0\",\"2004.0\",\"2001.0\",\"2002.0\",\"2004.0\",\"2004.0\",\"2011.0\",\"2011.0\",\"2012.0\",\"2013.0\",\"2000.0\",\"2000.0\",\"2001.0\",\"2002.0\",\"2004.0\",\"2011.0\",\"2010.0\",\"2015.0\",\"2015.0\",\"2011.0\",\"2013.0\",\"2010.0\",\"2009.0\",\"2000.0\",\"2002.0\",\"2011.0\",\"2012.0\",\"2013.0\",\"2002.0\",\"2003.0\",\"2003.0\",\"2003.0\",\"2004.0\",\"2005.0\",\"2006.0\",\"2006.0\",\"2011.0\",\"2013.0\",\"2011.0\",\"2000.0\",\"2010.0\",\"2002.0\",\"2003.0\",\"2003.0\",\"2001.0\",\"2002.0\",\"2010.0\",\"2010.0\",\"2004.0\",\"2010.0\",\"2010.0\",\"2002.0\",\"2004.0\",\"2004.0\",\"2005.0\",\"2005.0\",\"2012.0\",\"2013.0\",\"2013.0\",\"2013.0\",\"2010.0\",\"2015.0\",\"2015.0\",\"2015.0\",\"2008.0\",\"2011.0\",\"2009.0\",\"2010.0\",\"2008.0\",\"2008.0\",\"2010.0\",\"2011.0\",\"2012.0\",\"2009.0\",\"2009.0\",\"2009.0\",\"2012.0\",\"2001.0\",\"2002.0\",\"2002.0\",\"2008.0\",\"2009.0\",\"2010.0\",\"2011.0\",\"2011.0\",\"2011.0\",\"2012.0\",\"2007.0\",\"2000.0\",\"2008.0\",\"2008.0\",\"2009.0\",\"2006.0\",\"2000.0\",\"2009.0\",\"2010.0\",\"2009.0\",\"2008.0\",\"2009.0\",\"2007.0\",\"2007.0\",\"2007.0\",\"2007.0\",\"2008.0\",\"1993.0\",\"2013.0\",\"2005.0\",\"1997.0\",\"2005.0\",\"2011.0\",\"2004.0\",\"2012.0\",\"2012.0\",\"2013.0\",\"2013.0\",\"2012.0\",\"2006.0\",\"2010.0\",\"2010.0\",\"2011.0\",\"2011.0\",\"2009.0\",\"2004.0\",\"2013.0\",\"2015.0\",\"2002.0\",\"2013.0\",\"2013.0\",\"2012.0\",\"2011.0\",\"2011.0\",\"2011.0\",\"2015.0\",\"2015.0\",\"2015.0\",\"2002.0\",\"2003.0\",\"2003.0\",\"2004.0\",\"2004.0\",\"2005.0\",\"2005.0\",\"2003.0\",\"2002.0\",\"2012.0\",\"2015.0\",\"2011.0\",\"2010.0\",\"2009.0\",\"2012.0\",\"2004.0\",\"2004.0\",\"2004.0\",\"2003.0\",\"2003.0\",\"2002.0\",\"2006.0\",\"2002.0\",\"2013.0\",\"2006.0\",\"2013.0\",\"2012.0\",\"2002.0\",\"2005.0\",\"2015.0\",\"2004.0\",\"2004.0\",\"2004.0\",\"2012.0\",\"2011.0\",\"2011.0\",\"2004.0\",\"2006.0\",\"2000.0\",\"2013.0\",\"2011.0\",\"2011.0\",\"2010.0\",\"2005.0\",\"2004.0\",\"2003.0\",\"2013.0\",\"2006.0\",\"2005.0\",\"2013.0\",\"2011.0\",\"2002.0\",\"2002.0\",\"2002.0\",\"2002.0\",\"2001.0\",\"2013.0\",\"2012.0\",\"2003.0\",\"2012.0\",\"2012.0\",\"2015.0\",\"2000.0\",\"2005.0\",\"2005.0\",\"2002.0\",\"2015.0\",\"2015.0\",\"2015.0\",\"2015.0\",\"2015.0\",\"2015.0\",\"2015.0\",\"2004.0\",\"2004.0\",\"2003.0\",\"2003.0\",\"2003.0\",\"2001.0\",\"2000.0\",\"2000.0\",\"2015.0\",\"2015.0\",\"2015.0\",\"2013.0\",\"2002.0\",\"2001.0\",\"2000.0\",\"2013.0\",\"2012.0\",\"2006.0\",\"2005.0\",\"2004.0\",\"2012.0\",\"2012.0\",\"2002.0\",\"2013.0\",\"2015.0\",\"2002.0\",\"2002.0\",\"2013.0\",\"2010.0\",\"2010.0\",\"2005.0\",\"2004.0\",\"2004.0\",\"2004.0\",\"2011.0\",\"2011.0\",\"2005.0\",\"2004.0\",\"2004.0\",\"2004.0\",\"2015.0\",\"2015.0\",\"2015.0\",\"2015.0\",\"2015.0\",\"2002.0\",\"2009.0\",\"2010.0\",\"2009.0\",\"2009.0\",\"2010.0\",\"2010.0\",\"2010.0\",\"2009.0\",\"2011.0\",\"2010.0\",\"2015.0\",\"2015.0\",\"2015.0\",\"2015.0\",\"2015.0\",\"2009.0\",\"2010.0\",\"2009.0\",\"2009.0\",\"2004.0\",\"2001.0\",\"2010.0\",\"2010.0\",\"2009.0\",\"2010.0\",\"2010.0\",\"2015.0\",\"2015.0\",\"2015.0\",\"2015.0\",\"2015.0\",\"2015.0\",\"2015.0\",\"2015.0\",\"2015.0\",\"2001.0\",\"2015.0\",\"2001.0\",\"2013.0\",\"2013.0\",\"2013.0\",\"2013.0\",\"2012.0\",\"2011.0\",\"2009.0\",\"2010.0\",\"2005.0\",\"2004.0\",\"2013.0\",\"2012.0\",\"2012.0\",\"2012.0\",\"2015.0\",\"2011.0\",\"2015.0\",\"2015.0\",\"2015.0\",\"2015.0\",\"2004.0\",\"2000.0\",\"2012.0\",\"2012.0\",\"2015.0\",\"2005.0\",\"2004.0\",\"2004.0\",\"2004.0\",\"2004.0\",\"2002.0\",\"2000.0\",\"2004.0\",\"2015.0\",\"2011.0\",\"2011.0\",\"2011.0\",\"2011.0\",\"2002.0\",\"2011.0\",\"2010.0\",\"2010.0\",\"2010.0\",\"2015.0\",\"2005.0\",\"2004.0\",\"2011.0\",\"2011.0\",\"2011.0\",\"2011.0\",\"2005.0\",\"2005.0\",\"2005.0\",\"2004.0\",\"2004.0\",\"2002.0\",\"2002.0\",\"2002.0\",\"2013.0\",\"2013.0\",\"2012.0\",\"2011.0\",\"2011.0\",\"2011.0\",\"2011.0\",\"2006.0\",\"2002.0\",\"2000.0\",\"2000.0\",\"2012.0\",\"2012.0\",\"2009.0\",\"2010.0\",\"2009.0\",\"2015.0\",\"2015.0\",\"2015.0\",\"2015.0\",\"2015.0\",\"2003.0\",\"2015.0\",\"2015.0\",\"2015.0\",\"2015.0\",\"2015.0\",\"2015.0\",\"2009.0\",\"2015.0\",\"2015.0\",\"2003.0\",\"2000.0\",\"2011.0\",\"2010.0\",\"2010.0\",\"2003.0\",\"2009.0\",\"2009.0\",\"2009.0\",\"2009.0\",\"2009.0\",\"2009.0\",\"2010.0\",\"2009.0\",\"2009.0\",\"2004.0\",\"2015.0\",\"2015.0\",\"2009.0\",\"2009.0\",\"2001.0\",\"2009.0\",\"2009.0\",\"2008.0\",\"1998.0\",\"2007.0\",\"2011.0\",\"2007.0\",\"1998.0\",\"2004.0\",\"2008.0\",\"2004.0\",\"1998.0\",\"2012.0\",\"2011.0\",\"2010.0\",\"2011.0\",\"2004.0\",\"2010.0\",\"1998.0\",\"2008.0\",\"1998.0\",\"1990.0\",\"2010.0\",\"2011.0\",\"2010.0\",\"2010.0\",\"2011.0\",\"2011.0\",\"2010.0\",\"2010.0\",\"2010.0\",\"2011.0\",\"2010.0\",\"2010.0\",\"2010.0\",\"2010.0\",\"1979.0\",\"2011.0\",\"2011.0\",\"2011.0\",\"2011.0\",\"2011.0\",\"2011.0\",\"2012.0\",\"2012.0\",\"2012.0\",\"2011.0\",\"2012.0\",\"2010.0\",\"2011.0\",\"2011.0\",\"2011.0\",\"2010.0\",\"2011.0\",\"2011.0\",\"2011.0\",\"2011.0\",\"2012.0\",\"2009.0\",\"2009.0\",\"2009.0\",\"2009.0\",\"2009.0\",\"2011.0\",\"2008.0\",\"2008.0\",\"2008.0\",\"2008.0\",\"2010.0\",\"2008.0\",\"2008.0\",\"2008.0\",\"2010.0\",\"2000.0\",\"2010.0\",\"2010.0\",\"2010.0\",\"2010.0\",\"2010.0\",\"2010.0\",\"2008.0\",\"2010.0\",\"2010.0\",\"2010.0\",\"2010.0\",\"2010.0\",\"2010.0\",\"2012.0\",\"2010.0\",\"2010.0\",\"2010.0\",\"2010.0\",\"2009.0\",\"2010.0\",\"2010.0\",\"2008.0\",\"2010.0\",\"2009.0\",\"2008.0\",\"2009.0\",\"2009.0\",\"2008.0\",\"2008.0\",\"2008.0\",\"2010.0\",\"2007.0\",\"2007.0\",\"2007.0\",\"2007.0\",\"1992.0\",\"2007.0\",\"1998.0\",\"2007.0\",\"2007.0\",\"2007.0\",\"2007.0\",\"2012.0\",\"2007.0\",\"2007.0\",\"1998.0\",\"2002.0\",\"2009.0\",\"1998.0\",\"1998.0\",\"1998.0\",\"1998.0\",\"1998.0\",\"1998.0\",\"2007.0\",\"1998.0\",\"1998.0\",\"1986.0\",\"1989.0\",\"1989.0\",\"1989.0\",\"1990.0\",\"1993.0\",\"2015.0\",\"2015.0\",\"2015.0\",\"2007.0\",\"1998.0\",\"2007.0\",\"2015.0\",\"2007.0\",\"2011.0\",\"2007.0\",\"2007.0\",\"2007.0\",\"2007.0\",\"2007.0\",\"2007.0\",\"2015.0\",\"1998.0\",\"1998.0\",\"1998.0\",\"1998.0\",\"1998.0\",\"1998.0\",\"1998.0\",\"1998.0\",\"1996.0\",\"2011.0\",\"1998.0\",\"1998.0\",\"1998.0\",\"1998.0\",\"1998.0\",\"1998.0\",\"1998.0\",\"2011.0\",\"2010.0\",\"2012.0\",\"2012.0\",\"2012.0\",\"2012.0\",\"1998.0\",\"1998.0\",\"1999.0\",\"1999.0\",\"1999.0\",\"1999.0\",\"1999.0\",\"2007.0\",\"1998.0\",\"1998.0\",\"1998.0\",\"1998.0\",\"1998.0\",\"2011.0\",\"2011.0\",\"1989.0\",\"1991.0\",\"1991.0\",\"1998.0\",\"1998.0\",\"1998.0\",\"1998.0\",\"1998.0\",\"1998.0\",\"1998.0\",\"1998.0\",\"1998.0\",\"1998.0\",\"1998.0\",\"1998.0\",\"1998.0\",\"1998.0\",\"1998.0\",\"1998.0\",\"1998.0\",\"1999.0\",\"2009.0\",\"1999.0\",\"1999.0\",\"2015.0\",\"2015.0\",\"2015.0\",\"2015.0\",\"2015.0\",\"2015.0\",\"2015.0\",\"2015.0\",\"2015.0\",\"1998.0\",\"2002.0\",\"1998.0\",\"2004.0\",\"2004.0\",\"2004.0\",\"2004.0\",\"2015.0\",\"2015.0\",\"2015.0\",\"2015.0\",\"2015.0\",\"2015.0\",\"2015.0\",\"2015.0\",\"2015.0\",\"2015.0\",\"2015.0\",\"2015.0\",\"2015.0\",\"2015.0\",\"2015.0\",\"2015.0\",\"2015.0\",\"2015.0\",\"2015.0\",\"2015.0\",\"1993.0\",\"2015.0\",\"1993.0\",\"1998.0\",\"1993.0\",\"1998.0\",\"1998.0\",\"1998.0\",\"1998.0\",\"2015.0\",\"1998.0\",\"1998.0\",\"1998.0\",\"1998.0\",\"1998.0\",\"1998.0\",\"2008.0\",\"2008.0\",\"2008.0\",\"1998.0\",\"1998.0\",\"2007.0\",\"2015.0\",\"1998.0\",\"1998.0\",\"1998.0\",\"1998.0\",\"1998.0\",\"1998.0\",\"1998.0\",\"1998.0\",\"1998.0\",\"1998.0\",\"2015.0\",\"1998.0\",\"1998.0\",\"1998.0\",\"1998.0\",\"1998.0\",\"2015.0\",\"2015.0\",\"2015.0\",\"2015.0\",\"2007.0\",\"2015.0\",\"1998.0\",\"1999.0\",\"2008.0\",\"2008.0\",\"2008.0\",\"2008.0\",\"2008.0\",\"2008.0\",\"2008.0\",\"2008.0\",\"1991.0\",\"1999.0\",\"2002.0\",\"2004.0\",\"2004.0\",\"2004.0\",\"2004.0\",\"2004.0\",\"2004.0\",\"2004.0\",\"1999.0\",\"2015.0\",\"2015.0\",\"2015.0\",\"2004.0\",\"2010.0\",\"2010.0\",\"2010.0\",\"2009.0\",\"2009.0\",\"1999.0\",\"2009.0\",\"2009.0\",\"2010.0\",\"2010.0\",\"2010.0\",\"2008.0\",\"2011.0\",\"2008.0\",\"2008.0\",\"2008.0\",\"2008.0\",\"2008.0\",\"2009.0\",\"2009.0\",\"2009.0\",\"2009.0\",\"2008.0\",\"2010.0\",\"2015.0\",\"2015.0\",\"2015.0\",\"2015.0\",\"2015.0\",\"2015.0\",\"2015.0\",\"2015.0\",\"2015.0\",\"2015.0\",\"2015.0\",\"2015.0\",\"2015.0\",\"2015.0\",\"2015.0\",\"2015.0\",\"2015.0\",\"1999.0\",\"1999.0\",\"1999.0\",\"1999.0\",\"1999.0\",\"1999.0\",\"2015.0\",\"2015.0\",\"2015.0\",\"2015.0\",\"2015.0\",\"2015.0\",\"2015.0\",\"2015.0\",\"2004.0\",\"2004.0\",\"2008.0\",\"2004.0\",\"2015.0\",\"2004.0\",\"2004.0\",\"2005.0\",\"1999.0\",\"2001.0\",\"2015.0\",\"2015.0\",\"2015.0\",\"2015.0\",\"2015.0\",\"2015.0\",\"2004.0\",\"2000.0\",\"2000.0\",\"2000.0\",\"2000.0\",\"2004.0\",\"2003.0\",\"2013.0\",\"2011.0\",\"2011.0\",\"2011.0\",\"2011.0\",\"2011.0\",\"2011.0\",\"2006.0\",\"2005.0\",\"2004.0\",\"2004.0\",\"2009.0\",\"2009.0\",\"2009.0\",\"2009.0\",\"2009.0\",\"2009.0\",\"2009.0\",\"2009.0\",\"2009.0\",\"2009.0\",\"2009.0\",\"2009.0\",\"2009.0\",\"2009.0\",\"2009.0\",\"2009.0\",\"2010.0\",\"2009.0\",\"2009.0\",\"2009.0\",\"2009.0\",\"2009.0\",\"2010.0\",\"2009.0\",\"2009.0\",\"2010.0\",\"2009.0\",\"2009.0\",\"2009.0\",\"2009.0\",\"2009.0\",\"2009.0\",\"2010.0\",\"2009.0\",\"2010.0\",\"2009.0\",\"2009.0\",\"2009.0\",\"2009.0\",\"2009.0\",\"2009.0\",\"2009.0\",\"2009.0\",\"2009.0\",\"2010.0\",\"2009.0\",\"2010.0\",\"2009.0\",\"2009.0\",\"2004.0\",\"2004.0\",\"2003.0\",\"2003.0\",\"2012.0\",\"2012.0\",\"2011.0\",\"2010.0\",\"2012.0\",\"2011.0\",\"2011.0\",\"2011.0\",\"2006.0\",\"2004.0\",\"2009.0\",\"2012.0\",\"2013.0\",\"2012.0\",\"2013.0\",\"2002.0\",\"2003.0\",\"2013.0\",\"2012.0\",\"2012.0\",\"2012.0\",\"2011.0\",\"2011.0\",\"2011.0\",\"2011.0\",\"2011.0\",\"2011.0\",\"2006.0\",\"2005.0\",\"2002.0\",\"2004.0\",\"2004.0\",\"2004.0\",\"2001.0\",\"2013.0\",\"2013.0\",\"2012.0\",\"2012.0\",\"2012.0\",\"2012.0\",\"2012.0\",\"2011.0\",\"2011.0\",\"2011.0\",\"2011.0\",\"2010.0\",\"2006.0\",\"2005.0\",\"2013.0\",\"2011.0\",\"2005.0\",\"2004.0\",\"2000.0\",\"2004.0\",\"2002.0\",\"2001.0\",\"2001.0\",\"2001.0\",\"2011.0\",\"2011.0\",\"2013.0\",\"2013.0\",\"2003.0\",\"2002.0\",\"2002.0\",\"2001.0\",\"2013.0\",\"2011.0\",\"2010.0\",\"2005.0\",\"2005.0\",\"2004.0\",\"2004.0\",\"2004.0\",\"2000.0\",\"2011.0\",\"2011.0\",\"2011.0\",\"2004.0\",\"2012.0\",\"2012.0\",\"2012.0\",\"2013.0\",\"2013.0\",\"2012.0\",\"2004.0\",\"2004.0\",\"2004.0\",\"2004.0\",\"2013.0\",\"2012.0\",\"2012.0\",\"2012.0\",\"2012.0\",\"2011.0\",\"2000.0\",\"2000.0\",\"2011.0\",\"2011.0\",\"2009.0\",\"2005.0\",\"2004.0\",\"2002.0\",\"2001.0\",\"2001.0\",\"2013.0\",\"2012.0\",\"2011.0\",\"2006.0\",\"2000.0\",\"2012.0\",\"2005.0\",\"2005.0\",\"2012.0\",\"2011.0\",\"2010.0\",\"2010.0\",\"2009.0\",\"2009.0\",\"2004.0\",\"2009.0\",\"2004.0\",\"2013.0\",\"2011.0\",\"2006.0\",\"2004.0\",\"2013.0\",\"2013.0\",\"2012.0\",\"2012.0\",\"2013.0\",\"2013.0\",\"2013.0\",\"2012.0\",\"2011.0\",\"2011.0\",\"2006.0\",\"2001.0\",\"2000.0\",\"2012.0\",\"2012.0\",\"2012.0\",\"2013.0\",\"2013.0\",\"2013.0\",\"2012.0\",\"2012.0\",\"2005.0\",\"2005.0\",\"2012.0\",\"2012.0\",\"2012.0\",\"2011.0\",\"2000.0\",\"2013.0\",\"2013.0\",\"2005.0\",\"2005.0\",\"2005.0\",\"2005.0\",\"2004.0\",\"2004.0\",\"2005.0\",\"2004.0\",\"2004.0\",\"2004.0\",\"2003.0\",\"2002.0\",\"2002.0\",\"2000.0\",\"2013.0\",\"2013.0\",\"2013.0\",\"2013.0\",\"2013.0\",\"2010.0\",\"2011.0\",\"2006.0\",\"2005.0\",\"2005.0\",\"2004.0\",\"2004.0\",\"2004.0\",\"2004.0\",\"2003.0\",\"2002.0\",\"2011.0\",\"2011.0\",\"2010.0\",\"2004.0\",\"2004.0\",\"2004.0\",\"2012.0\",\"2012.0\",\"2012.0\",\"2011.0\",\"2013.0\",\"2002.0\",\"2013.0\",\"2012.0\",\"2012.0\",\"2011.0\",\"2005.0\",\"2009.0\",\"2009.0\",\"2009.0\",\"2015.0\",\"2015.0\",\"2015.0\",\"2015.0\",\"2015.0\",\"2015.0\",\"2015.0\",\"2015.0\",\"2000.0\",\"2015.0\",\"2015.0\",\"2003.0\",\"2005.0\",\"2004.0\",\"2004.0\",\"2015.0\",\"2015.0\",\"2015.0\",\"2015.0\",\"2015.0\",\"2015.0\",\"2015.0\",\"2015.0\",\"2015.0\",\"2015.0\",\"2015.0\",\"2015.0\",\"2015.0\",\"2015.0\",\"2015.0\",\"2015.0\",\"2015.0\",\"2015.0\",\"2015.0\",\"2015.0\",\"2015.0\",\"2015.0\",\"2015.0\",\"2015.0\",\"2015.0\",\"2015.0\",\"2015.0\",\"2015.0\",\"2015.0\",\"2015.0\",\"2015.0\",\"2015.0\",\"2015.0\",\"2015.0\",\"2015.0\",\"2015.0\",\"2015.0\",\"2004.0\",\"2005.0\",\"2005.0\",\"2004.0\",\"2003.0\",\"2003.0\",\"2002.0\",\"2005.0\",\"2003.0\",\"2001.0\",\"2000.0\",\"2015.0\",\"2015.0\",\"2015.0\",\"2015.0\",\"2015.0\",\"2015.0\",\"2015.0\",\"2015.0\",\"2015.0\",\"2015.0\",\"2015.0\",\"2015.0\",\"2015.0\",\"2015.0\",\"2015.0\",\"2015.0\",\"2015.0\",\"2015.0\",\"2015.0\",\"2015.0\",\"2015.0\",\"2015.0\",\"2015.0\",\"2015.0\",\"2015.0\",\"2015.0\",\"2015.0\",\"2015.0\",\"2015.0\",\"2015.0\",\"2015.0\",\"2015.0\",\"2015.0\",\"2015.0\",\"2015.0\",\"2015.0\",\"2015.0\",\"2015.0\",\"2015.0\",\"2015.0\",\"2015.0\",\"2015.0\",\"2015.0\",\"2015.0\",\"2015.0\",\"2015.0\",\"2015.0\",\"2004.0\",\"2011.0\",\"1992.0\",\"2007.0\",\"2001.0\",\"1999.0\",\"1990.0\",\"2004.0\",\"2015.0\",\"2015.0\",\"2015.0\",\"2015.0\",\"2015.0\",\"2015.0\",\"2015.0\",\"2015.0\",\"2015.0\",\"2015.0\",\"2015.0\",\"2015.0\",\"2015.0\",\"2015.0\",\"2015.0\",\"2015.0\",\"2015.0\",\"2015.0\",\"2015.0\",\"2015.0\",\"2015.0\",\"2015.0\",\"2015.0\",\"2015.0\",\"2015.0\",\"2015.0\",\"2015.0\",\"2015.0\",\"2015.0\",\"2015.0\",\"2015.0\",\"2015.0\",\"2015.0\",\"2015.0\",\"2015.0\",\"2015.0\",\"2015.0\",\"2015.0\",\"2015.0\",\"2004.0\",\"2002.0\",\"2009.0\",\"2009.0\",\"2006.0\",\"2015.0\",\"2015.0\",\"2015.0\",\"2015.0\",\"2015.0\",\"2015.0\",\"2015.0\",\"2015.0\",\"2015.0\",\"2005.0\",\"2004.0\",\"2004.0\",\"2004.0\",\"2004.0\",\"2003.0\",\"2003.0\",\"2002.0\",\"2000.0\",\"2000.0\",\"2003.0\",\"2004.0\",\"2002.0\",\"2006.0\",\"2015.0\",\"2015.0\",\"2015.0\",\"2015.0\",\"2015.0\",\"2015.0\",\"2015.0\",\"2015.0\",\"2015.0\",\"2015.0\",\"2015.0\",\"2015.0\",\"2015.0\",\"2015.0\",\"2015.0\",\"2015.0\",\"2005.0\",\"2005.0\",\"2005.0\",\"2005.0\",\"2002.0\",\"2002.0\",\"2000.0\",\"2006.0\",\"2001.0\",\"2006.0\",\"2005.0\",\"2015.0\",\"2015.0\",\"2015.0\",\"2015.0\",\"2015.0\",\"2015.0\",\"2015.0\",\"2015.0\",\"2015.0\",\"2015.0\",\"2015.0\",\"2000.0\",\"2005.0\",\"2005.0\",\"2003.0\",\"2004.0\",\"2015.0\",\"2015.0\",\"2015.0\",\"2015.0\",\"2015.0\",\"2015.0\",\"2015.0\",\"2015.0\",\"2015.0\",\"2015.0\",\"2015.0\",\"2015.0\",\"2015.0\",\"2015.0\",\"2015.0\",\"2015.0\",\"2015.0\",\"2015.0\",\"2012.0\",\"2012.0\",\"2015.0\",\"2015.0\",\"2015.0\",\"2015.0\",\"2015.0\",\"2015.0\",\"2015.0\",\"2015.0\",\"2015.0\",\"2015.0\",\"2015.0\",\"2015.0\",\"2015.0\",\"2015.0\",\"2004.0\",\"2004.0\",\"2015.0\",\"2015.0\",\"2005.0\",\"2015.0\",\"2015.0\",\"2015.0\",\"2015.0\",\"2015.0\",\"2015.0\",\"2015.0\",\"2015.0\",\"2015.0\",\"2015.0\",\"2015.0\",\"2015.0\",\"2015.0\",\"2015.0\",\"2015.0\",\"2015.0\",\"2015.0\",\"2015.0\",\"2015.0\",\"2015.0\",\"2015.0\",\"2015.0\",\"2015.0\",\"2015.0\",\"2015.0\",\"2015.0\",\"2015.0\",\"2015.0\",\"2015.0\",\"2000.0\",\"2000.0\",\"2005.0\",\"2015.0\",\"2004.0\",\"2005.0\",\"2015.0\",\"2015.0\",\"2015.0\",\"2015.0\",\"2015.0\",\"2015.0\",\"2006.0\",\"2006.0\",\"2006.0\",\"2001.0\"]},{\"label\":\"Continent\",\"values\":[\"Europe\",\"Asia\",\"Europe\",\"Europe\",\"America\",\"America\",\"America\",\"America\",\"America\",\"Europe\",\"America\",\"America\",\"America\",\"America\",\"America\",\"America\",\"America\",\"America\",\"America\",\"America\",\"America\",\"America\",\"America\",\"America\",\"America\",\"America\",\"America\",\"America\",\"America\",\"Europe\",\"Asia\",\"America\",\"America\",\"America\",\"America\",\"America\",\"America\",\"America\",\"America\",\"America\",\"America\",\"America\",\"America\",\"America\",\"America\",\"America\",\"America\",\"America\",\"America\",\"America\",\"America\",\"America\",\"America\",\"America\",\"America\",\"America\",\"America\",\"America\",\"America\",\"America\",\"America\",\"America\",\"America\",\"America\",\"America\",\"America\",\"America\",\"America\",\"America\",\"America\",\"America\",\"America\",\"America\",\"America\",\"America\",\"Asia\",\"America\",\"America\",\"America\",\"America\",\"America\",\"America\",\"America\",\"America\",\"America\",\"America\",\"America\",\"America\",\"America\",\"America\",\"America\",\"America\",\"America\",\"America\",\"America\",\"America\",\"America\",\"America\",\"America\",\"America\",\"America\",\"America\",\"America\",\"America\",\"America\",\"America\",\"America\",\"America\",\"America\",\"America\",\"America\",\"America\",\"America\",\"America\",\"America\",\"America\",\"America\",\"America\",\"America\",\"America\",\"America\",\"America\",\"America\",\"America\",\"America\",\"America\",\"America\",\"America\",\"America\",\"America\",\"America\",\"America\",\"America\",\"America\",\"America\",\"America\",\"America\",\"America\",\"America\",\"America\",\"America\",\"America\",\"America\",\"America\",\"America\",\"America\",\"America\",\"America\",\"America\",\"America\",\"America\",\"America\",\"America\",\"America\",\"America\",\"America\",\"America\",\"America\",\"America\",\"America\",\"America\",\"America\",\"America\",\"America\",\"America\",\"America\",\"America\",\"America\",\"America\",\"America\",\"America\",\"America\",\"America\",\"America\",\"America\",\"America\",\"America\",\"America\",\"America\",\"America\",\"America\",\"America\",\"America\",\"America\",\"America\",\"America\",\"America\",\"America\",\"America\",\"America\",\"America\",\"America\",\"America\",\"America\",\"America\",\"America\",\"America\",\"America\",\"America\",\"America\",\"America\",\"America\",\"America\",\"America\",\"America\",\"America\",\"America\",\"America\",\"Asia\",\"America\",\"America\",\"America\",\"America\",\"America\",\"America\",\"America\",\"America\",\"America\",\"America\",\"America\",\"America\",\"America\",\"America\",\"America\",\"America\",\"America\",\"America\",\"America\",\"America\",\"America\",\"America\",\"America\",\"America\",\"America\",\"America\",\"America\",\"America\",\"Asia\",\"America\",\"America\",\"America\",\"America\",\"America\",\"America\",\"America\",\"America\",\"America\",\"America\",\"America\",\"America\",\"America\",\"America\",\"America\",\"America\",\"America\",\"America\",\"America\",\"Asia\",\"Asia\",\"America\",\"America\",\"America\",\"America\",\"America\",\"America\",\"America\",\"America\",\"America\",\"America\",\"America\",\"America\",\"America\",\"America\",\"America\",\"America\",\"America\",\"America\",\"America\",\"America\",\"America\",\"America\",\"America\",\"America\",\"America\",\"America\",\"America\",\"Asia\",\"Asia\",\"Europe\",\"Europe\",\"Europe\",\"Europe\",\"Europe\",\"Europe\",\"Europe\",\"Asia\",\"America\",\"Europe\",\"Europe\",\"America\",\"America\",\"America\",\"Asia\",\"Europe\",\"America\",\"America\",\"Europe\",\"America\",\"America\",\"America\",\"America\",\"America\",\"America\",\"America\",\"America\",\"America\",\"America\",\"America\",\"America\",\"America\",\"America\",\"America\",\"America\",\"America\",\"America\",\"Europe\",\"America\",\"America\",\"America\",\"America\",\"America\",\"America\",\"America\",\"America\",\"America\",\"Oceania\",\"America\",\"America\",\"America\",\"America\",\"Asia\",\"Asia\",\"America\",\"Europe\",\"Asia\",\"America\",\"America\",\"Asia\",\"America\",\"America\",\"Asia\",\"Europe\",\"America\",\"America\",\"America\",\"America\",\"America\",\"America\",\"America\",\"America\",\"America\",\"America\",\"America\",\"America\",\"America\",\"America\",\"America\",\"America\",\"America\",\"America\",\"Oceania\",\"Oceania\",\"Oceania\",\"Oceania\",\"Europe\",\"Europe\",\"Europe\",\"Asia\",\"Europe\",\"Europe\",\"Europe\",\"Asia\",\"Asia\",\"Asia\",\"Europe\",\"Asia\",\"Asia\",\"Europe\",\"Europe\",\"Asia\",\"Europe\",\"Europe\",\"Europe\",\"Europe\",\"America\",\"America\",\"America\",\"America\",\"America\",\"America\",\"America\",\"America\",\"America\",\"Oceania\",\"Oceania\",\"Oceania\",\"America\",\"Oceania\",\"Oceania\",\"Oceania\",\"Oceania\",\"America\",\"America\",\"America\",\"America\",\"Oceania\",\"Oceania\",\"Oceania\",\"Oceania\",\"America\",\"America\",\"America\",\"America\",\"America\",\"America\",\"America\",\"America\",\"America\",\"America\",\"America\",\"America\",\"America\",\"America\",\"America\",\"America\",\"America\",\"America\",\"America\",\"America\",\"America\",\"America\",\"America\",\"America\",\"America\",\"America\",\"America\",\"America\",\"America\",\"America\",\"America\",\"America\",\"America\",\"America\",\"America\",\"America\",\"America\",\"America\",\"America\",\"America\",\"America\",\"America\",\"America\",\"America\",\"America\",\"America\",\"America\",\"America\",\"America\",\"America\",\"America\",\"America\",\"America\",\"America\",\"America\",\"America\",\"America\",\"America\",\"America\",\"America\",\"America\",\"America\",\"America\",\"America\",\"America\",\"America\",\"America\",\"America\",\"America\",\"America\",\"America\",\"America\",\"America\",\"America\",\"America\",\"America\",\"America\",\"America\",\"America\",\"America\",\"Oceania\",\"Oceania\",\"America\",\"America\",\"America\",\"America\",\"America\",\"America\",\"America\",\"America\",\"America\",\"America\",\"America\",\"America\",\"America\",\"America\",\"America\",\"America\",\"America\",\"America\",\"America\",\"America\",\"America\",\"America\",\"America\",\"America\",\"America\",\"America\",\"America\",\"America\",\"America\",\"America\",\"America\",\"America\",\"America\",\"America\",\"America\",\"America\",\"America\",\"America\",\"America\",\"America\",\"America\",\"America\",\"Oceania\",\"Oceania\",\"Oceania\",\"Asia\",\"Asia\",\"Asia\",\"Asia\",\"Europe\",\"Europe\",\"Asia\",\"Asia\",\"Europe\",\"Asia\",\"Asia\",\"America\",\"Europe\",\"America\",\"America\",\"America\",\"Europe\",\"Europe\",\"Europe\",\"Europe\",\"America\",\"America\",\"Europe\",\"America\",\"Asia\",\"Asia\",\"Asia\",\"Europe\",\"America\",\"Asia\",\"Europe\",\"Asia\",\"Asia\",\"Europe\",\"Asia\",\"America\",\"America\",\"Asia\",\"America\",\"Asia\",\"Europe\",\"America\",\"America\",\"Oceania\",\"America\",\"Europe\",\"America\",\"America\",\"America\",\"America\",\"America\",\"America\",\"America\",\"America\",\"America\",\"America\",\"America\",\"America\",\"America\",\"America\",\"Oceania\",\"America\",\"America\",\"America\",\"America\",\"America\",\"America\",\"America\",\"Oceania\",\"Oceania\",\"Oceania\",\"America\",\"America\",\"America\",\"America\",\"America\",\"America\",\"America\",\"America\",\"America\",\"America\",\"Oceania\",\"America\",\"America\",\"America\",\"America\",\"America\",\"America\",\"America\",\"America\",\"America\",\"America\",\"America\",\"America\",\"America\",\"America\",\"America\",\"America\",\"America\",\"America\",\"Oceania\",\"America\",\"America\",\"America\",\"America\",\"America\",\"America\",\"America\",\"America\",\"America\",\"America\",\"America\",\"America\",\"America\",\"America\",\"America\",\"America\",\"America\",\"America\",\"America\",\"America\",\"America\",\"America\",\"America\",\"America\",\"America\",\"America\",\"America\",\"America\",\"America\",\"America\",\"America\",\"Oceania\",\"America\",\"America\",\"America\",\"America\",\"Oceania\",\"Oceania\",\"Oceania\",\"Oceania\",\"Oceania\",\"Oceania\",\"Oceania\",\"America\",\"America\",\"America\",\"America\",\"America\",\"America\",\"America\",\"America\",\"Oceania\",\"Oceania\",\"Oceania\",\"America\",\"America\",\"America\",\"America\",\"America\",\"America\",\"America\",\"America\",\"America\",\"America\",\"America\",\"America\",\"America\",\"Oceania\",\"America\",\"America\",\"America\",\"America\",\"America\",\"America\",\"America\",\"America\",\"America\",\"America\",\"America\",\"America\",\"America\",\"America\",\"America\",\"Oceania\",\"Oceania\",\"Oceania\",\"Oceania\",\"Oceania\",\"America\",\"America\",\"America\",\"America\",\"America\",\"America\",\"America\",\"America\",\"America\",\"America\",\"America\",\"Oceania\",\"Oceania\",\"Oceania\",\"Oceania\",\"Oceania\",\"America\",\"America\",\"America\",\"America\",\"America\",\"America\",\"America\",\"America\",\"America\",\"America\",\"America\",\"Oceania\",\"Oceania\",\"Oceania\",\"Oceania\",\"Oceania\",\"Oceania\",\"Oceania\",\"Oceania\",\"Oceania\",\"America\",\"Oceania\",\"America\",\"America\",\"America\",\"America\",\"America\",\"America\",\"America\",\"America\",\"America\",\"America\",\"America\",\"America\",\"America\",\"America\",\"America\",\"Oceania\",\"America\",\"Oceania\",\"Oceania\",\"Oceania\",\"Oceania\",\"America\",\"America\",\"America\",\"America\",\"Oceania\",\"America\",\"America\",\"America\",\"America\",\"America\",\"America\",\"America\",\"America\",\"Oceania\",\"America\",\"America\",\"America\",\"America\",\"America\",\"America\",\"America\",\"America\",\"America\",\"Oceania\",\"America\",\"America\",\"America\",\"America\",\"America\",\"America\",\"America\",\"America\",\"America\",\"America\",\"America\",\"America\",\"America\",\"America\",\"America\",\"America\",\"America\",\"America\",\"America\",\"America\",\"America\",\"America\",\"America\",\"America\",\"America\",\"America\",\"America\",\"America\",\"America\",\"America\",\"Oceania\",\"Oceania\",\"Oceania\",\"Oceania\",\"Oceania\",\"America\",\"Oceania\",\"Oceania\",\"Oceania\",\"Oceania\",\"Oceania\",\"Oceania\",\"America\",\"Oceania\",\"Oceania\",\"America\",\"America\",\"America\",\"America\",\"America\",\"America\",\"America\",\"America\",\"America\",\"America\",\"America\",\"America\",\"America\",\"America\",\"America\",\"America\",\"Oceania\",\"Oceania\",\"America\",\"Europe\",\"Asia\",\"Europe\",\"Europe\",\"Asia\",\"Europe\",\"Asia\",\"Asia\",\"Asia\",\"Asia\",\"Asia\",\"Europe\",\"Asia\",\"Europe\",\"Europe\",\"Europe\",\"Europe\",\"Asia\",\"Asia\",\"Asia\",\"Europe\",\"Asia\",\"Asia\",\"Africa\",\"Asia\",\"Asia\",\"Europe\",\"Europe\",\"Europe\",\"Europe\",\"Europe\",\"Europe\",\"Europe\",\"Europe\",\"Europe\",\"Europe\",\"Europe\",\"Europe\",\"Asia\",\"Europe\",\"Europe\",\"Europe\",\"Europe\",\"Europe\",\"Europe\",\"Europe\",\"Europe\",\"Europe\",\"Europe\",\"Europe\",\"Europe\",\"Europe\",\"Europe\",\"Europe\",\"Europe\",\"Europe\",\"Europe\",\"Europe\",\"Europe\",\"Europe\",\"Europe\",\"Europe\",\"Europe\",\"Europe\",\"Europe\",\"Asia\",\"Europe\",\"Europe\",\"Europe\",\"Europe\",\"Europe\",\"Europe\",\"Europe\",\"Asia\",\"Asia\",\"Asia\",\"Asia\",\"Asia\",\"Asia\",\"Asia\",\"Asia\",\"Asia\",\"Europe\",\"Europe\",\"Europe\",\"Europe\",\"Europe\",\"Europe\",\"Europe\",\"Europe\",\"Europe\",\"Europe\",\"Europe\",\"Europe\",\"Europe\",\"Europe\",\"Europe\",\"Europe\",\"Europe\",\"Europe\",\"Asia\",\"Europe\",\"Europe\",\"Asia\",\"Europe\",\"Europe\",\"Europe\",\"Africa\",\"Africa\",\"Africa\",\"Africa\",\"Africa\",\"Africa\",\"Europe\",\"Africa\",\"Africa\",\"Africa\",\"Africa\",\"Europe\",\"Africa\",\"Africa\",\"Asia\",\"Europe\",\"Europe\",\"Africa\",\"Africa\",\"Africa\",\"Africa\",\"Africa\",\"Africa\",\"Africa\",\"America\",\"America\",\"Europe\",\"Europe\",\"Europe\",\"Europe\",\"Europe\",\"Europe\",\"Oceania\",\"Oceania\",\"Oceania\",\"Africa\",\"America\",\"Africa\",\"Oceania\",\"Africa\",\"Asia\",\"Africa\",\"Africa\",\"Africa\",\"Africa\",\"Africa\",\"Africa\",\"Oceania\",\"Asia\",\"Asia\",\"Asia\",\"Asia\",\"Asia\",\"Asia\",\"Asia\",\"Asia\",\"Oceania\",\"Europe\",\"Asia\",\"Africa\",\"Asia\",\"Asia\",\"Asia\",\"Asia\",\"Asia\",\"Europe\",\"Asia\",\"Europe\",\"Europe\",\"Europe\",\"Europe\",\"Asia\",\"Africa\",\"Africa\",\"Africa\",\"Africa\",\"Africa\",\"Africa\",\"Africa\",\"Asia\",\"Asia\",\"Asia\",\"Asia\",\"Asia\",\"Asia\",\"Asia\",\"Africa\",\"Africa\",\"Africa\",\"Asia\",\"Asia\",\"Asia\",\"Asia\",\"Asia\",\"Asia\",\"Asia\",\"Asia\",\"Europe\",\"America\",\"Europe\",\"Europe\",\"Europe\",\"Asia\",\"Europe\",\"Europe\",\"Europe\",\"Europe\",\"Asia\",\"Europe\",\"Europe\",\"Oceania\",\"Oceania\",\"Oceania\",\"Oceania\",\"Oceania\",\"Oceania\",\"Oceania\",\"Oceania\",\"Oceania\",\"America\",\"Europe\",\"America\",\"Europe\",\"Europe\",\"Europe\",\"Asia\",\"Oceania\",\"Oceania\",\"Oceania\",\"Oceania\",\"Oceania\",\"Oceania\",\"Oceania\",\"Oceania\",\"Oceania\",\"Oceania\",\"Oceania\",\"Oceania\",\"Oceania\",\"Oceania\",\"Oceania\",\"Oceania\",\"Oceania\",\"Oceania\",\"Oceania\",\"Oceania\",\"Europe\",\"Oceania\",\"Europe\",\"America\",\"Europe\",\"Europe\",\"Europe\",\"Europe\",\"Europe\",\"Oceania\",\"Europe\",\"America\",\"Europe\",\"Europe\",\"America\",\"America\",\"America\",\"America\",\"America\",\"America\",\"America\",\"Africa\",\"Oceania\",\"Europe\",\"Europe\",\"Europe\",\"Europe\",\"Europe\",\"Europe\",\"Europe\",\"Europe\",\"America\",\"Europe\",\"Oceania\",\"Europe\",\"Europe\",\"Europe\",\"Asia\",\"Asia\",\"Oceania\",\"Oceania\",\"Oceania\",\"Oceania\",\"Africa\",\"Oceania\",\"Europe\",\"Asia\",\"Asia\",\"Asia\",\"Asia\",\"Asia\",\"Asia\",\"Asia\",\"Asia\",\"Asia\",\"America\",\"Asia\",\"Europe\",\"Oceania\",\"Oceania\",\"Oceania\",\"Oceania\",\"Oceania\",\"Oceania\",\"Oceania\",\"Asia\",\"Oceania\",\"Oceania\",\"Oceania\",\"Oceania\",\"Asia\",\"Asia\",\"Asia\",\"Asia\",\"Asia\",\"Europe\",\"Asia\",\"Asia\",\"Asia\",\"Asia\",\"Asia\",\"Asia\",\"America\",\"Asia\",\"Asia\",\"Asia\",\"Asia\",\"Asia\",\"Asia\",\"Asia\",\"Asia\",\"Asia\",\"Asia\",\"Asia\",\"Oceania\",\"Oceania\",\"Oceania\",\"Oceania\",\"Oceania\",\"Oceania\",\"Oceania\",\"Oceania\",\"Oceania\",\"Oceania\",\"Oceania\",\"Oceania\",\"Oceania\",\"Oceania\",\"Oceania\",\"Oceania\",\"Oceania\",\"Europe\",\"Europe\",\"Europe\",\"Asia\",\"Asia\",\"Europe\",\"Oceania\",\"Oceania\",\"Oceania\",\"Oceania\",\"Oceania\",\"Oceania\",\"Oceania\",\"Oceania\",\"Asia\",\"Asia\",\"America\",\"Asia\",\"Oceania\",\"Asia\",\"Asia\",\"Europe\",\"Asia\",\"Asia\",\"Oceania\",\"Oceania\",\"Oceania\",\"Oceania\",\"Oceania\",\"Oceania\",\"Asia\",\"America\",\"America\",\"America\",\"America\",\"America\",\"America\",\"America\",\"America\",\"America\",\"America\",\"America\",\"America\",\"America\",\"America\",\"America\",\"America\",\"America\",\"America\",\"America\",\"America\",\"America\",\"America\",\"America\",\"America\",\"America\",\"America\",\"America\",\"America\",\"America\",\"America\",\"America\",\"America\",\"America\",\"America\",\"America\",\"America\",\"America\",\"America\",\"America\",\"America\",\"America\",\"America\",\"America\",\"America\",\"America\",\"America\",\"America\",\"America\",\"America\",\"America\",\"America\",\"America\",\"America\",\"America\",\"America\",\"America\",\"America\",\"America\",\"America\",\"America\",\"America\",\"America\",\"America\",\"America\",\"America\",\"America\",\"America\",\"America\",\"America\",\"America\",\"America\",\"America\",\"America\",\"America\",\"America\",\"America\",\"America\",\"America\",\"America\",\"America\",\"America\",\"America\",\"America\",\"America\",\"America\",\"America\",\"America\",\"America\",\"America\",\"America\",\"America\",\"America\",\"America\",\"America\",\"America\",\"America\",\"America\",\"America\",\"America\",\"America\",\"America\",\"America\",\"America\",\"America\",\"America\",\"America\",\"America\",\"America\",\"America\",\"America\",\"America\",\"America\",\"America\",\"America\",\"America\",\"America\",\"America\",\"America\",\"America\",\"America\",\"America\",\"America\",\"America\",\"America\",\"America\",\"America\",\"America\",\"America\",\"America\",\"America\",\"America\",\"America\",\"America\",\"America\",\"America\",\"America\",\"America\",\"America\",\"America\",\"America\",\"America\",\"America\",\"America\",\"America\",\"America\",\"America\",\"America\",\"America\",\"America\",\"America\",\"America\",\"America\",\"America\",\"America\",\"America\",\"America\",\"America\",\"America\",\"America\",\"America\",\"America\",\"America\",\"America\",\"America\",\"America\",\"America\",\"America\",\"America\",\"America\",\"America\",\"America\",\"America\",\"America\",\"America\",\"America\",\"America\",\"America\",\"America\",\"America\",\"America\",\"America\",\"America\",\"America\",\"America\",\"America\",\"America\",\"America\",\"America\",\"America\",\"America\",\"America\",\"America\",\"America\",\"America\",\"America\",\"America\",\"America\",\"America\",\"America\",\"America\",\"America\",\"America\",\"America\",\"America\",\"America\",\"America\",\"America\",\"America\",\"America\",\"America\",\"America\",\"America\",\"America\",\"America\",\"America\",\"America\",\"America\",\"America\",\"America\",\"America\",\"America\",\"America\",\"America\",\"America\",\"America\",\"America\",\"America\",\"America\",\"America\",\"America\",\"America\",\"America\",\"America\",\"America\",\"America\",\"America\",\"America\",\"America\",\"America\",\"America\",\"America\",\"America\",\"America\",\"America\",\"America\",\"America\",\"America\",\"America\",\"America\",\"America\",\"America\",\"America\",\"America\",\"America\",\"America\",\"America\",\"America\",\"America\",\"America\",\"America\",\"America\",\"America\",\"America\",\"America\",\"America\",\"America\",\"America\",\"America\",\"America\",\"America\",\"America\",\"America\",\"America\",\"America\",\"America\",\"America\",\"Oceania\",\"Oceania\",\"Oceania\",\"Oceania\",\"Oceania\",\"Oceania\",\"Oceania\",\"Oceania\",\"America\",\"Oceania\",\"Oceania\",\"America\",\"America\",\"America\",\"America\",\"Oceania\",\"Oceania\",\"Oceania\",\"Oceania\",\"Oceania\",\"Oceania\",\"Oceania\",\"Oceania\",\"Oceania\",\"Oceania\",\"Oceania\",\"Oceania\",\"Oceania\",\"Oceania\",\"Oceania\",\"Oceania\",\"Oceania\",\"Oceania\",\"Oceania\",\"Oceania\",\"Oceania\",\"Oceania\",\"Oceania\",\"Oceania\",\"Oceania\",\"Oceania\",\"Oceania\",\"Oceania\",\"Oceania\",\"Oceania\",\"Oceania\",\"Oceania\",\"Oceania\",\"Oceania\",\"Oceania\",\"Oceania\",\"Oceania\",\"America\",\"America\",\"America\",\"America\",\"America\",\"America\",\"America\",\"America\",\"America\",\"America\",\"America\",\"Oceania\",\"Oceania\",\"Oceania\",\"Oceania\",\"Oceania\",\"Oceania\",\"Oceania\",\"Oceania\",\"Oceania\",\"Oceania\",\"Oceania\",\"Oceania\",\"Oceania\",\"Oceania\",\"Oceania\",\"Oceania\",\"Oceania\",\"Oceania\",\"Oceania\",\"Oceania\",\"Oceania\",\"Oceania\",\"Oceania\",\"Oceania\",\"Oceania\",\"Oceania\",\"Oceania\",\"Oceania\",\"Oceania\",\"Oceania\",\"Oceania\",\"Oceania\",\"Oceania\",\"Oceania\",\"Oceania\",\"Oceania\",\"Oceania\",\"Oceania\",\"Oceania\",\"Oceania\",\"Oceania\",\"Oceania\",\"Oceania\",\"Oceania\",\"Oceania\",\"Oceania\",\"Oceania\",\"America\",\"Europe\",\"Oceania\",\"Asia\",\"Oceania\",\"America\",\"America\",\"America\",\"Oceania\",\"Oceania\",\"Oceania\",\"Oceania\",\"Oceania\",\"Oceania\",\"Oceania\",\"Oceania\",\"Oceania\",\"Oceania\",\"Oceania\",\"Oceania\",\"Oceania\",\"Oceania\",\"Oceania\",\"Oceania\",\"Oceania\",\"Oceania\",\"Oceania\",\"Oceania\",\"Oceania\",\"Oceania\",\"Oceania\",\"Oceania\",\"Oceania\",\"Oceania\",\"Oceania\",\"Oceania\",\"Oceania\",\"Oceania\",\"Oceania\",\"Oceania\",\"Oceania\",\"Oceania\",\"Oceania\",\"Oceania\",\"Oceania\",\"Oceania\",\"Oceania\",\"America\",\"America\",\"Europe\",\"Europe\",\"America\",\"Oceania\",\"Oceania\",\"Oceania\",\"Oceania\",\"Oceania\",\"Oceania\",\"Oceania\",\"Oceania\",\"Oceania\",\"America\",\"America\",\"America\",\"America\",\"America\",\"America\",\"America\",\"America\",\"America\",\"America\",\"America\",\"America\",\"America\",\"America\",\"Oceania\",\"Oceania\",\"Oceania\",\"Oceania\",\"Oceania\",\"Oceania\",\"Oceania\",\"Oceania\",\"Oceania\",\"Oceania\",\"Oceania\",\"Oceania\",\"Oceania\",\"Oceania\",\"Oceania\",\"Oceania\",\"America\",\"America\",\"America\",\"America\",\"America\",\"America\",\"America\",\"America\",\"America\",\"America\",\"America\",\"Oceania\",\"Oceania\",\"Oceania\",\"Oceania\",\"Oceania\",\"Oceania\",\"Oceania\",\"Oceania\",\"Oceania\",\"Oceania\",\"Oceania\",\"America\",\"America\",\"America\",\"America\",\"America\",\"Oceania\",\"Oceania\",\"Oceania\",\"Oceania\",\"Oceania\",\"Oceania\",\"Oceania\",\"Oceania\",\"Oceania\",\"Oceania\",\"Oceania\",\"Oceania\",\"Oceania\",\"Oceania\",\"Oceania\",\"Oceania\",\"Oceania\",\"Oceania\",\"Africa\",\"Africa\",\"Oceania\",\"Oceania\",\"Oceania\",\"Oceania\",\"Oceania\",\"Oceania\",\"Oceania\",\"Oceania\",\"Oceania\",\"Oceania\",\"Oceania\",\"Oceania\",\"Oceania\",\"Oceania\",\"America\",\"America\",\"Oceania\",\"Oceania\",\"America\",\"Oceania\",\"Oceania\",\"Oceania\",\"Oceania\",\"Oceania\",\"Oceania\",\"Oceania\",\"Oceania\",\"Oceania\",\"Oceania\",\"Oceania\",\"Oceania\",\"Oceania\",\"Oceania\",\"Oceania\",\"Oceania\",\"Oceania\",\"Oceania\",\"Oceania\",\"Oceania\",\"Oceania\",\"Oceania\",\"Oceania\",\"Oceania\",\"Oceania\",\"Oceania\",\"Oceania\",\"Oceania\",\"Oceania\",\"America\",\"America\",\"America\",\"Oceania\",\"America\",\"America\",\"Oceania\",\"Oceania\",\"Oceania\",\"Oceania\",\"Oceania\",\"Oceania\",\"America\",\"America\",\"America\",\"America\"]},{\"label\":\"Beta.lactamase\",\"values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},{\"label\":\"cfx_mic\",\"values\":[4.0,4.0,3.0,2.0,1.0,1.0,1.0,1.0,1.0,0.75,0.5,0.5,0.5,0.5,0.5,0.5,0.5,0.5,0.5,0.5,0.5,0.5,0.5,0.5,0.5,0.5,0.5,0.5,0.5,0.38,0.38,0.38,0.25,0.25,0.25,0.25,0.25,0.25,0.25,0.25,0.25,0.25,0.25,0.25,0.25,0.25,0.25,0.25,0.25,0.25,0.25,0.25,0.25,0.25,0.25,0.25,0.25,0.25,0.25,0.25,0.25,0.25,0.25,0.25,0.25,0.25,0.25,0.25,0.25,0.25,0.25,0.25,0.25,0.25,0.25,0.25,0.25,0.25,0.25,0.25,0.25,0.25,0.25,0.25,0.25,0.25,0.25,0.25,0.25,0.25,0.25,0.25,0.25,0.25,0.25,0.25,0.25,0.25,0.25,0.25,0.25,0.25,0.25,0.25,0.25,0.25,0.25,0.25,0.25,0.25,0.25,0.25,0.25,0.25,0.25,0.25,0.25,0.25,0.25,0.25,0.25,0.25,0.25,0.25,0.25,0.25,0.25,0.25,0.25,0.25,0.25,0.25,0.25,0.25,0.25,0.25,0.25,0.25,0.25,0.25,0.25,0.25,0.25,0.25,0.25,0.25,0.25,0.25,0.25,0.25,0.25,0.25,0.25,0.25,0.25,0.25,0.25,0.25,0.25,0.25,0.25,0.25,0.25,0.25,0.25,0.25,0.25,0.25,0.25,0.25,0.25,0.25,0.25,0.25,0.25,0.25,0.25,0.25,0.25,0.25,0.25,0.25,0.25,0.25,0.25,0.25,0.25,0.25,0.25,0.25,0.25,0.25,0.25,0.25,0.25,0.25,0.25,0.25,0.25,0.25,0.25,0.25,0.25,0.25,0.25,0.25,0.25,0.25,0.25,0.25,0.25,0.25,0.25,0.25,0.25,0.25,0.25,0.25,0.25,0.25,0.25,0.25,0.25,0.25,0.25,0.25,0.25,0.25,0.25,0.25,0.25,0.25,0.25,0.25,0.25,0.25,0.25,0.25,0.25,0.25,0.25,0.25,0.25,0.25,0.25,0.25,0.25,0.25,0.25,0.25,0.25,0.25,0.25,0.25,0.25,0.25,0.25,0.25,0.25,0.25,0.25,0.25,0.25,0.25,0.25,0.25,0.25,0.25,0.25,0.25,0.25,0.25,0.25,0.25,0.25,0.25,0.25,0.25,0.25,0.25,0.25,0.25,0.25,0.25,0.25,0.25,0.19,0.19,0.19,0.19,0.19,0.19,0.19,0.19,0.19,0.125,0.125,0.125,0.125,0.125,0.125,0.125,0.125,0.125,0.125,0.125,0.125,0.125,0.125,0.125,0.125,0.125,0.125,0.125,0.125,0.125,0.125,0.125,0.125,0.125,0.125,0.125,0.125,0.125,0.125,0.125,0.125,0.125,0.125,0.125,0.125,0.125,0.125,0.125,0.125,0.125,0.125,0.125,0.125,0.125,0.125,0.125,0.125,0.125,0.125,0.125,0.125,0.125,0.125,0.125,0.125,0.125,0.125,0.125,0.125,0.125,0.125,0.125,0.125,0.125,0.125,0.125,0.125,0.125,0.125,0.125,0.125,0.125,0.125,0.125,0.12,0.12,0.12,0.12,0.094,0.094,0.094,0.094,0.094,0.094,0.094,0.094,0.094,0.094,0.064,0.064,0.064,0.064,0.064,0.064,0.064,0.064,0.064,0.064,0.063,0.063,0.063,0.063,0.063,0.063,0.063,0.063,0.063,0.06,0.06,0.06,0.06,0.06,0.06,0.06,0.06,0.06,0.06,0.06,0.06,0.06,0.06,0.06,0.06,0.06,0.06,0.06,0.06,0.06,0.06,0.06,0.06,0.06,0.06,0.06,0.06,0.06,0.06,0.06,0.06,0.06,0.06,0.06,0.06,0.06,0.06,0.06,0.06,0.06,0.06,0.06,0.06,0.06,0.06,0.06,0.06,0.06,0.06,0.06,0.06,0.06,0.06,0.06,0.06,0.06,0.06,0.06,0.06,0.06,0.06,0.06,0.06,0.06,0.06,0.06,0.06,0.06,0.06,0.06,0.06,0.06,0.06,0.06,0.06,0.06,0.06,0.06,0.06,0.06,0.06,0.06,0.06,0.06,0.06,0.06,0.06,0.06,0.06,0.06,0.06,0.06,0.06,0.06,0.06,0.06,0.06,0.06,0.06,0.06,0.06,0.06,0.06,0.06,0.06,0.06,0.06,0.06,0.06,0.06,0.06,0.06,0.06,0.06,0.06,0.06,0.06,0.06,0.06,0.06,0.06,0.06,0.06,0.06,0.06,0.06,0.06,0.06,0.06,0.06,0.06,0.06,0.06,0.06,0.06,0.06,0.06,0.06,0.06,0.06,0.06,0.06,0.047,0.047,0.047,0.047,0.047,0.047,0.047,0.047,0.047,0.047,0.047,0.032,0.032,0.032,0.032,0.032,0.032,0.032,0.032,0.032,0.032,0.032,0.032,0.032,0.032,0.032,0.032,0.032,0.032,0.032,0.032,0.032,0.032,0.032,0.032,0.032,0.032,0.032,0.032,0.032,0.032,0.032,0.032,0.032,0.032,0.032,0.03,0.03,0.03,0.03,0.03,0.03,0.03,0.03,0.03,0.03,0.03,0.03,0.03,0.03,0.03,0.03,0.03,0.03,0.03,0.03,0.03,0.03,0.03,0.03,0.03,0.03,0.03,0.03,0.03,0.03,0.03,0.03,0.03,0.03,0.03,0.03,0.03,0.03,0.03,0.03,0.03,0.03,0.03,0.03,0.03,0.03,0.03,0.03,0.03,0.03,0.03,0.03,0.03,0.03,0.03,0.03,0.03,0.03,0.03,0.03,0.03,0.03,0.03,0.03,0.03,0.03,0.03,0.03,0.03,0.03,0.03,0.03,0.03,0.03,0.03,0.03,0.03,0.03,0.03,0.03,0.03,0.03,0.03,0.03,0.03,0.03,0.03,0.03,0.03,0.03,0.03,0.03,0.03,0.03,0.03,0.03,0.03,0.03,0.03,0.03,0.03,0.03,0.03,0.03,0.03,0.03,0.03,0.03,0.03,0.03,0.03,0.03,0.03,0.03,0.03,0.03,0.03,0.03,0.03,0.03,0.03,0.03,0.03,0.03,0.03,0.03,0.03,0.03,0.03,0.03,0.03,0.03,0.03,0.03,0.03,0.03,0.03,0.03,0.03,0.03,0.03,0.03,0.03,0.03,0.03,0.03,0.03,0.03,0.03,0.03,0.03,0.03,0.03,0.03,0.03,0.03,0.03,0.03,0.03,0.03,0.03,0.03,0.03,0.03,0.03,0.03,0.03,0.03,0.03,0.03,0.03,0.03,0.03,0.03,0.03,0.03,0.03,0.03,0.03,0.03,0.03,0.03,0.03,0.03,0.03,0.03,0.03,0.03,0.03,0.03,0.03,0.03,0.03,0.03,0.03,0.03,0.03,0.03,0.03,0.03,0.03,0.03,0.03,0.03,0.03,0.03,0.03,0.03,0.03,0.03,0.03,0.03,0.03,0.03,0.03,0.03,0.03,0.03,0.03,0.03,0.03,0.03,0.03,0.03,0.03,0.03,0.03,0.03,0.03,0.03,0.03,0.03,0.03,0.03,0.03,0.03,0.03,0.03,0.03,0.03,0.03,0.03,0.03,0.03,0.03,0.03,0.03,0.03,0.03,0.03,0.03,0.03,0.03,0.03,0.03,0.03,0.03,0.03,0.03,0.03,0.03,0.03,0.03,0.03,0.03,0.03,0.03,0.03,0.03,0.03,0.03,0.03,0.03,0.03,0.03,0.03,0.03,0.03,0.03,0.03,0.03,0.03,0.03,0.03,0.03,0.03,0.03,0.03,0.03,0.03,0.023,0.023,0.023,0.023,0.023,0.023,0.023,0.023,0.023,0.023,0.023,0.023,0.023,0.023,0.023,0.023,0.023,0.023,0.023,0.023,0.023,0.023,0.023,0.023,0.023,0.023,0.023,0.016,0.016,0.016,0.016,0.016,0.016,0.016,0.016,0.016,0.016,0.016,0.016,0.016,0.016,0.016,0.016,0.016,0.016,0.016,0.016,0.016,0.016,0.016,0.016,0.016,0.016,0.016,0.016,0.016,0.016,0.016,0.016,0.016,0.016,0.016,0.016,0.016,0.016,0.016,0.016,0.016,0.016,0.016,0.016,0.016,0.016,0.016,0.016,0.016,0.016,0.016,0.016,0.016,0.016,0.016,0.016,0.016,0.016,0.016,0.016,0.016,0.016,0.016,0.016,0.016,0.016,0.016,0.016,0.016,0.016,0.016,0.016,0.016,0.016,0.016,0.016,0.016,0.016,0.016,0.016,0.016,0.016,0.016,0.016,0.016,0.016,0.016,0.016,0.016,0.016,0.016,0.016,0.016,0.016,0.016,0.016,0.016,0.016,0.016,0.016,0.016,0.016,0.016,0.016,0.016,0.016,0.016,0.016,0.016,0.016,0.016,0.016,0.016,0.016,0.016,0.016,0.016,0.016,0.016,0.016,0.016,0.016,0.016,0.016,0.016,0.016,0.016,0.016,0.016,0.016,0.016,0.016,0.016,0.016,0.016,0.016,0.016,0.016,0.016,0.016,0.016,0.016,0.016,0.016,0.016,0.016,0.016,0.016,0.016,0.016,0.016,0.016,0.016,0.016,0.016,0.016,0.016,0.016,0.016,0.016,0.016,0.016,0.016,0.016,0.016,0.016,0.016,0.016,0.016,0.016,0.016,0.016,0.016,0.016,0.016,0.016,0.016,0.016,0.016,0.016,0.016,0.016,0.016,0.016,0.016,0.016,0.016,0.016,0.016,0.016,0.016,0.016,0.016,0.016,0.016,0.016,0.016,0.016,0.016,0.016,0.016,0.016,0.016,0.016,0.016,0.016,0.016,0.016,0.016,0.016,0.016,0.016,0.016,0.016,0.016,0.016,0.016,0.016,0.016,0.016,0.016,0.016,0.016,0.016,0.016,0.016,0.016,0.016,0.016,0.016,0.016,0.016,0.016,0.016,0.016,0.016,0.016,0.016,0.016,0.016,0.016,0.016,0.016,0.016,0.016,0.016,0.016,0.016,0.016,0.016,0.016,0.016,0.016,0.016,0.016,0.016,0.016,0.016,0.016,0.016,0.016,0.016,0.016,0.016,0.016,0.016,0.016,0.016,0.016,0.016,0.016,0.016,0.016,0.016,0.016,0.016,0.016,0.016,0.016,0.016,0.016,0.016,0.016,0.016,0.016,0.016,0.016,0.016,0.016,0.016,0.016,0.016,0.016,0.016,0.016,0.016,0.016,0.016,0.016,0.016,0.016,0.016,0.016,0.016,0.016,0.016,0.016,0.016,0.016,0.016,0.016,0.016,0.016,0.016,0.016,0.016,0.016,0.016,0.016,0.016,0.016,0.016,0.016,0.016,0.016,0.016,0.016,0.016,0.016,0.016,0.016,0.016,0.016,0.016,0.016,0.016,0.016,0.016,0.016,0.016,0.016,0.016,0.016,0.016,0.016,0.016,0.016,0.016,0.016,0.016,0.016,0.016,0.016,0.016,0.016,0.016,0.016,0.016,0.016,0.016,0.016,0.016,0.016,0.016,0.016,0.016,0.016,0.016,0.015,0.015,0.015,0.015,0.015,0.015,0.015,0.015,0.015,0.015,0.015,0.015,0.015,0.015,0.015,0.015,0.015,0.015,0.015,0.015,0.015,0.015,0.015,0.015,0.015,0.015,0.015,0.015,0.015,0.015,0.015,0.015,0.015,0.015,0.015,0.015,0.015,0.015,0.015,0.015,0.015,0.015,0.015,0.015,0.015,0.015,0.015,0.015,0.015,0.015,0.015,0.015,0.015,0.015,0.015,0.015,0.015,0.015,0.015,0.015,0.015,0.015,0.015,0.015,0.015,0.015,0.015,0.015,0.015,0.015,0.015,0.015,0.015,0.015,0.015,0.015,0.015,0.015,0.015,0.015,0.015,0.015,0.015,0.015,0.015,0.015,0.015,0.015,0.015,0.015,0.015,0.015,0.015,0.015,0.015,0.015,0.015,0.015,0.015,0.015,0.015,0.015,0.015,0.015,0.015,0.015,0.015,0.015,0.015,0.015,0.015,0.015,0.015,0.015,0.015,0.015,0.015,0.015,0.015,0.015,0.015,0.015,0.015,0.015,0.015,0.015,0.015,0.015,0.015,0.015,0.015,0.015,0.015,0.015,0.015,0.015,0.015,0.015,0.015,0.015,0.015,0.015,0.015,0.015,0.015,0.015,0.015,0.015,0.015,0.015,0.015,0.015,0.015,0.015,0.015,0.015,0.015,0.015,0.015,0.015,0.015,0.015,0.015,0.015,0.015,0.015,0.015,0.015,0.015,0.015,0.015,0.015,0.015,0.015,0.015,0.015,0.015,0.015,0.015,0.015,0.015,0.015,0.015,0.015,0.015,0.015,0.015,0.015,0.015,0.015,0.015,0.015,0.015,0.015,0.015,0.015,0.015,0.015,0.015,0.015,0.015,0.015,0.015,0.015,0.015,0.015,0.015,0.015,0.015,0.015,0.015,0.015,0.015,0.015,0.015,0.015,0.015,0.015,0.015,0.015,0.015,0.015,0.015,0.015,0.015,0.015,0.015,0.015,0.015,0.015,0.015,0.015,0.015,0.015,0.015,0.015,0.015,0.015,0.015,0.015,0.015,0.015,0.015,0.015,0.015,0.015,0.015,0.015,0.015,0.015,0.015,0.015,0.015,0.015,0.015,0.015,0.015,0.015,0.015,0.015,0.015,0.015,0.015,0.015,0.015,0.015,0.015,0.015,0.015,0.015,0.015,0.015,0.015,0.015,0.015,0.015,0.008,0.008,0.008,0.008,0.008,0.008,0.008,0.008,0.008,0.008,0.008,0.008,0.008,0.008,0.008,0.008,0.008,0.008,0.008,0.008,0.008,0.008,0.008,0.008,0.008,0.008,0.008,0.008,0.008,0.008,0.008,0.008,0.008,0.008,0.008,0.008,0.008,0.008,0.008,0.008,0.008,0.008,0.008,0.008,0.008,0.008,0.008,0.008,0.008,0.008,0.008,0.008,0.008,0.008,0.008,0.008,0.008,0.008,0.008,0.008,0.008,0.008,0.008,0.008,0.008,0.008,0.008,0.008,0.008,0.008,0.008,0.008,0.008,0.008,0.008,0.008,0.008,0.008,0.008,0.008,0.008,0.008,0.008,0.008,0.008,0.008,0.008,0.008,0.008,0.008,0.008,0.008,0.008,0.008,0.008,0.008,0.008,0.008,0.008,0.008,0.008,0.008,0.008,0.008,0.008,0.008,0.008,0.008,0.008,0.008,0.008,0.008,0.008,0.008,0.008,0.008,0.008,0.008,0.008,0.008,0.008,0.008,0.008,0.008,0.008,0.008,0.008,0.008,0.008,0.008,0.008,0.008,0.008,0.008,0.008,0.008,0.008,0.008,0.008,0.008,0.008,0.008,0.008,0.008,0.008,0.008,0.008,0.008,0.008,0.008,0.008,0.008,0.008,0.008,0.008,0.008,0.008,0.008,0.008,0.008,0.008,0.008,0.008,0.008,0.008,0.008,0.008,0.008,0.008,0.008,0.008,0.008,0.008,0.008,0.008,0.008,0.008,0.008,0.008,0.008,0.008,0.008,0.008,0.008,0.008,0.008,0.008,0.008,0.008,0.008,0.008,0.008,0.008,0.008,0.008,0.008,0.008,0.008,0.008,0.008,0.008,0.008,0.008,0.008,0.008,0.008,0.008,0.008,0.008,0.008,0.008,0.008,0.008,0.008,0.008,0.008,0.008,0.008,0.008,0.008,0.008,0.008,0.008,0.008,0.008,0.008,0.008,0.008,0.008,0.008,0.008,0.008,0.008,0.008,0.008,0.008,0.008,0.008,0.008,0.008,0.008,0.008,0.008,0.008,0.008,0.008,0.008,0.008,0.008,0.008,0.008,0.008,0.008,0.008,0.008,0.008,0.008,0.008,0.008,0.008,0.008,0.008,0.004,0.004,0.004,0.004,0.004,0.004,0.004,0.004,0.004,0.004,0.004,0.004,0.004,0.004,0.004,0.004,0.004,0.004,0.004,0.004,0.004,0.004,0.004,0.004,0.004,0.004,0.004,0.004,0.004,0.004,0.004,0.004,0.004,0.004,0.004,0.004,0.004,0.004,0.004,0.004,0.002,0.002,0.002,0.002,0.002,0.002,0.002,0.002,0.002,0.002]},{\"label\":\"Cefixime\",\"values\":[\"4\",\"4\",\"3\",\"2\",\"1\",\"1\",\"1\",\"1\",\"1\",\"0.75\",\"0.5\",\"0.5\",\"0.5\",\"0.5\",\"0.5\",\"0.5\",\"0.5\",\"0.5\",\"0.5\",\"0.5\",\"0.5\",\"0.5\",\"0.5\",\"0.5\",\"0.5\",\"0.5\",\"0.5\",\"0.5\",\"0.5\",\"0.38\",\"0.38\",\"0.38\",\"0.25\",\"0.25\",\"0.25\",\"0.25\",\"0.25\",\"0.25\",\"0.25\",\"0.25\",\"0.25\",\"0.25\",\"0.25\",\"0.25\",\"0.25\",\"0.25\",\"0.25\",\"0.25\",\"0.25\",\"0.25\",\"0.25\",\"0.25\",\"0.25\",\"0.25\",\"0.25\",\"0.25\",\"0.25\",\"0.25\",\"0.25\",\"0.25\",\"0.25\",\"0.25\",\"0.25\",\"0.25\",\"0.25\",\"0.25\",\"0.25\",\"0.25\",\"0.25\",\"0.25\",\"0.25\",\"0.25\",\"0.25\",\"0.25\",\"0.25\",\"0.25\",\"0.25\",\"0.25\",\"0.25\",\"0.25\",\"0.25\",\"0.25\",\"0.25\",\"0.25\",\"0.25\",\"0.25\",\"0.25\",\"0.25\",\"0.25\",\"0.25\",\"0.25\",\"0.25\",\"0.25\",\"0.25\",\"0.25\",\"0.25\",\"0.25\",\"0.25\",\"0.25\",\"0.25\",\"0.25\",\"0.25\",\"0.25\",\"0.25\",\"0.25\",\"0.25\",\"0.25\",\"0.25\",\"0.25\",\"0.25\",\"0.25\",\"0.25\",\"0.25\",\"0.25\",\"0.25\",\"0.25\",\"0.25\",\"0.25\",\"0.25\",\"0.25\",\"0.25\",\"0.25\",\"0.25\",\"0.25\",\"0.25\",\"0.25\",\"0.25\",\"0.25\",\"0.25\",\"0.25\",\"0.25\",\"0.25\",\"0.25\",\"0.25\",\"0.25\",\"0.25\",\"0.25\",\"0.25\",\"0.25\",\"0.25\",\"0.25\",\"0.25\",\"0.25\",\"0.25\",\"0.25\",\"0.25\",\"0.25\",\"0.25\",\"0.25\",\"0.25\",\"0.25\",\"0.25\",\"0.25\",\"0.25\",\"0.25\",\"0.25\",\"0.25\",\"0.25\",\"0.25\",\"0.25\",\"0.25\",\"0.25\",\"0.25\",\"0.25\",\"0.25\",\"0.25\",\"0.25\",\"0.25\",\"0.25\",\"0.25\",\"0.25\",\"0.25\",\"0.25\",\"0.25\",\"0.25\",\"0.25\",\"0.25\",\"0.25\",\"0.25\",\"0.25\",\"0.25\",\"0.25\",\"0.25\",\"0.25\",\"0.25\",\"0.25\",\"0.25\",\"0.25\",\"0.25\",\"0.25\",\"0.25\",\"0.25\",\"0.25\",\"0.25\",\"0.25\",\"0.25\",\"0.25\",\"0.25\",\"0.25\",\"0.25\",\"0.25\",\"0.25\",\"0.25\",\"0.25\",\"0.25\",\"0.25\",\"0.25\",\"0.25\",\"0.25\",\"0.25\",\"0.25\",\"0.25\",\"0.25\",\"0.25\",\"0.25\",\"0.25\",\"0.25\",\"0.25\",\"0.25\",\"0.25\",\"0.25\",\"0.25\",\"0.25\",\"0.25\",\"0.25\",\"0.25\",\"0.25\",\"0.25\",\"0.25\",\"0.25\",\"0.25\",\"0.25\",\"0.25\",\"0.25\",\"0.25\",\"0.25\",\"0.25\",\"0.25\",\"0.25\",\"0.25\",\"0.25\",\"0.25\",\"0.25\",\"0.25\",\"0.25\",\"0.25\",\"0.25\",\"0.25\",\"0.25\",\"0.25\",\"0.25\",\"0.25\",\"0.25\",\"0.25\",\"0.25\",\"0.25\",\"0.25\",\"0.25\",\"0.25\",\"0.25\",\"0.25\",\"0.25\",\"0.25\",\"0.25\",\"0.25\",\"0.25\",\"0.25\",\"0.25\",\"0.25\",\"0.25\",\"0.25\",\"0.25\",\"0.25\",\"0.25\",\"0.25\",\"0.25\",\"0.25\",\"0.25\",\"0.25\",\"0.25\",\"0.25\",\"0.25\",\"0.25\",\"0.25\",\"0.25\",\"0.25\",\"0.19\",\"0.19\",\"0.19\",\"0.19\",\"0.19\",\"0.19\",\"0.19\",\"0.19\",\"0.19\",\"0.125\",\"0.125\",\"0.125\",\"0.125\",\"0.125\",\"0.125\",\"0.125\",\"0.125\",\"0.125\",\"0.125\",\"0.125\",\"0.125\",\"0.125\",\"0.125\",\"0.125\",\"0.125\",\"0.125\",\"0.125\",\"0.125\",\"0.125\",\"0.125\",\"0.125\",\"0.125\",\"0.125\",\"0.125\",\"0.125\",\"0.125\",\"0.125\",\"0.125\",\"0.125\",\"0.125\",\"0.125\",\"0.125\",\"0.125\",\"0.125\",\"0.125\",\"0.125\",\"0.125\",\"0.125\",\"0.125\",\"0.125\",\"0.125\",\"0.125\",\"0.125\",\"0.125\",\"0.125\",\"0.125\",\"0.125\",\"0.125\",\"0.125\",\"0.125\",\"0.125\",\"0.125\",\"0.125\",\"0.125\",\"0.125\",\"0.125\",\"0.125\",\"0.125\",\"0.125\",\"0.125\",\"0.125\",\"0.125\",\"0.125\",\"0.125\",\"0.125\",\"0.125\",\"0.125\",\"0.125\",\"0.125\",\"0.125\",\"0.125\",\"0.125\",\"0.125\",\"0.125\",\"0.12\",\"0.12\",\"0.12\",\"0.12\",\"0.094\",\"0.094\",\"0.094\",\"0.094\",\"0.094\",\"0.094\",\"0.094\",\"0.094\",\"0.094\",\"0.094\",\"0.064\",\"0.064\",\"0.064\",\"0.064\",\"0.064\",\"0.064\",\"0.064\",\"0.064\",\"0.064\",\"0.064\",\"0.063\",\"0.063\",\"0.063\",\"0.063\",\"0.063\",\"0.063\",\"0.063\",\"0.063\",\"0.063\",\"0.06\",\"0.06\",\"0.06\",\"0.06\",\"0.06\",\"0.06\",\"0.06\",\"0.06\",\"0.06\",\"0.06\",\"0.06\",\"0.06\",\"0.06\",\"0.06\",\"0.06\",\"0.06\",\"0.06\",\"0.06\",\"0.06\",\"0.06\",\"0.06\",\"0.06\",\"0.06\",\"0.06\",\"0.06\",\"0.06\",\"0.06\",\"0.06\",\"0.06\",\"0.06\",\"0.06\",\"0.06\",\"0.06\",\"0.06\",\"0.06\",\"0.06\",\"0.06\",\"0.06\",\"0.06\",\"0.06\",\"0.06\",\"0.06\",\"0.06\",\"0.06\",\"0.06\",\"0.06\",\"0.06\",\"0.06\",\"0.06\",\"0.06\",\"0.06\",\"0.06\",\"0.06\",\"0.06\",\"0.06\",\"0.06\",\"0.06\",\"0.06\",\"0.06\",\"0.06\",\"0.06\",\"0.06\",\"0.06\",\"0.06\",\"0.06\",\"0.06\",\"0.06\",\"0.06\",\"0.06\",\"0.06\",\"0.06\",\"0.06\",\"0.06\",\"0.06\",\"0.06\",\"0.06\",\"0.06\",\"0.06\",\"0.06\",\"0.06\",\"0.06\",\"0.06\",\"0.06\",\"0.06\",\"0.06\",\"0.06\",\"0.06\",\"0.06\",\"0.06\",\"0.06\",\"0.06\",\"0.06\",\"0.06\",\"0.06\",\"0.06\",\"0.06\",\"0.06\",\"0.06\",\"0.06\",\"0.06\",\"0.06\",\"0.06\",\"0.06\",\"0.06\",\"0.06\",\"0.06\",\"0.06\",\"0.06\",\"0.06\",\"0.06\",\"0.06\",\"0.06\",\"0.06\",\"0.06\",\"0.06\",\"0.06\",\"0.06\",\"0.06\",\"0.06\",\"0.06\",\"0.06\",\"0.06\",\"0.06\",\"0.06\",\"0.06\",\"0.06\",\"0.06\",\"0.06\",\"0.06\",\"0.06\",\"0.06\",\"0.06\",\"0.06\",\"0.06\",\"0.06\",\"0.06\",\"0.06\",\"0.06\",\"0.06\",\"0.06\",\"0.06\",\"0.06\",\"0.06\",\"0.047\",\"0.047\",\"0.047\",\"0.047\",\"0.047\",\"0.047\",\"0.047\",\"0.047\",\"0.047\",\"0.047\",\"0.047\",\"0.032\",\"0.032\",\"0.032\",\"0.032\",\"0.032\",\"0.032\",\"0.032\",\"0.032\",\"0.032\",\"0.032\",\"0.032\",\"0.032\",\"0.032\",\"0.032\",\"0.032\",\"0.032\",\"0.032\",\"0.032\",\"0.032\",\"0.032\",\"0.032\",\"0.032\",\"0.032\",\"0.032\",\"0.032\",\"0.032\",\"0.032\",\"0.032\",\"0.032\",\"0.032\",\"0.032\",\"0.032\",\"0.032\",\"0.032\",\"0.032\",\"0.03\",\"0.03\",\"0.03\",\"0.03\",\"0.03\",\"0.03\",\"0.03\",\"0.03\",\"0.03\",\"0.03\",\"0.03\",\"0.03\",\"0.03\",\"0.03\",\"0.03\",\"0.03\",\"0.03\",\"0.03\",\"0.03\",\"0.03\",\"0.03\",\"0.03\",\"0.03\",\"0.03\",\"0.03\",\"0.03\",\"0.03\",\"0.03\",\"0.03\",\"0.03\",\"0.03\",\"0.03\",\"0.03\",\"0.03\",\"0.03\",\"0.03\",\"0.03\",\"0.03\",\"0.03\",\"0.03\",\"0.03\",\"0.03\",\"0.03\",\"0.03\",\"0.03\",\"0.03\",\"0.03\",\"0.03\",\"0.03\",\"0.03\",\"0.03\",\"0.03\",\"0.03\",\"0.03\",\"0.03\",\"0.03\",\"0.03\",\"0.03\",\"0.03\",\"0.03\",\"0.03\",\"0.03\",\"0.03\",\"0.03\",\"0.03\",\"0.03\",\"0.03\",\"0.03\",\"0.03\",\"0.03\",\"0.03\",\"0.03\",\"0.03\",\"0.03\",\"0.03\",\"0.03\",\"0.03\",\"0.03\",\"0.03\",\"0.03\",\"0.03\",\"0.03\",\"0.03\",\"0.03\",\"0.03\",\"0.03\",\"0.03\",\"0.03\",\"0.03\",\"0.03\",\"0.03\",\"0.03\",\"0.03\",\"0.03\",\"0.03\",\"0.03\",\"0.03\",\"0.03\",\"0.03\",\"0.03\",\"0.03\",\"0.03\",\"0.03\",\"0.03\",\"0.03\",\"0.03\",\"0.03\",\"0.03\",\"0.03\",\"0.03\",\"0.03\",\"0.03\",\"0.03\",\"0.03\",\"0.03\",\"0.03\",\"0.03\",\"0.03\",\"0.03\",\"0.03\",\"0.03\",\"0.03\",\"0.03\",\"0.03\",\"0.03\",\"0.03\",\"0.03\",\"0.03\",\"0.03\",\"0.03\",\"0.03\",\"0.03\",\"0.03\",\"0.03\",\"0.03\",\"0.03\",\"0.03\",\"0.03\",\"0.03\",\"0.03\",\"0.03\",\"0.03\",\"0.03\",\"0.03\",\"0.03\",\"0.03\",\"0.03\",\"0.03\",\"0.03\",\"0.03\",\"0.03\",\"0.03\",\"0.03\",\"0.03\",\"0.03\",\"0.03\",\"0.03\",\"0.03\",\"0.03\",\"0.03\",\"0.03\",\"0.03\",\"0.03\",\"0.03\",\"0.03\",\"0.03\",\"0.03\",\"0.03\",\"0.03\",\"0.03\",\"0.03\",\"0.03\",\"0.03\",\"0.03\",\"0.03\",\"0.03\",\"0.03\",\"0.03\",\"0.03\",\"0.03\",\"0.03\",\"0.03\",\"0.03\",\"0.03\",\"0.03\",\"0.03\",\"0.03\",\"0.03\",\"0.03\",\"0.03\",\"0.03\",\"0.03\",\"0.03\",\"0.03\",\"0.03\",\"0.03\",\"0.03\",\"0.03\",\"0.03\",\"0.03\",\"0.03\",\"0.03\",\"0.03\",\"0.03\",\"0.03\",\"0.03\",\"0.03\",\"0.03\",\"0.03\",\"0.03\",\"0.03\",\"0.03\",\"0.03\",\"0.03\",\"0.03\",\"0.03\",\"0.03\",\"0.03\",\"0.03\",\"0.03\",\"0.03\",\"0.03\",\"0.03\",\"0.03\",\"0.03\",\"0.03\",\"0.03\",\"0.03\",\"0.03\",\"0.03\",\"0.03\",\"0.03\",\"0.03\",\"0.03\",\"0.03\",\"0.03\",\"0.03\",\"0.03\",\"0.03\",\"0.03\",\"0.03\",\"0.03\",\"0.03\",\"0.03\",\"0.03\",\"0.03\",\"0.03\",\"0.03\",\"0.03\",\"0.03\",\"0.03\",\"0.03\",\"0.03\",\"0.03\",\"0.03\",\"0.03\",\"0.03\",\"0.03\",\"0.03\",\"0.03\",\"0.03\",\"0.03\",\"0.03\",\"0.03\",\"0.03\",\"0.03\",\"0.03\",\"0.03\",\"0.03\",\"0.03\",\"0.03\",\"0.03\",\"0.03\",\"0.03\",\"0.03\",\"0.03\",\"0.03\",\"0.03\",\"0.03\",\"0.03\",\"0.03\",\"0.03\",\"0.03\",\"0.03\",\"0.03\",\"0.03\",\"0.03\",\"0.03\",\"0.03\",\"0.03\",\"0.023\",\"0.023\",\"0.023\",\"0.023\",\"0.023\",\"0.023\",\"0.023\",\"0.023\",\"0.023\",\"0.023\",\"0.023\",\"0.023\",\"0.023\",\"0.023\",\"0.023\",\"0.023\",\"0.023\",\"0.023\",\"0.023\",\"0.023\",\"0.023\",\"0.023\",\"0.023\",\"0.023\",\"0.023\",\"0.023\",\"0.023\",\"0.016\",\"0.016\",\"0.016\",\"0.016\",\"0.016\",\"0.016\",\"0.016\",\"0.016\",\"0.016\",\"0.016\",\"0.016\",\"0.016\",\"0.016\",\"0.016\",\"0.016\",\"0.016\",\"0.016\",\"0.016\",\"0.016\",\"0.016\",\"0.016\",\"0.016\",\"0.016\",\"0.016\",\"0.016\",\"0.016\",\"0.016\",\"0.016\",\"0.016\",\"0.016\",\"0.016\",\"0.016\",\"0.016\",\"0.016\",\"0.016\",\"0.016\",\"0.016\",\"0.016\",\"0.016\",\"0.016\",\"0.016\",\"0.016\",\"0.016\",\"0.016\",\"0.016\",\"0.016\",\"0.016\",\"0.016\",\"0.016\",\"0.016\",\"0.016\",\"0.016\",\"0.016\",\"0.016\",\"0.016\",\"0.016\",\"0.016\",\"0.016\",\"0.016\",\"0.016\",\"0.016\",\"0.016\",\"0.016\",\"0.016\",\"0.016\",\"0.016\",\"0.016\",\"0.016\",\"0.016\",\"0.016\",\"0.016\",\"0.016\",\"0.016\",\"0.016\",\"0.016\",\"0.016\",\"0.016\",\"0.016\",\"0.016\",\"0.016\",\"0.016\",\"0.016\",\"0.016\",\"0.016\",\"0.016\",\"0.016\",\"0.016\",\"0.016\",\"0.016\",\"0.016\",\"0.016\",\"0.016\",\"0.016\",\"0.016\",\"0.016\",\"0.016\",\"0.016\",\"0.016\",\"0.016\",\"0.016\",\"0.016\",\"0.016\",\"0.016\",\"0.016\",\"0.016\",\"0.016\",\"0.016\",\"0.016\",\"0.016\",\"0.016\",\"0.016\",\"0.016\",\"0.016\",\"0.016\",\"0.016\",\"0.016\",\"0.016\",\"0.016\",\"0.016\",\"0.016\",\"0.016\",\"0.016\",\"0.016\",\"0.016\",\"0.016\",\"0.016\",\"0.016\",\"0.016\",\"0.016\",\"0.016\",\"0.016\",\"0.016\",\"0.016\",\"0.016\",\"0.016\",\"0.016\",\"0.016\",\"0.016\",\"0.016\",\"0.016\",\"0.016\",\"0.016\",\"0.016\",\"0.016\",\"0.016\",\"0.016\",\"0.016\",\"0.016\",\"0.016\",\"0.016\",\"0.016\",\"0.016\",\"0.016\",\"0.016\",\"0.016\",\"0.016\",\"0.016\",\"0.016\",\"0.016\",\"0.016\",\"0.016\",\"0.016\",\"0.016\",\"0.016\",\"0.016\",\"0.016\",\"0.016\",\"0.016\",\"0.016\",\"0.016\",\"0.016\",\"0.016\",\"0.016\",\"0.016\",\"0.016\",\"0.016\",\"0.016\",\"0.016\",\"0.016\",\"0.016\",\"0.016\",\"0.016\",\"0.016\",\"0.016\",\"0.016\",\"0.016\",\"0.016\",\"0.016\",\"0.016\",\"0.016\",\"0.016\",\"0.016\",\"0.016\",\"0.016\",\"0.016\",\"0.016\",\"0.016\",\"0.016\",\"0.016\",\"0.016\",\"0.016\",\"0.016\",\"0.016\",\"0.016\",\"0.016\",\"0.016\",\"0.016\",\"0.016\",\"0.016\",\"0.016\",\"0.016\",\"0.016\",\"0.016\",\"0.016\",\"0.016\",\"0.016\",\"0.016\",\"0.016\",\"0.016\",\"0.016\",\"0.016\",\"0.016\",\"0.016\",\"0.016\",\"0.016\",\"0.016\",\"0.016\",\"0.016\",\"0.016\",\"0.016\",\"0.016\",\"0.016\",\"0.016\",\"0.016\",\"0.016\",\"0.016\",\"0.016\",\"0.016\",\"0.016\",\"0.016\",\"0.016\",\"0.016\",\"0.016\",\"0.016\",\"0.016\",\"0.016\",\"0.016\",\"0.016\",\"0.016\",\"0.016\",\"0.016\",\"0.016\",\"0.016\",\"0.016\",\"0.016\",\"0.016\",\"0.016\",\"0.016\",\"0.016\",\"0.016\",\"0.016\",\"0.016\",\"0.016\",\"0.016\",\"0.016\",\"0.016\",\"0.016\",\"0.016\",\"0.016\",\"0.016\",\"0.016\",\"0.016\",\"0.016\",\"0.016\",\"0.016\",\"0.016\",\"0.016\",\"0.016\",\"0.016\",\"0.016\",\"0.016\",\"0.016\",\"0.016\",\"0.016\",\"0.016\",\"0.016\",\"0.016\",\"0.016\",\"0.016\",\"0.016\",\"0.016\",\"0.016\",\"0.016\",\"0.016\",\"0.016\",\"0.016\",\"0.016\",\"0.016\",\"0.016\",\"0.016\",\"0.016\",\"0.016\",\"0.016\",\"0.016\",\"0.016\",\"0.016\",\"0.016\",\"0.016\",\"0.016\",\"0.016\",\"0.016\",\"0.016\",\"0.016\",\"0.016\",\"0.016\",\"0.016\",\"0.016\",\"0.016\",\"0.016\",\"0.016\",\"0.016\",\"0.016\",\"0.016\",\"0.016\",\"0.016\",\"0.016\",\"0.016\",\"0.016\",\"0.016\",\"0.016\",\"0.016\",\"0.016\",\"0.016\",\"0.016\",\"0.016\",\"0.016\",\"0.016\",\"0.016\",\"0.016\",\"0.016\",\"0.016\",\"0.016\",\"0.016\",\"0.016\",\"0.016\",\"0.016\",\"0.016\",\"0.016\",\"0.016\",\"0.016\",\"0.016\",\"0.016\",\"0.016\",\"0.016\",\"0.016\",\"0.016\",\"0.016\",\"0.016\",\"0.016\",\"0.016\",\"0.016\",\"0.016\",\"0.016\",\"0.016\",\"0.016\",\"0.016\",\"0.016\",\"0.016\",\"0.015\",\"0.015\",\"0.015\",\"0.015\",\"0.015\",\"0.015\",\"0.015\",\"0.015\",\"0.015\",\"0.015\",\"0.015\",\"0.015\",\"0.015\",\"0.015\",\"0.015\",\"0.015\",\"0.015\",\"0.015\",\"0.015\",\"0.015\",\"0.015\",\"0.015\",\"0.015\",\"0.015\",\"0.015\",\"0.015\",\"0.015\",\"0.015\",\"0.015\",\"0.015\",\"0.015\",\"0.015\",\"0.015\",\"0.015\",\"0.015\",\"0.015\",\"0.015\",\"0.015\",\"0.015\",\"0.015\",\"0.015\",\"0.015\",\"0.015\",\"0.015\",\"0.015\",\"0.015\",\"0.015\",\"0.015\",\"0.015\",\"0.015\",\"0.015\",\"0.015\",\"0.015\",\"0.015\",\"0.015\",\"0.015\",\"0.015\",\"0.015\",\"0.015\",\"0.015\",\"0.015\",\"0.015\",\"0.015\",\"0.015\",\"0.015\",\"0.015\",\"0.015\",\"0.015\",\"0.015\",\"0.015\",\"0.015\",\"0.015\",\"0.015\",\"0.015\",\"0.015\",\"0.015\",\"0.015\",\"0.015\",\"0.015\",\"0.015\",\"0.015\",\"0.015\",\"0.015\",\"0.015\",\"0.015\",\"0.015\",\"0.015\",\"0.015\",\"0.015\",\"0.015\",\"0.015\",\"0.015\",\"0.015\",\"0.015\",\"0.015\",\"0.015\",\"0.015\",\"0.015\",\"0.015\",\"0.015\",\"0.015\",\"0.015\",\"0.015\",\"0.015\",\"0.015\",\"0.015\",\"0.015\",\"0.015\",\"0.015\",\"0.015\",\"0.015\",\"0.015\",\"0.015\",\"0.015\",\"0.015\",\"0.015\",\"0.015\",\"0.015\",\"0.015\",\"0.015\",\"0.015\",\"0.015\",\"0.015\",\"0.015\",\"0.015\",\"0.015\",\"0.015\",\"0.015\",\"0.015\",\"0.015\",\"0.015\",\"0.015\",\"0.015\",\"0.015\",\"0.015\",\"0.015\",\"0.015\",\"0.015\",\"0.015\",\"0.015\",\"0.015\",\"0.015\",\"0.015\",\"0.015\",\"0.015\",\"0.015\",\"0.015\",\"0.015\",\"0.015\",\"0.015\",\"0.015\",\"0.015\",\"0.015\",\"0.015\",\"0.015\",\"0.015\",\"0.015\",\"0.015\",\"0.015\",\"0.015\",\"0.015\",\"0.015\",\"0.015\",\"0.015\",\"0.015\",\"0.015\",\"0.015\",\"0.015\",\"0.015\",\"0.015\",\"0.015\",\"0.015\",\"0.015\",\"0.015\",\"0.015\",\"0.015\",\"0.015\",\"0.015\",\"0.015\",\"0.015\",\"0.015\",\"0.015\",\"0.015\",\"0.015\",\"0.015\",\"0.015\",\"0.015\",\"0.015\",\"0.015\",\"0.015\",\"0.015\",\"0.015\",\"0.015\",\"0.015\",\"0.015\",\"0.015\",\"0.015\",\"0.015\",\"0.015\",\"0.015\",\"0.015\",\"0.015\",\"0.015\",\"0.015\",\"0.015\",\"0.015\",\"0.015\",\"0.015\",\"0.015\",\"0.015\",\"0.015\",\"0.015\",\"0.015\",\"0.015\",\"0.015\",\"0.015\",\"0.015\",\"0.015\",\"0.015\",\"0.015\",\"0.015\",\"0.015\",\"0.015\",\"0.015\",\"0.015\",\"0.015\",\"0.015\",\"0.015\",\"0.015\",\"0.015\",\"0.015\",\"0.015\",\"0.015\",\"0.015\",\"0.015\",\"0.015\",\"0.015\",\"0.015\",\"0.015\",\"0.015\",\"0.015\",\"0.015\",\"0.015\",\"0.015\",\"0.015\",\"0.015\",\"0.015\",\"0.015\",\"0.015\",\"0.015\",\"0.015\",\"0.015\",\"0.015\",\"0.015\",\"0.015\",\"0.015\",\"0.015\",\"0.015\",\"0.015\",\"0.015\",\"0.015\",\"0.015\",\"0.015\",\"0.015\",\"0.015\",\"0.015\",\"0.015\",\"0.015\",\"0.015\",\"0.015\",\"0.015\",\"0.015\",\"0.015\",\"0.015\",\"0.015\",\"0.015\",\"0.008\",\"0.008\",\"0.008\",\"0.008\",\"0.008\",\"0.008\",\"0.008\",\"0.008\",\"0.008\",\"0.008\",\"0.008\",\"0.008\",\"0.008\",\"0.008\",\"0.008\",\"0.008\",\"0.008\",\"0.008\",\"0.008\",\"0.008\",\"0.008\",\"0.008\",\"0.008\",\"0.008\",\"0.008\",\"0.008\",\"0.008\",\"0.008\",\"0.008\",\"0.008\",\"0.008\",\"0.008\",\"0.008\",\"0.008\",\"0.008\",\"0.008\",\"0.008\",\"0.008\",\"0.008\",\"0.008\",\"0.008\",\"0.008\",\"0.008\",\"0.008\",\"0.008\",\"0.008\",\"0.008\",\"0.008\",\"0.008\",\"0.008\",\"0.008\",\"0.008\",\"0.008\",\"0.008\",\"0.008\",\"0.008\",\"0.008\",\"0.008\",\"0.008\",\"0.008\",\"0.008\",\"0.008\",\"0.008\",\"0.008\",\"0.008\",\"0.008\",\"0.008\",\"0.008\",\"0.008\",\"0.008\",\"0.008\",\"0.008\",\"0.008\",\"0.008\",\"0.008\",\"0.008\",\"0.008\",\"0.008\",\"0.008\",\"0.008\",\"0.008\",\"0.008\",\"0.008\",\"0.008\",\"0.008\",\"0.008\",\"0.008\",\"0.008\",\"0.008\",\"0.008\",\"0.008\",\"0.008\",\"0.008\",\"0.008\",\"0.008\",\"0.008\",\"0.008\",\"0.008\",\"0.008\",\"0.008\",\"0.008\",\"0.008\",\"0.008\",\"0.008\",\"0.008\",\"0.008\",\"0.008\",\"0.008\",\"0.008\",\"0.008\",\"0.008\",\"\\u003c0.016\",\"\\u003c0.016\",\"\\u003c0.016\",\"\\u003c0.016\",\"\\u003c0.016\",\"\\u003c0.016\",\"0.008\",\"0.008\",\"0.008\",\"0.008\",\"0.008\",\"0.008\",\"0.008\",\"0.008\",\"0.008\",\"0.008\",\"0.008\",\"0.008\",\"0.008\",\"0.008\",\"0.008\",\"0.008\",\"0.008\",\"0.008\",\"0.008\",\"0.008\",\"0.008\",\"0.008\",\"0.008\",\"0.008\",\"0.008\",\"0.008\",\"0.008\",\"0.008\",\"0.008\",\"0.008\",\"0.008\",\"0.008\",\"0.008\",\"0.008\",\"0.008\",\"0.008\",\"0.008\",\"0.008\",\"0.008\",\"0.008\",\"0.008\",\"0.008\",\"0.008\",\"0.008\",\"0.008\",\"0.008\",\"0.008\",\"0.008\",\"0.008\",\"0.008\",\"0.008\",\"0.008\",\"0.008\",\"0.008\",\"0.008\",\"0.008\",\"0.008\",\"0.008\",\"0.008\",\"0.008\",\"0.008\",\"0.008\",\"0.008\",\"0.008\",\"0.008\",\"0.008\",\"0.008\",\"0.008\",\"0.008\",\"0.008\",\"0.008\",\"0.008\",\"0.008\",\"0.008\",\"0.008\",\"0.008\",\"0.008\",\"0.008\",\"0.008\",\"0.008\",\"0.008\",\"0.008\",\"0.008\",\"0.008\",\"0.008\",\"0.008\",\"0.008\",\"0.008\",\"0.008\",\"0.008\",\"0.008\",\"0.008\",\"0.008\",\"0.008\",\"0.008\",\"0.008\",\"0.008\",\"0.008\",\"0.008\",\"0.008\",\"0.008\",\"0.008\",\"0.008\",\"0.008\",\"0.008\",\"0.008\",\"0.008\",\"0.008\",\"0.008\",\"0.008\",\"0.008\",\"0.008\",\"0.008\",\"0.008\",\"0.008\",\"0.008\",\"0.008\",\"0.008\",\"0.008\",\"0.008\",\"0.008\",\"0.008\",\"0.008\",\"0.008\",\"0.008\",\"0.008\",\"0.008\",\"0.008\",\"0.008\",\"0.008\",\"0.008\",\"0.008\",\"0.008\",\"0.008\",\"0.008\",\"0.008\",\"0.008\",\"0.008\",\"0.008\",\"0.008\",\"0.008\",\"0.008\",\"0.008\",\"0.008\",\"0.008\",\"0.004\",\"0.004\",\"0.004\",\"0.004\",\"0.004\",\"0.004\",\"0.004\",\"0.004\",\"0.004\",\"0.004\",\"0.004\",\"0.004\",\"0.004\",\"0.004\",\"0.004\",\"0.004\",\"0.004\",\"0.004\",\"0.004\",\"0.004\",\"0.004\",\"0.004\",\"0.004\",\"0.004\",\"0.004\",\"0.004\",\"0.004\",\"0.004\",\"0.004\",\"0.004\",\"0.004\",\"0.004\",\"0.004\",\"0.004\",\"0.004\",\"0.004\",\"0.004\",\"0.004\",\"0.004\",\"0.004\",\"0.002\",\"0.002\",\"0.002\",\"0.002\",\"0.002\",\"0.002\",\"0.002\",\"0.002\",\"0.002\",\"0.002\"]},{\"label\":\"cfx_sr\",\"values\":[1.0,1.0,1.0,1.0,0.0,0.0,0.0,0.0,0.0,0.0,0.0,0.0,0.0,0.0,0.0,0.0,0.0,0.0,0.0,0.0,0.0,0.0,0.0,0.0,0.0,0.0,0.0,0.0,0.0,0.0,0.0,0.0,0.0,0.0,0.0,0.0,0.0,0.0,0.0,0.0,0.0,0.0,0.0,0.0,0.0,0.0,0.0,0.0,0.0,0.0,0.0,0.0,0.0,0.0,0.0,0.0,0.0,0.0,0.0,0.0,0.0,0.0,0.0,0.0,0.0,0.0,0.0,0.0,0.0,0.0,0.0,0.0,0.0,0.0,0.0,0.0,0.0,0.0,0.0,0.0,0.0,0.0,0.0,0.0,0.0,0.0,0.0,0.0,0.0,0.0,0.0,0.0,0.0,0.0,0.0,0.0,0.0,0.0,0.0,0.0,0.0,0.0,0.0,0.0,0.0,0.0,0.0,0.0,0.0,0.0,0.0,0.0,0.0,0.0,0.0,0.0,0.0,0.0,0.0,0.0,0.0,0.0,0.0,0.0,0.0,0.0,0.0,0.0,0.0,0.0,0.0,0.0,0.0,0.0,0.0,0.0,0.0,0.0,0.0,0.0,0.0,0.0,0.0,0.0,0.0,0.0,0.0,0.0,0.0,0.0,0.0,0.0,0.0,0.0,0.0,0.0,0.0,0.0,0.0,0.0,0.0,0.0,0.0,0.0,0.0,0.0,0.0,0.0,0.0,0.0,0.0,0.0,0.0,0.0,0.0,0.0,0.0,0.0,0.0,0.0,0.0,0.0,0.0,0.0,0.0,0.0,0.0,0.0,0.0,0.0,0.0,0.0,0.0,0.0,0.0,0.0,0.0,0.0,0.0,0.0,0.0,0.0,0.0,0.0,0.0,0.0,0.0,0.0,0.0,0.0,0.0,0.0,0.0,0.0,0.0,0.0,0.0,0.0,0.0,0.0,0.0,0.0,0.0,0.0,0.0,0.0,0.0,0.0,0.0,0.0,0.0,0.0,0.0,0.0,0.0,0.0,0.0,0.0,0.0,0.0,0.0,0.0,0.0,0.0,0.0,0.0,0.0,0.0,0.0,0.0,0.0,0.0,0.0,0.0,0.0,0.0,0.0,0.0,0.0,0.0,0.0,0.0,0.0,0.0,0.0,0.0,0.0,0.0,0.0,0.0,0.0,0.0,0.0,0.0,0.0,0.0,0.0,0.0,0.0,0.0,0.0,0.0,0.0,0.0,0.0,0.0,0.0,0.0,0.0,0.0,0.0,0.0,0.0,0.0,0.0,0.0,0.0,0.0,0.0,0.0,0.0,0.0,0.0,0.0,0.0,0.0,0.0,0.0,0.0,0.0,0.0,0.0,0.0,0.0,0.0,0.0,0.0,0.0,0.0,0.0,0.0,0.0,0.0,0.0,0.0,0.0,0.0,0.0,0.0,0.0,0.0,0.0,0.0,0.0,0.0,0.0,0.0,0.0,0.0,0.0,0.0,0.0,0.0,0.0,0.0,0.0,0.0,0.0,0.0,0.0,0.0,0.0,0.0,0.0,0.0,0.0,0.0,0.0,0.0,0.0,0.0,0.0,0.0,0.0,0.0,0.0,0.0,0.0,0.0,0.0,0.0,0.0,0.0,0.0,0.0,0.0,0.0,0.0,0.0,0.0,0.0,0.0,0.0,0.0,0.0,0.0,0.0,0.0,0.0,0.0,0.0,0.0,0.0,0.0,0.0,0.0,0.0,0.0,0.0,0.0,0.0,0.0,0.0,0.0,0.0,0.0,0.0,0.0,0.0,0.0,0.0,0.0,0.0,0.0,0.0,0.0,0.0,0.0,0.0,0.0,0.0,0.0,0.0,0.0,0.0,0.0,0.0,0.0,0.0,0.0,0.0,0.0,0.0,0.0,0.0,0.0,0.0,0.0,0.0,0.0,0.0,0.0,0.0,0.0,0.0,0.0,0.0,0.0,0.0,0.0,0.0,0.0,0.0,0.0,0.0,0.0,0.0,0.0,0.0,0.0,0.0,0.0,0.0,0.0,0.0,0.0,0.0,0.0,0.0,0.0,0.0,0.0,0.0,0.0,0.0,0.0,0.0,0.0,0.0,0.0,0.0,0.0,0.0,0.0,0.0,0.0,0.0,0.0,0.0,0.0,0.0,0.0,0.0,0.0,0.0,0.0,0.0,0.0,0.0,0.0,0.0,0.0,0.0,0.0,0.0,0.0,0.0,0.0,0.0,0.0,0.0,0.0,0.0,0.0,0.0,0.0,0.0,0.0,0.0,0.0,0.0,0.0,0.0,0.0,0.0,0.0,0.0,0.0,0.0,0.0,0.0,0.0,0.0,0.0,0.0,0.0,0.0,0.0,0.0,0.0,0.0,0.0,0.0,0.0,0.0,0.0,0.0,0.0,0.0,0.0,0.0,0.0,0.0,0.0,0.0,0.0,0.0,0.0,0.0,0.0,0.0,0.0,0.0,0.0,0.0,0.0,0.0,0.0,0.0,0.0,0.0,0.0,0.0,0.0,0.0,0.0,0.0,0.0,0.0,0.0,0.0,0.0,0.0,0.0,0.0,0.0,0.0,0.0,0.0,0.0,0.0,0.0,0.0,0.0,0.0,0.0,0.0,0.0,0.0,0.0,0.0,0.0,0.0,0.0,0.0,0.0,0.0,0.0,0.0,0.0,0.0,0.0,0.0,0.0,0.0,0.0,0.0,0.0,0.0,0.0,0.0,0.0,0.0,0.0,0.0,0.0,0.0,0.0,0.0,0.0,0.0,0.0,0.0,0.0,0.0,0.0,0.0,0.0,0.0,0.0,0.0,0.0,0.0,0.0,0.0,0.0,0.0,0.0,0.0,0.0,0.0,0.0,0.0,0.0,0.0,0.0,0.0,0.0,0.0,0.0,0.0,0.0,0.0,0.0,0.0,0.0,0.0,0.0,0.0,0.0,0.0,0.0,0.0,0.0,0.0,0.0,0.0,0.0,0.0,0.0,0.0,0.0,0.0,0.0,0.0,0.0,0.0,0.0,0.0,0.0,0.0,0.0,0.0,0.0,0.0,0.0,0.0,0.0,0.0,0.0,0.0,0.0,0.0,0.0,0.0,0.0,0.0,0.0,0.0,0.0,0.0,0.0,0.0,0.0,0.0,0.0,0.0,0.0,0.0,0.0,0.0,0.0,0.0,0.0,0.0,0.0,0.0,0.0,0.0,0.0,0.0,0.0,0.0,0.0,0.0,0.0,0.0,0.0,0.0,0.0,0.0,0.0,0.0,0.0,0.0,0.0,0.0,0.0,0.0,0.0,0.0,0.0,0.0,0.0,0.0,0.0,0.0,0.0,0.0,0.0,0.0,0.0,0.0,0.0,0.0,0.0,0.0,0.0,0.0,0.0,0.0,0.0,0.0,0.0,0.0,0.0,0.0,0.0,0.0,0.0,0.0,0.0,0.0,0.0,0.0,0.0,0.0,0.0,0.0,0.0,0.0,0.0,0.0,0.0,0.0,0.0,0.0,0.0,0.0,0.0,0.0,0.0,0.0,0.0,0.0,0.0,0.0,0.0,0.0,0.0,0.0,0.0,0.0,0.0,0.0,0.0,0.0,0.0,0.0,0.0,0.0,0.0,0.0,0.0,0.0,0.0,0.0,0.0,0.0,0.0,0.0,0.0,0.0,0.0,0.0,0.0,0.0,0.0,0.0,0.0,0.0,0.0,0.0,0.0,0.0,0.0,0.0,0.0,0.0,0.0,0.0,0.0,0.0,0.0,0.0,0.0,0.0,0.0,0.0,0.0,0.0,0.0,0.0,0.0,0.0,0.0,0.0,0.0,0.0,0.0,0.0,0.0,0.0,0.0,0.0,0.0,0.0,0.0,0.0,0.0,0.0,0.0,0.0,0.0,0.0,0.0,0.0,0.0,0.0,0.0,0.0,0.0,0.0,0.0,0.0,0.0,0.0,0.0,0.0,0.0,0.0,0.0,0.0,0.0,0.0,0.0,0.0,0.0,0.0,0.0,0.0,0.0,0.0,0.0,0.0,0.0,0.0,0.0,0.0,0.0,0.0,0.0,0.0,0.0,0.0,0.0,0.0,0.0,0.0,0.0,0.0,0.0,0.0,0.0,0.0,0.0,0.0,0.0,0.0,0.0,0.0,0.0,0.0,0.0,0.0,0.0,0.0,0.0,0.0,0.0,0.0,0.0,0.0,0.0,0.0,0.0,0.0,0.0,0.0,0.0,0.0,0.0,0.0,0.0,0.0,0.0,0.0,0.0,0.0,0.0,0.0,0.0,0.0,0.0,0.0,0.0,0.0,0.0,0.0,0.0,0.0,0.0,0.0,0.0,0.0,0.0,0.0,0.0,0.0,0.0,0.0,0.0,0.0,0.0,0.0,0.0,0.0,0.0,0.0,0.0,0.0,0.0,0.0,0.0,0.0,0.0,0.0,0.0,0.0,0.0,0.0,0.0,0.0,0.0,0.0,0.0,0.0,0.0,0.0,0.0,0.0,0.0,0.0,0.0,0.0,0.0,0.0,0.0,0.0,0.0,0.0,0.0,0.0,0.0,0.0,0.0,0.0,0.0,0.0,0.0,0.0,0.0,0.0,0.0,0.0,0.0,0.0,0.0,0.0,0.0,0.0,0.0,0.0,0.0,0.0,0.0,0.0,0.0,0.0,0.0,0.0,0.0,0.0,0.0,0.0,0.0,0.0,0.0,0.0,0.0,0.0,0.0,0.0,0.0,0.0,0.0,0.0,0.0,0.0,0.0,0.0,0.0,0.0,0.0,0.0,0.0,0.0,0.0,0.0,0.0,0.0,0.0,0.0,0.0,0.0,0.0,0.0,0.0,0.0,0.0,0.0,0.0,0.0,0.0,0.0,0.0,0.0,0.0,0.0,0.0,0.0,0.0,0.0,0.0,0.0,0.0,0.0,0.0,0.0,0.0,0.0,0.0,0.0,0.0,0.0,0.0,0.0,0.0,0.0,0.0,0.0,0.0,0.0,0.0,0.0,0.0,0.0,0.0,0.0,0.0,0.0,0.0,0.0,0.0,0.0,0.0,0.0,0.0,0.0,0.0,0.0,0.0,0.0,0.0,0.0,0.0,0.0,0.0,0.0,0.0,0.0,0.0,0.0,0.0,0.0,0.0,0.0,0.0,0.0,0.0,0.0,0.0,0.0,0.0,0.0,0.0,0.0,0.0,0.0,0.0,0.0,0.0,0.0,0.0,0.0,0.0,0.0,0.0,0.0,0.0,0.0,0.0,0.0,0.0,0.0,0.0,0.0,0.0,0.0,0.0,0.0,0.0,0.0,0.0,0.0,0.0,0.0,0.0,0.0,0.0,0.0,0.0,0.0,0.0,0.0,0.0,0.0,0.0,0.0,0.0,0.0,0.0,0.0,0.0,0.0,0.0,0.0,0.0,0.0,0.0,0.0,0.0,0.0,0.0,0.0,0.0,0.0,0.0,0.0,0.0,0.0,0.0,0.0,0.0,0.0,0.0,0.0,0.0,0.0,0.0,0.0,0.0,0.0,0.0,0.0,0.0,0.0,0.0,0.0,0.0,0.0,0.0,0.0,0.0,0.0,0.0,0.0,0.0,0.0,0.0,0.0,0.0,0.0,0.0,0.0,0.0,0.0,0.0,0.0,0.0,0.0,0.0,0.0,0.0,0.0,0.0,0.0,0.0,0.0,0.0,0.0,0.0,0.0,0.0,0.0,0.0,0.0,0.0,0.0,0.0,0.0,0.0,0.0,0.0,0.0,0.0,0.0,0.0,0.0,0.0,0.0,0.0,0.0,0.0,0.0,0.0,0.0,0.0,0.0,0.0,0.0,0.0,0.0,0.0,0.0,0.0,0.0,0.0,0.0,0.0,0.0,0.0,0.0,0.0,0.0,0.0,0.0,0.0,0.0,0.0,0.0,0.0,0.0,0.0,0.0,0.0,0.0,0.0,0.0,0.0,0.0,0.0,0.0,0.0,0.0,0.0,0.0,0.0,0.0,0.0,0.0,0.0,0.0,0.0,0.0,0.0,0.0,0.0,0.0,0.0,0.0,0.0,0.0,0.0,0.0,0.0,0.0,0.0,0.0,0.0,0.0,0.0,0.0,0.0,0.0,0.0,0.0,0.0,0.0,0.0,0.0,0.0,0.0,0.0,0.0,0.0,0.0,0.0,0.0,0.0,0.0,0.0,0.0,0.0,0.0,0.0,0.0,0.0,0.0,0.0,0.0,0.0,0.0,0.0,0.0,0.0,0.0,0.0,0.0,0.0,0.0,0.0,0.0,0.0,0.0,0.0,0.0,0.0,0.0,0.0,0.0,0.0,0.0,0.0,0.0,0.0,0.0,0.0,0.0,0.0,0.0,0.0,0.0,0.0,0.0,0.0,0.0,0.0,0.0,0.0,0.0,0.0,0.0,0.0,0.0,0.0,0.0,0.0,0.0,0.0,0.0,0.0,0.0,0.0,0.0,0.0,0.0,0.0,0.0,0.0,0.0,0.0,0.0,0.0,0.0,0.0,0.0,0.0,0.0,0.0,0.0,0.0,0.0,0.0,0.0,0.0,0.0,0.0,0.0,0.0,0.0,0.0,0.0,0.0,0.0,0.0,0.0,0.0,0.0,0.0,0.0,0.0,0.0,0.0,0.0,0.0,0.0,0.0,0.0,0.0,0.0,0.0,0.0,0.0,0.0,0.0,0.0,0.0,0.0,0.0,0.0,0.0,0.0,0.0,0.0,0.0,0.0,0.0,0.0,0.0,0.0,0.0,0.0,0.0,0.0,0.0,0.0,0.0,0.0,0.0,0.0,0.0,0.0,0.0,0.0,0.0,0.0,0.0,0.0,0.0,0.0,0.0,0.0,0.0,0.0,0.0,0.0,0.0,0.0,0.0,0.0,0.0,0.0,0.0,0.0,0.0,0.0,0.0,0.0,0.0,0.0,0.0,0.0,0.0,0.0,0.0,0.0,0.0,0.0,0.0,0.0,0.0,0.0,0.0,0.0,0.0,0.0,0.0,0.0,0.0,0.0,0.0,0.0,0.0,0.0,0.0,0.0,0.0,0.0,0.0,0.0,0.0,0.0,0.0,0.0,0.0,0.0,0.0,0.0,0.0,0.0,0.0,0.0,0.0,0.0,0.0,0.0,0.0,0.0,0.0,0.0,0.0,0.0,0.0,0.0,0.0,0.0,0.0,0.0,0.0,0.0,0.0,0.0,0.0,0.0,0.0,0.0,0.0,0.0,0.0,0.0,0.0,0.0,0.0,0.0,0.0,0.0,0.0,0.0,0.0,0.0,0.0,0.0,0.0,0.0,0.0,0.0,0.0,0.0,0.0,0.0,0.0,0.0,0.0,0.0,0.0,0.0,0.0,0.0,0.0,0.0,0.0,0.0,0.0,0.0,0.0,0.0,0.0,0.0,0.0,0.0,0.0,0.0,0.0,0.0,0.0,0.0,0.0,0.0,0.0,0.0,0.0,0.0,0.0,0.0,0.0,0.0,0.0,0.0,0.0,0.0,0.0,0.0,0.0,0.0,0.0,0.0,0.0,0.0,0.0,0.0,0.0,0.0,0.0,0.0,0.0,0.0,0.0,0.0,0.0,0.0,0.0,0.0,0.0,0.0,0.0,0.0,0.0,0.0,0.0,0.0,0.0,0.0,0.0,0.0,0.0,0.0,0.0,0.0,0.0,0.0,0.0,0.0,0.0,0.0,0.0,0.0,0.0,0.0,0.0,0.0,0.0,0.0,0.0,0.0,0.0,0.0,0.0,0.0,0.0,0.0,0.0,0.0,0.0,0.0,0.0,0.0,0.0,0.0,0.0,0.0,0.0,0.0,0.0,0.0,0.0,0.0,0.0,0.0,0.0,0.0,0.0,0.0,0.0,0.0,0.0,0.0,0.0,0.0,0.0,0.0,0.0,0.0,0.0,0.0,0.0,0.0,0.0,0.0,0.0,0.0,0.0,0.0,0.0,0.0,0.0,0.0,0.0,0.0,0.0,0.0,0.0,0.0,0.0,0.0,0.0,0.0,0.0,0.0,0.0,0.0,0.0,0.0,0.0,0.0,0.0,0.0,0.0,0.0,0.0,0.0,0.0,0.0,0.0,0.0,0.0,0.0,0.0,0.0,0.0,0.0,0.0,0.0,0.0,0.0,0.0,0.0,0.0,0.0,0.0,0.0,0.0,0.0,0.0,0.0,0.0,0.0,0.0,0.0,0.0,0.0,0.0,0.0,0.0,0.0]}],\"domain\":{\"x\":[0.0,1.0],\"y\":[0.0,1.0]},\"name\":\"\",\"type\":\"parcats\",\"line\":{\"color\":\"mistyrose\",\"shape\":\"hspline\"}}],                        {\"template\":{\"data\":{\"histogram2dcontour\":[{\"type\":\"histogram2dcontour\",\"colorbar\":{\"outlinewidth\":0,\"ticks\":\"\"},\"colorscale\":[[0.0,\"#0d0887\"],[0.1111111111111111,\"#46039f\"],[0.2222222222222222,\"#7201a8\"],[0.3333333333333333,\"#9c179e\"],[0.4444444444444444,\"#bd3786\"],[0.5555555555555556,\"#d8576b\"],[0.6666666666666666,\"#ed7953\"],[0.7777777777777778,\"#fb9f3a\"],[0.8888888888888888,\"#fdca26\"],[1.0,\"#f0f921\"]]}],\"choropleth\":[{\"type\":\"choropleth\",\"colorbar\":{\"outlinewidth\":0,\"ticks\":\"\"}}],\"histogram2d\":[{\"type\":\"histogram2d\",\"colorbar\":{\"outlinewidth\":0,\"ticks\":\"\"},\"colorscale\":[[0.0,\"#0d0887\"],[0.1111111111111111,\"#46039f\"],[0.2222222222222222,\"#7201a8\"],[0.3333333333333333,\"#9c179e\"],[0.4444444444444444,\"#bd3786\"],[0.5555555555555556,\"#d8576b\"],[0.6666666666666666,\"#ed7953\"],[0.7777777777777778,\"#fb9f3a\"],[0.8888888888888888,\"#fdca26\"],[1.0,\"#f0f921\"]]}],\"heatmap\":[{\"type\":\"heatmap\",\"colorbar\":{\"outlinewidth\":0,\"ticks\":\"\"},\"colorscale\":[[0.0,\"#0d0887\"],[0.1111111111111111,\"#46039f\"],[0.2222222222222222,\"#7201a8\"],[0.3333333333333333,\"#9c179e\"],[0.4444444444444444,\"#bd3786\"],[0.5555555555555556,\"#d8576b\"],[0.6666666666666666,\"#ed7953\"],[0.7777777777777778,\"#fb9f3a\"],[0.8888888888888888,\"#fdca26\"],[1.0,\"#f0f921\"]]}],\"heatmapgl\":[{\"type\":\"heatmapgl\",\"colorbar\":{\"outlinewidth\":0,\"ticks\":\"\"},\"colorscale\":[[0.0,\"#0d0887\"],[0.1111111111111111,\"#46039f\"],[0.2222222222222222,\"#7201a8\"],[0.3333333333333333,\"#9c179e\"],[0.4444444444444444,\"#bd3786\"],[0.5555555555555556,\"#d8576b\"],[0.6666666666666666,\"#ed7953\"],[0.7777777777777778,\"#fb9f3a\"],[0.8888888888888888,\"#fdca26\"],[1.0,\"#f0f921\"]]}],\"contourcarpet\":[{\"type\":\"contourcarpet\",\"colorbar\":{\"outlinewidth\":0,\"ticks\":\"\"}}],\"contour\":[{\"type\":\"contour\",\"colorbar\":{\"outlinewidth\":0,\"ticks\":\"\"},\"colorscale\":[[0.0,\"#0d0887\"],[0.1111111111111111,\"#46039f\"],[0.2222222222222222,\"#7201a8\"],[0.3333333333333333,\"#9c179e\"],[0.4444444444444444,\"#bd3786\"],[0.5555555555555556,\"#d8576b\"],[0.6666666666666666,\"#ed7953\"],[0.7777777777777778,\"#fb9f3a\"],[0.8888888888888888,\"#fdca26\"],[1.0,\"#f0f921\"]]}],\"surface\":[{\"type\":\"surface\",\"colorbar\":{\"outlinewidth\":0,\"ticks\":\"\"},\"colorscale\":[[0.0,\"#0d0887\"],[0.1111111111111111,\"#46039f\"],[0.2222222222222222,\"#7201a8\"],[0.3333333333333333,\"#9c179e\"],[0.4444444444444444,\"#bd3786\"],[0.5555555555555556,\"#d8576b\"],[0.6666666666666666,\"#ed7953\"],[0.7777777777777778,\"#fb9f3a\"],[0.8888888888888888,\"#fdca26\"],[1.0,\"#f0f921\"]]}],\"mesh3d\":[{\"type\":\"mesh3d\",\"colorbar\":{\"outlinewidth\":0,\"ticks\":\"\"}}],\"scatter\":[{\"fillpattern\":{\"fillmode\":\"overlay\",\"size\":10,\"solidity\":0.2},\"type\":\"scatter\"}],\"parcoords\":[{\"type\":\"parcoords\",\"line\":{\"colorbar\":{\"outlinewidth\":0,\"ticks\":\"\"}}}],\"scatterpolargl\":[{\"type\":\"scatterpolargl\",\"marker\":{\"colorbar\":{\"outlinewidth\":0,\"ticks\":\"\"}}}],\"bar\":[{\"error_x\":{\"color\":\"#2a3f5f\"},\"error_y\":{\"color\":\"#2a3f5f\"},\"marker\":{\"line\":{\"color\":\"#E5ECF6\",\"width\":0.5},\"pattern\":{\"fillmode\":\"overlay\",\"size\":10,\"solidity\":0.2}},\"type\":\"bar\"}],\"scattergeo\":[{\"type\":\"scattergeo\",\"marker\":{\"colorbar\":{\"outlinewidth\":0,\"ticks\":\"\"}}}],\"scatterpolar\":[{\"type\":\"scatterpolar\",\"marker\":{\"colorbar\":{\"outlinewidth\":0,\"ticks\":\"\"}}}],\"histogram\":[{\"marker\":{\"pattern\":{\"fillmode\":\"overlay\",\"size\":10,\"solidity\":0.2}},\"type\":\"histogram\"}],\"scattergl\":[{\"type\":\"scattergl\",\"marker\":{\"colorbar\":{\"outlinewidth\":0,\"ticks\":\"\"}}}],\"scatter3d\":[{\"type\":\"scatter3d\",\"line\":{\"colorbar\":{\"outlinewidth\":0,\"ticks\":\"\"}},\"marker\":{\"colorbar\":{\"outlinewidth\":0,\"ticks\":\"\"}}}],\"scattermapbox\":[{\"type\":\"scattermapbox\",\"marker\":{\"colorbar\":{\"outlinewidth\":0,\"ticks\":\"\"}}}],\"scatterternary\":[{\"type\":\"scatterternary\",\"marker\":{\"colorbar\":{\"outlinewidth\":0,\"ticks\":\"\"}}}],\"scattercarpet\":[{\"type\":\"scattercarpet\",\"marker\":{\"colorbar\":{\"outlinewidth\":0,\"ticks\":\"\"}}}],\"carpet\":[{\"aaxis\":{\"endlinecolor\":\"#2a3f5f\",\"gridcolor\":\"white\",\"linecolor\":\"white\",\"minorgridcolor\":\"white\",\"startlinecolor\":\"#2a3f5f\"},\"baxis\":{\"endlinecolor\":\"#2a3f5f\",\"gridcolor\":\"white\",\"linecolor\":\"white\",\"minorgridcolor\":\"white\",\"startlinecolor\":\"#2a3f5f\"},\"type\":\"carpet\"}],\"table\":[{\"cells\":{\"fill\":{\"color\":\"#EBF0F8\"},\"line\":{\"color\":\"white\"}},\"header\":{\"fill\":{\"color\":\"#C8D4E3\"},\"line\":{\"color\":\"white\"}},\"type\":\"table\"}],\"barpolar\":[{\"marker\":{\"line\":{\"color\":\"#E5ECF6\",\"width\":0.5},\"pattern\":{\"fillmode\":\"overlay\",\"size\":10,\"solidity\":0.2}},\"type\":\"barpolar\"}],\"pie\":[{\"automargin\":true,\"type\":\"pie\"}]},\"layout\":{\"autotypenumbers\":\"strict\",\"colorway\":[\"#636efa\",\"#EF553B\",\"#00cc96\",\"#ab63fa\",\"#FFA15A\",\"#19d3f3\",\"#FF6692\",\"#B6E880\",\"#FF97FF\",\"#FECB52\"],\"font\":{\"color\":\"#2a3f5f\"},\"hovermode\":\"closest\",\"hoverlabel\":{\"align\":\"left\"},\"paper_bgcolor\":\"white\",\"plot_bgcolor\":\"#E5ECF6\",\"polar\":{\"bgcolor\":\"#E5ECF6\",\"angularaxis\":{\"gridcolor\":\"white\",\"linecolor\":\"white\",\"ticks\":\"\"},\"radialaxis\":{\"gridcolor\":\"white\",\"linecolor\":\"white\",\"ticks\":\"\"}},\"ternary\":{\"bgcolor\":\"#E5ECF6\",\"aaxis\":{\"gridcolor\":\"white\",\"linecolor\":\"white\",\"ticks\":\"\"},\"baxis\":{\"gridcolor\":\"white\",\"linecolor\":\"white\",\"ticks\":\"\"},\"caxis\":{\"gridcolor\":\"white\",\"linecolor\":\"white\",\"ticks\":\"\"}},\"coloraxis\":{\"colorbar\":{\"outlinewidth\":0,\"ticks\":\"\"}},\"colorscale\":{\"sequential\":[[0.0,\"#0d0887\"],[0.1111111111111111,\"#46039f\"],[0.2222222222222222,\"#7201a8\"],[0.3333333333333333,\"#9c179e\"],[0.4444444444444444,\"#bd3786\"],[0.5555555555555556,\"#d8576b\"],[0.6666666666666666,\"#ed7953\"],[0.7777777777777778,\"#fb9f3a\"],[0.8888888888888888,\"#fdca26\"],[1.0,\"#f0f921\"]],\"sequentialminus\":[[0.0,\"#0d0887\"],[0.1111111111111111,\"#46039f\"],[0.2222222222222222,\"#7201a8\"],[0.3333333333333333,\"#9c179e\"],[0.4444444444444444,\"#bd3786\"],[0.5555555555555556,\"#d8576b\"],[0.6666666666666666,\"#ed7953\"],[0.7777777777777778,\"#fb9f3a\"],[0.8888888888888888,\"#fdca26\"],[1.0,\"#f0f921\"]],\"diverging\":[[0,\"#8e0152\"],[0.1,\"#c51b7d\"],[0.2,\"#de77ae\"],[0.3,\"#f1b6da\"],[0.4,\"#fde0ef\"],[0.5,\"#f7f7f7\"],[0.6,\"#e6f5d0\"],[0.7,\"#b8e186\"],[0.8,\"#7fbc41\"],[0.9,\"#4d9221\"],[1,\"#276419\"]]},\"xaxis\":{\"gridcolor\":\"white\",\"linecolor\":\"white\",\"ticks\":\"\",\"title\":{\"standoff\":15},\"zerolinecolor\":\"white\",\"automargin\":true,\"zerolinewidth\":2},\"yaxis\":{\"gridcolor\":\"white\",\"linecolor\":\"white\",\"ticks\":\"\",\"title\":{\"standoff\":15},\"zerolinecolor\":\"white\",\"automargin\":true,\"zerolinewidth\":2},\"scene\":{\"xaxis\":{\"backgroundcolor\":\"#E5ECF6\",\"gridcolor\":\"white\",\"linecolor\":\"white\",\"showbackground\":true,\"ticks\":\"\",\"zerolinecolor\":\"white\",\"gridwidth\":2},\"yaxis\":{\"backgroundcolor\":\"#E5ECF6\",\"gridcolor\":\"white\",\"linecolor\":\"white\",\"showbackground\":true,\"ticks\":\"\",\"zerolinecolor\":\"white\",\"gridwidth\":2},\"zaxis\":{\"backgroundcolor\":\"#E5ECF6\",\"gridcolor\":\"white\",\"linecolor\":\"white\",\"showbackground\":true,\"ticks\":\"\",\"zerolinecolor\":\"white\",\"gridwidth\":2}},\"shapedefaults\":{\"line\":{\"color\":\"#2a3f5f\"}},\"annotationdefaults\":{\"arrowcolor\":\"#2a3f5f\",\"arrowhead\":0,\"arrowwidth\":1},\"geo\":{\"bgcolor\":\"white\",\"landcolor\":\"#E5ECF6\",\"subunitcolor\":\"white\",\"showland\":true,\"showlakes\":true,\"lakecolor\":\"white\"},\"title\":{\"x\":0.05},\"mapbox\":{\"style\":\"light\"}}},\"legend\":{\"tracegroupgap\":0},\"margin\":{\"t\":60,\"b\":10},\"title\":{\"text\":\"Bacteria Resistance to Cefixime\"},\"height\":400},                        {\"responsive\": true}                    ).then(function(){\n",
              "                            \n",
              "var gd = document.getElementById('18f91a19-27ec-42e3-80d3-e3790b7c2b05');\n",
              "var x = new MutationObserver(function (mutations, observer) {{\n",
              "        var display = window.getComputedStyle(gd).display;\n",
              "        if (!display || display === 'none') {{\n",
              "            console.log([gd, 'removed!']);\n",
              "            Plotly.purge(gd);\n",
              "            observer.disconnect();\n",
              "        }}\n",
              "}});\n",
              "\n",
              "// Listen for the removal of the full notebook cells\n",
              "var notebookContainer = gd.closest('#notebook-container');\n",
              "if (notebookContainer) {{\n",
              "    x.observe(notebookContainer, {childList: true});\n",
              "}}\n",
              "\n",
              "// Listen for the clearing of the current output cell\n",
              "var outputEl = gd.closest('.output');\n",
              "if (outputEl) {{\n",
              "    x.observe(outputEl, {childList: true});\n",
              "}}\n",
              "\n",
              "                        })                };                            </script>        </div>\n",
              "</body>\n",
              "</html>"
            ]
          },
          "metadata": {}
        }
      ]
    },
    {
      "cell_type": "markdown",
      "source": [
        "## 4.2. Country Based Bacteria Resistance\n",
        "\n",
        "**LEAST EFFECTIVE TREATMENT LOCATIONS**\n",
        "\n",
        "The result sample pool may not be very balanced to make specific conclusions, but resistance to specific anibiotics has some geographic variation.\n",
        "\n",
        "* For Azithromycin, samples from the US, Sweden & China are shown to be only countries with unsuccesful treatment cases.\n",
        "* Globally, Ciprofloxacin has become an innefective treatment. Chile, Finland, Vietnam, China are amonst the least effective locations.\n",
        "* Aside from France, Cefixime has been the most effective treatment globally."
      ],
      "metadata": {
        "id": "9nJ8b5Zp7J95"
      },
      "id": "9nJ8b5Zp7J95"
    },
    {
      "cell_type": "code",
      "source": [
        "import country_converter as coco\n",
        "\n",
        "lst_azm = ['Year','Country','Continent','Beta.lactamase','azm_mic','Azithromycin','azm_sr']\n",
        "lst_cip = ['Year','Country','Continent','Beta.lactamase','cip_mic','Ciprofloxacin','cip_sr']\n",
        "lst_cfx = ['Year','Country','Continent','Beta.lactamase','cfx_mic','Cefixime','cfx_sr']\n",
        "lst_antibio = [lst_azm,lst_cip,lst_cfx]\n",
        "\n",
        "#tdf['Country'] = coco.convert(names=tdf['Country'].astype(str), to='ISO3', not_found=None)\n",
        "\n",
        "def plot_geomean(lst):\n",
        "\n",
        "    #global country_map\n",
        "\n",
        "    tdf = get_unitigs().df[lst]\n",
        "    tdf.dropna(inplace=True)\n",
        "    tdf.sort_values(by=lst[-3],inplace=True,ascending=False)\n",
        "    tdf['Year'] = tdf['Year'].astype(str)\n",
        "\n",
        "    tdf['Country'] = coco.convert(names=tdf['Country'].replace(\n",
        "        {'Brasil':'Brazil',\n",
        "         'Scotland':'United Kingdom',\n",
        "         'Caribbean':'Caribbean Netherlands'}).astype(str), to='ISO3', not_found=None)\n",
        "\n",
        "    tdf2 = tdf.groupby(['Country']).mean(numeric_only=True)\n",
        "\n",
        "    fig = go.Figure(data=go.Choropleth(\n",
        "        locations = tdf2.index,\n",
        "        z = tdf2[lst[-1]],\n",
        "        colorscale = 'magenta',\n",
        "        autocolorscale=False,\n",
        "        reversescale=False,\n",
        "        marker_line_color='black',\n",
        "        marker_line_width=0.5,\n",
        "        colorbar_title = f'{lst[-1]}'))\n",
        "\n",
        "    fig.update_layout(title=f'Bacteria Resistance to {lst[-2]}',\n",
        "                      geo=dict(showframe=False,showcoastlines=False,\n",
        "                               projection_type='equirectangular'))\n",
        "    fig.update_layout(margin=dict(t=60,b=10),height=400)\n",
        "    fig.show()"
      ],
      "metadata": {
        "id": "o7q8DT4-7atz"
      },
      "id": "o7q8DT4-7atz",
      "execution_count": 60,
      "outputs": []
    },
    {
      "cell_type": "code",
      "source": [
        "# Plot Choropleth Map\n",
        "for i in lst_antibio:\n",
        "    plot_geomean(i)"
      ],
      "metadata": {
        "id": "YN7s6i7T8flh",
        "outputId": "e0fa51ca-fecb-4d0d-acab-fb5907bbf1a3",
        "colab": {
          "base_uri": "https://localhost:8080/",
          "height": 1000
        }
      },
      "id": "YN7s6i7T8flh",
      "execution_count": 61,
      "outputs": [
        {
          "output_type": "display_data",
          "data": {
            "text/html": [
              "<html>\n",
              "<head><meta charset=\"utf-8\" /></head>\n",
              "<body>\n",
              "    <div>            <script src=\"https://cdnjs.cloudflare.com/ajax/libs/mathjax/2.7.5/MathJax.js?config=TeX-AMS-MML_SVG\"></script><script type=\"text/javascript\">if (window.MathJax && window.MathJax.Hub && window.MathJax.Hub.Config) {window.MathJax.Hub.Config({SVG: {font: \"STIX-Web\"}});}</script>                <script type=\"text/javascript\">window.PlotlyConfig = {MathJaxConfig: 'local'};</script>\n",
              "        <script charset=\"utf-8\" src=\"https://cdn.plot.ly/plotly-2.35.2.min.js\"></script>                <div id=\"22cd5d51-42c4-4c53-8fdd-d881265308e3\" class=\"plotly-graph-div\" style=\"height:400px; width:100%;\"></div>            <script type=\"text/javascript\">                                    window.PLOTLYENV=window.PLOTLYENV || {};                                    if (document.getElementById(\"22cd5d51-42c4-4c53-8fdd-d881265308e3\")) {                    Plotly.newPlot(                        \"22cd5d51-42c4-4c53-8fdd-d881265308e3\",                        [{\"autocolorscale\":false,\"colorbar\":{\"title\":{\"text\":\"azm_sr\"}},\"colorscale\":[[0.0,\"rgb(243, 203, 211)\"],[0.16666666666666666,\"rgb(234, 169, 189)\"],[0.3333333333333333,\"rgb(221, 136, 172)\"],[0.5,\"rgb(202, 105, 157)\"],[0.6666666666666666,\"rgb(177, 77, 142)\"],[0.8333333333333334,\"rgb(145, 53, 125)\"],[1.0,\"rgb(108, 33, 103)\"]],\"locations\":[\"AGO\",\"ARG\",\"ARM\",\"AUS\",\"BES\",\"BGR\",\"BLR\",\"BRA\",\"BTN\",\"CAN\",\"CHL\",\"CHN\",\"CIV\",\"CPV\",\"CUB\",\"DEU\",\"DNK\",\"ECU\",\"ESP\",\"EST\",\"FIN\",\"FRA\",\"GBR\",\"GIN\",\"GMB\",\"GNB\",\"GRC\",\"HKG\",\"HUN\",\"IDN\",\"IND\",\"ITA\",\"JAM\",\"JPN\",\"LTU\",\"MAR\",\"MYS\",\"NLD\",\"NOR\",\"NZL\",\"PAK\",\"PHL\",\"POL\",\"ROU\",\"RUS\",\"SAU\",\"SVK\",\"SVN\",\"SWE\",\"THA\",\"TUR\",\"TZA\",\"UGA\",\"USA\",\"VNM\",\"ZAF\"],\"marker\":{\"line\":{\"color\":\"black\",\"width\":0.5}},\"reversescale\":false,\"z\":[0.0,0.0,0.0,0.0,0.0,0.0,0.0,0.0,0.0,0.0,0.0,0.14285714285714285,0.0,0.0,0.0,0.0,0.0,0.0,0.0,0.0,0.0,0.0,0.0,0.0,0.0,0.0,0.0,0.0,0.0,0.0,0.041666666666666664,0.0,0.0,0.0,0.0,0.0,0.0,0.0,0.0,0.005,0.0,0.0,0.058823529411764705,0.0,0.0,0.0,0.0,0.08695652173913043,1.0,0.0,0.0,0.0,0.0,0.10972346119536129,0.0,0.0],\"type\":\"choropleth\"}],                        {\"template\":{\"data\":{\"histogram2dcontour\":[{\"type\":\"histogram2dcontour\",\"colorbar\":{\"outlinewidth\":0,\"ticks\":\"\"},\"colorscale\":[[0.0,\"#0d0887\"],[0.1111111111111111,\"#46039f\"],[0.2222222222222222,\"#7201a8\"],[0.3333333333333333,\"#9c179e\"],[0.4444444444444444,\"#bd3786\"],[0.5555555555555556,\"#d8576b\"],[0.6666666666666666,\"#ed7953\"],[0.7777777777777778,\"#fb9f3a\"],[0.8888888888888888,\"#fdca26\"],[1.0,\"#f0f921\"]]}],\"choropleth\":[{\"type\":\"choropleth\",\"colorbar\":{\"outlinewidth\":0,\"ticks\":\"\"}}],\"histogram2d\":[{\"type\":\"histogram2d\",\"colorbar\":{\"outlinewidth\":0,\"ticks\":\"\"},\"colorscale\":[[0.0,\"#0d0887\"],[0.1111111111111111,\"#46039f\"],[0.2222222222222222,\"#7201a8\"],[0.3333333333333333,\"#9c179e\"],[0.4444444444444444,\"#bd3786\"],[0.5555555555555556,\"#d8576b\"],[0.6666666666666666,\"#ed7953\"],[0.7777777777777778,\"#fb9f3a\"],[0.8888888888888888,\"#fdca26\"],[1.0,\"#f0f921\"]]}],\"heatmap\":[{\"type\":\"heatmap\",\"colorbar\":{\"outlinewidth\":0,\"ticks\":\"\"},\"colorscale\":[[0.0,\"#0d0887\"],[0.1111111111111111,\"#46039f\"],[0.2222222222222222,\"#7201a8\"],[0.3333333333333333,\"#9c179e\"],[0.4444444444444444,\"#bd3786\"],[0.5555555555555556,\"#d8576b\"],[0.6666666666666666,\"#ed7953\"],[0.7777777777777778,\"#fb9f3a\"],[0.8888888888888888,\"#fdca26\"],[1.0,\"#f0f921\"]]}],\"heatmapgl\":[{\"type\":\"heatmapgl\",\"colorbar\":{\"outlinewidth\":0,\"ticks\":\"\"},\"colorscale\":[[0.0,\"#0d0887\"],[0.1111111111111111,\"#46039f\"],[0.2222222222222222,\"#7201a8\"],[0.3333333333333333,\"#9c179e\"],[0.4444444444444444,\"#bd3786\"],[0.5555555555555556,\"#d8576b\"],[0.6666666666666666,\"#ed7953\"],[0.7777777777777778,\"#fb9f3a\"],[0.8888888888888888,\"#fdca26\"],[1.0,\"#f0f921\"]]}],\"contourcarpet\":[{\"type\":\"contourcarpet\",\"colorbar\":{\"outlinewidth\":0,\"ticks\":\"\"}}],\"contour\":[{\"type\":\"contour\",\"colorbar\":{\"outlinewidth\":0,\"ticks\":\"\"},\"colorscale\":[[0.0,\"#0d0887\"],[0.1111111111111111,\"#46039f\"],[0.2222222222222222,\"#7201a8\"],[0.3333333333333333,\"#9c179e\"],[0.4444444444444444,\"#bd3786\"],[0.5555555555555556,\"#d8576b\"],[0.6666666666666666,\"#ed7953\"],[0.7777777777777778,\"#fb9f3a\"],[0.8888888888888888,\"#fdca26\"],[1.0,\"#f0f921\"]]}],\"surface\":[{\"type\":\"surface\",\"colorbar\":{\"outlinewidth\":0,\"ticks\":\"\"},\"colorscale\":[[0.0,\"#0d0887\"],[0.1111111111111111,\"#46039f\"],[0.2222222222222222,\"#7201a8\"],[0.3333333333333333,\"#9c179e\"],[0.4444444444444444,\"#bd3786\"],[0.5555555555555556,\"#d8576b\"],[0.6666666666666666,\"#ed7953\"],[0.7777777777777778,\"#fb9f3a\"],[0.8888888888888888,\"#fdca26\"],[1.0,\"#f0f921\"]]}],\"mesh3d\":[{\"type\":\"mesh3d\",\"colorbar\":{\"outlinewidth\":0,\"ticks\":\"\"}}],\"scatter\":[{\"fillpattern\":{\"fillmode\":\"overlay\",\"size\":10,\"solidity\":0.2},\"type\":\"scatter\"}],\"parcoords\":[{\"type\":\"parcoords\",\"line\":{\"colorbar\":{\"outlinewidth\":0,\"ticks\":\"\"}}}],\"scatterpolargl\":[{\"type\":\"scatterpolargl\",\"marker\":{\"colorbar\":{\"outlinewidth\":0,\"ticks\":\"\"}}}],\"bar\":[{\"error_x\":{\"color\":\"#2a3f5f\"},\"error_y\":{\"color\":\"#2a3f5f\"},\"marker\":{\"line\":{\"color\":\"#E5ECF6\",\"width\":0.5},\"pattern\":{\"fillmode\":\"overlay\",\"size\":10,\"solidity\":0.2}},\"type\":\"bar\"}],\"scattergeo\":[{\"type\":\"scattergeo\",\"marker\":{\"colorbar\":{\"outlinewidth\":0,\"ticks\":\"\"}}}],\"scatterpolar\":[{\"type\":\"scatterpolar\",\"marker\":{\"colorbar\":{\"outlinewidth\":0,\"ticks\":\"\"}}}],\"histogram\":[{\"marker\":{\"pattern\":{\"fillmode\":\"overlay\",\"size\":10,\"solidity\":0.2}},\"type\":\"histogram\"}],\"scattergl\":[{\"type\":\"scattergl\",\"marker\":{\"colorbar\":{\"outlinewidth\":0,\"ticks\":\"\"}}}],\"scatter3d\":[{\"type\":\"scatter3d\",\"line\":{\"colorbar\":{\"outlinewidth\":0,\"ticks\":\"\"}},\"marker\":{\"colorbar\":{\"outlinewidth\":0,\"ticks\":\"\"}}}],\"scattermapbox\":[{\"type\":\"scattermapbox\",\"marker\":{\"colorbar\":{\"outlinewidth\":0,\"ticks\":\"\"}}}],\"scatterternary\":[{\"type\":\"scatterternary\",\"marker\":{\"colorbar\":{\"outlinewidth\":0,\"ticks\":\"\"}}}],\"scattercarpet\":[{\"type\":\"scattercarpet\",\"marker\":{\"colorbar\":{\"outlinewidth\":0,\"ticks\":\"\"}}}],\"carpet\":[{\"aaxis\":{\"endlinecolor\":\"#2a3f5f\",\"gridcolor\":\"white\",\"linecolor\":\"white\",\"minorgridcolor\":\"white\",\"startlinecolor\":\"#2a3f5f\"},\"baxis\":{\"endlinecolor\":\"#2a3f5f\",\"gridcolor\":\"white\",\"linecolor\":\"white\",\"minorgridcolor\":\"white\",\"startlinecolor\":\"#2a3f5f\"},\"type\":\"carpet\"}],\"table\":[{\"cells\":{\"fill\":{\"color\":\"#EBF0F8\"},\"line\":{\"color\":\"white\"}},\"header\":{\"fill\":{\"color\":\"#C8D4E3\"},\"line\":{\"color\":\"white\"}},\"type\":\"table\"}],\"barpolar\":[{\"marker\":{\"line\":{\"color\":\"#E5ECF6\",\"width\":0.5},\"pattern\":{\"fillmode\":\"overlay\",\"size\":10,\"solidity\":0.2}},\"type\":\"barpolar\"}],\"pie\":[{\"automargin\":true,\"type\":\"pie\"}]},\"layout\":{\"autotypenumbers\":\"strict\",\"colorway\":[\"#636efa\",\"#EF553B\",\"#00cc96\",\"#ab63fa\",\"#FFA15A\",\"#19d3f3\",\"#FF6692\",\"#B6E880\",\"#FF97FF\",\"#FECB52\"],\"font\":{\"color\":\"#2a3f5f\"},\"hovermode\":\"closest\",\"hoverlabel\":{\"align\":\"left\"},\"paper_bgcolor\":\"white\",\"plot_bgcolor\":\"#E5ECF6\",\"polar\":{\"bgcolor\":\"#E5ECF6\",\"angularaxis\":{\"gridcolor\":\"white\",\"linecolor\":\"white\",\"ticks\":\"\"},\"radialaxis\":{\"gridcolor\":\"white\",\"linecolor\":\"white\",\"ticks\":\"\"}},\"ternary\":{\"bgcolor\":\"#E5ECF6\",\"aaxis\":{\"gridcolor\":\"white\",\"linecolor\":\"white\",\"ticks\":\"\"},\"baxis\":{\"gridcolor\":\"white\",\"linecolor\":\"white\",\"ticks\":\"\"},\"caxis\":{\"gridcolor\":\"white\",\"linecolor\":\"white\",\"ticks\":\"\"}},\"coloraxis\":{\"colorbar\":{\"outlinewidth\":0,\"ticks\":\"\"}},\"colorscale\":{\"sequential\":[[0.0,\"#0d0887\"],[0.1111111111111111,\"#46039f\"],[0.2222222222222222,\"#7201a8\"],[0.3333333333333333,\"#9c179e\"],[0.4444444444444444,\"#bd3786\"],[0.5555555555555556,\"#d8576b\"],[0.6666666666666666,\"#ed7953\"],[0.7777777777777778,\"#fb9f3a\"],[0.8888888888888888,\"#fdca26\"],[1.0,\"#f0f921\"]],\"sequentialminus\":[[0.0,\"#0d0887\"],[0.1111111111111111,\"#46039f\"],[0.2222222222222222,\"#7201a8\"],[0.3333333333333333,\"#9c179e\"],[0.4444444444444444,\"#bd3786\"],[0.5555555555555556,\"#d8576b\"],[0.6666666666666666,\"#ed7953\"],[0.7777777777777778,\"#fb9f3a\"],[0.8888888888888888,\"#fdca26\"],[1.0,\"#f0f921\"]],\"diverging\":[[0,\"#8e0152\"],[0.1,\"#c51b7d\"],[0.2,\"#de77ae\"],[0.3,\"#f1b6da\"],[0.4,\"#fde0ef\"],[0.5,\"#f7f7f7\"],[0.6,\"#e6f5d0\"],[0.7,\"#b8e186\"],[0.8,\"#7fbc41\"],[0.9,\"#4d9221\"],[1,\"#276419\"]]},\"xaxis\":{\"gridcolor\":\"white\",\"linecolor\":\"white\",\"ticks\":\"\",\"title\":{\"standoff\":15},\"zerolinecolor\":\"white\",\"automargin\":true,\"zerolinewidth\":2},\"yaxis\":{\"gridcolor\":\"white\",\"linecolor\":\"white\",\"ticks\":\"\",\"title\":{\"standoff\":15},\"zerolinecolor\":\"white\",\"automargin\":true,\"zerolinewidth\":2},\"scene\":{\"xaxis\":{\"backgroundcolor\":\"#E5ECF6\",\"gridcolor\":\"white\",\"linecolor\":\"white\",\"showbackground\":true,\"ticks\":\"\",\"zerolinecolor\":\"white\",\"gridwidth\":2},\"yaxis\":{\"backgroundcolor\":\"#E5ECF6\",\"gridcolor\":\"white\",\"linecolor\":\"white\",\"showbackground\":true,\"ticks\":\"\",\"zerolinecolor\":\"white\",\"gridwidth\":2},\"zaxis\":{\"backgroundcolor\":\"#E5ECF6\",\"gridcolor\":\"white\",\"linecolor\":\"white\",\"showbackground\":true,\"ticks\":\"\",\"zerolinecolor\":\"white\",\"gridwidth\":2}},\"shapedefaults\":{\"line\":{\"color\":\"#2a3f5f\"}},\"annotationdefaults\":{\"arrowcolor\":\"#2a3f5f\",\"arrowhead\":0,\"arrowwidth\":1},\"geo\":{\"bgcolor\":\"white\",\"landcolor\":\"#E5ECF6\",\"subunitcolor\":\"white\",\"showland\":true,\"showlakes\":true,\"lakecolor\":\"white\"},\"title\":{\"x\":0.05},\"mapbox\":{\"style\":\"light\"}}},\"geo\":{\"projection\":{\"type\":\"equirectangular\"},\"showframe\":false,\"showcoastlines\":false},\"title\":{\"text\":\"Bacteria Resistance to Azithromycin\"},\"margin\":{\"t\":60,\"b\":10},\"height\":400},                        {\"responsive\": true}                    ).then(function(){\n",
              "                            \n",
              "var gd = document.getElementById('22cd5d51-42c4-4c53-8fdd-d881265308e3');\n",
              "var x = new MutationObserver(function (mutations, observer) {{\n",
              "        var display = window.getComputedStyle(gd).display;\n",
              "        if (!display || display === 'none') {{\n",
              "            console.log([gd, 'removed!']);\n",
              "            Plotly.purge(gd);\n",
              "            observer.disconnect();\n",
              "        }}\n",
              "}});\n",
              "\n",
              "// Listen for the removal of the full notebook cells\n",
              "var notebookContainer = gd.closest('#notebook-container');\n",
              "if (notebookContainer) {{\n",
              "    x.observe(notebookContainer, {childList: true});\n",
              "}}\n",
              "\n",
              "// Listen for the clearing of the current output cell\n",
              "var outputEl = gd.closest('.output');\n",
              "if (outputEl) {{\n",
              "    x.observe(outputEl, {childList: true});\n",
              "}}\n",
              "\n",
              "                        })                };                            </script>        </div>\n",
              "</body>\n",
              "</html>"
            ]
          },
          "metadata": {}
        },
        {
          "output_type": "display_data",
          "data": {
            "text/html": [
              "<html>\n",
              "<head><meta charset=\"utf-8\" /></head>\n",
              "<body>\n",
              "    <div>            <script src=\"https://cdnjs.cloudflare.com/ajax/libs/mathjax/2.7.5/MathJax.js?config=TeX-AMS-MML_SVG\"></script><script type=\"text/javascript\">if (window.MathJax && window.MathJax.Hub && window.MathJax.Hub.Config) {window.MathJax.Hub.Config({SVG: {font: \"STIX-Web\"}});}</script>                <script type=\"text/javascript\">window.PlotlyConfig = {MathJaxConfig: 'local'};</script>\n",
              "        <script charset=\"utf-8\" src=\"https://cdn.plot.ly/plotly-2.35.2.min.js\"></script>                <div id=\"1bb75687-12e5-4fc1-bfb8-0a7e2a615f0d\" class=\"plotly-graph-div\" style=\"height:400px; width:100%;\"></div>            <script type=\"text/javascript\">                                    window.PLOTLYENV=window.PLOTLYENV || {};                                    if (document.getElementById(\"1bb75687-12e5-4fc1-bfb8-0a7e2a615f0d\")) {                    Plotly.newPlot(                        \"1bb75687-12e5-4fc1-bfb8-0a7e2a615f0d\",                        [{\"autocolorscale\":false,\"colorbar\":{\"title\":{\"text\":\"cip_sr\"}},\"colorscale\":[[0.0,\"rgb(243, 203, 211)\"],[0.16666666666666666,\"rgb(234, 169, 189)\"],[0.3333333333333333,\"rgb(221, 136, 172)\"],[0.5,\"rgb(202, 105, 157)\"],[0.6666666666666666,\"rgb(177, 77, 142)\"],[0.8333333333333334,\"rgb(145, 53, 125)\"],[1.0,\"rgb(108, 33, 103)\"]],\"locations\":[\"AGO\",\"ARG\",\"ARM\",\"AUS\",\"BES\",\"BGR\",\"BLR\",\"BRA\",\"BTN\",\"CAN\",\"CHL\",\"CHN\",\"CIV\",\"CPV\",\"CUB\",\"DEU\",\"DNK\",\"ECU\",\"ESP\",\"EST\",\"FIN\",\"FRA\",\"GBR\",\"GIN\",\"GMB\",\"GNB\",\"GRC\",\"HKG\",\"HUN\",\"IDN\",\"IND\",\"ITA\",\"JAM\",\"JPN\",\"LTU\",\"MAR\",\"MYS\",\"NLD\",\"NOR\",\"NZL\",\"PAK\",\"PHL\",\"POL\",\"ROU\",\"RUS\",\"SAU\",\"SVK\",\"SVN\",\"SWE\",\"THA\",\"TUR\",\"TZA\",\"UGA\",\"USA\",\"VNM\",\"ZAF\"],\"marker\":{\"line\":{\"color\":\"black\",\"width\":0.5}},\"reversescale\":false,\"z\":[0.0,0.0,0.0,0.36363636363636365,0.0,1.0,0.16,0.0,0.2857142857142857,0.0,1.0,0.7142857142857143,0.0,0.0,0.0,0.3333333333333333,0.0,0.0,0.3076923076923077,0.2777777777777778,1.0,0.5,0.0,0.0,0.0,0.08333333333333333,0.16666666666666666,1.0,0.0,0.2,0.5416666666666666,0.0,0.0,0.72,0.0,0.0,1.0,0.6,0.8181818181818182,0.3075,0.6428571428571429,0.23076923076923078,0.5588235294117647,0.0,0.23076923076923078,0.0,0.0,0.6086956521739131,0.0,0.28,0.0,0.0,0.0,0.5325602140945584,1.0,0.0],\"type\":\"choropleth\"}],                        {\"template\":{\"data\":{\"histogram2dcontour\":[{\"type\":\"histogram2dcontour\",\"colorbar\":{\"outlinewidth\":0,\"ticks\":\"\"},\"colorscale\":[[0.0,\"#0d0887\"],[0.1111111111111111,\"#46039f\"],[0.2222222222222222,\"#7201a8\"],[0.3333333333333333,\"#9c179e\"],[0.4444444444444444,\"#bd3786\"],[0.5555555555555556,\"#d8576b\"],[0.6666666666666666,\"#ed7953\"],[0.7777777777777778,\"#fb9f3a\"],[0.8888888888888888,\"#fdca26\"],[1.0,\"#f0f921\"]]}],\"choropleth\":[{\"type\":\"choropleth\",\"colorbar\":{\"outlinewidth\":0,\"ticks\":\"\"}}],\"histogram2d\":[{\"type\":\"histogram2d\",\"colorbar\":{\"outlinewidth\":0,\"ticks\":\"\"},\"colorscale\":[[0.0,\"#0d0887\"],[0.1111111111111111,\"#46039f\"],[0.2222222222222222,\"#7201a8\"],[0.3333333333333333,\"#9c179e\"],[0.4444444444444444,\"#bd3786\"],[0.5555555555555556,\"#d8576b\"],[0.6666666666666666,\"#ed7953\"],[0.7777777777777778,\"#fb9f3a\"],[0.8888888888888888,\"#fdca26\"],[1.0,\"#f0f921\"]]}],\"heatmap\":[{\"type\":\"heatmap\",\"colorbar\":{\"outlinewidth\":0,\"ticks\":\"\"},\"colorscale\":[[0.0,\"#0d0887\"],[0.1111111111111111,\"#46039f\"],[0.2222222222222222,\"#7201a8\"],[0.3333333333333333,\"#9c179e\"],[0.4444444444444444,\"#bd3786\"],[0.5555555555555556,\"#d8576b\"],[0.6666666666666666,\"#ed7953\"],[0.7777777777777778,\"#fb9f3a\"],[0.8888888888888888,\"#fdca26\"],[1.0,\"#f0f921\"]]}],\"heatmapgl\":[{\"type\":\"heatmapgl\",\"colorbar\":{\"outlinewidth\":0,\"ticks\":\"\"},\"colorscale\":[[0.0,\"#0d0887\"],[0.1111111111111111,\"#46039f\"],[0.2222222222222222,\"#7201a8\"],[0.3333333333333333,\"#9c179e\"],[0.4444444444444444,\"#bd3786\"],[0.5555555555555556,\"#d8576b\"],[0.6666666666666666,\"#ed7953\"],[0.7777777777777778,\"#fb9f3a\"],[0.8888888888888888,\"#fdca26\"],[1.0,\"#f0f921\"]]}],\"contourcarpet\":[{\"type\":\"contourcarpet\",\"colorbar\":{\"outlinewidth\":0,\"ticks\":\"\"}}],\"contour\":[{\"type\":\"contour\",\"colorbar\":{\"outlinewidth\":0,\"ticks\":\"\"},\"colorscale\":[[0.0,\"#0d0887\"],[0.1111111111111111,\"#46039f\"],[0.2222222222222222,\"#7201a8\"],[0.3333333333333333,\"#9c179e\"],[0.4444444444444444,\"#bd3786\"],[0.5555555555555556,\"#d8576b\"],[0.6666666666666666,\"#ed7953\"],[0.7777777777777778,\"#fb9f3a\"],[0.8888888888888888,\"#fdca26\"],[1.0,\"#f0f921\"]]}],\"surface\":[{\"type\":\"surface\",\"colorbar\":{\"outlinewidth\":0,\"ticks\":\"\"},\"colorscale\":[[0.0,\"#0d0887\"],[0.1111111111111111,\"#46039f\"],[0.2222222222222222,\"#7201a8\"],[0.3333333333333333,\"#9c179e\"],[0.4444444444444444,\"#bd3786\"],[0.5555555555555556,\"#d8576b\"],[0.6666666666666666,\"#ed7953\"],[0.7777777777777778,\"#fb9f3a\"],[0.8888888888888888,\"#fdca26\"],[1.0,\"#f0f921\"]]}],\"mesh3d\":[{\"type\":\"mesh3d\",\"colorbar\":{\"outlinewidth\":0,\"ticks\":\"\"}}],\"scatter\":[{\"fillpattern\":{\"fillmode\":\"overlay\",\"size\":10,\"solidity\":0.2},\"type\":\"scatter\"}],\"parcoords\":[{\"type\":\"parcoords\",\"line\":{\"colorbar\":{\"outlinewidth\":0,\"ticks\":\"\"}}}],\"scatterpolargl\":[{\"type\":\"scatterpolargl\",\"marker\":{\"colorbar\":{\"outlinewidth\":0,\"ticks\":\"\"}}}],\"bar\":[{\"error_x\":{\"color\":\"#2a3f5f\"},\"error_y\":{\"color\":\"#2a3f5f\"},\"marker\":{\"line\":{\"color\":\"#E5ECF6\",\"width\":0.5},\"pattern\":{\"fillmode\":\"overlay\",\"size\":10,\"solidity\":0.2}},\"type\":\"bar\"}],\"scattergeo\":[{\"type\":\"scattergeo\",\"marker\":{\"colorbar\":{\"outlinewidth\":0,\"ticks\":\"\"}}}],\"scatterpolar\":[{\"type\":\"scatterpolar\",\"marker\":{\"colorbar\":{\"outlinewidth\":0,\"ticks\":\"\"}}}],\"histogram\":[{\"marker\":{\"pattern\":{\"fillmode\":\"overlay\",\"size\":10,\"solidity\":0.2}},\"type\":\"histogram\"}],\"scattergl\":[{\"type\":\"scattergl\",\"marker\":{\"colorbar\":{\"outlinewidth\":0,\"ticks\":\"\"}}}],\"scatter3d\":[{\"type\":\"scatter3d\",\"line\":{\"colorbar\":{\"outlinewidth\":0,\"ticks\":\"\"}},\"marker\":{\"colorbar\":{\"outlinewidth\":0,\"ticks\":\"\"}}}],\"scattermapbox\":[{\"type\":\"scattermapbox\",\"marker\":{\"colorbar\":{\"outlinewidth\":0,\"ticks\":\"\"}}}],\"scatterternary\":[{\"type\":\"scatterternary\",\"marker\":{\"colorbar\":{\"outlinewidth\":0,\"ticks\":\"\"}}}],\"scattercarpet\":[{\"type\":\"scattercarpet\",\"marker\":{\"colorbar\":{\"outlinewidth\":0,\"ticks\":\"\"}}}],\"carpet\":[{\"aaxis\":{\"endlinecolor\":\"#2a3f5f\",\"gridcolor\":\"white\",\"linecolor\":\"white\",\"minorgridcolor\":\"white\",\"startlinecolor\":\"#2a3f5f\"},\"baxis\":{\"endlinecolor\":\"#2a3f5f\",\"gridcolor\":\"white\",\"linecolor\":\"white\",\"minorgridcolor\":\"white\",\"startlinecolor\":\"#2a3f5f\"},\"type\":\"carpet\"}],\"table\":[{\"cells\":{\"fill\":{\"color\":\"#EBF0F8\"},\"line\":{\"color\":\"white\"}},\"header\":{\"fill\":{\"color\":\"#C8D4E3\"},\"line\":{\"color\":\"white\"}},\"type\":\"table\"}],\"barpolar\":[{\"marker\":{\"line\":{\"color\":\"#E5ECF6\",\"width\":0.5},\"pattern\":{\"fillmode\":\"overlay\",\"size\":10,\"solidity\":0.2}},\"type\":\"barpolar\"}],\"pie\":[{\"automargin\":true,\"type\":\"pie\"}]},\"layout\":{\"autotypenumbers\":\"strict\",\"colorway\":[\"#636efa\",\"#EF553B\",\"#00cc96\",\"#ab63fa\",\"#FFA15A\",\"#19d3f3\",\"#FF6692\",\"#B6E880\",\"#FF97FF\",\"#FECB52\"],\"font\":{\"color\":\"#2a3f5f\"},\"hovermode\":\"closest\",\"hoverlabel\":{\"align\":\"left\"},\"paper_bgcolor\":\"white\",\"plot_bgcolor\":\"#E5ECF6\",\"polar\":{\"bgcolor\":\"#E5ECF6\",\"angularaxis\":{\"gridcolor\":\"white\",\"linecolor\":\"white\",\"ticks\":\"\"},\"radialaxis\":{\"gridcolor\":\"white\",\"linecolor\":\"white\",\"ticks\":\"\"}},\"ternary\":{\"bgcolor\":\"#E5ECF6\",\"aaxis\":{\"gridcolor\":\"white\",\"linecolor\":\"white\",\"ticks\":\"\"},\"baxis\":{\"gridcolor\":\"white\",\"linecolor\":\"white\",\"ticks\":\"\"},\"caxis\":{\"gridcolor\":\"white\",\"linecolor\":\"white\",\"ticks\":\"\"}},\"coloraxis\":{\"colorbar\":{\"outlinewidth\":0,\"ticks\":\"\"}},\"colorscale\":{\"sequential\":[[0.0,\"#0d0887\"],[0.1111111111111111,\"#46039f\"],[0.2222222222222222,\"#7201a8\"],[0.3333333333333333,\"#9c179e\"],[0.4444444444444444,\"#bd3786\"],[0.5555555555555556,\"#d8576b\"],[0.6666666666666666,\"#ed7953\"],[0.7777777777777778,\"#fb9f3a\"],[0.8888888888888888,\"#fdca26\"],[1.0,\"#f0f921\"]],\"sequentialminus\":[[0.0,\"#0d0887\"],[0.1111111111111111,\"#46039f\"],[0.2222222222222222,\"#7201a8\"],[0.3333333333333333,\"#9c179e\"],[0.4444444444444444,\"#bd3786\"],[0.5555555555555556,\"#d8576b\"],[0.6666666666666666,\"#ed7953\"],[0.7777777777777778,\"#fb9f3a\"],[0.8888888888888888,\"#fdca26\"],[1.0,\"#f0f921\"]],\"diverging\":[[0,\"#8e0152\"],[0.1,\"#c51b7d\"],[0.2,\"#de77ae\"],[0.3,\"#f1b6da\"],[0.4,\"#fde0ef\"],[0.5,\"#f7f7f7\"],[0.6,\"#e6f5d0\"],[0.7,\"#b8e186\"],[0.8,\"#7fbc41\"],[0.9,\"#4d9221\"],[1,\"#276419\"]]},\"xaxis\":{\"gridcolor\":\"white\",\"linecolor\":\"white\",\"ticks\":\"\",\"title\":{\"standoff\":15},\"zerolinecolor\":\"white\",\"automargin\":true,\"zerolinewidth\":2},\"yaxis\":{\"gridcolor\":\"white\",\"linecolor\":\"white\",\"ticks\":\"\",\"title\":{\"standoff\":15},\"zerolinecolor\":\"white\",\"automargin\":true,\"zerolinewidth\":2},\"scene\":{\"xaxis\":{\"backgroundcolor\":\"#E5ECF6\",\"gridcolor\":\"white\",\"linecolor\":\"white\",\"showbackground\":true,\"ticks\":\"\",\"zerolinecolor\":\"white\",\"gridwidth\":2},\"yaxis\":{\"backgroundcolor\":\"#E5ECF6\",\"gridcolor\":\"white\",\"linecolor\":\"white\",\"showbackground\":true,\"ticks\":\"\",\"zerolinecolor\":\"white\",\"gridwidth\":2},\"zaxis\":{\"backgroundcolor\":\"#E5ECF6\",\"gridcolor\":\"white\",\"linecolor\":\"white\",\"showbackground\":true,\"ticks\":\"\",\"zerolinecolor\":\"white\",\"gridwidth\":2}},\"shapedefaults\":{\"line\":{\"color\":\"#2a3f5f\"}},\"annotationdefaults\":{\"arrowcolor\":\"#2a3f5f\",\"arrowhead\":0,\"arrowwidth\":1},\"geo\":{\"bgcolor\":\"white\",\"landcolor\":\"#E5ECF6\",\"subunitcolor\":\"white\",\"showland\":true,\"showlakes\":true,\"lakecolor\":\"white\"},\"title\":{\"x\":0.05},\"mapbox\":{\"style\":\"light\"}}},\"geo\":{\"projection\":{\"type\":\"equirectangular\"},\"showframe\":false,\"showcoastlines\":false},\"title\":{\"text\":\"Bacteria Resistance to Ciprofloxacin\"},\"margin\":{\"t\":60,\"b\":10},\"height\":400},                        {\"responsive\": true}                    ).then(function(){\n",
              "                            \n",
              "var gd = document.getElementById('1bb75687-12e5-4fc1-bfb8-0a7e2a615f0d');\n",
              "var x = new MutationObserver(function (mutations, observer) {{\n",
              "        var display = window.getComputedStyle(gd).display;\n",
              "        if (!display || display === 'none') {{\n",
              "            console.log([gd, 'removed!']);\n",
              "            Plotly.purge(gd);\n",
              "            observer.disconnect();\n",
              "        }}\n",
              "}});\n",
              "\n",
              "// Listen for the removal of the full notebook cells\n",
              "var notebookContainer = gd.closest('#notebook-container');\n",
              "if (notebookContainer) {{\n",
              "    x.observe(notebookContainer, {childList: true});\n",
              "}}\n",
              "\n",
              "// Listen for the clearing of the current output cell\n",
              "var outputEl = gd.closest('.output');\n",
              "if (outputEl) {{\n",
              "    x.observe(outputEl, {childList: true});\n",
              "}}\n",
              "\n",
              "                        })                };                            </script>        </div>\n",
              "</body>\n",
              "</html>"
            ]
          },
          "metadata": {}
        },
        {
          "output_type": "display_data",
          "data": {
            "text/html": [
              "<html>\n",
              "<head><meta charset=\"utf-8\" /></head>\n",
              "<body>\n",
              "    <div>            <script src=\"https://cdnjs.cloudflare.com/ajax/libs/mathjax/2.7.5/MathJax.js?config=TeX-AMS-MML_SVG\"></script><script type=\"text/javascript\">if (window.MathJax && window.MathJax.Hub && window.MathJax.Hub.Config) {window.MathJax.Hub.Config({SVG: {font: \"STIX-Web\"}});}</script>                <script type=\"text/javascript\">window.PlotlyConfig = {MathJaxConfig: 'local'};</script>\n",
              "        <script charset=\"utf-8\" src=\"https://cdn.plot.ly/plotly-2.35.2.min.js\"></script>                <div id=\"78231569-ab40-43e5-8505-875b4e11d88f\" class=\"plotly-graph-div\" style=\"height:400px; width:100%;\"></div>            <script type=\"text/javascript\">                                    window.PLOTLYENV=window.PLOTLYENV || {};                                    if (document.getElementById(\"78231569-ab40-43e5-8505-875b4e11d88f\")) {                    Plotly.newPlot(                        \"78231569-ab40-43e5-8505-875b4e11d88f\",                        [{\"autocolorscale\":false,\"colorbar\":{\"title\":{\"text\":\"cfx_sr\"}},\"colorscale\":[[0.0,\"rgb(243, 203, 211)\"],[0.16666666666666666,\"rgb(234, 169, 189)\"],[0.3333333333333333,\"rgb(221, 136, 172)\"],[0.5,\"rgb(202, 105, 157)\"],[0.6666666666666666,\"rgb(177, 77, 142)\"],[0.8333333333333334,\"rgb(145, 53, 125)\"],[1.0,\"rgb(108, 33, 103)\"]],\"locations\":[\"AGO\",\"ARG\",\"ARM\",\"AUS\",\"BES\",\"BGR\",\"BLR\",\"BRA\",\"BTN\",\"CAN\",\"CHL\",\"CHN\",\"CIV\",\"CPV\",\"CUB\",\"DEU\",\"DNK\",\"ECU\",\"ESP\",\"EST\",\"FIN\",\"FRA\",\"GBR\",\"GIN\",\"GMB\",\"GNB\",\"GRC\",\"HKG\",\"HUN\",\"IDN\",\"IND\",\"ITA\",\"JAM\",\"JPN\",\"LTU\",\"MAR\",\"MYS\",\"NLD\",\"NOR\",\"NZL\",\"PAK\",\"PHL\",\"POL\",\"ROU\",\"RUS\",\"SAU\",\"SVK\",\"SVN\",\"SWE\",\"THA\",\"TUR\",\"TZA\",\"UGA\",\"USA\",\"VNM\",\"ZAF\"],\"marker\":{\"line\":{\"color\":\"black\",\"width\":0.5}},\"reversescale\":false,\"z\":[0.0,0.0,0.0,0.0,0.0,0.0,0.0,0.0,0.0,0.0,0.0,0.0,0.0,0.0,0.0,0.0,0.0,0.0,0.07692307692307693,0.0,0.0,0.3333333333333333,0.0,0.0,0.0,0.0,0.0,0.0,0.0,0.0,0.0,0.0,0.0,0.04,0.0,0.0,0.0,0.0,0.0,0.0,0.0,0.0,0.0,0.0,0.0,0.0,0.0,0.0,0.0,0.0,0.0,0.0,0.0,0.0,0.0,0.0],\"type\":\"choropleth\"}],                        {\"template\":{\"data\":{\"histogram2dcontour\":[{\"type\":\"histogram2dcontour\",\"colorbar\":{\"outlinewidth\":0,\"ticks\":\"\"},\"colorscale\":[[0.0,\"#0d0887\"],[0.1111111111111111,\"#46039f\"],[0.2222222222222222,\"#7201a8\"],[0.3333333333333333,\"#9c179e\"],[0.4444444444444444,\"#bd3786\"],[0.5555555555555556,\"#d8576b\"],[0.6666666666666666,\"#ed7953\"],[0.7777777777777778,\"#fb9f3a\"],[0.8888888888888888,\"#fdca26\"],[1.0,\"#f0f921\"]]}],\"choropleth\":[{\"type\":\"choropleth\",\"colorbar\":{\"outlinewidth\":0,\"ticks\":\"\"}}],\"histogram2d\":[{\"type\":\"histogram2d\",\"colorbar\":{\"outlinewidth\":0,\"ticks\":\"\"},\"colorscale\":[[0.0,\"#0d0887\"],[0.1111111111111111,\"#46039f\"],[0.2222222222222222,\"#7201a8\"],[0.3333333333333333,\"#9c179e\"],[0.4444444444444444,\"#bd3786\"],[0.5555555555555556,\"#d8576b\"],[0.6666666666666666,\"#ed7953\"],[0.7777777777777778,\"#fb9f3a\"],[0.8888888888888888,\"#fdca26\"],[1.0,\"#f0f921\"]]}],\"heatmap\":[{\"type\":\"heatmap\",\"colorbar\":{\"outlinewidth\":0,\"ticks\":\"\"},\"colorscale\":[[0.0,\"#0d0887\"],[0.1111111111111111,\"#46039f\"],[0.2222222222222222,\"#7201a8\"],[0.3333333333333333,\"#9c179e\"],[0.4444444444444444,\"#bd3786\"],[0.5555555555555556,\"#d8576b\"],[0.6666666666666666,\"#ed7953\"],[0.7777777777777778,\"#fb9f3a\"],[0.8888888888888888,\"#fdca26\"],[1.0,\"#f0f921\"]]}],\"heatmapgl\":[{\"type\":\"heatmapgl\",\"colorbar\":{\"outlinewidth\":0,\"ticks\":\"\"},\"colorscale\":[[0.0,\"#0d0887\"],[0.1111111111111111,\"#46039f\"],[0.2222222222222222,\"#7201a8\"],[0.3333333333333333,\"#9c179e\"],[0.4444444444444444,\"#bd3786\"],[0.5555555555555556,\"#d8576b\"],[0.6666666666666666,\"#ed7953\"],[0.7777777777777778,\"#fb9f3a\"],[0.8888888888888888,\"#fdca26\"],[1.0,\"#f0f921\"]]}],\"contourcarpet\":[{\"type\":\"contourcarpet\",\"colorbar\":{\"outlinewidth\":0,\"ticks\":\"\"}}],\"contour\":[{\"type\":\"contour\",\"colorbar\":{\"outlinewidth\":0,\"ticks\":\"\"},\"colorscale\":[[0.0,\"#0d0887\"],[0.1111111111111111,\"#46039f\"],[0.2222222222222222,\"#7201a8\"],[0.3333333333333333,\"#9c179e\"],[0.4444444444444444,\"#bd3786\"],[0.5555555555555556,\"#d8576b\"],[0.6666666666666666,\"#ed7953\"],[0.7777777777777778,\"#fb9f3a\"],[0.8888888888888888,\"#fdca26\"],[1.0,\"#f0f921\"]]}],\"surface\":[{\"type\":\"surface\",\"colorbar\":{\"outlinewidth\":0,\"ticks\":\"\"},\"colorscale\":[[0.0,\"#0d0887\"],[0.1111111111111111,\"#46039f\"],[0.2222222222222222,\"#7201a8\"],[0.3333333333333333,\"#9c179e\"],[0.4444444444444444,\"#bd3786\"],[0.5555555555555556,\"#d8576b\"],[0.6666666666666666,\"#ed7953\"],[0.7777777777777778,\"#fb9f3a\"],[0.8888888888888888,\"#fdca26\"],[1.0,\"#f0f921\"]]}],\"mesh3d\":[{\"type\":\"mesh3d\",\"colorbar\":{\"outlinewidth\":0,\"ticks\":\"\"}}],\"scatter\":[{\"fillpattern\":{\"fillmode\":\"overlay\",\"size\":10,\"solidity\":0.2},\"type\":\"scatter\"}],\"parcoords\":[{\"type\":\"parcoords\",\"line\":{\"colorbar\":{\"outlinewidth\":0,\"ticks\":\"\"}}}],\"scatterpolargl\":[{\"type\":\"scatterpolargl\",\"marker\":{\"colorbar\":{\"outlinewidth\":0,\"ticks\":\"\"}}}],\"bar\":[{\"error_x\":{\"color\":\"#2a3f5f\"},\"error_y\":{\"color\":\"#2a3f5f\"},\"marker\":{\"line\":{\"color\":\"#E5ECF6\",\"width\":0.5},\"pattern\":{\"fillmode\":\"overlay\",\"size\":10,\"solidity\":0.2}},\"type\":\"bar\"}],\"scattergeo\":[{\"type\":\"scattergeo\",\"marker\":{\"colorbar\":{\"outlinewidth\":0,\"ticks\":\"\"}}}],\"scatterpolar\":[{\"type\":\"scatterpolar\",\"marker\":{\"colorbar\":{\"outlinewidth\":0,\"ticks\":\"\"}}}],\"histogram\":[{\"marker\":{\"pattern\":{\"fillmode\":\"overlay\",\"size\":10,\"solidity\":0.2}},\"type\":\"histogram\"}],\"scattergl\":[{\"type\":\"scattergl\",\"marker\":{\"colorbar\":{\"outlinewidth\":0,\"ticks\":\"\"}}}],\"scatter3d\":[{\"type\":\"scatter3d\",\"line\":{\"colorbar\":{\"outlinewidth\":0,\"ticks\":\"\"}},\"marker\":{\"colorbar\":{\"outlinewidth\":0,\"ticks\":\"\"}}}],\"scattermapbox\":[{\"type\":\"scattermapbox\",\"marker\":{\"colorbar\":{\"outlinewidth\":0,\"ticks\":\"\"}}}],\"scatterternary\":[{\"type\":\"scatterternary\",\"marker\":{\"colorbar\":{\"outlinewidth\":0,\"ticks\":\"\"}}}],\"scattercarpet\":[{\"type\":\"scattercarpet\",\"marker\":{\"colorbar\":{\"outlinewidth\":0,\"ticks\":\"\"}}}],\"carpet\":[{\"aaxis\":{\"endlinecolor\":\"#2a3f5f\",\"gridcolor\":\"white\",\"linecolor\":\"white\",\"minorgridcolor\":\"white\",\"startlinecolor\":\"#2a3f5f\"},\"baxis\":{\"endlinecolor\":\"#2a3f5f\",\"gridcolor\":\"white\",\"linecolor\":\"white\",\"minorgridcolor\":\"white\",\"startlinecolor\":\"#2a3f5f\"},\"type\":\"carpet\"}],\"table\":[{\"cells\":{\"fill\":{\"color\":\"#EBF0F8\"},\"line\":{\"color\":\"white\"}},\"header\":{\"fill\":{\"color\":\"#C8D4E3\"},\"line\":{\"color\":\"white\"}},\"type\":\"table\"}],\"barpolar\":[{\"marker\":{\"line\":{\"color\":\"#E5ECF6\",\"width\":0.5},\"pattern\":{\"fillmode\":\"overlay\",\"size\":10,\"solidity\":0.2}},\"type\":\"barpolar\"}],\"pie\":[{\"automargin\":true,\"type\":\"pie\"}]},\"layout\":{\"autotypenumbers\":\"strict\",\"colorway\":[\"#636efa\",\"#EF553B\",\"#00cc96\",\"#ab63fa\",\"#FFA15A\",\"#19d3f3\",\"#FF6692\",\"#B6E880\",\"#FF97FF\",\"#FECB52\"],\"font\":{\"color\":\"#2a3f5f\"},\"hovermode\":\"closest\",\"hoverlabel\":{\"align\":\"left\"},\"paper_bgcolor\":\"white\",\"plot_bgcolor\":\"#E5ECF6\",\"polar\":{\"bgcolor\":\"#E5ECF6\",\"angularaxis\":{\"gridcolor\":\"white\",\"linecolor\":\"white\",\"ticks\":\"\"},\"radialaxis\":{\"gridcolor\":\"white\",\"linecolor\":\"white\",\"ticks\":\"\"}},\"ternary\":{\"bgcolor\":\"#E5ECF6\",\"aaxis\":{\"gridcolor\":\"white\",\"linecolor\":\"white\",\"ticks\":\"\"},\"baxis\":{\"gridcolor\":\"white\",\"linecolor\":\"white\",\"ticks\":\"\"},\"caxis\":{\"gridcolor\":\"white\",\"linecolor\":\"white\",\"ticks\":\"\"}},\"coloraxis\":{\"colorbar\":{\"outlinewidth\":0,\"ticks\":\"\"}},\"colorscale\":{\"sequential\":[[0.0,\"#0d0887\"],[0.1111111111111111,\"#46039f\"],[0.2222222222222222,\"#7201a8\"],[0.3333333333333333,\"#9c179e\"],[0.4444444444444444,\"#bd3786\"],[0.5555555555555556,\"#d8576b\"],[0.6666666666666666,\"#ed7953\"],[0.7777777777777778,\"#fb9f3a\"],[0.8888888888888888,\"#fdca26\"],[1.0,\"#f0f921\"]],\"sequentialminus\":[[0.0,\"#0d0887\"],[0.1111111111111111,\"#46039f\"],[0.2222222222222222,\"#7201a8\"],[0.3333333333333333,\"#9c179e\"],[0.4444444444444444,\"#bd3786\"],[0.5555555555555556,\"#d8576b\"],[0.6666666666666666,\"#ed7953\"],[0.7777777777777778,\"#fb9f3a\"],[0.8888888888888888,\"#fdca26\"],[1.0,\"#f0f921\"]],\"diverging\":[[0,\"#8e0152\"],[0.1,\"#c51b7d\"],[0.2,\"#de77ae\"],[0.3,\"#f1b6da\"],[0.4,\"#fde0ef\"],[0.5,\"#f7f7f7\"],[0.6,\"#e6f5d0\"],[0.7,\"#b8e186\"],[0.8,\"#7fbc41\"],[0.9,\"#4d9221\"],[1,\"#276419\"]]},\"xaxis\":{\"gridcolor\":\"white\",\"linecolor\":\"white\",\"ticks\":\"\",\"title\":{\"standoff\":15},\"zerolinecolor\":\"white\",\"automargin\":true,\"zerolinewidth\":2},\"yaxis\":{\"gridcolor\":\"white\",\"linecolor\":\"white\",\"ticks\":\"\",\"title\":{\"standoff\":15},\"zerolinecolor\":\"white\",\"automargin\":true,\"zerolinewidth\":2},\"scene\":{\"xaxis\":{\"backgroundcolor\":\"#E5ECF6\",\"gridcolor\":\"white\",\"linecolor\":\"white\",\"showbackground\":true,\"ticks\":\"\",\"zerolinecolor\":\"white\",\"gridwidth\":2},\"yaxis\":{\"backgroundcolor\":\"#E5ECF6\",\"gridcolor\":\"white\",\"linecolor\":\"white\",\"showbackground\":true,\"ticks\":\"\",\"zerolinecolor\":\"white\",\"gridwidth\":2},\"zaxis\":{\"backgroundcolor\":\"#E5ECF6\",\"gridcolor\":\"white\",\"linecolor\":\"white\",\"showbackground\":true,\"ticks\":\"\",\"zerolinecolor\":\"white\",\"gridwidth\":2}},\"shapedefaults\":{\"line\":{\"color\":\"#2a3f5f\"}},\"annotationdefaults\":{\"arrowcolor\":\"#2a3f5f\",\"arrowhead\":0,\"arrowwidth\":1},\"geo\":{\"bgcolor\":\"white\",\"landcolor\":\"#E5ECF6\",\"subunitcolor\":\"white\",\"showland\":true,\"showlakes\":true,\"lakecolor\":\"white\"},\"title\":{\"x\":0.05},\"mapbox\":{\"style\":\"light\"}}},\"geo\":{\"projection\":{\"type\":\"equirectangular\"},\"showframe\":false,\"showcoastlines\":false},\"title\":{\"text\":\"Bacteria Resistance to Cefixime\"},\"margin\":{\"t\":60,\"b\":10},\"height\":400},                        {\"responsive\": true}                    ).then(function(){\n",
              "                            \n",
              "var gd = document.getElementById('78231569-ab40-43e5-8505-875b4e11d88f');\n",
              "var x = new MutationObserver(function (mutations, observer) {{\n",
              "        var display = window.getComputedStyle(gd).display;\n",
              "        if (!display || display === 'none') {{\n",
              "            console.log([gd, 'removed!']);\n",
              "            Plotly.purge(gd);\n",
              "            observer.disconnect();\n",
              "        }}\n",
              "}});\n",
              "\n",
              "// Listen for the removal of the full notebook cells\n",
              "var notebookContainer = gd.closest('#notebook-container');\n",
              "if (notebookContainer) {{\n",
              "    x.observe(notebookContainer, {childList: true});\n",
              "}}\n",
              "\n",
              "// Listen for the clearing of the current output cell\n",
              "var outputEl = gd.closest('.output');\n",
              "if (outputEl) {{\n",
              "    x.observe(outputEl, {childList: true});\n",
              "}}\n",
              "\n",
              "                        })                };                            </script>        </div>\n",
              "</body>\n",
              "</html>"
            ]
          },
          "metadata": {}
        }
      ]
    },
    {
      "cell_type": "markdown",
      "source": [
        "## 4.3. MIC Values of All Samples\n",
        "\n",
        "* *MIC* : a measure of the *concentration of antibiotic* bacteria can tolerate before it impairs their growth.\n",
        "* We can definitely note a correlation to _mic features for antibiotic resistance in this graph alone:\n",
        "  * Only small quantities of Cefixime are required to impair bacterial growth.\n",
        "  * Compared to Azithromycin & Ciprofloxacin, which concentrate higher values of _mic as well\n",
        "  * Hinting that it's less effective or that the bacteria is tending to become more resistant to the antibiotic & larger quantities are required to affect its function."
      ],
      "metadata": {
        "id": "DPKF340S9CWV"
      },
      "id": "DPKF340S9CWV"
    },
    {
      "cell_type": "code",
      "source": [
        "def get_mic():\n",
        "\n",
        "    lst_cases = ['azm_mic','cip_mic','cfx_mic']\n",
        "    rtabs = ['azm_sr','cip_sr','cfx_sr']\n",
        "    lst_temp = []\n",
        "\n",
        "    ii=-1\n",
        "    for case in lst_cases:\n",
        "\n",
        "        ii+=1\n",
        "        case_id = get_unitigs(verbose=False)\n",
        "        case_id.get_case(rtabs[ii])\n",
        "\n",
        "        X_all = pd.concat([case_id.X,case_id.metadata],axis=1)\n",
        "\n",
        "        new_df = X_all[case].value_counts().rename_axis(case).reset_index(name='counts')\n",
        "        new_df = new_df.rename(columns={new_df.columns[0]: 'mic'})\n",
        "        new_df['case'] = case\n",
        "        lst_temp.append(new_df)\n",
        "\n",
        "    X_counts = pd.concat([lst_temp[0],lst_temp[1],lst_temp[2]],axis=0)\n",
        "    X_counts.sort_values(by='mic',inplace=True,ascending=True)\n",
        "    X_counts['mic'] = X_counts['mic'].astype(str)\n",
        "\n",
        "    fig = px.bar(X_counts, x='mic',y='counts',color='case')\n",
        "    fig.update_layout(template='plotly_white',height=300)\n",
        "    fig.show()"
      ],
      "metadata": {
        "id": "1zeFjrkA9vLZ"
      },
      "id": "1zeFjrkA9vLZ",
      "execution_count": 19,
      "outputs": []
    },
    {
      "cell_type": "code",
      "source": [
        "get_mic()"
      ],
      "metadata": {
        "colab": {
          "base_uri": "https://localhost:8080/",
          "height": 317
        },
        "id": "JCS---z69xWc",
        "outputId": "4d4b7b2b-62fb-45e2-d2de-70c9c86eabb5"
      },
      "id": "JCS---z69xWc",
      "execution_count": 20,
      "outputs": [
        {
          "output_type": "display_data",
          "data": {
            "text/html": [
              "<html>\n",
              "<head><meta charset=\"utf-8\" /></head>\n",
              "<body>\n",
              "    <div>            <script src=\"https://cdnjs.cloudflare.com/ajax/libs/mathjax/2.7.5/MathJax.js?config=TeX-AMS-MML_SVG\"></script><script type=\"text/javascript\">if (window.MathJax && window.MathJax.Hub && window.MathJax.Hub.Config) {window.MathJax.Hub.Config({SVG: {font: \"STIX-Web\"}});}</script>                <script type=\"text/javascript\">window.PlotlyConfig = {MathJaxConfig: 'local'};</script>\n",
              "        <script charset=\"utf-8\" src=\"https://cdn.plot.ly/plotly-2.35.2.min.js\"></script>                <div id=\"9ed2eeca-0d57-4105-98f9-2a9bbfc1d10e\" class=\"plotly-graph-div\" style=\"height:300px; width:100%;\"></div>            <script type=\"text/javascript\">                                    window.PLOTLYENV=window.PLOTLYENV || {};                                    if (document.getElementById(\"9ed2eeca-0d57-4105-98f9-2a9bbfc1d10e\")) {                    Plotly.newPlot(                        \"9ed2eeca-0d57-4105-98f9-2a9bbfc1d10e\",                        [{\"alignmentgroup\":\"True\",\"hovertemplate\":\"case=cfx_mic\\u003cbr\\u003emic=%{x}\\u003cbr\\u003ecounts=%{y}\\u003cextra\\u003e\\u003c\\u002fextra\\u003e\",\"legendgroup\":\"cfx_mic\",\"marker\":{\"color\":\"#636efa\",\"pattern\":{\"shape\":\"\"}},\"name\":\"cfx_mic\",\"offsetgroup\":\"cfx_mic\",\"orientation\":\"v\",\"showlegend\":true,\"textposition\":\"auto\",\"x\":[\"0.001\",\"0.002\",\"0.004\",\"0.007\",\"0.008\",\"0.015\",\"0.016\",\"0.023\",\"0.03\",\"0.032\",\"0.047\",\"0.06\",\"0.063\",\"0.064\",\"0.094\",\"0.12\",\"0.125\",\"0.19\",\"0.25\",\"0.38\",\"0.5\",\"0.75\",\"1.0\",\"2.0\",\"3.0\",\"4.0\",\"8.0\"],\"xaxis\":\"x\",\"y\":[2,25,104,10,433,332,917,105,324,147,78,181,42,48,45,30,195,30,307,5,30,1,5,1,1,2,1],\"yaxis\":\"y\",\"type\":\"bar\"},{\"alignmentgroup\":\"True\",\"hovertemplate\":\"case=cip_mic\\u003cbr\\u003emic=%{x}\\u003cbr\\u003ecounts=%{y}\\u003cextra\\u003e\\u003c\\u002fextra\\u003e\",\"legendgroup\":\"cip_mic\",\"marker\":{\"color\":\"#EF553B\",\"pattern\":{\"shape\":\"\"}},\"name\":\"cip_mic\",\"offsetgroup\":\"cip_mic\",\"orientation\":\"v\",\"showlegend\":true,\"textposition\":\"auto\",\"x\":[\"0.001\",\"0.002\",\"0.003\",\"0.004\",\"0.006\",\"0.007\",\"0.008\",\"0.012\",\"0.015\",\"0.016\",\"0.0169\",\"0.02\",\"0.023\",\"0.03\",\"0.032\",\"0.047\",\"0.06\",\"0.063\",\"0.064\",\"0.094\",\"0.12\",\"0.125\",\"0.19\",\"0.25\",\"0.38\",\"0.5\",\"0.75\",\"1.0\",\"1.5\",\"2.0\",\"3.0\",\"4.0\",\"6.0\",\"8.0\",\"12.0\",\"16.0\",\"24.0\",\"32.0\",\"64.0\"],\"xaxis\":\"x\",\"y\":[3,244,114,412,53,32,147,15,357,27,1,1,5,114,4,3,5,1,5,3,9,13,4,19,7,15,13,34,16,84,27,196,21,229,14,483,10,330,18],\"yaxis\":\"y\",\"type\":\"bar\"},{\"alignmentgroup\":\"True\",\"hovertemplate\":\"case=azm_mic\\u003cbr\\u003emic=%{x}\\u003cbr\\u003ecounts=%{y}\\u003cextra\\u003e\\u003c\\u002fextra\\u003e\",\"legendgroup\":\"azm_mic\",\"marker\":{\"color\":\"#00cc96\",\"pattern\":{\"shape\":\"\"}},\"name\":\"azm_mic\",\"offsetgroup\":\"azm_mic\",\"orientation\":\"v\",\"showlegend\":true,\"textposition\":\"auto\",\"x\":[\"0.004\",\"0.015\",\"0.016\",\"0.023\",\"0.03\",\"0.032\",\"0.047\",\"0.06\",\"0.063\",\"0.064\",\"0.094\",\"0.12\",\"0.125\",\"0.19\",\"0.25\",\"0.38\",\"0.5\",\"0.75\",\"1.0\",\"1.5\",\"2.0\",\"3.0\",\"4.0\",\"6.0\",\"8.0\",\"12.0\",\"16.0\",\"32.0\",\"256.0\",\"512.0\",\"1024.0\"],\"xaxis\":\"x\",\"y\":[1,1,41,14,88,51,57,107,24,66,73,110,297,97,698,80,697,60,277,6,186,3,92,1,151,3,89,3,1,101,3],\"yaxis\":\"y\",\"type\":\"bar\"}],                        {\"template\":{\"data\":{\"barpolar\":[{\"marker\":{\"line\":{\"color\":\"white\",\"width\":0.5},\"pattern\":{\"fillmode\":\"overlay\",\"size\":10,\"solidity\":0.2}},\"type\":\"barpolar\"}],\"bar\":[{\"error_x\":{\"color\":\"#2a3f5f\"},\"error_y\":{\"color\":\"#2a3f5f\"},\"marker\":{\"line\":{\"color\":\"white\",\"width\":0.5},\"pattern\":{\"fillmode\":\"overlay\",\"size\":10,\"solidity\":0.2}},\"type\":\"bar\"}],\"carpet\":[{\"aaxis\":{\"endlinecolor\":\"#2a3f5f\",\"gridcolor\":\"#C8D4E3\",\"linecolor\":\"#C8D4E3\",\"minorgridcolor\":\"#C8D4E3\",\"startlinecolor\":\"#2a3f5f\"},\"baxis\":{\"endlinecolor\":\"#2a3f5f\",\"gridcolor\":\"#C8D4E3\",\"linecolor\":\"#C8D4E3\",\"minorgridcolor\":\"#C8D4E3\",\"startlinecolor\":\"#2a3f5f\"},\"type\":\"carpet\"}],\"choropleth\":[{\"colorbar\":{\"outlinewidth\":0,\"ticks\":\"\"},\"type\":\"choropleth\"}],\"contourcarpet\":[{\"colorbar\":{\"outlinewidth\":0,\"ticks\":\"\"},\"type\":\"contourcarpet\"}],\"contour\":[{\"colorbar\":{\"outlinewidth\":0,\"ticks\":\"\"},\"colorscale\":[[0.0,\"#0d0887\"],[0.1111111111111111,\"#46039f\"],[0.2222222222222222,\"#7201a8\"],[0.3333333333333333,\"#9c179e\"],[0.4444444444444444,\"#bd3786\"],[0.5555555555555556,\"#d8576b\"],[0.6666666666666666,\"#ed7953\"],[0.7777777777777778,\"#fb9f3a\"],[0.8888888888888888,\"#fdca26\"],[1.0,\"#f0f921\"]],\"type\":\"contour\"}],\"heatmapgl\":[{\"colorbar\":{\"outlinewidth\":0,\"ticks\":\"\"},\"colorscale\":[[0.0,\"#0d0887\"],[0.1111111111111111,\"#46039f\"],[0.2222222222222222,\"#7201a8\"],[0.3333333333333333,\"#9c179e\"],[0.4444444444444444,\"#bd3786\"],[0.5555555555555556,\"#d8576b\"],[0.6666666666666666,\"#ed7953\"],[0.7777777777777778,\"#fb9f3a\"],[0.8888888888888888,\"#fdca26\"],[1.0,\"#f0f921\"]],\"type\":\"heatmapgl\"}],\"heatmap\":[{\"colorbar\":{\"outlinewidth\":0,\"ticks\":\"\"},\"colorscale\":[[0.0,\"#0d0887\"],[0.1111111111111111,\"#46039f\"],[0.2222222222222222,\"#7201a8\"],[0.3333333333333333,\"#9c179e\"],[0.4444444444444444,\"#bd3786\"],[0.5555555555555556,\"#d8576b\"],[0.6666666666666666,\"#ed7953\"],[0.7777777777777778,\"#fb9f3a\"],[0.8888888888888888,\"#fdca26\"],[1.0,\"#f0f921\"]],\"type\":\"heatmap\"}],\"histogram2dcontour\":[{\"colorbar\":{\"outlinewidth\":0,\"ticks\":\"\"},\"colorscale\":[[0.0,\"#0d0887\"],[0.1111111111111111,\"#46039f\"],[0.2222222222222222,\"#7201a8\"],[0.3333333333333333,\"#9c179e\"],[0.4444444444444444,\"#bd3786\"],[0.5555555555555556,\"#d8576b\"],[0.6666666666666666,\"#ed7953\"],[0.7777777777777778,\"#fb9f3a\"],[0.8888888888888888,\"#fdca26\"],[1.0,\"#f0f921\"]],\"type\":\"histogram2dcontour\"}],\"histogram2d\":[{\"colorbar\":{\"outlinewidth\":0,\"ticks\":\"\"},\"colorscale\":[[0.0,\"#0d0887\"],[0.1111111111111111,\"#46039f\"],[0.2222222222222222,\"#7201a8\"],[0.3333333333333333,\"#9c179e\"],[0.4444444444444444,\"#bd3786\"],[0.5555555555555556,\"#d8576b\"],[0.6666666666666666,\"#ed7953\"],[0.7777777777777778,\"#fb9f3a\"],[0.8888888888888888,\"#fdca26\"],[1.0,\"#f0f921\"]],\"type\":\"histogram2d\"}],\"histogram\":[{\"marker\":{\"pattern\":{\"fillmode\":\"overlay\",\"size\":10,\"solidity\":0.2}},\"type\":\"histogram\"}],\"mesh3d\":[{\"colorbar\":{\"outlinewidth\":0,\"ticks\":\"\"},\"type\":\"mesh3d\"}],\"parcoords\":[{\"line\":{\"colorbar\":{\"outlinewidth\":0,\"ticks\":\"\"}},\"type\":\"parcoords\"}],\"pie\":[{\"automargin\":true,\"type\":\"pie\"}],\"scatter3d\":[{\"line\":{\"colorbar\":{\"outlinewidth\":0,\"ticks\":\"\"}},\"marker\":{\"colorbar\":{\"outlinewidth\":0,\"ticks\":\"\"}},\"type\":\"scatter3d\"}],\"scattercarpet\":[{\"marker\":{\"colorbar\":{\"outlinewidth\":0,\"ticks\":\"\"}},\"type\":\"scattercarpet\"}],\"scattergeo\":[{\"marker\":{\"colorbar\":{\"outlinewidth\":0,\"ticks\":\"\"}},\"type\":\"scattergeo\"}],\"scattergl\":[{\"marker\":{\"colorbar\":{\"outlinewidth\":0,\"ticks\":\"\"}},\"type\":\"scattergl\"}],\"scattermapbox\":[{\"marker\":{\"colorbar\":{\"outlinewidth\":0,\"ticks\":\"\"}},\"type\":\"scattermapbox\"}],\"scatterpolargl\":[{\"marker\":{\"colorbar\":{\"outlinewidth\":0,\"ticks\":\"\"}},\"type\":\"scatterpolargl\"}],\"scatterpolar\":[{\"marker\":{\"colorbar\":{\"outlinewidth\":0,\"ticks\":\"\"}},\"type\":\"scatterpolar\"}],\"scatter\":[{\"fillpattern\":{\"fillmode\":\"overlay\",\"size\":10,\"solidity\":0.2},\"type\":\"scatter\"}],\"scatterternary\":[{\"marker\":{\"colorbar\":{\"outlinewidth\":0,\"ticks\":\"\"}},\"type\":\"scatterternary\"}],\"surface\":[{\"colorbar\":{\"outlinewidth\":0,\"ticks\":\"\"},\"colorscale\":[[0.0,\"#0d0887\"],[0.1111111111111111,\"#46039f\"],[0.2222222222222222,\"#7201a8\"],[0.3333333333333333,\"#9c179e\"],[0.4444444444444444,\"#bd3786\"],[0.5555555555555556,\"#d8576b\"],[0.6666666666666666,\"#ed7953\"],[0.7777777777777778,\"#fb9f3a\"],[0.8888888888888888,\"#fdca26\"],[1.0,\"#f0f921\"]],\"type\":\"surface\"}],\"table\":[{\"cells\":{\"fill\":{\"color\":\"#EBF0F8\"},\"line\":{\"color\":\"white\"}},\"header\":{\"fill\":{\"color\":\"#C8D4E3\"},\"line\":{\"color\":\"white\"}},\"type\":\"table\"}]},\"layout\":{\"annotationdefaults\":{\"arrowcolor\":\"#2a3f5f\",\"arrowhead\":0,\"arrowwidth\":1},\"autotypenumbers\":\"strict\",\"coloraxis\":{\"colorbar\":{\"outlinewidth\":0,\"ticks\":\"\"}},\"colorscale\":{\"diverging\":[[0,\"#8e0152\"],[0.1,\"#c51b7d\"],[0.2,\"#de77ae\"],[0.3,\"#f1b6da\"],[0.4,\"#fde0ef\"],[0.5,\"#f7f7f7\"],[0.6,\"#e6f5d0\"],[0.7,\"#b8e186\"],[0.8,\"#7fbc41\"],[0.9,\"#4d9221\"],[1,\"#276419\"]],\"sequential\":[[0.0,\"#0d0887\"],[0.1111111111111111,\"#46039f\"],[0.2222222222222222,\"#7201a8\"],[0.3333333333333333,\"#9c179e\"],[0.4444444444444444,\"#bd3786\"],[0.5555555555555556,\"#d8576b\"],[0.6666666666666666,\"#ed7953\"],[0.7777777777777778,\"#fb9f3a\"],[0.8888888888888888,\"#fdca26\"],[1.0,\"#f0f921\"]],\"sequentialminus\":[[0.0,\"#0d0887\"],[0.1111111111111111,\"#46039f\"],[0.2222222222222222,\"#7201a8\"],[0.3333333333333333,\"#9c179e\"],[0.4444444444444444,\"#bd3786\"],[0.5555555555555556,\"#d8576b\"],[0.6666666666666666,\"#ed7953\"],[0.7777777777777778,\"#fb9f3a\"],[0.8888888888888888,\"#fdca26\"],[1.0,\"#f0f921\"]]},\"colorway\":[\"#636efa\",\"#EF553B\",\"#00cc96\",\"#ab63fa\",\"#FFA15A\",\"#19d3f3\",\"#FF6692\",\"#B6E880\",\"#FF97FF\",\"#FECB52\"],\"font\":{\"color\":\"#2a3f5f\"},\"geo\":{\"bgcolor\":\"white\",\"lakecolor\":\"white\",\"landcolor\":\"white\",\"showlakes\":true,\"showland\":true,\"subunitcolor\":\"#C8D4E3\"},\"hoverlabel\":{\"align\":\"left\"},\"hovermode\":\"closest\",\"mapbox\":{\"style\":\"light\"},\"paper_bgcolor\":\"white\",\"plot_bgcolor\":\"white\",\"polar\":{\"angularaxis\":{\"gridcolor\":\"#EBF0F8\",\"linecolor\":\"#EBF0F8\",\"ticks\":\"\"},\"bgcolor\":\"white\",\"radialaxis\":{\"gridcolor\":\"#EBF0F8\",\"linecolor\":\"#EBF0F8\",\"ticks\":\"\"}},\"scene\":{\"xaxis\":{\"backgroundcolor\":\"white\",\"gridcolor\":\"#DFE8F3\",\"gridwidth\":2,\"linecolor\":\"#EBF0F8\",\"showbackground\":true,\"ticks\":\"\",\"zerolinecolor\":\"#EBF0F8\"},\"yaxis\":{\"backgroundcolor\":\"white\",\"gridcolor\":\"#DFE8F3\",\"gridwidth\":2,\"linecolor\":\"#EBF0F8\",\"showbackground\":true,\"ticks\":\"\",\"zerolinecolor\":\"#EBF0F8\"},\"zaxis\":{\"backgroundcolor\":\"white\",\"gridcolor\":\"#DFE8F3\",\"gridwidth\":2,\"linecolor\":\"#EBF0F8\",\"showbackground\":true,\"ticks\":\"\",\"zerolinecolor\":\"#EBF0F8\"}},\"shapedefaults\":{\"line\":{\"color\":\"#2a3f5f\"}},\"ternary\":{\"aaxis\":{\"gridcolor\":\"#DFE8F3\",\"linecolor\":\"#A2B1C6\",\"ticks\":\"\"},\"baxis\":{\"gridcolor\":\"#DFE8F3\",\"linecolor\":\"#A2B1C6\",\"ticks\":\"\"},\"bgcolor\":\"white\",\"caxis\":{\"gridcolor\":\"#DFE8F3\",\"linecolor\":\"#A2B1C6\",\"ticks\":\"\"}},\"title\":{\"x\":0.05},\"xaxis\":{\"automargin\":true,\"gridcolor\":\"#EBF0F8\",\"linecolor\":\"#EBF0F8\",\"ticks\":\"\",\"title\":{\"standoff\":15},\"zerolinecolor\":\"#EBF0F8\",\"zerolinewidth\":2},\"yaxis\":{\"automargin\":true,\"gridcolor\":\"#EBF0F8\",\"linecolor\":\"#EBF0F8\",\"ticks\":\"\",\"title\":{\"standoff\":15},\"zerolinecolor\":\"#EBF0F8\",\"zerolinewidth\":2}}},\"xaxis\":{\"anchor\":\"y\",\"domain\":[0.0,1.0],\"title\":{\"text\":\"mic\"}},\"yaxis\":{\"anchor\":\"x\",\"domain\":[0.0,1.0],\"title\":{\"text\":\"counts\"}},\"legend\":{\"title\":{\"text\":\"case\"},\"tracegroupgap\":0},\"margin\":{\"t\":60},\"barmode\":\"relative\",\"height\":300},                        {\"responsive\": true}                    ).then(function(){\n",
              "                            \n",
              "var gd = document.getElementById('9ed2eeca-0d57-4105-98f9-2a9bbfc1d10e');\n",
              "var x = new MutationObserver(function (mutations, observer) {{\n",
              "        var display = window.getComputedStyle(gd).display;\n",
              "        if (!display || display === 'none') {{\n",
              "            console.log([gd, 'removed!']);\n",
              "            Plotly.purge(gd);\n",
              "            observer.disconnect();\n",
              "        }}\n",
              "}});\n",
              "\n",
              "// Listen for the removal of the full notebook cells\n",
              "var notebookContainer = gd.closest('#notebook-container');\n",
              "if (notebookContainer) {{\n",
              "    x.observe(notebookContainer, {childList: true});\n",
              "}}\n",
              "\n",
              "// Listen for the clearing of the current output cell\n",
              "var outputEl = gd.closest('.output');\n",
              "if (outputEl) {{\n",
              "    x.observe(outputEl, {childList: true});\n",
              "}}\n",
              "\n",
              "                        })                };                            </script>        </div>\n",
              "</body>\n",
              "</html>"
            ]
          },
          "metadata": {}
        }
      ]
    },
    {
      "cell_type": "markdown",
      "source": [
        "## 4.4. UNITIG"
      ],
      "metadata": {
        "id": "3AMW7RYl92MR"
      },
      "id": "3AMW7RYl92MR"
    },
    {
      "cell_type": "markdown",
      "source": [
        "**UNIQUE VALUES OF ALL UNITIGS**\n",
        "\n",
        "All columns in the feature matrix .X, used for training contains only values for *present (1)* or not *present (0)* for each Sample_ID."
      ],
      "metadata": {
        "id": "VPd56-89-Zk7"
      },
      "id": "VPd56-89-Zk7"
    },
    {
      "cell_type": "code",
      "source": [
        "column_values = case.X[case.target_name].values.ravel()\n",
        "print(pd.unique(column_values))"
      ],
      "metadata": {
        "colab": {
          "base_uri": "https://localhost:8080/"
        },
        "id": "gdncwza7-HGx",
        "outputId": "371b74e5-3141-4eb3-a01f-9dd74bad3d4f"
      },
      "id": "gdncwza7-HGx",
      "execution_count": 21,
      "outputs": [
        {
          "output_type": "stream",
          "name": "stdout",
          "text": [
            "[0. 1.]\n"
          ]
        }
      ]
    },
    {
      "cell_type": "markdown",
      "source": [
        "**GROUPED UNITIGS**\n",
        "\n",
        "Some columns also contain multiple *unitigs* which we can note below as well, perhaps indicating that all grouped unitigs must be present in a given Sample_ID."
      ],
      "metadata": {
        "id": "ar_CeenU-Szv"
      },
      "id": "ar_CeenU-Szv"
    },
    {
      "cell_type": "code",
      "source": [
        "case_unitigs = case.X.columns.tolist()\n",
        "\n",
        "ii=-1\n",
        "for i in case_unitigs:\n",
        "    if(',' in i):\n",
        "        ii+=1;print(f'{ii} | {i}')"
      ],
      "metadata": {
        "colab": {
          "base_uri": "https://localhost:8080/"
        },
        "id": "pzvf0oNd-ljq",
        "outputId": "c58d1aa8-24d4-4999-8801-e6035eb11919"
      },
      "id": "pzvf0oNd-ljq",
      "execution_count": 22,
      "outputs": [
        {
          "output_type": "stream",
          "name": "stdout",
          "text": [
            "0 | TTCAACTCTTCATAAGCCAAAGTCTGAATCCTCTGATC,AACAGCTCCTTAACCTGCGTGCGGTACAGGCGTTCGGCGCAGGC\n",
            "1 | CTGTTTGTCTTTTTGGCGGGCGGTATGCTGA,CTGCATCCGGGGACATCCGTCGTAATCACCGCCCTGC\n",
            "2 | CGCACGACGGCGTTTTGCTGCCGCTCAGCTTTGAGAAGCAGG,AAGGTTCGATCAGGAAGCCGTTGACCTTGTCGGC\n",
            "3 | AAAACATCGGGGCGGTCATACCCGAATTGCGCCCCAAAGAA,TTCTCGACTGGGCAATTTTCCAGTGTCAATCCTTTGGTCTTGGTTTCCAACAGGTCTAGG\n",
            "4 | GATAAGGGCAAACATCTGCGCGGCTTTGCGTCCGGAATAATAATCGCGC,CATGAAGCCGTTTACCATTGCCAAAGCATTGGATTC\n",
            "5 | GCCGGTCAGCTTTGAAAAACAAGCGGTTGCGCCTAAAGGCAAGCGCGTCATCAAAGCCTCT,AATAGAGTCTGAGTTTGTTTATGTTCGGCACGGCGTTC\n",
            "6 | CAATACGCCCGCCTACGATCCCAACAGACCCGGC,GAGCGCGCCGACGGAGTCCCTGTTTGCCGTACCTAAAGAGATGAAGGAAATGCCGTCTGCC,CTCGATATTTTGAAGGCGTAAACAAGGTGGTCGGCTTTT,CAATATTGTGGACAGTTTGGATTCTCCGCGCAATAAAGCCCCGCAAAACG,ATTGGATGCGGGCAAAACCGATTTGAACGAACGGCTGAATACGCAGCCT,GCGGTCATACCCGAATTGCGCCCCAAAGAAACCAGC\n",
            "7 | ACTCCATGAAGAACTCAGGGAAGAACACGCCCGCCGCCCTGTCGGAA,TGCCGAACATAAACAAACTCAGACTCTATTCGATAC\n",
            "8 | CTACGATCCCAACAGACCCGGCCGGGCAGACAGCGA,AATGCCGTCTGCCGCCCAATTGGAACGCCTGTCCGAGCTT,GGCGTAACCGCGCCGTAACCGACATGATCGAACC,CAGGCTCAATTGCAGGCCGTAACCGAAAGACAT,GATTTGAACGAACGGCTGAATACGCAGCCTTATAAAATCGGAC,ACAAAAGTATAGCGGATTAACAAAAATCAGGAC\n",
            "9 | GCCTGCGCGGGGGAATACCCCTCCAAACCCTCGCCC,TTGAATATGCGTTTGCCTTGCGGCGCAACCGCCTG\n",
            "10 | TGCAATTGGCGCGTGCCTATACTGTCTTGACCCATGACGG,CCATCCCTTTGCCTTTGTGCATATGGAAGGCAC,ATCTTTGGCAATCGCATAACTTGCATTCCCCATCAG\n",
            "11 | TCCCAACAGACCCGGCCGGGCAGACAGCGAACAG,GACGGTTTCTTTATTTGATTTGAACGGAAAAACCAT,CGTCAAAGACGCCAACGACGCCGGCACCAAAATCGACAC,CCATCAAAACCGCCATCAGTTTTCCGCTCATCGGA,CCAAGCCACGTCGGCATTCGGTTTCGAGCCGATGTCCA,TTCAGGCTGCCGCCCATAATTTTTTTGAAGGGC\n"
          ]
        }
      ]
    },
    {
      "cell_type": "markdown",
      "source": [
        "This output shows that some columns represent combined groups of multiple unitigs, and a value of 1 means that all those unitigs are present together in the sample."
      ],
      "metadata": {
        "id": "MLdpIizz_GQP"
      },
      "id": "MLdpIizz_GQP"
    },
    {
      "cell_type": "markdown",
      "source": [
        "**WORKING WITH SEQUENCES**\n",
        "\n",
        "* Unitigs are composed of **nucleotides**, which means we can use the SQ() class.\n",
        "* Alternatively, we can use the **BioPython** module as well, storing the sequence data in Seq instances."
      ],
      "metadata": {
        "id": "PP2PkvraAlkY"
      },
      "id": "PP2PkvraAlkY"
    },
    {
      "cell_type": "code",
      "source": [
        "# Using SQ() Class we can define sequences\n",
        "\n",
        "lst_SQ = []\n",
        "for unitig in case_unitigs:\n",
        "    pass\n",
        "# lst_SQ.append(SQ(unitig,'DNA'))\n",
        "\n",
        "# print(type(lst_SQ[4]))\n",
        "\n",
        "# Using BioPython we can define sequences\n",
        "\n",
        "lst_bSQ = []\n",
        "for unitig in case_unitigs:\n",
        "    lst_bSQ.append(Seq(unitig))\n",
        "\n",
        "print(type(lst_bSQ[4]))"
      ],
      "metadata": {
        "colab": {
          "base_uri": "https://localhost:8080/"
        },
        "id": "AmKOD8AoAy2t",
        "outputId": "4e5b9c02-12b4-4d6e-a3ed-fb46316d9a2d"
      },
      "id": "AmKOD8AoAy2t",
      "execution_count": 23,
      "outputs": [
        {
          "output_type": "stream",
          "name": "stdout",
          "text": [
            "<class 'Bio.Seq.Seq'>\n"
          ]
        }
      ]
    },
    {
      "cell_type": "markdown",
      "source": [
        "# 5.CREATING RESISTANCE MODELS"
      ],
      "metadata": {
        "id": "6iZ5xteVGcJd"
      },
      "id": "6iZ5xteVGcJd"
    },
    {
      "cell_type": "markdown",
      "source": [
        "## 5.1. LIST OF TUPLE MODELS\n",
        "\n",
        "**ADDING MODELS TO LIST models**\n",
        "\n",
        "* We define a list of tuples from which we can access the case (Model Name, Model Instance & CV Parameters) & use them in the evaluation class.\n",
        "* A dictionary contaning CV Parameters (third term) is only required when calling `.gscv()`"
      ],
      "metadata": {
        "id": "n83EZ-tQGfYV"
      },
      "id": "n83EZ-tQGfYV"
    },
    {
      "cell_type": "code",
      "source": [
        "# models use in kfold\n",
        "models = []\n",
        "models.append(\n",
        "    ('LDA', LinearDiscriminantAnalysis()))\n",
        "\n",
        "# models use in gscv\n",
        "cv_lda = {'solver':\n",
        "              ['svd', 'lsqr', 'eigen']}\n",
        "\n",
        "models = []\n",
        "models.append(\n",
        "    ('LDA', LinearDiscriminantAnalysis(),cv_lda))"
      ],
      "metadata": {
        "id": "uO2cNf5QH2bR"
      },
      "id": "uO2cNf5QH2bR",
      "execution_count": 24,
      "outputs": []
    },
    {
      "cell_type": "markdown",
      "source": [
        "## 5.2. MODEL EVALUATION CLASS\n",
        "\n",
        "**CLASS INSTANCE INPUTS**\n",
        "\n",
        "* We'll define a class, class_eval that will be used for evaluation purposes.\n",
        "* We can instantiate class_eval having defined:\n",
        "  * *Data/Case Class* containing feature & target vector (get_unitifs or mod_unitigs)\n",
        "  * *List of models* (containing tuples)\n",
        "  * *nfold* (number of kfold splits)\n",
        "  * *gsfold* (number of gridsearch folds)\n",
        "\n",
        "**EVALUATION OPTIONS**\n",
        "\n",
        "Using the self.models defined during instantiation:\n",
        "\n",
        "  * `.cv(type_id)` : kfold Cross validation is done with the selected model(s) with the set hyperparameters.\n",
        "  * `.gscv(type_id)` : kfold cross validation but with Grid Search, best mean balanced_accuracy score hyperparamers used for fitting on whole kfold subset.\n",
        "\n",
        "Both functions require kfold type input type_id: Standard (kfold) / Stratified (skfold)\n",
        "\n",
        "**gscv**\n",
        "\n",
        "For all input models, defined with grid-search hyperparameters (third term):\n",
        "\n",
        "  We split the dataset into nfold groups containing both training & test data\n",
        "  For each train segment data, we use GridSearchCV to find the best scoring model using the provided parameter dictionary.\n",
        "  Using the best scoring model on the training set, we evaluate both training & test scoring using the evaluation metric.\n",
        "  For outputs, we recall the best scoring hyperparameters & confusion matrix for each fold.\n",
        "\n",
        "**cv**\n",
        "\n",
        "For all input models:\n",
        "\n",
        "  * We split the dataset into nfold groups containing both training & test data\n",
        "  * For each nfold, we have a training & test set. On this data we evaluate our model w/ predefined hyperparameters.\n",
        "  * Results for each fold are stored in .dic_tr & .dic_te which can be visualised by calling .fold_plot()\n",
        "\n",
        "**EVALUATION METRIC**\n",
        "\n",
        "* As we saw in Section 2&3, the *target variable* in our binary classification problem can be very one sided\n",
        "* Let's use *balanced_accuracy*, which is suitable for imbalanced class problems."
      ],
      "metadata": {
        "id": "4BN4y3fjH4i5"
      },
      "id": "4BN4y3fjH4i5"
    },
    {
      "cell_type": "code",
      "source": [
        "class class_eval():\n",
        "\n",
        "    def __init__(self,data=None,models=None,nfold = 4,\n",
        "                 gsfold=3, verbose=True,\n",
        "                 shuffle_id=False,random_state=22):\n",
        "\n",
        "        self.shuffle = shuffle_id\n",
        "\n",
        "        if(self.shuffle is False):\n",
        "            self.rs = None\n",
        "        else:\n",
        "            self.rs = random_state # random state\n",
        "\n",
        "        if(data is not None):\n",
        "            X_all = data.X\n",
        "            self.y = data.X[data.target_name].copy()\n",
        "            self.X = data.X.drop([data.target_name],axis=1).copy()\n",
        "        else:\n",
        "            print('input case data')\n",
        "\n",
        "        self.models = models # Tuple /w (name,model)\n",
        "        self.nfold = nfold       # number of cross validation folds\n",
        "        self.gsfold = gsfold    # number of grid search folds in every fold\n",
        "        self.target_name = data.target_name  # target name\n",
        "\n",
        "    ''' Grid-Search Standard Kfold Cross Validation '''\n",
        "    # For each fold, a grid search cv is applied to find best params\n",
        "\n",
        "    def gscv(self,type_id='kfold'):\n",
        "\n",
        "        self.store_models = {} # Store models of Kfolds\n",
        "        self.dic_tr = {}\n",
        "        self.dic_te = {}\n",
        "\n",
        "        for model in self.models:\n",
        "\n",
        "            if(type_id is 'skfold'):\n",
        "                kfold = StratifiedKFold(n_splits=self.nfold,\n",
        "                                        shuffle=self.shuffle,\n",
        "                                        random_state=self.rs)\n",
        "            elif(type_id is 'kfold'):\n",
        "                kfold = KFold(n_splits=self.nfold,\n",
        "                              shuffle=self.shuffle,\n",
        "                              random_state=self.rs)\n",
        "\n",
        "            lst_temp = []; lst_temp2 = []; kfold_id = -1\n",
        "            for train_index, test_index in kfold.split(self.X,self.y):\n",
        "\n",
        "                kfold_id+=1;print(f'\\nkfold {kfold_id}')\n",
        "                # split data into train/test sets\n",
        "                X_train = self.X.iloc[train_index]\n",
        "                y_train = self.y[train_index]\n",
        "                X_test = self.X.iloc[test_index]\n",
        "                y_test = self.y[test_index]\n",
        "\n",
        "                # perform grid search to identify best hyper-parameters\n",
        "                gs_clf = GridSearchCV(model[1], param_grid=model[2],\n",
        "                                      cv=self.gsfold, n_jobs=1,\n",
        "                                      scoring='balanced_accuracy')\n",
        "\n",
        "                # Train using the best model\n",
        "                gs_clf.fit(X_train, y_train)\n",
        "                best_model = gs_clf.best_estimator_ # best cv model\n",
        "                self.store_models[f'GS_{model[0]}_{kfold_id}'] = best_model\n",
        "\n",
        "                # Predict using best model\n",
        "                ym_tr = gs_clf.predict(X_train)\n",
        "                ym_te = gs_clf.predict(X_test)\n",
        "                score_tr = balanced_accuracy_score(y_train,ym_tr)\n",
        "                score_te = balanced_accuracy_score(y_test,ym_te)\n",
        "                lst_temp.append(score_tr); lst_temp2.append(score_te)\n",
        "\n",
        "                print(f'Train Score: {round(score_tr,4)} - Test Score: {round(score_te,4)}')\n",
        "                print('Best hyperparameters for this fold')\n",
        "                print(gs_clf.best_params_)\n",
        "                print(f\"Test : Confusion matrix Fold {kfold_id}\")\n",
        "                print(confusion_matrix(y_test, ym_te))\n",
        "\n",
        "            self.dic_tr[model[0]] = lst_temp\n",
        "            self.dic_te[model[0]] = lst_temp2\n",
        "            test_mean = round(sum(lst_temp2)/len(lst_temp2),4)\n",
        "            print(f'\\n {model[0]} - Test Mean Score: {test_mean}')\n",
        "\n",
        "    '''K-Fold Cross Validation'''\n",
        "    # w/ type_id option; statified used to make sure classes are balanced in folds\n",
        "\n",
        "    def cv(self,type_id='kfold'):\n",
        "\n",
        "        print(f'type_id set to: {type_id}')\n",
        "        self.store_models = {} # Store models of Kfolds\n",
        "        self.dic_tr = {}\n",
        "        self.dic_te = {}\n",
        "\n",
        "        # Cycle though all tuple model settings\n",
        "        for model in self.models:\n",
        "\n",
        "            t0 = time.time()\n",
        "            if(type_id is 'skfold'):\n",
        "                kfold = StratifiedKFold(n_splits=self.nfold,\n",
        "                                        shuffle=self.shuffle,\n",
        "                                        random_state=self.rs)\n",
        "            elif(type_id is 'kfold'):\n",
        "                kfold = KFold(n_splits=self.nfold,\n",
        "                              shuffle=self.shuffle,\n",
        "                              random_state=self.rs)\n",
        "\n",
        "            lst_temp = []; lst_temp2 = []; kfold_id = -1\n",
        "            for train_index, test_index in kfold.split(self.X,self.y):\n",
        "\n",
        "                kfold_id+=1\n",
        "                # split data into train/test sets\n",
        "                X_train = self.X.iloc[train_index]\n",
        "                y_train = self.y[train_index]\n",
        "                X_test = self.X.iloc[test_index]\n",
        "                y_test = self.y[test_index]\n",
        "\n",
        "                # Fit, Stopre & Predict Kfold models\n",
        "                model[1].fit(X_train, y_train)\n",
        "                self.store_models[f'{model[0]}_{kfold_id}'] = model[1]\n",
        "                ym_tr = model[1].predict(X_train)\n",
        "                ym_te = model[1].predict(X_test)\n",
        "\n",
        "                score_tr = balanced_accuracy_score(y_train,ym_tr)\n",
        "                score_te = balanced_accuracy_score(y_test,ym_te)\n",
        "                lst_temp.append(score_tr); lst_temp2.append(score_te)\n",
        "\n",
        "            self.dic_tr[model[0]] = lst_temp\n",
        "            self.dic_te[model[0]] = lst_temp2\n",
        "            test_mean = round(sum(lst_temp2)/len(lst_temp2),4)\n",
        "            print(f'{model[0]} - Test Mean Score: {test_mean} - Total Time: {round(time.time() - t0,4)}')\n",
        "\n",
        "    ''' unitig visual functions only '''\n",
        "\n",
        "    def col_trans(self,sel_id=0):\n",
        "\n",
        "        # unitig to abrev\n",
        "        if(sel_id is 0):\n",
        "            self.X_names = self.X.columns.tolist()\n",
        "            temp_names = self.X_names.copy()\n",
        "\n",
        "            unitigs = self.X_names.copy()\n",
        "            del unitigs[-1]\n",
        "\n",
        "            lst_abr = []\n",
        "            ii=-1\n",
        "            for unitig in range(0,len(unitigs)):\n",
        "                ii+=1;lst_abr.append(f'u{ii}')\n",
        "            lst_abr.append(self.target_name)\n",
        "            self.X.columns = lst_abr\n",
        "            self.dicabr = dict(zip(lst_abr,self.X_names))\n",
        "\n",
        "        # abreb to unitig\n",
        "        elif(sel_id is 1):\n",
        "            self.X.columns = self.X_names\n",
        "\n",
        "    ''' PLOT KFOLD RESULTS '''\n",
        "\n",
        "    def fold_plot(self):\n",
        "\n",
        "        df_tr = pd.DataFrame(self.dic_tr)\n",
        "        df_te = pd.DataFrame(self.dic_te)\n",
        "\n",
        "        # Make Plots\n",
        "        fig,ax = plt.subplots(2,2,figsize=(14,6))\n",
        "        sns.stripplot(data=df_tr, orient='h',linewidth=1,ax=ax[0,0])\n",
        "        sns.heatmap(data=df_tr,annot=True,cbar=False,cmap=\"plasma_r\",\n",
        "                    vmax=1,vmin=0.5,ax=ax[0,1])\n",
        "        sns.stripplot(data=df_te, orient='h',linewidth=1,ax=ax[1,0])\n",
        "        sns.heatmap(data=df_te,annot=True,cbar=False,cmap=\"plasma_r\",\n",
        "                    vmax=1,vmin=0.5,fmt='.3g',ax=ax[1,1])\n",
        "        ax[0,0].set_xlim([0.5,1.1]);ax[1,0].set_xlim([0.5,1.1])\n",
        "        ax[0,0].set_title('train kfold')\n",
        "        ax[0,1].set_title('train kfold heatmap')\n",
        "        ax[1,0].set_title('test kfold')\n",
        "        ax[1,1].set_title('test kfold heatmap')\n",
        "        sns.despine(bottom=True, left=True)\n",
        "        plt.tight_layout()"
      ],
      "metadata": {
        "id": "QLWYi43uQeuj"
      },
      "id": "QLWYi43uQeuj",
      "execution_count": 25,
      "outputs": []
    },
    {
      "cell_type": "markdown",
      "source": [
        "# 6.CIPROFLOXACIN Resistance Models"
      ],
      "metadata": {
        "id": "1eJHdMmMQ29f"
      },
      "id": "1eJHdMmMQ29f"
    },
    {
      "cell_type": "markdown",
      "source": [
        "## 6.1.Model Summary\n",
        "\n",
        "* *Kfold Resistance Models* - Set benchmark model scores, outline promising models, quite different models are chosen to see which approaches work best for this problem\n",
        "* *GridSearchCV Resistance Models* - As one of the more well performing models that has feature importance as well, Let's try to improve the CatBoost model accuracy & check how kfold models differ when it comes to feature importance\n",
        "* *SVC Based Resistance Models* - SVC offers feature importance similar to LinearRegression(), we'll be able to know which top features favours which particular classes in terms of weighting, so if we can make sure the model performs well, we'll have some more unique insight on top of the tree based approach, so we'll try to tune the model so its as accurate as it can be so we have more confidence in the result"
      ],
      "metadata": {
        "id": "eCdMlauiREOu"
      },
      "id": "eCdMlauiREOu"
    },
    {
      "cell_type": "markdown",
      "source": [
        "## 6.2 K-FOLD Resistance Models\n",
        "\n",
        "**CHOOSING MODELS FOR EVALUATION**\n",
        "\n",
        "* We add models we would like to use for cross validation both unsupervised & supervised learning models.\n",
        "* Hyperparameter selections are quite arbitrary, tree based methods use n_estimators = 10, which doesn't seem like a bad place to start."
      ],
      "metadata": {
        "id": "FFdhHYzzRg01"
      },
      "id": "FFdhHYzzRg01"
    },
    {
      "cell_type": "code",
      "source": [
        "''' Define Models used for Testing '''\n",
        "models = []\n",
        "n_est = 10\n",
        "\n",
        "# Unsupervised Learning Models\n",
        "models.append(('LDA', LinearDiscriminantAnalysis()))\n",
        "models.append(('KNN', KNeighborsClassifier()))\n",
        "models.append(('NB', GaussianNB()))\n",
        "\n",
        "# # Supervised Learning Models\n",
        "models.append(('SVC',SVC()))\n",
        "models.append(('TREE', DecisionTreeClassifier())) # Supervised Model\n",
        "models.append(('GBM', GradientBoostingClassifier(n_estimators=n_est)))\n",
        "\n",
        "# Desirable for Feature Importance Evaluation\n",
        "models.append(('XGB',XGBClassifier(n_estimators=n_est,verbosity = 0)))\n",
        "models.append(('CAT',CatBoostClassifier(silent=True,n_estimators=n_est)))\n",
        "models.append(('RF', RandomForestClassifier(n_estimators=n_est)))"
      ],
      "metadata": {
        "id": "9ygg-WNgR42r"
      },
      "id": "9ygg-WNgR42r",
      "execution_count": 26,
      "outputs": []
    },
    {
      "cell_type": "markdown",
      "source": [
        "**CASE INPUT**\n",
        "\n",
        "* Using the unmodified feature matrix of `get_unitigs().get_case()`\n",
        "* Using a standard 4-fold cross validation strategy, let's see how well the models perfom on each fold."
      ],
      "metadata": {
        "id": "V67-Rq6HU6-u"
      },
      "id": "V67-Rq6HU6-u"
    },
    {
      "cell_type": "code",
      "source": [
        "# Get case; (Dataset Feature Class)\n",
        "case = get_unitigs()\n",
        "case.get_case('cip_sr')\n",
        "\n",
        "# Standard KFOLD evaluation\n",
        "eval1 = class_eval(data=case, # input the case class\n",
        "                   nfold = 4, # 4 fold kfold\n",
        "                   models=models) # global models tuple list)\n",
        "\n",
        "# Evaluate kfold using selected models\n",
        "eval1.cv(type_id='kfold')  # standard kfold evaluation"
      ],
      "metadata": {
        "colab": {
          "base_uri": "https://localhost:8080/"
        },
        "id": "T-TCG45nWZzs",
        "outputId": "8e41e752-51b8-48bd-c6fe-275c31873609"
      },
      "id": "T-TCG45nWZzs",
      "execution_count": 27,
      "outputs": [
        {
          "output_type": "stream",
          "name": "stdout",
          "text": [
            "Target Antibiotic: cip_sr\n",
            "Metadata df: (3786, 30)\n",
            "Metadata df after na() removal (3088, 30)\n",
            "\n",
            "Combining Metadata & Unitigs\n",
            "Unitig Matrix (+target): (3088, 8874)\n",
            "type_id set to: kfold\n",
            "LDA - Test Mean Score: 0.6707 - Total Time: 42.8446\n",
            "KNN - Test Mean Score: 0.948 - Total Time: 7.85\n",
            "NB - Test Mean Score: 0.8172 - Total Time: 3.8254\n",
            "SVC - Test Mean Score: 0.9473 - Total Time: 79.577\n",
            "TREE - Test Mean Score: 0.948 - Total Time: 4.6413\n",
            "GBM - Test Mean Score: 0.9607 - Total Time: 10.6554\n",
            "XGB - Test Mean Score: 0.9661 - Total Time: 31.5955\n",
            "CAT - Test Mean Score: 0.9694 - Total Time: 8.7408\n",
            "RF - Test Mean Score: 0.9448 - Total Time: 1.5039\n"
          ]
        }
      ]
    },
    {
      "cell_type": "code",
      "source": [
        "eval1.fold_plot()  # plot kfold results"
      ],
      "metadata": {
        "colab": {
          "base_uri": "https://localhost:8080/",
          "height": 501
        },
        "id": "cxBSWZWxXWxl",
        "outputId": "107141d9-e105-4653-e20d-f26a829570b2"
      },
      "id": "cxBSWZWxXWxl",
      "execution_count": 28,
      "outputs": [
        {
          "output_type": "display_data",
          "data": {
            "text/plain": [
              "<Figure size 1400x600 with 4 Axes>"
            ],
            "image/png": "[encoded data removed]"
          },
          "metadata": {}
        }
      ]
    },
    {
      "cell_type": "markdown",
      "source": [
        "For predicting ciprofloxacin resistance, the most reliable and consistent models are CatBoost (CAT), XGBoost (XGB), Gradient Boosting (GBM), and Random Forest (RF), all showing high and stable performance across test folds. In contrast, LDA performs poorly with low and unstable test scores, making it unsuitable for this task. Models like Naive Bayes (NB) also show variance between folds, indicating a potential need for hyperparameter tuning or regularization to improve generalization."
      ],
      "metadata": {
        "id": "zZD9x4btYn6H"
      },
      "id": "zZD9x4btYn6H"
    },
    {
      "cell_type": "markdown",
      "source": [
        "**TREE BASED FEATURE IMPORTANCE**\n",
        "\n",
        "* Using *RandomForest*,*CatBoost*,*XGBRegressor* we have access to the model's relative feature importance\n",
        "* It's useful to compare the feature importance of multiple models together. We have over 8000 unitigs; let's pick the top 10 most influential.\n",
        "* The most critical unitigs to the determination of antibiotic resistance (according to the model) are saved in BioPython Seq format & can be used for further analyses."
      ],
      "metadata": {
        "id": "58xoygh3Yuhn"
      },
      "id": "58xoygh3Yuhn"
    },
    {
      "cell_type": "code",
      "source": [
        "''' Tree Based Feature Importance '''\n",
        "# requires evaluation class input w/ at least one of RF, CatBoost & XGB moedls\n",
        "# models stored in .store_models are required from eval class\n",
        "\n",
        "class fi:\n",
        "\n",
        "    def __init__(self,data=None, # evaluation class\n",
        "                      sort_by='RF', # show most important features\n",
        "                      max_features=10 # limit unitigs to\n",
        "                ):\n",
        "\n",
        "        if(data is None):\n",
        "            print('Enter Evaluation class w/ CAT,RF,XGB')\n",
        "        else:\n",
        "            evals = data\n",
        "            # check which models are present\n",
        "            lst_models = list(evals.store_models.keys())\n",
        "            temp = []\n",
        "            for i in lst_models:\n",
        "                if('CAT' in i):\n",
        "                    temp.append('CAT')\n",
        "                if('RF' in i):\n",
        "                    temp.append('RF')\n",
        "                if('XGB' in i):\n",
        "                    temp.append('XGB')\n",
        "\n",
        "            # input contains gscv data\n",
        "            if('GS' in lst_models[0]):\n",
        "                self.gs_id = True\n",
        "            else:\n",
        "                self.gs_id = False\n",
        "\n",
        "        self.lst_tree_models = list(set(temp))\n",
        "\n",
        "        self.evals = data  # evaluation class\n",
        "        self.lst_Seqs = []  # list of important unitigs\n",
        "        self.max_features = max_features # show top n features\n",
        "        self.sort_by = sort_by # sort by particualr model fi, other mods show this index only\n",
        "        self.abr_feat = False # activate if unitig names are too big for figure\n",
        "\n",
        "    # Compile all Tree based feature importance results\n",
        "    def get(self):\n",
        "\n",
        "        # USL scaling\n",
        "        min_max_scaler = preprocessing.MinMaxScaler()\n",
        "\n",
        "        # Recall Model & Get Feature Importance from data class\n",
        "        # unless gridsearched, all kfolds are the same model\n",
        "\n",
        "        ii=-1\n",
        "        # if randomforest models are present\n",
        "        if('RF' in self.lst_tree_models):\n",
        "\n",
        "            if(self.gs_id):\n",
        "\n",
        "                # fold names\n",
        "                tlst_models = [f'GS_RF_{i}' for i in range(0,self.evals.nfold)]\n",
        "\n",
        "                # stack all fold results\n",
        "                for kfold_id in tlst_models:\n",
        "                    ii+=1\n",
        "                    rf_model = self.evals.store_models[kfold_id]\n",
        "                    imp_rf = rf_model.feature_importances_\n",
        "                    rf_sc = min_max_scaler.fit_transform(imp_rf[:,None])\n",
        "                    ldf = pd.DataFrame(rf_sc,index=self.evals.X.columns,columns=[kfold_id])\n",
        "                    if(ii is 0):\n",
        "                        df = ldf.copy()\n",
        "                    else:\n",
        "                        df = pd.concat([df,ldf],axis=1)\n",
        "\n",
        "            else:\n",
        "\n",
        "                ii+=1\n",
        "                rf_model = self.evals.store_models['RF_1']\n",
        "                imp_rf = rf_model.feature_importances_\n",
        "                rf_sc = min_max_scaler.fit_transform(imp_rf[:,None])\n",
        "                ldf = pd.DataFrame(rf_sc,index=self.evals.X.columns,columns=['RF'])\n",
        "                if(ii is 0):\n",
        "                    df = ldf.copy()\n",
        "                else:\n",
        "                    df = pd.concat([df,ldf],axis=1)\n",
        "\n",
        "        # if catboost models are present\n",
        "        if('CAT' in self.lst_tree_models):\n",
        "\n",
        "            if(self.gs_id):\n",
        "\n",
        "                # fold names\n",
        "                tlst_models = [f'GS_CAT_{i}' for i in range(0,self.evals.nfold)]\n",
        "\n",
        "                # stack all fold results\n",
        "                for kfold_id in tlst_models:\n",
        "                    ii+=1\n",
        "                    cb_model = self.evals.store_models[kfold_id]\n",
        "                    imp_cb = cb_model.get_feature_importance()\n",
        "                    cb_sc = min_max_scaler.fit_transform(imp_cb[:,None])\n",
        "                    ldf = pd.DataFrame(cb_sc,index=self.evals.X.columns,columns=[kfold_id])\n",
        "                    if(ii is 0):\n",
        "                        df = ldf.copy()\n",
        "                    else:\n",
        "                        df = pd.concat([df,ldf],axis=1)\n",
        "\n",
        "            else:\n",
        "                ii+=1\n",
        "                cb_model = self.evals.store_models['CAT_1']\n",
        "                imp_cb = cb_model.get_feature_importance()\n",
        "                cb_sc = min_max_scaler.fit_transform(imp_cb[:,None])\n",
        "                ldf = pd.DataFrame(cb_sc,index=self.evals.X.columns,columns=['CB'])\n",
        "                if(ii is 0):\n",
        "                    df = ldf.copy()\n",
        "                else:\n",
        "                    df = pd.concat([df,ldf],axis=1)\n",
        "\n",
        "\n",
        "        if('XGB' in self.lst_tree_models):\n",
        "\n",
        "            if(self.gs_id):\n",
        "\n",
        "                # fold names\n",
        "                tlst_models = [f'GS_XGB_{i}' for i in range(0,self.evals.nfold)]\n",
        "\n",
        "                # stack all fold results\n",
        "                for kfold_id in tlst_models:\n",
        "                    ii+=1\n",
        "                    xg_model = self.evals.store_models[kfold_id]\n",
        "                    imp_xg = xg_model.feature_importances_\n",
        "                    xg_sc = min_max_scaler.fit_transform(imp_xg[:,None])\n",
        "                    ldf = pd.DataFrame(xg_sc,index=self.evals.X.columns,columns=[kfold_id])\n",
        "                    if(ii is 0):\n",
        "                        df = ldf.copy()\n",
        "                    else:\n",
        "                        df = pd.concat([df,ldf],axis=1)\n",
        "\n",
        "            else:\n",
        "\n",
        "                ii+=1\n",
        "                xg_model = self.evals.store_models['XGB_1']\n",
        "                imp_xg = xg_model.feature_importances_\n",
        "                xg_sc = min_max_scaler.fit_transform(imp_xg[:,None])\n",
        "                ldf = pd.DataFrame(rf_sc,index=self.evals.X.columns,columns=['XGB'])\n",
        "\n",
        "                if(ii is 0):\n",
        "                    df = ldf.copy()\n",
        "                else:\n",
        "                    df = pd.concat([df,ldf],axis=1)\n",
        "\n",
        "        # change to abbrev if names are too long to display\n",
        "        if(self.abr_feat):\n",
        "            self.evals.col_trans(0)\n",
        "\n",
        "        # Sort by one of the available columns\n",
        "        df.sort_values(by=self.sort_by,ascending=False,inplace=True)\n",
        "\n",
        "        if(self.abr_feat):\n",
        "                self.evals.col_trans(1)\n",
        "\n",
        "        # show only most critical features in FI\n",
        "        subset = df[:self.max_features]\n",
        "\n",
        "#       Store the most important features\n",
        "        for i in subset.index.tolist():\n",
        "            self.lst_Seqs.append(Seq(i))\n",
        "\n",
        "        # Plot features\n",
        "        fig = px.bar(subset,orientation='h')\n",
        "        fig.update_traces(width=0.5)\n",
        "        fig.update_layout(height=400,template='plotly_white',\n",
        "                          title=f\"<b>FEATURE IMPORTANCE</b> | Sorted by {self.sort_by}()\")\n",
        "        fig.show()"
      ],
      "metadata": {
        "id": "7IqGPd8WYqZh"
      },
      "id": "7IqGPd8WYqZh",
      "execution_count": 29,
      "outputs": []
    },
    {
      "cell_type": "code",
      "source": [
        "crit_unitigs = fi(data=eval1,sort_by='CB')\n",
        "crit_unitigs.get()"
      ],
      "metadata": {
        "colab": {
          "base_uri": "https://localhost:8080/",
          "height": 417
        },
        "id": "67pAgiENZ2cA",
        "outputId": "6f871ec2-433b-4244-bc8f-01effd136725"
      },
      "id": "67pAgiENZ2cA",
      "execution_count": 30,
      "outputs": [
        {
          "output_type": "display_data",
          "data": {
            "text/html": [
              "<html>\n",
              "<head><meta charset=\"utf-8\" /></head>\n",
              "<body>\n",
              "    <div>            <script src=\"https://cdnjs.cloudflare.com/ajax/libs/mathjax/2.7.5/MathJax.js?config=TeX-AMS-MML_SVG\"></script><script type=\"text/javascript\">if (window.MathJax && window.MathJax.Hub && window.MathJax.Hub.Config) {window.MathJax.Hub.Config({SVG: {font: \"STIX-Web\"}});}</script>                <script type=\"text/javascript\">window.PlotlyConfig = {MathJaxConfig: 'local'};</script>\n",
              "        <script charset=\"utf-8\" src=\"https://cdn.plot.ly/plotly-2.35.2.min.js\"></script>                <div id=\"8f40a53f-de5d-4eae-80b9-1a1bb2fc03c7\" class=\"plotly-graph-div\" style=\"height:400px; width:100%;\"></div>            <script type=\"text/javascript\">                                    window.PLOTLYENV=window.PLOTLYENV || {};                                    if (document.getElementById(\"8f40a53f-de5d-4eae-80b9-1a1bb2fc03c7\")) {                    Plotly.newPlot(                        \"8f40a53f-de5d-4eae-80b9-1a1bb2fc03c7\",                        [{\"alignmentgroup\":\"True\",\"hovertemplate\":\"variable=RF\\u003cbr\\u003evalue=%{x}\\u003cbr\\u003eindex=%{y}\\u003cextra\\u003e\\u003c\\u002fextra\\u003e\",\"legendgroup\":\"RF\",\"marker\":{\"color\":\"#636efa\",\"pattern\":{\"shape\":\"\"}},\"name\":\"RF\",\"offsetgroup\":\"RF\",\"orientation\":\"h\",\"showlegend\":true,\"textposition\":\"auto\",\"x\":[0.059645982673256916,0.3025982598186698,0.0,0.12240003508146396,0.08563267866313885,0.0,0.018239205795744763,0.0,0.0,0.0],\"xaxis\":\"x\",\"y\":[\"GTGCGACAGCAAAGTCCAAACCAGCGTCCCCGCC\",\"GCGCAGCCGCAAATCTTGTTTTCCCATTCCGCC\",\"GACTACATCAGCGGCAACATCTTGTTTATGCTGACCG\",\"CTCGTCCGAAGTGCAGCACAAAAATCTGATGCAGCAGCAACAGCA\",\"AAATTGCGGATCGATGCGCGAAGGGTCGAATGC\",\"CCCTATGGTCAATCATCAATCAGCAGTGGACC\",\"GCAAATTTACGACGAACCCGAATTCGATCCTCAAGAGCTGCAAT\",\"ATGCGCCGTACTCGGCACACTTTCCCGTTTGGACACCGTCCG\",\"ACGGACGCTCTGTTCCGTACCCATCTGCCACGAA\",\"AGATTGAGCCGAATTTCTGGATTAAGTGCCGG\"],\"yaxis\":\"y\",\"type\":\"bar\",\"width\":0.5},{\"alignmentgroup\":\"True\",\"hovertemplate\":\"variable=CB\\u003cbr\\u003evalue=%{x}\\u003cbr\\u003eindex=%{y}\\u003cextra\\u003e\\u003c\\u002fextra\\u003e\",\"legendgroup\":\"CB\",\"marker\":{\"color\":\"#EF553B\",\"pattern\":{\"shape\":\"\"}},\"name\":\"CB\",\"offsetgroup\":\"CB\",\"orientation\":\"h\",\"showlegend\":true,\"textposition\":\"auto\",\"x\":[1.0,0.5166084436475775,0.10497034473512346,0.03493059223100417,0.03161902174461499,0.02983396628100562,0.026617501632865342,0.021085432817551184,0.0197680516245083,0.016556989427826234],\"xaxis\":\"x\",\"y\":[\"GTGCGACAGCAAAGTCCAAACCAGCGTCCCCGCC\",\"GCGCAGCCGCAAATCTTGTTTTCCCATTCCGCC\",\"GACTACATCAGCGGCAACATCTTGTTTATGCTGACCG\",\"CTCGTCCGAAGTGCAGCACAAAAATCTGATGCAGCAGCAACAGCA\",\"AAATTGCGGATCGATGCGCGAAGGGTCGAATGC\",\"CCCTATGGTCAATCATCAATCAGCAGTGGACC\",\"GCAAATTTACGACGAACCCGAATTCGATCCTCAAGAGCTGCAAT\",\"ATGCGCCGTACTCGGCACACTTTCCCGTTTGGACACCGTCCG\",\"ACGGACGCTCTGTTCCGTACCCATCTGCCACGAA\",\"AGATTGAGCCGAATTTCTGGATTAAGTGCCGG\"],\"yaxis\":\"y\",\"type\":\"bar\",\"width\":0.5},{\"alignmentgroup\":\"True\",\"hovertemplate\":\"variable=XGB\\u003cbr\\u003evalue=%{x}\\u003cbr\\u003eindex=%{y}\\u003cextra\\u003e\\u003c\\u002fextra\\u003e\",\"legendgroup\":\"XGB\",\"marker\":{\"color\":\"#00cc96\",\"pattern\":{\"shape\":\"\"}},\"name\":\"XGB\",\"offsetgroup\":\"XGB\",\"orientation\":\"h\",\"showlegend\":true,\"textposition\":\"auto\",\"x\":[0.059645982673256916,0.3025982598186698,0.0,0.12240003508146396,0.08563267866313885,0.0,0.018239205795744763,0.0,0.0,0.0],\"xaxis\":\"x\",\"y\":[\"GTGCGACAGCAAAGTCCAAACCAGCGTCCCCGCC\",\"GCGCAGCCGCAAATCTTGTTTTCCCATTCCGCC\",\"GACTACATCAGCGGCAACATCTTGTTTATGCTGACCG\",\"CTCGTCCGAAGTGCAGCACAAAAATCTGATGCAGCAGCAACAGCA\",\"AAATTGCGGATCGATGCGCGAAGGGTCGAATGC\",\"CCCTATGGTCAATCATCAATCAGCAGTGGACC\",\"GCAAATTTACGACGAACCCGAATTCGATCCTCAAGAGCTGCAAT\",\"ATGCGCCGTACTCGGCACACTTTCCCGTTTGGACACCGTCCG\",\"ACGGACGCTCTGTTCCGTACCCATCTGCCACGAA\",\"AGATTGAGCCGAATTTCTGGATTAAGTGCCGG\"],\"yaxis\":\"y\",\"type\":\"bar\",\"width\":0.5}],                        {\"template\":{\"data\":{\"barpolar\":[{\"marker\":{\"line\":{\"color\":\"white\",\"width\":0.5},\"pattern\":{\"fillmode\":\"overlay\",\"size\":10,\"solidity\":0.2}},\"type\":\"barpolar\"}],\"bar\":[{\"error_x\":{\"color\":\"#2a3f5f\"},\"error_y\":{\"color\":\"#2a3f5f\"},\"marker\":{\"line\":{\"color\":\"white\",\"width\":0.5},\"pattern\":{\"fillmode\":\"overlay\",\"size\":10,\"solidity\":0.2}},\"type\":\"bar\"}],\"carpet\":[{\"aaxis\":{\"endlinecolor\":\"#2a3f5f\",\"gridcolor\":\"#C8D4E3\",\"linecolor\":\"#C8D4E3\",\"minorgridcolor\":\"#C8D4E3\",\"startlinecolor\":\"#2a3f5f\"},\"baxis\":{\"endlinecolor\":\"#2a3f5f\",\"gridcolor\":\"#C8D4E3\",\"linecolor\":\"#C8D4E3\",\"minorgridcolor\":\"#C8D4E3\",\"startlinecolor\":\"#2a3f5f\"},\"type\":\"carpet\"}],\"choropleth\":[{\"colorbar\":{\"outlinewidth\":0,\"ticks\":\"\"},\"type\":\"choropleth\"}],\"contourcarpet\":[{\"colorbar\":{\"outlinewidth\":0,\"ticks\":\"\"},\"type\":\"contourcarpet\"}],\"contour\":[{\"colorbar\":{\"outlinewidth\":0,\"ticks\":\"\"},\"colorscale\":[[0.0,\"#0d0887\"],[0.1111111111111111,\"#46039f\"],[0.2222222222222222,\"#7201a8\"],[0.3333333333333333,\"#9c179e\"],[0.4444444444444444,\"#bd3786\"],[0.5555555555555556,\"#d8576b\"],[0.6666666666666666,\"#ed7953\"],[0.7777777777777778,\"#fb9f3a\"],[0.8888888888888888,\"#fdca26\"],[1.0,\"#f0f921\"]],\"type\":\"contour\"}],\"heatmapgl\":[{\"colorbar\":{\"outlinewidth\":0,\"ticks\":\"\"},\"colorscale\":[[0.0,\"#0d0887\"],[0.1111111111111111,\"#46039f\"],[0.2222222222222222,\"#7201a8\"],[0.3333333333333333,\"#9c179e\"],[0.4444444444444444,\"#bd3786\"],[0.5555555555555556,\"#d8576b\"],[0.6666666666666666,\"#ed7953\"],[0.7777777777777778,\"#fb9f3a\"],[0.8888888888888888,\"#fdca26\"],[1.0,\"#f0f921\"]],\"type\":\"heatmapgl\"}],\"heatmap\":[{\"colorbar\":{\"outlinewidth\":0,\"ticks\":\"\"},\"colorscale\":[[0.0,\"#0d0887\"],[0.1111111111111111,\"#46039f\"],[0.2222222222222222,\"#7201a8\"],[0.3333333333333333,\"#9c179e\"],[0.4444444444444444,\"#bd3786\"],[0.5555555555555556,\"#d8576b\"],[0.6666666666666666,\"#ed7953\"],[0.7777777777777778,\"#fb9f3a\"],[0.8888888888888888,\"#fdca26\"],[1.0,\"#f0f921\"]],\"type\":\"heatmap\"}],\"histogram2dcontour\":[{\"colorbar\":{\"outlinewidth\":0,\"ticks\":\"\"},\"colorscale\":[[0.0,\"#0d0887\"],[0.1111111111111111,\"#46039f\"],[0.2222222222222222,\"#7201a8\"],[0.3333333333333333,\"#9c179e\"],[0.4444444444444444,\"#bd3786\"],[0.5555555555555556,\"#d8576b\"],[0.6666666666666666,\"#ed7953\"],[0.7777777777777778,\"#fb9f3a\"],[0.8888888888888888,\"#fdca26\"],[1.0,\"#f0f921\"]],\"type\":\"histogram2dcontour\"}],\"histogram2d\":[{\"colorbar\":{\"outlinewidth\":0,\"ticks\":\"\"},\"colorscale\":[[0.0,\"#0d0887\"],[0.1111111111111111,\"#46039f\"],[0.2222222222222222,\"#7201a8\"],[0.3333333333333333,\"#9c179e\"],[0.4444444444444444,\"#bd3786\"],[0.5555555555555556,\"#d8576b\"],[0.6666666666666666,\"#ed7953\"],[0.7777777777777778,\"#fb9f3a\"],[0.8888888888888888,\"#fdca26\"],[1.0,\"#f0f921\"]],\"type\":\"histogram2d\"}],\"histogram\":[{\"marker\":{\"pattern\":{\"fillmode\":\"overlay\",\"size\":10,\"solidity\":0.2}},\"type\":\"histogram\"}],\"mesh3d\":[{\"colorbar\":{\"outlinewidth\":0,\"ticks\":\"\"},\"type\":\"mesh3d\"}],\"parcoords\":[{\"line\":{\"colorbar\":{\"outlinewidth\":0,\"ticks\":\"\"}},\"type\":\"parcoords\"}],\"pie\":[{\"automargin\":true,\"type\":\"pie\"}],\"scatter3d\":[{\"line\":{\"colorbar\":{\"outlinewidth\":0,\"ticks\":\"\"}},\"marker\":{\"colorbar\":{\"outlinewidth\":0,\"ticks\":\"\"}},\"type\":\"scatter3d\"}],\"scattercarpet\":[{\"marker\":{\"colorbar\":{\"outlinewidth\":0,\"ticks\":\"\"}},\"type\":\"scattercarpet\"}],\"scattergeo\":[{\"marker\":{\"colorbar\":{\"outlinewidth\":0,\"ticks\":\"\"}},\"type\":\"scattergeo\"}],\"scattergl\":[{\"marker\":{\"colorbar\":{\"outlinewidth\":0,\"ticks\":\"\"}},\"type\":\"scattergl\"}],\"scattermapbox\":[{\"marker\":{\"colorbar\":{\"outlinewidth\":0,\"ticks\":\"\"}},\"type\":\"scattermapbox\"}],\"scatterpolargl\":[{\"marker\":{\"colorbar\":{\"outlinewidth\":0,\"ticks\":\"\"}},\"type\":\"scatterpolargl\"}],\"scatterpolar\":[{\"marker\":{\"colorbar\":{\"outlinewidth\":0,\"ticks\":\"\"}},\"type\":\"scatterpolar\"}],\"scatter\":[{\"fillpattern\":{\"fillmode\":\"overlay\",\"size\":10,\"solidity\":0.2},\"type\":\"scatter\"}],\"scatterternary\":[{\"marker\":{\"colorbar\":{\"outlinewidth\":0,\"ticks\":\"\"}},\"type\":\"scatterternary\"}],\"surface\":[{\"colorbar\":{\"outlinewidth\":0,\"ticks\":\"\"},\"colorscale\":[[0.0,\"#0d0887\"],[0.1111111111111111,\"#46039f\"],[0.2222222222222222,\"#7201a8\"],[0.3333333333333333,\"#9c179e\"],[0.4444444444444444,\"#bd3786\"],[0.5555555555555556,\"#d8576b\"],[0.6666666666666666,\"#ed7953\"],[0.7777777777777778,\"#fb9f3a\"],[0.8888888888888888,\"#fdca26\"],[1.0,\"#f0f921\"]],\"type\":\"surface\"}],\"table\":[{\"cells\":{\"fill\":{\"color\":\"#EBF0F8\"},\"line\":{\"color\":\"white\"}},\"header\":{\"fill\":{\"color\":\"#C8D4E3\"},\"line\":{\"color\":\"white\"}},\"type\":\"table\"}]},\"layout\":{\"annotationdefaults\":{\"arrowcolor\":\"#2a3f5f\",\"arrowhead\":0,\"arrowwidth\":1},\"autotypenumbers\":\"strict\",\"coloraxis\":{\"colorbar\":{\"outlinewidth\":0,\"ticks\":\"\"}},\"colorscale\":{\"diverging\":[[0,\"#8e0152\"],[0.1,\"#c51b7d\"],[0.2,\"#de77ae\"],[0.3,\"#f1b6da\"],[0.4,\"#fde0ef\"],[0.5,\"#f7f7f7\"],[0.6,\"#e6f5d0\"],[0.7,\"#b8e186\"],[0.8,\"#7fbc41\"],[0.9,\"#4d9221\"],[1,\"#276419\"]],\"sequential\":[[0.0,\"#0d0887\"],[0.1111111111111111,\"#46039f\"],[0.2222222222222222,\"#7201a8\"],[0.3333333333333333,\"#9c179e\"],[0.4444444444444444,\"#bd3786\"],[0.5555555555555556,\"#d8576b\"],[0.6666666666666666,\"#ed7953\"],[0.7777777777777778,\"#fb9f3a\"],[0.8888888888888888,\"#fdca26\"],[1.0,\"#f0f921\"]],\"sequentialminus\":[[0.0,\"#0d0887\"],[0.1111111111111111,\"#46039f\"],[0.2222222222222222,\"#7201a8\"],[0.3333333333333333,\"#9c179e\"],[0.4444444444444444,\"#bd3786\"],[0.5555555555555556,\"#d8576b\"],[0.6666666666666666,\"#ed7953\"],[0.7777777777777778,\"#fb9f3a\"],[0.8888888888888888,\"#fdca26\"],[1.0,\"#f0f921\"]]},\"colorway\":[\"#636efa\",\"#EF553B\",\"#00cc96\",\"#ab63fa\",\"#FFA15A\",\"#19d3f3\",\"#FF6692\",\"#B6E880\",\"#FF97FF\",\"#FECB52\"],\"font\":{\"color\":\"#2a3f5f\"},\"geo\":{\"bgcolor\":\"white\",\"lakecolor\":\"white\",\"landcolor\":\"white\",\"showlakes\":true,\"showland\":true,\"subunitcolor\":\"#C8D4E3\"},\"hoverlabel\":{\"align\":\"left\"},\"hovermode\":\"closest\",\"mapbox\":{\"style\":\"light\"},\"paper_bgcolor\":\"white\",\"plot_bgcolor\":\"white\",\"polar\":{\"angularaxis\":{\"gridcolor\":\"#EBF0F8\",\"linecolor\":\"#EBF0F8\",\"ticks\":\"\"},\"bgcolor\":\"white\",\"radialaxis\":{\"gridcolor\":\"#EBF0F8\",\"linecolor\":\"#EBF0F8\",\"ticks\":\"\"}},\"scene\":{\"xaxis\":{\"backgroundcolor\":\"white\",\"gridcolor\":\"#DFE8F3\",\"gridwidth\":2,\"linecolor\":\"#EBF0F8\",\"showbackground\":true,\"ticks\":\"\",\"zerolinecolor\":\"#EBF0F8\"},\"yaxis\":{\"backgroundcolor\":\"white\",\"gridcolor\":\"#DFE8F3\",\"gridwidth\":2,\"linecolor\":\"#EBF0F8\",\"showbackground\":true,\"ticks\":\"\",\"zerolinecolor\":\"#EBF0F8\"},\"zaxis\":{\"backgroundcolor\":\"white\",\"gridcolor\":\"#DFE8F3\",\"gridwidth\":2,\"linecolor\":\"#EBF0F8\",\"showbackground\":true,\"ticks\":\"\",\"zerolinecolor\":\"#EBF0F8\"}},\"shapedefaults\":{\"line\":{\"color\":\"#2a3f5f\"}},\"ternary\":{\"aaxis\":{\"gridcolor\":\"#DFE8F3\",\"linecolor\":\"#A2B1C6\",\"ticks\":\"\"},\"baxis\":{\"gridcolor\":\"#DFE8F3\",\"linecolor\":\"#A2B1C6\",\"ticks\":\"\"},\"bgcolor\":\"white\",\"caxis\":{\"gridcolor\":\"#DFE8F3\",\"linecolor\":\"#A2B1C6\",\"ticks\":\"\"}},\"title\":{\"x\":0.05},\"xaxis\":{\"automargin\":true,\"gridcolor\":\"#EBF0F8\",\"linecolor\":\"#EBF0F8\",\"ticks\":\"\",\"title\":{\"standoff\":15},\"zerolinecolor\":\"#EBF0F8\",\"zerolinewidth\":2},\"yaxis\":{\"automargin\":true,\"gridcolor\":\"#EBF0F8\",\"linecolor\":\"#EBF0F8\",\"ticks\":\"\",\"title\":{\"standoff\":15},\"zerolinecolor\":\"#EBF0F8\",\"zerolinewidth\":2}}},\"xaxis\":{\"anchor\":\"y\",\"domain\":[0.0,1.0],\"title\":{\"text\":\"value\"}},\"yaxis\":{\"anchor\":\"x\",\"domain\":[0.0,1.0],\"title\":{\"text\":\"index\"}},\"legend\":{\"title\":{\"text\":\"variable\"},\"tracegroupgap\":0},\"margin\":{\"t\":60},\"barmode\":\"relative\",\"height\":400,\"title\":{\"text\":\"\\u003cb\\u003eFEATURE IMPORTANCE\\u003c\\u002fb\\u003e | Sorted by CB()\"}},                        {\"responsive\": true}                    ).then(function(){\n",
              "                            \n",
              "var gd = document.getElementById('8f40a53f-de5d-4eae-80b9-1a1bb2fc03c7');\n",
              "var x = new MutationObserver(function (mutations, observer) {{\n",
              "        var display = window.getComputedStyle(gd).display;\n",
              "        if (!display || display === 'none') {{\n",
              "            console.log([gd, 'removed!']);\n",
              "            Plotly.purge(gd);\n",
              "            observer.disconnect();\n",
              "        }}\n",
              "}});\n",
              "\n",
              "// Listen for the removal of the full notebook cells\n",
              "var notebookContainer = gd.closest('#notebook-container');\n",
              "if (notebookContainer) {{\n",
              "    x.observe(notebookContainer, {childList: true});\n",
              "}}\n",
              "\n",
              "// Listen for the clearing of the current output cell\n",
              "var outputEl = gd.closest('.output');\n",
              "if (outputEl) {{\n",
              "    x.observe(outputEl, {childList: true});\n",
              "}}\n",
              "\n",
              "                        })                };                            </script>        </div>\n",
              "</body>\n",
              "</html>"
            ]
          },
          "metadata": {}
        }
      ]
    },
    {
      "cell_type": "code",
      "source": [
        "crit_unitigs.lst_Seqs"
      ],
      "metadata": {
        "colab": {
          "base_uri": "https://localhost:8080/"
        },
        "id": "n89vhMd4Z-y8",
        "outputId": "fda637e1-f15f-4f7c-e2d4-679a4dc74064"
      },
      "id": "n89vhMd4Z-y8",
      "execution_count": 31,
      "outputs": [
        {
          "output_type": "execute_result",
          "data": {
            "text/plain": [
              "[Seq('GTGCGACAGCAAAGTCCAAACCAGCGTCCCCGCC'),\n",
              " Seq('GCGCAGCCGCAAATCTTGTTTTCCCATTCCGCC'),\n",
              " Seq('GACTACATCAGCGGCAACATCTTGTTTATGCTGACCG'),\n",
              " Seq('CTCGTCCGAAGTGCAGCACAAAAATCTGATGCAGCAGCAACAGCA'),\n",
              " Seq('AAATTGCGGATCGATGCGCGAAGGGTCGAATGC'),\n",
              " Seq('CCCTATGGTCAATCATCAATCAGCAGTGGACC'),\n",
              " Seq('GCAAATTTACGACGAACCCGAATTCGATCCTCAAGAGCTGCAAT'),\n",
              " Seq('ATGCGCCGTACTCGGCACACTTTCCCGTTTGGACACCGTCCG'),\n",
              " Seq('ACGGACGCTCTGTTCCGTACCCATCTGCCACGAA'),\n",
              " Seq('AGATTGAGCCGAATTTCTGGATTAAGTGCCGG')]"
            ]
          },
          "metadata": {},
          "execution_count": 31
        }
      ]
    },
    {
      "cell_type": "markdown",
      "source": [
        "## 6.3. GridSearchCV Resistance Model\n",
        "\n",
        "**CATBOOST HYPERPARAMETER TUNING**\n",
        "\n",
        "* We saw that *CatboostClassifier* had already has quite good results on the test set, let's try to optimise the hyperparameters, if we can.\n",
        "* Catboost does optimise certain parameters that aren't self defined, so we may not get any improvement, however we should get different hyerparameter combinations on different folds, which will be handy to check if there is any feature importance variation.\n",
        "\n",
        "**GETTING ALL MODELS PARAMETERS**\n",
        "\n",
        "* We can call `.get_all_params()` to display all the parameters that were set in CatBoost, on top of the n_estimators that we set ourselves.\n",
        "* The learning rate & n_estimators/iterations are two hyperparameters we can try to tune."
      ],
      "metadata": {
        "id": "qiupf1U5a-3b"
      },
      "id": "qiupf1U5a-3b"
    },
    {
      "cell_type": "code",
      "source": [
        "# Show default parameters used in catboost model\n",
        "eval1.store_models['CAT_0'].get_all_params()"
      ],
      "metadata": {
        "colab": {
          "base_uri": "https://localhost:8080/"
        },
        "id": "jZT4tcUVbb2k",
        "outputId": "01967cf3-166c-4786-8cc1-f2cd53d9d4b4"
      },
      "id": "jZT4tcUVbb2k",
      "execution_count": 32,
      "outputs": [
        {
          "output_type": "execute_result",
          "data": {
            "text/plain": [
              "{'nan_mode': 'Min',\n",
              " 'eval_metric': 'Logloss',\n",
              " 'iterations': 10,\n",
              " 'sampling_frequency': 'PerTree',\n",
              " 'leaf_estimation_method': 'Newton',\n",
              " 'random_score_type': 'NormalWithModelSizeDecrease',\n",
              " 'grow_policy': 'SymmetricTree',\n",
              " 'penalties_coefficient': 1,\n",
              " 'boosting_type': 'Plain',\n",
              " 'model_shrink_mode': 'Constant',\n",
              " 'feature_border_type': 'GreedyLogSum',\n",
              " 'bayesian_matrix_reg': 0.10000000149011612,\n",
              " 'eval_fraction': 0,\n",
              " 'force_unit_auto_pair_weights': False,\n",
              " 'l2_leaf_reg': 3,\n",
              " 'random_strength': 1,\n",
              " 'rsm': 1,\n",
              " 'boost_from_average': False,\n",
              " 'model_size_reg': 0.5,\n",
              " 'pool_metainfo_options': {'tags': {}},\n",
              " 'subsample': 0.800000011920929,\n",
              " 'use_best_model': False,\n",
              " 'class_names': [0, 1],\n",
              " 'random_seed': 0,\n",
              " 'depth': 6,\n",
              " 'posterior_sampling': False,\n",
              " 'border_count': 254,\n",
              " 'classes_count': 0,\n",
              " 'auto_class_weights': 'None',\n",
              " 'sparse_features_conflict_fraction': 0,\n",
              " 'leaf_estimation_backtracking': 'AnyImprovement',\n",
              " 'best_model_min_trees': 1,\n",
              " 'model_shrink_rate': 0,\n",
              " 'min_data_in_leaf': 1,\n",
              " 'loss_function': 'Logloss',\n",
              " 'learning_rate': 0.5,\n",
              " 'score_function': 'Cosine',\n",
              " 'task_type': 'CPU',\n",
              " 'leaf_estimation_iterations': 10,\n",
              " 'bootstrap_type': 'MVS',\n",
              " 'max_leaves': 64}"
            ]
          },
          "metadata": {},
          "execution_count": 32
        }
      ]
    },
    {
      "cell_type": "markdown",
      "source": [
        "DEFINING GRID & GRIDSEARCHCV\n",
        "\n",
        "* We define a parameter grid, which will be used in GridSearchCV; keeping it simple, looking at only n_estimators (iters) & the learning rate.\n",
        "* Defining a standard 4-fold cross validation strategy once again, we should get 4 slightly different models this time, which are stored in .store_models().\n",
        "* Catboost is of course compatible with the GPU, so we can set task_type = \"GPU\"."
      ],
      "metadata": {
        "id": "be3jQrdXcHxR"
      },
      "id": "be3jQrdXcHxR"
    },
    {
      "cell_type": "code",
      "source": [
        "# Define Grid used in Cross Validation\n",
        "params = {'n_estimators':[10,25,40],\n",
        "         'learning_rate':[0.01,0.05,0.5]}\n",
        "\n",
        "# Define Model (just the one)\n",
        "models = []\n",
        "models.append(('CAT', CatBoostClassifier(silent=True,\n",
        "                                         task_type=\"GPU\"),params))\n",
        "\n",
        "# Get Dataset Features\n",
        "case2 = get_unitigs()\n",
        "case2.get_case('cip_sr')\n",
        "\n",
        "eval2 = class_eval(data=case2,\n",
        "                   models=models)\n",
        "eval2.gscv()"
      ],
      "metadata": {
        "id": "1-RWFMWAkrpB",
        "outputId": "f256d7dc-91c6-4483-fcd8-ede8ec8b7037",
        "colab": {
          "base_uri": "https://localhost:8080/"
        }
      },
      "id": "1-RWFMWAkrpB",
      "execution_count": 33,
      "outputs": [
        {
          "output_type": "stream",
          "name": "stdout",
          "text": [
            "Target Antibiotic: cip_sr\n",
            "Metadata df: (3786, 30)\n",
            "Metadata df after na() removal (3088, 30)\n",
            "\n",
            "Combining Metadata & Unitigs\n",
            "Unitig Matrix (+target): (3088, 8874)\n",
            "\n",
            "kfold 0\n",
            "Train Score: 0.9818 - Test Score: 0.9703\n",
            "Best hyperparameters for this fold\n",
            "{'learning_rate': 0.5, 'n_estimators': 10}\n",
            "Test : Confusion matrix Fold 0\n",
            "[[398  13]\n",
            " [ 10 351]]\n",
            "\n",
            "kfold 1\n",
            "Train Score: 0.9827 - Test Score: 0.9404\n",
            "Best hyperparameters for this fold\n",
            "{'learning_rate': 0.01, 'n_estimators': 10}\n",
            "Test : Confusion matrix Fold 1\n",
            "[[395  43]\n",
            " [  7 327]]\n",
            "\n",
            "kfold 2\n",
            "Train Score: 0.9755 - Test Score: 0.9771\n",
            "Best hyperparameters for this fold\n",
            "{'learning_rate': 0.05, 'n_estimators': 40}\n",
            "Test : Confusion matrix Fold 2\n",
            "[[445   0]\n",
            " [ 15 312]]\n",
            "\n",
            "kfold 3\n",
            "Train Score: 0.973 - Test Score: 0.9806\n",
            "Best hyperparameters for this fold\n",
            "{'learning_rate': 0.01, 'n_estimators': 10}\n",
            "Test : Confusion matrix Fold 3\n",
            "[[359   7]\n",
            " [  8 398]]\n",
            "\n",
            " CAT - Test Mean Score: 0.9671\n"
          ]
        }
      ]
    },
    {
      "cell_type": "markdown",
      "source": [
        "**PLOTTING KFOLD MODEL FEATURE IMPORTANCES**\n",
        "\n",
        "* Passing on an eval class instance into class fi, we have access to store_models, which when using the gridsearchcv option in class eval stores the fold models.\n",
        "* Unlike .cv(), we probably will have slightly different model hyperparameters for each fold, feature importance of these models can also be visualised."
      ],
      "metadata": {
        "id": "Bj_PhSjG4wQ0"
      },
      "id": "Bj_PhSjG4wQ0"
    },
    {
      "cell_type": "code",
      "source": [
        "crit_unitigs = fi(data=eval2,sort_by='GS_CAT_0')\n",
        "crit_unitigs.get()"
      ],
      "metadata": {
        "id": "q-_vRjOi45ti",
        "outputId": "7d6d14fa-ec33-4396-d75b-c8140a241e49",
        "colab": {
          "base_uri": "https://localhost:8080/",
          "height": 417
        }
      },
      "id": "q-_vRjOi45ti",
      "execution_count": 34,
      "outputs": [
        {
          "output_type": "display_data",
          "data": {
            "text/html": [
              "<html>\n",
              "<head><meta charset=\"utf-8\" /></head>\n",
              "<body>\n",
              "    <div>            <script src=\"https://cdnjs.cloudflare.com/ajax/libs/mathjax/2.7.5/MathJax.js?config=TeX-AMS-MML_SVG\"></script><script type=\"text/javascript\">if (window.MathJax && window.MathJax.Hub && window.MathJax.Hub.Config) {window.MathJax.Hub.Config({SVG: {font: \"STIX-Web\"}});}</script>                <script type=\"text/javascript\">window.PlotlyConfig = {MathJaxConfig: 'local'};</script>\n",
              "        <script charset=\"utf-8\" src=\"https://cdn.plot.ly/plotly-2.35.2.min.js\"></script>                <div id=\"2290572b-fd8b-46ee-aac4-55e850fa12eb\" class=\"plotly-graph-div\" style=\"height:400px; width:100%;\"></div>            <script type=\"text/javascript\">                                    window.PLOTLYENV=window.PLOTLYENV || {};                                    if (document.getElementById(\"2290572b-fd8b-46ee-aac4-55e850fa12eb\")) {                    Plotly.newPlot(                        \"2290572b-fd8b-46ee-aac4-55e850fa12eb\",                        [{\"alignmentgroup\":\"True\",\"hovertemplate\":\"variable=GS_CAT_0\\u003cbr\\u003evalue=%{x}\\u003cbr\\u003eindex=%{y}\\u003cextra\\u003e\\u003c\\u002fextra\\u003e\",\"legendgroup\":\"GS_CAT_0\",\"marker\":{\"color\":\"#636efa\",\"pattern\":{\"shape\":\"\"}},\"name\":\"GS_CAT_0\",\"offsetgroup\":\"GS_CAT_0\",\"orientation\":\"h\",\"showlegend\":true,\"textposition\":\"auto\",\"x\":[1.0,0.4989408978344219,0.07912176168028986,0.06222180860710006,0.04371351808358738,0.041556003897118346,0.040663895037802864,0.03018918437419429,0.02682646375032636,0.02565433238526825],\"xaxis\":\"x\",\"y\":[\"GCGCAGCCGCAAATCTTGTTTTCCCATTCCGCC\",\"GTGCGACAGCAAAGTCCAAACCAGCGTCCCCGCC\",\"GCGGCCCGCGCTTTCGGTTTGGCGCGGTAAACCACGCCTATGCCCGCTTCTTTGAGTATCG\",\"GAATTTGCCGGCAGCGTGATGGTGATTTCGCACGACC\",\"GCCCTTCCGAAACCCGCCCGATCCGACGTGCG\",\"GCCGCCGCCTTTGCCGCAGGCTTGGACGCGC\",\"CAAAAGCGCGTGACTGAATTTGCCGTTTGCGTCGTGGA\",\"GACCCTTACGGTAAGAACAACCTTGACACCGCCTCCCTGAAAAAAAGCAT\",\"CGACAAGCCGGTTAATGTGCGTTACCTGGAC\",\"GGCTTGGGCAGGCCGTAATCTTTCAAATGGCCCGGCTTTAT\"],\"yaxis\":\"y\",\"type\":\"bar\",\"width\":0.5},{\"alignmentgroup\":\"True\",\"hovertemplate\":\"variable=GS_CAT_1\\u003cbr\\u003evalue=%{x}\\u003cbr\\u003eindex=%{y}\\u003cextra\\u003e\\u003c\\u002fextra\\u003e\",\"legendgroup\":\"GS_CAT_1\",\"marker\":{\"color\":\"#EF553B\",\"pattern\":{\"shape\":\"\"}},\"name\":\"GS_CAT_1\",\"offsetgroup\":\"GS_CAT_1\",\"orientation\":\"h\",\"showlegend\":true,\"textposition\":\"auto\",\"x\":[1.0,0.42425779737113334,0.0,0.0,0.0,0.0,0.0,0.0,0.00970478877244263,0.0],\"xaxis\":\"x\",\"y\":[\"GCGCAGCCGCAAATCTTGTTTTCCCATTCCGCC\",\"GTGCGACAGCAAAGTCCAAACCAGCGTCCCCGCC\",\"GCGGCCCGCGCTTTCGGTTTGGCGCGGTAAACCACGCCTATGCCCGCTTCTTTGAGTATCG\",\"GAATTTGCCGGCAGCGTGATGGTGATTTCGCACGACC\",\"GCCCTTCCGAAACCCGCCCGATCCGACGTGCG\",\"GCCGCCGCCTTTGCCGCAGGCTTGGACGCGC\",\"CAAAAGCGCGTGACTGAATTTGCCGTTTGCGTCGTGGA\",\"GACCCTTACGGTAAGAACAACCTTGACACCGCCTCCCTGAAAAAAAGCAT\",\"CGACAAGCCGGTTAATGTGCGTTACCTGGAC\",\"GGCTTGGGCAGGCCGTAATCTTTCAAATGGCCCGGCTTTAT\"],\"yaxis\":\"y\",\"type\":\"bar\",\"width\":0.5},{\"alignmentgroup\":\"True\",\"hovertemplate\":\"variable=GS_CAT_2\\u003cbr\\u003evalue=%{x}\\u003cbr\\u003eindex=%{y}\\u003cextra\\u003e\\u003c\\u002fextra\\u003e\",\"legendgroup\":\"GS_CAT_2\",\"marker\":{\"color\":\"#00cc96\",\"pattern\":{\"shape\":\"\"}},\"name\":\"GS_CAT_2\",\"offsetgroup\":\"GS_CAT_2\",\"orientation\":\"h\",\"showlegend\":true,\"textposition\":\"auto\",\"x\":[1.0,0.469733330610783,0.0,0.0,0.008204951182766915,0.0,0.0,0.0,0.0,0.0],\"xaxis\":\"x\",\"y\":[\"GCGCAGCCGCAAATCTTGTTTTCCCATTCCGCC\",\"GTGCGACAGCAAAGTCCAAACCAGCGTCCCCGCC\",\"GCGGCCCGCGCTTTCGGTTTGGCGCGGTAAACCACGCCTATGCCCGCTTCTTTGAGTATCG\",\"GAATTTGCCGGCAGCGTGATGGTGATTTCGCACGACC\",\"GCCCTTCCGAAACCCGCCCGATCCGACGTGCG\",\"GCCGCCGCCTTTGCCGCAGGCTTGGACGCGC\",\"CAAAAGCGCGTGACTGAATTTGCCGTTTGCGTCGTGGA\",\"GACCCTTACGGTAAGAACAACCTTGACACCGCCTCCCTGAAAAAAAGCAT\",\"CGACAAGCCGGTTAATGTGCGTTACCTGGAC\",\"GGCTTGGGCAGGCCGTAATCTTTCAAATGGCCCGGCTTTAT\"],\"yaxis\":\"y\",\"type\":\"bar\",\"width\":0.5},{\"alignmentgroup\":\"True\",\"hovertemplate\":\"variable=GS_CAT_3\\u003cbr\\u003evalue=%{x}\\u003cbr\\u003eindex=%{y}\\u003cextra\\u003e\\u003c\\u002fextra\\u003e\",\"legendgroup\":\"GS_CAT_3\",\"marker\":{\"color\":\"#ab63fa\",\"pattern\":{\"shape\":\"\"}},\"name\":\"GS_CAT_3\",\"offsetgroup\":\"GS_CAT_3\",\"orientation\":\"h\",\"showlegend\":true,\"textposition\":\"auto\",\"x\":[0.3971165103281809,1.0,0.0,0.006784220203177303,0.0,0.0,0.0,0.0,0.0,0.0],\"xaxis\":\"x\",\"y\":[\"GCGCAGCCGCAAATCTTGTTTTCCCATTCCGCC\",\"GTGCGACAGCAAAGTCCAAACCAGCGTCCCCGCC\",\"GCGGCCCGCGCTTTCGGTTTGGCGCGGTAAACCACGCCTATGCCCGCTTCTTTGAGTATCG\",\"GAATTTGCCGGCAGCGTGATGGTGATTTCGCACGACC\",\"GCCCTTCCGAAACCCGCCCGATCCGACGTGCG\",\"GCCGCCGCCTTTGCCGCAGGCTTGGACGCGC\",\"CAAAAGCGCGTGACTGAATTTGCCGTTTGCGTCGTGGA\",\"GACCCTTACGGTAAGAACAACCTTGACACCGCCTCCCTGAAAAAAAGCAT\",\"CGACAAGCCGGTTAATGTGCGTTACCTGGAC\",\"GGCTTGGGCAGGCCGTAATCTTTCAAATGGCCCGGCTTTAT\"],\"yaxis\":\"y\",\"type\":\"bar\",\"width\":0.5}],                        {\"template\":{\"data\":{\"barpolar\":[{\"marker\":{\"line\":{\"color\":\"white\",\"width\":0.5},\"pattern\":{\"fillmode\":\"overlay\",\"size\":10,\"solidity\":0.2}},\"type\":\"barpolar\"}],\"bar\":[{\"error_x\":{\"color\":\"#2a3f5f\"},\"error_y\":{\"color\":\"#2a3f5f\"},\"marker\":{\"line\":{\"color\":\"white\",\"width\":0.5},\"pattern\":{\"fillmode\":\"overlay\",\"size\":10,\"solidity\":0.2}},\"type\":\"bar\"}],\"carpet\":[{\"aaxis\":{\"endlinecolor\":\"#2a3f5f\",\"gridcolor\":\"#C8D4E3\",\"linecolor\":\"#C8D4E3\",\"minorgridcolor\":\"#C8D4E3\",\"startlinecolor\":\"#2a3f5f\"},\"baxis\":{\"endlinecolor\":\"#2a3f5f\",\"gridcolor\":\"#C8D4E3\",\"linecolor\":\"#C8D4E3\",\"minorgridcolor\":\"#C8D4E3\",\"startlinecolor\":\"#2a3f5f\"},\"type\":\"carpet\"}],\"choropleth\":[{\"colorbar\":{\"outlinewidth\":0,\"ticks\":\"\"},\"type\":\"choropleth\"}],\"contourcarpet\":[{\"colorbar\":{\"outlinewidth\":0,\"ticks\":\"\"},\"type\":\"contourcarpet\"}],\"contour\":[{\"colorbar\":{\"outlinewidth\":0,\"ticks\":\"\"},\"colorscale\":[[0.0,\"#0d0887\"],[0.1111111111111111,\"#46039f\"],[0.2222222222222222,\"#7201a8\"],[0.3333333333333333,\"#9c179e\"],[0.4444444444444444,\"#bd3786\"],[0.5555555555555556,\"#d8576b\"],[0.6666666666666666,\"#ed7953\"],[0.7777777777777778,\"#fb9f3a\"],[0.8888888888888888,\"#fdca26\"],[1.0,\"#f0f921\"]],\"type\":\"contour\"}],\"heatmapgl\":[{\"colorbar\":{\"outlinewidth\":0,\"ticks\":\"\"},\"colorscale\":[[0.0,\"#0d0887\"],[0.1111111111111111,\"#46039f\"],[0.2222222222222222,\"#7201a8\"],[0.3333333333333333,\"#9c179e\"],[0.4444444444444444,\"#bd3786\"],[0.5555555555555556,\"#d8576b\"],[0.6666666666666666,\"#ed7953\"],[0.7777777777777778,\"#fb9f3a\"],[0.8888888888888888,\"#fdca26\"],[1.0,\"#f0f921\"]],\"type\":\"heatmapgl\"}],\"heatmap\":[{\"colorbar\":{\"outlinewidth\":0,\"ticks\":\"\"},\"colorscale\":[[0.0,\"#0d0887\"],[0.1111111111111111,\"#46039f\"],[0.2222222222222222,\"#7201a8\"],[0.3333333333333333,\"#9c179e\"],[0.4444444444444444,\"#bd3786\"],[0.5555555555555556,\"#d8576b\"],[0.6666666666666666,\"#ed7953\"],[0.7777777777777778,\"#fb9f3a\"],[0.8888888888888888,\"#fdca26\"],[1.0,\"#f0f921\"]],\"type\":\"heatmap\"}],\"histogram2dcontour\":[{\"colorbar\":{\"outlinewidth\":0,\"ticks\":\"\"},\"colorscale\":[[0.0,\"#0d0887\"],[0.1111111111111111,\"#46039f\"],[0.2222222222222222,\"#7201a8\"],[0.3333333333333333,\"#9c179e\"],[0.4444444444444444,\"#bd3786\"],[0.5555555555555556,\"#d8576b\"],[0.6666666666666666,\"#ed7953\"],[0.7777777777777778,\"#fb9f3a\"],[0.8888888888888888,\"#fdca26\"],[1.0,\"#f0f921\"]],\"type\":\"histogram2dcontour\"}],\"histogram2d\":[{\"colorbar\":{\"outlinewidth\":0,\"ticks\":\"\"},\"colorscale\":[[0.0,\"#0d0887\"],[0.1111111111111111,\"#46039f\"],[0.2222222222222222,\"#7201a8\"],[0.3333333333333333,\"#9c179e\"],[0.4444444444444444,\"#bd3786\"],[0.5555555555555556,\"#d8576b\"],[0.6666666666666666,\"#ed7953\"],[0.7777777777777778,\"#fb9f3a\"],[0.8888888888888888,\"#fdca26\"],[1.0,\"#f0f921\"]],\"type\":\"histogram2d\"}],\"histogram\":[{\"marker\":{\"pattern\":{\"fillmode\":\"overlay\",\"size\":10,\"solidity\":0.2}},\"type\":\"histogram\"}],\"mesh3d\":[{\"colorbar\":{\"outlinewidth\":0,\"ticks\":\"\"},\"type\":\"mesh3d\"}],\"parcoords\":[{\"line\":{\"colorbar\":{\"outlinewidth\":0,\"ticks\":\"\"}},\"type\":\"parcoords\"}],\"pie\":[{\"automargin\":true,\"type\":\"pie\"}],\"scatter3d\":[{\"line\":{\"colorbar\":{\"outlinewidth\":0,\"ticks\":\"\"}},\"marker\":{\"colorbar\":{\"outlinewidth\":0,\"ticks\":\"\"}},\"type\":\"scatter3d\"}],\"scattercarpet\":[{\"marker\":{\"colorbar\":{\"outlinewidth\":0,\"ticks\":\"\"}},\"type\":\"scattercarpet\"}],\"scattergeo\":[{\"marker\":{\"colorbar\":{\"outlinewidth\":0,\"ticks\":\"\"}},\"type\":\"scattergeo\"}],\"scattergl\":[{\"marker\":{\"colorbar\":{\"outlinewidth\":0,\"ticks\":\"\"}},\"type\":\"scattergl\"}],\"scattermapbox\":[{\"marker\":{\"colorbar\":{\"outlinewidth\":0,\"ticks\":\"\"}},\"type\":\"scattermapbox\"}],\"scatterpolargl\":[{\"marker\":{\"colorbar\":{\"outlinewidth\":0,\"ticks\":\"\"}},\"type\":\"scatterpolargl\"}],\"scatterpolar\":[{\"marker\":{\"colorbar\":{\"outlinewidth\":0,\"ticks\":\"\"}},\"type\":\"scatterpolar\"}],\"scatter\":[{\"fillpattern\":{\"fillmode\":\"overlay\",\"size\":10,\"solidity\":0.2},\"type\":\"scatter\"}],\"scatterternary\":[{\"marker\":{\"colorbar\":{\"outlinewidth\":0,\"ticks\":\"\"}},\"type\":\"scatterternary\"}],\"surface\":[{\"colorbar\":{\"outlinewidth\":0,\"ticks\":\"\"},\"colorscale\":[[0.0,\"#0d0887\"],[0.1111111111111111,\"#46039f\"],[0.2222222222222222,\"#7201a8\"],[0.3333333333333333,\"#9c179e\"],[0.4444444444444444,\"#bd3786\"],[0.5555555555555556,\"#d8576b\"],[0.6666666666666666,\"#ed7953\"],[0.7777777777777778,\"#fb9f3a\"],[0.8888888888888888,\"#fdca26\"],[1.0,\"#f0f921\"]],\"type\":\"surface\"}],\"table\":[{\"cells\":{\"fill\":{\"color\":\"#EBF0F8\"},\"line\":{\"color\":\"white\"}},\"header\":{\"fill\":{\"color\":\"#C8D4E3\"},\"line\":{\"color\":\"white\"}},\"type\":\"table\"}]},\"layout\":{\"annotationdefaults\":{\"arrowcolor\":\"#2a3f5f\",\"arrowhead\":0,\"arrowwidth\":1},\"autotypenumbers\":\"strict\",\"coloraxis\":{\"colorbar\":{\"outlinewidth\":0,\"ticks\":\"\"}},\"colorscale\":{\"diverging\":[[0,\"#8e0152\"],[0.1,\"#c51b7d\"],[0.2,\"#de77ae\"],[0.3,\"#f1b6da\"],[0.4,\"#fde0ef\"],[0.5,\"#f7f7f7\"],[0.6,\"#e6f5d0\"],[0.7,\"#b8e186\"],[0.8,\"#7fbc41\"],[0.9,\"#4d9221\"],[1,\"#276419\"]],\"sequential\":[[0.0,\"#0d0887\"],[0.1111111111111111,\"#46039f\"],[0.2222222222222222,\"#7201a8\"],[0.3333333333333333,\"#9c179e\"],[0.4444444444444444,\"#bd3786\"],[0.5555555555555556,\"#d8576b\"],[0.6666666666666666,\"#ed7953\"],[0.7777777777777778,\"#fb9f3a\"],[0.8888888888888888,\"#fdca26\"],[1.0,\"#f0f921\"]],\"sequentialminus\":[[0.0,\"#0d0887\"],[0.1111111111111111,\"#46039f\"],[0.2222222222222222,\"#7201a8\"],[0.3333333333333333,\"#9c179e\"],[0.4444444444444444,\"#bd3786\"],[0.5555555555555556,\"#d8576b\"],[0.6666666666666666,\"#ed7953\"],[0.7777777777777778,\"#fb9f3a\"],[0.8888888888888888,\"#fdca26\"],[1.0,\"#f0f921\"]]},\"colorway\":[\"#636efa\",\"#EF553B\",\"#00cc96\",\"#ab63fa\",\"#FFA15A\",\"#19d3f3\",\"#FF6692\",\"#B6E880\",\"#FF97FF\",\"#FECB52\"],\"font\":{\"color\":\"#2a3f5f\"},\"geo\":{\"bgcolor\":\"white\",\"lakecolor\":\"white\",\"landcolor\":\"white\",\"showlakes\":true,\"showland\":true,\"subunitcolor\":\"#C8D4E3\"},\"hoverlabel\":{\"align\":\"left\"},\"hovermode\":\"closest\",\"mapbox\":{\"style\":\"light\"},\"paper_bgcolor\":\"white\",\"plot_bgcolor\":\"white\",\"polar\":{\"angularaxis\":{\"gridcolor\":\"#EBF0F8\",\"linecolor\":\"#EBF0F8\",\"ticks\":\"\"},\"bgcolor\":\"white\",\"radialaxis\":{\"gridcolor\":\"#EBF0F8\",\"linecolor\":\"#EBF0F8\",\"ticks\":\"\"}},\"scene\":{\"xaxis\":{\"backgroundcolor\":\"white\",\"gridcolor\":\"#DFE8F3\",\"gridwidth\":2,\"linecolor\":\"#EBF0F8\",\"showbackground\":true,\"ticks\":\"\",\"zerolinecolor\":\"#EBF0F8\"},\"yaxis\":{\"backgroundcolor\":\"white\",\"gridcolor\":\"#DFE8F3\",\"gridwidth\":2,\"linecolor\":\"#EBF0F8\",\"showbackground\":true,\"ticks\":\"\",\"zerolinecolor\":\"#EBF0F8\"},\"zaxis\":{\"backgroundcolor\":\"white\",\"gridcolor\":\"#DFE8F3\",\"gridwidth\":2,\"linecolor\":\"#EBF0F8\",\"showbackground\":true,\"ticks\":\"\",\"zerolinecolor\":\"#EBF0F8\"}},\"shapedefaults\":{\"line\":{\"color\":\"#2a3f5f\"}},\"ternary\":{\"aaxis\":{\"gridcolor\":\"#DFE8F3\",\"linecolor\":\"#A2B1C6\",\"ticks\":\"\"},\"baxis\":{\"gridcolor\":\"#DFE8F3\",\"linecolor\":\"#A2B1C6\",\"ticks\":\"\"},\"bgcolor\":\"white\",\"caxis\":{\"gridcolor\":\"#DFE8F3\",\"linecolor\":\"#A2B1C6\",\"ticks\":\"\"}},\"title\":{\"x\":0.05},\"xaxis\":{\"automargin\":true,\"gridcolor\":\"#EBF0F8\",\"linecolor\":\"#EBF0F8\",\"ticks\":\"\",\"title\":{\"standoff\":15},\"zerolinecolor\":\"#EBF0F8\",\"zerolinewidth\":2},\"yaxis\":{\"automargin\":true,\"gridcolor\":\"#EBF0F8\",\"linecolor\":\"#EBF0F8\",\"ticks\":\"\",\"title\":{\"standoff\":15},\"zerolinecolor\":\"#EBF0F8\",\"zerolinewidth\":2}}},\"xaxis\":{\"anchor\":\"y\",\"domain\":[0.0,1.0],\"title\":{\"text\":\"value\"}},\"yaxis\":{\"anchor\":\"x\",\"domain\":[0.0,1.0],\"title\":{\"text\":\"index\"}},\"legend\":{\"title\":{\"text\":\"variable\"},\"tracegroupgap\":0},\"margin\":{\"t\":60},\"barmode\":\"relative\",\"height\":400,\"title\":{\"text\":\"\\u003cb\\u003eFEATURE IMPORTANCE\\u003c\\u002fb\\u003e | Sorted by GS_CAT_0()\"}},                        {\"responsive\": true}                    ).then(function(){\n",
              "                            \n",
              "var gd = document.getElementById('2290572b-fd8b-46ee-aac4-55e850fa12eb');\n",
              "var x = new MutationObserver(function (mutations, observer) {{\n",
              "        var display = window.getComputedStyle(gd).display;\n",
              "        if (!display || display === 'none') {{\n",
              "            console.log([gd, 'removed!']);\n",
              "            Plotly.purge(gd);\n",
              "            observer.disconnect();\n",
              "        }}\n",
              "}});\n",
              "\n",
              "// Listen for the removal of the full notebook cells\n",
              "var notebookContainer = gd.closest('#notebook-container');\n",
              "if (notebookContainer) {{\n",
              "    x.observe(notebookContainer, {childList: true});\n",
              "}}\n",
              "\n",
              "// Listen for the clearing of the current output cell\n",
              "var outputEl = gd.closest('.output');\n",
              "if (outputEl) {{\n",
              "    x.observe(outputEl, {childList: true});\n",
              "}}\n",
              "\n",
              "                        })                };                            </script>        </div>\n",
              "</body>\n",
              "</html>"
            ]
          },
          "metadata": {}
        }
      ]
    },
    {
      "cell_type": "code",
      "source": [
        "crit_unitigs.lst_Seqs"
      ],
      "metadata": {
        "id": "aOWyPuXB48vG",
        "outputId": "9085f913-309f-4dfd-9d8d-a8ca52a49734",
        "colab": {
          "base_uri": "https://localhost:8080/"
        }
      },
      "id": "aOWyPuXB48vG",
      "execution_count": 35,
      "outputs": [
        {
          "output_type": "execute_result",
          "data": {
            "text/plain": [
              "[Seq('GCGCAGCCGCAAATCTTGTTTTCCCATTCCGCC'),\n",
              " Seq('GTGCGACAGCAAAGTCCAAACCAGCGTCCCCGCC'),\n",
              " Seq('GCGGCCCGCGCTTTCGGTTTGGCGCGGTAAACCACGCCTATGCCCGCTTCTTTG...TCG'),\n",
              " Seq('GAATTTGCCGGCAGCGTGATGGTGATTTCGCACGACC'),\n",
              " Seq('GCCCTTCCGAAACCCGCCCGATCCGACGTGCG'),\n",
              " Seq('GCCGCCGCCTTTGCCGCAGGCTTGGACGCGC'),\n",
              " Seq('CAAAAGCGCGTGACTGAATTTGCCGTTTGCGTCGTGGA'),\n",
              " Seq('GACCCTTACGGTAAGAACAACCTTGACACCGCCTCCCTGAAAAAAAGCAT'),\n",
              " Seq('CGACAAGCCGGTTAATGTGCGTTACCTGGAC'),\n",
              " Seq('GGCTTGGGCAGGCCGTAATCTTTCAAATGGCCCGGCTTTAT')]"
            ]
          },
          "metadata": {},
          "execution_count": 35
        }
      ]
    },
    {
      "cell_type": "markdown",
      "source": [
        "**REVISITING UNITIG DISTRIBUTIONS**\n",
        "\n",
        "* Having identified the key features (unitigs) which have the most weight in its respective model\n",
        "* With tree based model feature importance, we ultimately get only positive values & don't have an indication about which class the result is leaning towards\n",
        "* However knowing which features features (unitigs) to look at now, we can use group_by to get some idea since they are all of One Hot Encoding type"
      ],
      "metadata": {
        "id": "IaV5ZaMv4_E1"
      },
      "id": "IaV5ZaMv4_E1"
    },
    {
      "cell_type": "code",
      "source": [
        "case = get_unitigs()\n",
        "case.get_case('cip_sr')\n",
        "\n",
        "print(case.X.groupby('cip_sr')['GTGCGACAGCAAAGTCCAAACCAGCGTCCCCGCC'].mean())\n",
        "print(case.X.groupby('cip_sr')['GCGCAGCCGCAAATCTTGTTTTCCCATTCCGCC'].mean())\n",
        "print(case.X.groupby('cip_sr')['AAATTGCGGATCGATGCGCGAAGGGTCGAATGC'].mean())\n",
        "\n",
        "print(case.X.groupby('cip_sr')['GGCATCCCGAAGCCGAATACGGCAACGGCAAGCG'].mean())"
      ],
      "metadata": {
        "id": "CI9t7MZz5MgL",
        "outputId": "26dc8d9c-b71a-49a2-ac95-00ce2fdf86b2",
        "colab": {
          "base_uri": "https://localhost:8080/"
        }
      },
      "id": "CI9t7MZz5MgL",
      "execution_count": 36,
      "outputs": [
        {
          "output_type": "stream",
          "name": "stdout",
          "text": [
            "Target Antibiotic: cip_sr\n",
            "Metadata df: (3786, 30)\n",
            "Metadata df after na() removal (3088, 30)\n",
            "\n",
            "Combining Metadata & Unitigs\n",
            "Unitig Matrix (+target): (3088, 8874)\n",
            "cip_sr\n",
            "0.0    0.958434\n",
            "1.0    0.044818\n",
            "Name: GTGCGACAGCAAAGTCCAAACCAGCGTCCCCGCC, dtype: float64\n",
            "cip_sr\n",
            "0.0    0.933735\n",
            "1.0    0.010504\n",
            "Name: GCGCAGCCGCAAATCTTGTTTTCCCATTCCGCC, dtype: float64\n",
            "cip_sr\n",
            "0.0    0.046386\n",
            "1.0    0.778011\n",
            "Name: AAATTGCGGATCGATGCGCGAAGGGTCGAATGC, dtype: float64\n",
            "cip_sr\n",
            "0.0    0.070482\n",
            "1.0    0.220588\n",
            "Name: GGCATCCCGAAGCCGAATACGGCAACGGCAAGCG, dtype: float64\n"
          ]
        }
      ]
    },
    {
      "cell_type": "markdown",
      "source": [
        "## 6.4. SVC MODEL RESISTANCE MODELS"
      ],
      "metadata": {
        "id": "5fc2kbug5YfX"
      },
      "id": "5fc2kbug5YfX"
    },
    {
      "cell_type": "markdown",
      "source": [
        "**SVC SUBOPTIMAL MODEL**\n",
        "\n",
        "* In previous section, we used the SVC model, using the default hyperparameters, which uses kernel='rbf'\n",
        "* SVC gives us the option to evaluate the feature importance of weights, if we use kernel='linear'\n",
        "* Unlike the tree based feature importance, we will know towards which class the particular feature leans towards (importance wise)\n",
        "* Let's try a default model first, followed by a gridsearchcv optimised model, so we can see if there is any difference in feature importance"
      ],
      "metadata": {
        "id": "f11pesbz5fH_"
      },
      "id": "f11pesbz5fH_"
    },
    {
      "cell_type": "code",
      "source": [
        "''' Define Models used for Testing '''\n",
        "models = []\n",
        "models.append(('SVC',SVC(kernel = 'linear')))\n",
        "\n",
        "# Get case; (Dataset Feature Class)\n",
        "case = get_unitigs()\n",
        "case.get_case('cip_sr')\n",
        "\n",
        "# Standard KFOLD evaluation\n",
        "eval_svc1 = class_eval(data=case, # input the case class\n",
        "                   nfold = 4, # 4 fold kfold\n",
        "                   models=models) # global models tuple list)\n",
        "\n",
        "# Evaluate kfold using selected models\n",
        "eval_svc1.cv(type_id='kfold')  # standard kfold evaluation"
      ],
      "metadata": {
        "id": "C86-7ek96uMR",
        "outputId": "18071642-8518-4f5b-dd58-9d95afa98cf5",
        "colab": {
          "base_uri": "https://localhost:8080/"
        }
      },
      "id": "C86-7ek96uMR",
      "execution_count": 37,
      "outputs": [
        {
          "output_type": "stream",
          "name": "stdout",
          "text": [
            "Target Antibiotic: cip_sr\n",
            "Metadata df: (3786, 30)\n",
            "Metadata df after na() removal (3088, 30)\n",
            "\n",
            "Combining Metadata & Unitigs\n",
            "Unitig Matrix (+target): (3088, 8874)\n",
            "type_id set to: kfold\n",
            "SVC - Test Mean Score: 0.9294 - Total Time: 37.9972\n"
          ]
        }
      ]
    },
    {
      "cell_type": "code",
      "source": [
        "''' Function plots & returns highest weighted features '''\n",
        "# for SVC linear covariance function model in SQ sequence format\n",
        "\n",
        "def fi_svc(classifier, feature_names, top_features=5,verbose=False):\n",
        "\n",
        "    coef = classifier.coef_.ravel()\n",
        "    top_positive_coefficients = np.argsort(coef)[-top_features:]\n",
        "    top_negative_coefficients = np.argsort(coef)[:top_features]\n",
        "    top_coefficients = np.hstack([top_negative_coefficients, top_positive_coefficients])\n",
        "\n",
        "    # plt.title(\"Feature Importances (Support Vector Machine) - Ciprofloxacin Resistance\", y=1.08)\n",
        "    colors = ['crimson' if c < 0 else 'cornflowerblue' for c in coef[top_coefficients]]\n",
        "    feature_names = np.array(feature_names)\n",
        "    lser = pd.Series(data=coef[top_coefficients],index=feature_names[top_coefficients])\n",
        "    fig = px.bar(lser,orientation='h')\n",
        "    fig.update_traces(width=0.5)\n",
        "    fig.update_layout(height=350,template='plotly_white',showlegend=False,\n",
        "                        title=f\"<b>FEATURE IMPORTANCE</b> | SVC\")\n",
        "    fig.show()\n",
        "\n",
        "    # if we print the unitigs, we can then look at what genes they relate to\n",
        "    top_negative_coefficients = np.argsort(coef)[:5]\n",
        "    neg_predictors = np.asarray(feature_names)[top_negative_coefficients]\n",
        "    top_positive_coefficients = np.argsort(coef)[-5:]\n",
        "    pos_predictors = np.asarray(feature_names)[top_positive_coefficients]\n",
        "    if(verbose):\n",
        "        print(\"Top negative predictors: \",neg_predictors)\n",
        "        print(\"Top positive predictors: \",pos_predictors)\n",
        "\n",
        "    # Store the most important features\n",
        "    top_negSeq = []; top_posSeq = []\n",
        "    for i in range(0,top_features):\n",
        "        top_negSeq.append(Seq(neg_predictors[i]))\n",
        "        top_posSeq.append(Seq(pos_predictors[i]))\n",
        "\n",
        "    return top_negSeq, top_posSeq"
      ],
      "metadata": {
        "id": "Knn_e6A1DHBQ"
      },
      "id": "Knn_e6A1DHBQ",
      "execution_count": 38,
      "outputs": []
    },
    {
      "cell_type": "code",
      "source": [
        "eval_svc1.store_models"
      ],
      "metadata": {
        "id": "bcxTJxwxC8R_",
        "outputId": "81a2fa9f-c822-4248-907f-d611b0d1cd98",
        "colab": {
          "base_uri": "https://localhost:8080/"
        }
      },
      "id": "bcxTJxwxC8R_",
      "execution_count": 39,
      "outputs": [
        {
          "output_type": "execute_result",
          "data": {
            "text/plain": [
              "{'SVC_0': SVC(kernel='linear'),\n",
              " 'SVC_1': SVC(kernel='linear'),\n",
              " 'SVC_2': SVC(kernel='linear'),\n",
              " 'SVC_3': SVC(kernel='linear')}"
            ]
          },
          "metadata": {},
          "execution_count": 39
        }
      ]
    },
    {
      "cell_type": "code",
      "source": [
        "neg_predictors,pos_predictors = fi_svc(eval_svc1.store_models['SVC_3'], list(eval_svc1.X.columns))"
      ],
      "metadata": {
        "id": "imejBPBvDBRa",
        "outputId": "6e710934-8afa-4cbb-c3a2-603a44db472d",
        "colab": {
          "base_uri": "https://localhost:8080/",
          "height": 367
        }
      },
      "id": "imejBPBvDBRa",
      "execution_count": 40,
      "outputs": [
        {
          "output_type": "display_data",
          "data": {
            "text/html": [
              "<html>\n",
              "<head><meta charset=\"utf-8\" /></head>\n",
              "<body>\n",
              "    <div>            <script src=\"https://cdnjs.cloudflare.com/ajax/libs/mathjax/2.7.5/MathJax.js?config=TeX-AMS-MML_SVG\"></script><script type=\"text/javascript\">if (window.MathJax && window.MathJax.Hub && window.MathJax.Hub.Config) {window.MathJax.Hub.Config({SVG: {font: \"STIX-Web\"}});}</script>                <script type=\"text/javascript\">window.PlotlyConfig = {MathJaxConfig: 'local'};</script>\n",
              "        <script charset=\"utf-8\" src=\"https://cdn.plot.ly/plotly-2.35.2.min.js\"></script>                <div id=\"7320f86a-8cb8-4122-9233-ead710ce6880\" class=\"plotly-graph-div\" style=\"height:350px; width:100%;\"></div>            <script type=\"text/javascript\">                                    window.PLOTLYENV=window.PLOTLYENV || {};                                    if (document.getElementById(\"7320f86a-8cb8-4122-9233-ead710ce6880\")) {                    Plotly.newPlot(                        \"7320f86a-8cb8-4122-9233-ead710ce6880\",                        [{\"alignmentgroup\":\"True\",\"hovertemplate\":\"variable=0\\u003cbr\\u003evalue=%{x}\\u003cbr\\u003eindex=%{y}\\u003cextra\\u003e\\u003c\\u002fextra\\u003e\",\"legendgroup\":\"0\",\"marker\":{\"color\":\"#636efa\",\"pattern\":{\"shape\":\"\"}},\"name\":\"0\",\"offsetgroup\":\"0\",\"orientation\":\"h\",\"showlegend\":true,\"textposition\":\"auto\",\"x\":[-0.7191757107412965,-0.6085996418203419,-0.4197695730047618,-0.4157289782765005,-0.38859303790004246,0.36901855130334227,0.37718572250829474,0.37718572250829474,0.4417807219606935,0.672140135204467],\"xaxis\":\"x\",\"y\":[\"AACAGATGCGCCGCGAACAGGCGTTCAGACGGG\",\"GTGCAGCGTGTTGTCGAGGTCGAACAGCCACA\",\"GCGCAGCCGCAAATCTTGTTTTCCCATTCCGCC\",\"CCCGGACAAACGGCACTAAATAGAAATAGTGCTTTCTCTATTT\",\"GCCACGCCGAGAAACACACCAAAAACGCACC\",\"CGGATTTTTTGGCGGCTGCCGCAGCCGCGCGCAAG\",\"AGACGGCATTTCGACAAGGAATACGATGGAACTGC\",\"GCGTGCGGGTAGTCTTGCGTGTCGATGCCGAC\",\"AATGAGGCACATGCAGGGCCTTGAAGCGCAAT\",\"TGCCAATGCCGAAGCCGCTGCCACCGATACTCTGAACATCTACAAC\"],\"yaxis\":\"y\",\"type\":\"bar\",\"width\":0.5}],                        {\"template\":{\"data\":{\"barpolar\":[{\"marker\":{\"line\":{\"color\":\"white\",\"width\":0.5},\"pattern\":{\"fillmode\":\"overlay\",\"size\":10,\"solidity\":0.2}},\"type\":\"barpolar\"}],\"bar\":[{\"error_x\":{\"color\":\"#2a3f5f\"},\"error_y\":{\"color\":\"#2a3f5f\"},\"marker\":{\"line\":{\"color\":\"white\",\"width\":0.5},\"pattern\":{\"fillmode\":\"overlay\",\"size\":10,\"solidity\":0.2}},\"type\":\"bar\"}],\"carpet\":[{\"aaxis\":{\"endlinecolor\":\"#2a3f5f\",\"gridcolor\":\"#C8D4E3\",\"linecolor\":\"#C8D4E3\",\"minorgridcolor\":\"#C8D4E3\",\"startlinecolor\":\"#2a3f5f\"},\"baxis\":{\"endlinecolor\":\"#2a3f5f\",\"gridcolor\":\"#C8D4E3\",\"linecolor\":\"#C8D4E3\",\"minorgridcolor\":\"#C8D4E3\",\"startlinecolor\":\"#2a3f5f\"},\"type\":\"carpet\"}],\"choropleth\":[{\"colorbar\":{\"outlinewidth\":0,\"ticks\":\"\"},\"type\":\"choropleth\"}],\"contourcarpet\":[{\"colorbar\":{\"outlinewidth\":0,\"ticks\":\"\"},\"type\":\"contourcarpet\"}],\"contour\":[{\"colorbar\":{\"outlinewidth\":0,\"ticks\":\"\"},\"colorscale\":[[0.0,\"#0d0887\"],[0.1111111111111111,\"#46039f\"],[0.2222222222222222,\"#7201a8\"],[0.3333333333333333,\"#9c179e\"],[0.4444444444444444,\"#bd3786\"],[0.5555555555555556,\"#d8576b\"],[0.6666666666666666,\"#ed7953\"],[0.7777777777777778,\"#fb9f3a\"],[0.8888888888888888,\"#fdca26\"],[1.0,\"#f0f921\"]],\"type\":\"contour\"}],\"heatmapgl\":[{\"colorbar\":{\"outlinewidth\":0,\"ticks\":\"\"},\"colorscale\":[[0.0,\"#0d0887\"],[0.1111111111111111,\"#46039f\"],[0.2222222222222222,\"#7201a8\"],[0.3333333333333333,\"#9c179e\"],[0.4444444444444444,\"#bd3786\"],[0.5555555555555556,\"#d8576b\"],[0.6666666666666666,\"#ed7953\"],[0.7777777777777778,\"#fb9f3a\"],[0.8888888888888888,\"#fdca26\"],[1.0,\"#f0f921\"]],\"type\":\"heatmapgl\"}],\"heatmap\":[{\"colorbar\":{\"outlinewidth\":0,\"ticks\":\"\"},\"colorscale\":[[0.0,\"#0d0887\"],[0.1111111111111111,\"#46039f\"],[0.2222222222222222,\"#7201a8\"],[0.3333333333333333,\"#9c179e\"],[0.4444444444444444,\"#bd3786\"],[0.5555555555555556,\"#d8576b\"],[0.6666666666666666,\"#ed7953\"],[0.7777777777777778,\"#fb9f3a\"],[0.8888888888888888,\"#fdca26\"],[1.0,\"#f0f921\"]],\"type\":\"heatmap\"}],\"histogram2dcontour\":[{\"colorbar\":{\"outlinewidth\":0,\"ticks\":\"\"},\"colorscale\":[[0.0,\"#0d0887\"],[0.1111111111111111,\"#46039f\"],[0.2222222222222222,\"#7201a8\"],[0.3333333333333333,\"#9c179e\"],[0.4444444444444444,\"#bd3786\"],[0.5555555555555556,\"#d8576b\"],[0.6666666666666666,\"#ed7953\"],[0.7777777777777778,\"#fb9f3a\"],[0.8888888888888888,\"#fdca26\"],[1.0,\"#f0f921\"]],\"type\":\"histogram2dcontour\"}],\"histogram2d\":[{\"colorbar\":{\"outlinewidth\":0,\"ticks\":\"\"},\"colorscale\":[[0.0,\"#0d0887\"],[0.1111111111111111,\"#46039f\"],[0.2222222222222222,\"#7201a8\"],[0.3333333333333333,\"#9c179e\"],[0.4444444444444444,\"#bd3786\"],[0.5555555555555556,\"#d8576b\"],[0.6666666666666666,\"#ed7953\"],[0.7777777777777778,\"#fb9f3a\"],[0.8888888888888888,\"#fdca26\"],[1.0,\"#f0f921\"]],\"type\":\"histogram2d\"}],\"histogram\":[{\"marker\":{\"pattern\":{\"fillmode\":\"overlay\",\"size\":10,\"solidity\":0.2}},\"type\":\"histogram\"}],\"mesh3d\":[{\"colorbar\":{\"outlinewidth\":0,\"ticks\":\"\"},\"type\":\"mesh3d\"}],\"parcoords\":[{\"line\":{\"colorbar\":{\"outlinewidth\":0,\"ticks\":\"\"}},\"type\":\"parcoords\"}],\"pie\":[{\"automargin\":true,\"type\":\"pie\"}],\"scatter3d\":[{\"line\":{\"colorbar\":{\"outlinewidth\":0,\"ticks\":\"\"}},\"marker\":{\"colorbar\":{\"outlinewidth\":0,\"ticks\":\"\"}},\"type\":\"scatter3d\"}],\"scattercarpet\":[{\"marker\":{\"colorbar\":{\"outlinewidth\":0,\"ticks\":\"\"}},\"type\":\"scattercarpet\"}],\"scattergeo\":[{\"marker\":{\"colorbar\":{\"outlinewidth\":0,\"ticks\":\"\"}},\"type\":\"scattergeo\"}],\"scattergl\":[{\"marker\":{\"colorbar\":{\"outlinewidth\":0,\"ticks\":\"\"}},\"type\":\"scattergl\"}],\"scattermapbox\":[{\"marker\":{\"colorbar\":{\"outlinewidth\":0,\"ticks\":\"\"}},\"type\":\"scattermapbox\"}],\"scatterpolargl\":[{\"marker\":{\"colorbar\":{\"outlinewidth\":0,\"ticks\":\"\"}},\"type\":\"scatterpolargl\"}],\"scatterpolar\":[{\"marker\":{\"colorbar\":{\"outlinewidth\":0,\"ticks\":\"\"}},\"type\":\"scatterpolar\"}],\"scatter\":[{\"fillpattern\":{\"fillmode\":\"overlay\",\"size\":10,\"solidity\":0.2},\"type\":\"scatter\"}],\"scatterternary\":[{\"marker\":{\"colorbar\":{\"outlinewidth\":0,\"ticks\":\"\"}},\"type\":\"scatterternary\"}],\"surface\":[{\"colorbar\":{\"outlinewidth\":0,\"ticks\":\"\"},\"colorscale\":[[0.0,\"#0d0887\"],[0.1111111111111111,\"#46039f\"],[0.2222222222222222,\"#7201a8\"],[0.3333333333333333,\"#9c179e\"],[0.4444444444444444,\"#bd3786\"],[0.5555555555555556,\"#d8576b\"],[0.6666666666666666,\"#ed7953\"],[0.7777777777777778,\"#fb9f3a\"],[0.8888888888888888,\"#fdca26\"],[1.0,\"#f0f921\"]],\"type\":\"surface\"}],\"table\":[{\"cells\":{\"fill\":{\"color\":\"#EBF0F8\"},\"line\":{\"color\":\"white\"}},\"header\":{\"fill\":{\"color\":\"#C8D4E3\"},\"line\":{\"color\":\"white\"}},\"type\":\"table\"}]},\"layout\":{\"annotationdefaults\":{\"arrowcolor\":\"#2a3f5f\",\"arrowhead\":0,\"arrowwidth\":1},\"autotypenumbers\":\"strict\",\"coloraxis\":{\"colorbar\":{\"outlinewidth\":0,\"ticks\":\"\"}},\"colorscale\":{\"diverging\":[[0,\"#8e0152\"],[0.1,\"#c51b7d\"],[0.2,\"#de77ae\"],[0.3,\"#f1b6da\"],[0.4,\"#fde0ef\"],[0.5,\"#f7f7f7\"],[0.6,\"#e6f5d0\"],[0.7,\"#b8e186\"],[0.8,\"#7fbc41\"],[0.9,\"#4d9221\"],[1,\"#276419\"]],\"sequential\":[[0.0,\"#0d0887\"],[0.1111111111111111,\"#46039f\"],[0.2222222222222222,\"#7201a8\"],[0.3333333333333333,\"#9c179e\"],[0.4444444444444444,\"#bd3786\"],[0.5555555555555556,\"#d8576b\"],[0.6666666666666666,\"#ed7953\"],[0.7777777777777778,\"#fb9f3a\"],[0.8888888888888888,\"#fdca26\"],[1.0,\"#f0f921\"]],\"sequentialminus\":[[0.0,\"#0d0887\"],[0.1111111111111111,\"#46039f\"],[0.2222222222222222,\"#7201a8\"],[0.3333333333333333,\"#9c179e\"],[0.4444444444444444,\"#bd3786\"],[0.5555555555555556,\"#d8576b\"],[0.6666666666666666,\"#ed7953\"],[0.7777777777777778,\"#fb9f3a\"],[0.8888888888888888,\"#fdca26\"],[1.0,\"#f0f921\"]]},\"colorway\":[\"#636efa\",\"#EF553B\",\"#00cc96\",\"#ab63fa\",\"#FFA15A\",\"#19d3f3\",\"#FF6692\",\"#B6E880\",\"#FF97FF\",\"#FECB52\"],\"font\":{\"color\":\"#2a3f5f\"},\"geo\":{\"bgcolor\":\"white\",\"lakecolor\":\"white\",\"landcolor\":\"white\",\"showlakes\":true,\"showland\":true,\"subunitcolor\":\"#C8D4E3\"},\"hoverlabel\":{\"align\":\"left\"},\"hovermode\":\"closest\",\"mapbox\":{\"style\":\"light\"},\"paper_bgcolor\":\"white\",\"plot_bgcolor\":\"white\",\"polar\":{\"angularaxis\":{\"gridcolor\":\"#EBF0F8\",\"linecolor\":\"#EBF0F8\",\"ticks\":\"\"},\"bgcolor\":\"white\",\"radialaxis\":{\"gridcolor\":\"#EBF0F8\",\"linecolor\":\"#EBF0F8\",\"ticks\":\"\"}},\"scene\":{\"xaxis\":{\"backgroundcolor\":\"white\",\"gridcolor\":\"#DFE8F3\",\"gridwidth\":2,\"linecolor\":\"#EBF0F8\",\"showbackground\":true,\"ticks\":\"\",\"zerolinecolor\":\"#EBF0F8\"},\"yaxis\":{\"backgroundcolor\":\"white\",\"gridcolor\":\"#DFE8F3\",\"gridwidth\":2,\"linecolor\":\"#EBF0F8\",\"showbackground\":true,\"ticks\":\"\",\"zerolinecolor\":\"#EBF0F8\"},\"zaxis\":{\"backgroundcolor\":\"white\",\"gridcolor\":\"#DFE8F3\",\"gridwidth\":2,\"linecolor\":\"#EBF0F8\",\"showbackground\":true,\"ticks\":\"\",\"zerolinecolor\":\"#EBF0F8\"}},\"shapedefaults\":{\"line\":{\"color\":\"#2a3f5f\"}},\"ternary\":{\"aaxis\":{\"gridcolor\":\"#DFE8F3\",\"linecolor\":\"#A2B1C6\",\"ticks\":\"\"},\"baxis\":{\"gridcolor\":\"#DFE8F3\",\"linecolor\":\"#A2B1C6\",\"ticks\":\"\"},\"bgcolor\":\"white\",\"caxis\":{\"gridcolor\":\"#DFE8F3\",\"linecolor\":\"#A2B1C6\",\"ticks\":\"\"}},\"title\":{\"x\":0.05},\"xaxis\":{\"automargin\":true,\"gridcolor\":\"#EBF0F8\",\"linecolor\":\"#EBF0F8\",\"ticks\":\"\",\"title\":{\"standoff\":15},\"zerolinecolor\":\"#EBF0F8\",\"zerolinewidth\":2},\"yaxis\":{\"automargin\":true,\"gridcolor\":\"#EBF0F8\",\"linecolor\":\"#EBF0F8\",\"ticks\":\"\",\"title\":{\"standoff\":15},\"zerolinecolor\":\"#EBF0F8\",\"zerolinewidth\":2}}},\"xaxis\":{\"anchor\":\"y\",\"domain\":[0.0,1.0],\"title\":{\"text\":\"value\"}},\"yaxis\":{\"anchor\":\"x\",\"domain\":[0.0,1.0],\"title\":{\"text\":\"index\"}},\"legend\":{\"title\":{\"text\":\"variable\"},\"tracegroupgap\":0},\"margin\":{\"t\":60},\"barmode\":\"relative\",\"height\":350,\"showlegend\":false,\"title\":{\"text\":\"\\u003cb\\u003eFEATURE IMPORTANCE\\u003c\\u002fb\\u003e | SVC\"}},                        {\"responsive\": true}                    ).then(function(){\n",
              "                            \n",
              "var gd = document.getElementById('7320f86a-8cb8-4122-9233-ead710ce6880');\n",
              "var x = new MutationObserver(function (mutations, observer) {{\n",
              "        var display = window.getComputedStyle(gd).display;\n",
              "        if (!display || display === 'none') {{\n",
              "            console.log([gd, 'removed!']);\n",
              "            Plotly.purge(gd);\n",
              "            observer.disconnect();\n",
              "        }}\n",
              "}});\n",
              "\n",
              "// Listen for the removal of the full notebook cells\n",
              "var notebookContainer = gd.closest('#notebook-container');\n",
              "if (notebookContainer) {{\n",
              "    x.observe(notebookContainer, {childList: true});\n",
              "}}\n",
              "\n",
              "// Listen for the clearing of the current output cell\n",
              "var outputEl = gd.closest('.output');\n",
              "if (outputEl) {{\n",
              "    x.observe(outputEl, {childList: true});\n",
              "}}\n",
              "\n",
              "                        })                };                            </script>        </div>\n",
              "</body>\n",
              "</html>"
            ]
          },
          "metadata": {}
        }
      ]
    },
    {
      "cell_type": "code",
      "source": [
        "# return list of sequences list ordered from most to least important\n",
        "neg_predictors"
      ],
      "metadata": {
        "id": "Cs8WmzlNDM6H",
        "outputId": "59dcd341-9d73-4860-8008-5c6c5b20580a",
        "colab": {
          "base_uri": "https://localhost:8080/"
        }
      },
      "id": "Cs8WmzlNDM6H",
      "execution_count": 41,
      "outputs": [
        {
          "output_type": "execute_result",
          "data": {
            "text/plain": [
              "[Seq('AACAGATGCGCCGCGAACAGGCGTTCAGACGGG'),\n",
              " Seq('GTGCAGCGTGTTGTCGAGGTCGAACAGCCACA'),\n",
              " Seq('GCGCAGCCGCAAATCTTGTTTTCCCATTCCGCC'),\n",
              " Seq('CCCGGACAAACGGCACTAAATAGAAATAGTGCTTTCTCTATTT'),\n",
              " Seq('GCCACGCCGAGAAACACACCAAAAACGCACC')]"
            ]
          },
          "metadata": {},
          "execution_count": 41
        }
      ]
    },
    {
      "cell_type": "code",
      "source": [
        "# return list of sequences ordered from least to most important\n",
        "pos_predictors"
      ],
      "metadata": {
        "id": "JHxeRrwrDPcc",
        "outputId": "a4cb83f6-1bed-422d-a35f-6955c5a7a013",
        "colab": {
          "base_uri": "https://localhost:8080/"
        }
      },
      "id": "JHxeRrwrDPcc",
      "execution_count": 42,
      "outputs": [
        {
          "output_type": "execute_result",
          "data": {
            "text/plain": [
              "[Seq('CGGATTTTTTGGCGGCTGCCGCAGCCGCGCGCAAG'),\n",
              " Seq('AGACGGCATTTCGACAAGGAATACGATGGAACTGC'),\n",
              " Seq('GCGTGCGGGTAGTCTTGCGTGTCGATGCCGAC'),\n",
              " Seq('AATGAGGCACATGCAGGGCCTTGAAGCGCAAT'),\n",
              " Seq('TGCCAATGCCGAAGCCGCTGCCACCGATACTCTGAACATCTACAAC')]"
            ]
          },
          "metadata": {},
          "execution_count": 42
        }
      ]
    },
    {
      "cell_type": "markdown",
      "source": [
        "**SVC OPTIMISED MODEL**\n",
        "\n",
        "* The linear covariance function model performed a little worse than those tested in the previous section\n",
        "* Let's see if we can optimise the model a little bit & check if the same features will remain the most important in the model\n",
        "* Let's try a variation in the gamma hyperparameter for the search grid to keep things quite simple"
      ],
      "metadata": {
        "id": "UrLTvPhqQC5F"
      },
      "id": "UrLTvPhqQC5F"
    },
    {
      "cell_type": "code",
      "source": [
        "svm_params = {\n",
        "    'C': [0.01],\n",
        "    'gamma': [1e-06, 1e-05],\n",
        "    'kernel': ['linear']\n",
        "}\n",
        "\n",
        "# Define Model (just the one)\n",
        "svm = SVC(class_weight='balanced')\n",
        "models = []\n",
        "models.append(('SVM',svm,svm_params))\n",
        "\n",
        "# Get Dataset Features\n",
        "case = get_unitigs()\n",
        "case.get_case('cip_sr')\n",
        "\n",
        "eval_svc2 = class_eval(data=case,\n",
        "                   models=models)\n",
        "eval_svc2.gscv()"
      ],
      "metadata": {
        "id": "J45vv3l9QIAd",
        "outputId": "85bc80e2-84bb-4e89-8a59-438ddf99225b",
        "colab": {
          "base_uri": "https://localhost:8080/"
        }
      },
      "id": "J45vv3l9QIAd",
      "execution_count": 43,
      "outputs": [
        {
          "output_type": "stream",
          "name": "stdout",
          "text": [
            "Target Antibiotic: cip_sr\n",
            "Metadata df: (3786, 30)\n",
            "Metadata df after na() removal (3088, 30)\n",
            "\n",
            "Combining Metadata & Unitigs\n",
            "Unitig Matrix (+target): (3088, 8874)\n",
            "\n",
            "kfold 0\n",
            "Train Score: 0.9855 - Test Score: 0.9705\n",
            "Best hyperparameters for this fold\n",
            "{'C': 0.01, 'gamma': 1e-06, 'kernel': 'linear'}\n",
            "Test : Confusion matrix Fold 0\n",
            "[[397  14]\n",
            " [  9 352]]\n",
            "\n",
            "kfold 1\n",
            "Train Score: 0.9924 - Test Score: 0.9048\n",
            "Best hyperparameters for this fold\n",
            "{'C': 0.01, 'gamma': 1e-06, 'kernel': 'linear'}\n",
            "Test : Confusion matrix Fold 1\n",
            "[[373  65]\n",
            " [ 14 320]]\n",
            "\n",
            "kfold 2\n",
            "Train Score: 0.9849 - Test Score: 0.9725\n",
            "Best hyperparameters for this fold\n",
            "{'C': 0.01, 'gamma': 1e-06, 'kernel': 'linear'}\n",
            "Test : Confusion matrix Fold 2\n",
            "[[445   0]\n",
            " [ 18 309]]\n",
            "\n",
            "kfold 3\n",
            "Train Score: 0.9868 - Test Score: 0.9609\n",
            "Best hyperparameters for this fold\n",
            "{'C': 0.01, 'gamma': 1e-06, 'kernel': 'linear'}\n",
            "Test : Confusion matrix Fold 3\n",
            "[[359   7]\n",
            " [ 24 382]]\n",
            "\n",
            " SVM - Test Mean Score: 0.9522\n"
          ]
        }
      ]
    },
    {
      "cell_type": "code",
      "source": [
        "eval_svc2.store_models"
      ],
      "metadata": {
        "id": "hCKEEVZQTBCT",
        "outputId": "a6eb9dbf-2d99-4fca-851b-0f7e48a5bb42",
        "colab": {
          "base_uri": "https://localhost:8080/"
        }
      },
      "id": "hCKEEVZQTBCT",
      "execution_count": 44,
      "outputs": [
        {
          "output_type": "execute_result",
          "data": {
            "text/plain": [
              "{'GS_SVM_0': SVC(C=0.01, class_weight='balanced', gamma=1e-06, kernel='linear'),\n",
              " 'GS_SVM_1': SVC(C=0.01, class_weight='balanced', gamma=1e-06, kernel='linear'),\n",
              " 'GS_SVM_2': SVC(C=0.01, class_weight='balanced', gamma=1e-06, kernel='linear'),\n",
              " 'GS_SVM_3': SVC(C=0.01, class_weight='balanced', gamma=1e-06, kernel='linear')}"
            ]
          },
          "metadata": {},
          "execution_count": 44
        }
      ]
    },
    {
      "cell_type": "code",
      "source": [
        "neg_predictors,pos_predictors = fi_svc(eval_svc2.store_models['GS_SVM_0'], list(eval_svc2.X.columns))"
      ],
      "metadata": {
        "id": "sb73KjAaTCvm",
        "outputId": "23bd8f19-68ec-4b09-de7e-7ad462b135bd",
        "colab": {
          "base_uri": "https://localhost:8080/",
          "height": 367
        }
      },
      "id": "sb73KjAaTCvm",
      "execution_count": 45,
      "outputs": [
        {
          "output_type": "display_data",
          "data": {
            "text/html": [
              "<html>\n",
              "<head><meta charset=\"utf-8\" /></head>\n",
              "<body>\n",
              "    <div>            <script src=\"https://cdnjs.cloudflare.com/ajax/libs/mathjax/2.7.5/MathJax.js?config=TeX-AMS-MML_SVG\"></script><script type=\"text/javascript\">if (window.MathJax && window.MathJax.Hub && window.MathJax.Hub.Config) {window.MathJax.Hub.Config({SVG: {font: \"STIX-Web\"}});}</script>                <script type=\"text/javascript\">window.PlotlyConfig = {MathJaxConfig: 'local'};</script>\n",
              "        <script charset=\"utf-8\" src=\"https://cdn.plot.ly/plotly-2.35.2.min.js\"></script>                <div id=\"06461274-10cd-4f13-abb9-beeb9b383fc2\" class=\"plotly-graph-div\" style=\"height:350px; width:100%;\"></div>            <script type=\"text/javascript\">                                    window.PLOTLYENV=window.PLOTLYENV || {};                                    if (document.getElementById(\"06461274-10cd-4f13-abb9-beeb9b383fc2\")) {                    Plotly.newPlot(                        \"06461274-10cd-4f13-abb9-beeb9b383fc2\",                        [{\"alignmentgroup\":\"True\",\"hovertemplate\":\"variable=0\\u003cbr\\u003evalue=%{x}\\u003cbr\\u003eindex=%{y}\\u003cextra\\u003e\\u003c\\u002fextra\\u003e\",\"legendgroup\":\"0\",\"marker\":{\"color\":\"#636efa\",\"pattern\":{\"shape\":\"\"}},\"name\":\"0\",\"offsetgroup\":\"0\",\"orientation\":\"h\",\"showlegend\":true,\"textposition\":\"auto\",\"x\":[-0.25960739343114153,-0.24953519019002401,-0.06923163588363324,-0.06665225460645251,-0.062319268865755166,0.0684238573124973,0.07411303906628011,0.0778064685842551,0.08106488372919134,0.08131678520426507],\"xaxis\":\"x\",\"y\":[\"GTGCGACAGCAAAGTCCAAACCAGCGTCCCCGCC\",\"GCGCAGCCGCAAATCTTGTTTTCCCATTCCGCC\",\"GCCGAAATATTCCGTCAGCAGTTTTTCCCCC\",\"AACAGATGCGCCGCGAACAGGCGTTCAGACGGG\",\"AGAACATTGCGCCTGTTTATGACACAATTGGCAATAAAAAA\",\"CGTCTGAAAAAACACAATATCGATGTCTATATTATGAGCGGCGA\",\"ATGACCGAACAACACTTTACCGAACAAATCAAATCCCTAATCGACAGCTTAAAAACCAT\",\"CATAAAGTTTCCTTGTTTTATTGAAATATAAATCG\",\"ATCCGGCAAAAAACGGAGGCGGCAGGAAACA\",\"TTACCCGTAATTTCAAAAATATCCCTTACGCCG\"],\"yaxis\":\"y\",\"type\":\"bar\",\"width\":0.5}],                        {\"template\":{\"data\":{\"barpolar\":[{\"marker\":{\"line\":{\"color\":\"white\",\"width\":0.5},\"pattern\":{\"fillmode\":\"overlay\",\"size\":10,\"solidity\":0.2}},\"type\":\"barpolar\"}],\"bar\":[{\"error_x\":{\"color\":\"#2a3f5f\"},\"error_y\":{\"color\":\"#2a3f5f\"},\"marker\":{\"line\":{\"color\":\"white\",\"width\":0.5},\"pattern\":{\"fillmode\":\"overlay\",\"size\":10,\"solidity\":0.2}},\"type\":\"bar\"}],\"carpet\":[{\"aaxis\":{\"endlinecolor\":\"#2a3f5f\",\"gridcolor\":\"#C8D4E3\",\"linecolor\":\"#C8D4E3\",\"minorgridcolor\":\"#C8D4E3\",\"startlinecolor\":\"#2a3f5f\"},\"baxis\":{\"endlinecolor\":\"#2a3f5f\",\"gridcolor\":\"#C8D4E3\",\"linecolor\":\"#C8D4E3\",\"minorgridcolor\":\"#C8D4E3\",\"startlinecolor\":\"#2a3f5f\"},\"type\":\"carpet\"}],\"choropleth\":[{\"colorbar\":{\"outlinewidth\":0,\"ticks\":\"\"},\"type\":\"choropleth\"}],\"contourcarpet\":[{\"colorbar\":{\"outlinewidth\":0,\"ticks\":\"\"},\"type\":\"contourcarpet\"}],\"contour\":[{\"colorbar\":{\"outlinewidth\":0,\"ticks\":\"\"},\"colorscale\":[[0.0,\"#0d0887\"],[0.1111111111111111,\"#46039f\"],[0.2222222222222222,\"#7201a8\"],[0.3333333333333333,\"#9c179e\"],[0.4444444444444444,\"#bd3786\"],[0.5555555555555556,\"#d8576b\"],[0.6666666666666666,\"#ed7953\"],[0.7777777777777778,\"#fb9f3a\"],[0.8888888888888888,\"#fdca26\"],[1.0,\"#f0f921\"]],\"type\":\"contour\"}],\"heatmapgl\":[{\"colorbar\":{\"outlinewidth\":0,\"ticks\":\"\"},\"colorscale\":[[0.0,\"#0d0887\"],[0.1111111111111111,\"#46039f\"],[0.2222222222222222,\"#7201a8\"],[0.3333333333333333,\"#9c179e\"],[0.4444444444444444,\"#bd3786\"],[0.5555555555555556,\"#d8576b\"],[0.6666666666666666,\"#ed7953\"],[0.7777777777777778,\"#fb9f3a\"],[0.8888888888888888,\"#fdca26\"],[1.0,\"#f0f921\"]],\"type\":\"heatmapgl\"}],\"heatmap\":[{\"colorbar\":{\"outlinewidth\":0,\"ticks\":\"\"},\"colorscale\":[[0.0,\"#0d0887\"],[0.1111111111111111,\"#46039f\"],[0.2222222222222222,\"#7201a8\"],[0.3333333333333333,\"#9c179e\"],[0.4444444444444444,\"#bd3786\"],[0.5555555555555556,\"#d8576b\"],[0.6666666666666666,\"#ed7953\"],[0.7777777777777778,\"#fb9f3a\"],[0.8888888888888888,\"#fdca26\"],[1.0,\"#f0f921\"]],\"type\":\"heatmap\"}],\"histogram2dcontour\":[{\"colorbar\":{\"outlinewidth\":0,\"ticks\":\"\"},\"colorscale\":[[0.0,\"#0d0887\"],[0.1111111111111111,\"#46039f\"],[0.2222222222222222,\"#7201a8\"],[0.3333333333333333,\"#9c179e\"],[0.4444444444444444,\"#bd3786\"],[0.5555555555555556,\"#d8576b\"],[0.6666666666666666,\"#ed7953\"],[0.7777777777777778,\"#fb9f3a\"],[0.8888888888888888,\"#fdca26\"],[1.0,\"#f0f921\"]],\"type\":\"histogram2dcontour\"}],\"histogram2d\":[{\"colorbar\":{\"outlinewidth\":0,\"ticks\":\"\"},\"colorscale\":[[0.0,\"#0d0887\"],[0.1111111111111111,\"#46039f\"],[0.2222222222222222,\"#7201a8\"],[0.3333333333333333,\"#9c179e\"],[0.4444444444444444,\"#bd3786\"],[0.5555555555555556,\"#d8576b\"],[0.6666666666666666,\"#ed7953\"],[0.7777777777777778,\"#fb9f3a\"],[0.8888888888888888,\"#fdca26\"],[1.0,\"#f0f921\"]],\"type\":\"histogram2d\"}],\"histogram\":[{\"marker\":{\"pattern\":{\"fillmode\":\"overlay\",\"size\":10,\"solidity\":0.2}},\"type\":\"histogram\"}],\"mesh3d\":[{\"colorbar\":{\"outlinewidth\":0,\"ticks\":\"\"},\"type\":\"mesh3d\"}],\"parcoords\":[{\"line\":{\"colorbar\":{\"outlinewidth\":0,\"ticks\":\"\"}},\"type\":\"parcoords\"}],\"pie\":[{\"automargin\":true,\"type\":\"pie\"}],\"scatter3d\":[{\"line\":{\"colorbar\":{\"outlinewidth\":0,\"ticks\":\"\"}},\"marker\":{\"colorbar\":{\"outlinewidth\":0,\"ticks\":\"\"}},\"type\":\"scatter3d\"}],\"scattercarpet\":[{\"marker\":{\"colorbar\":{\"outlinewidth\":0,\"ticks\":\"\"}},\"type\":\"scattercarpet\"}],\"scattergeo\":[{\"marker\":{\"colorbar\":{\"outlinewidth\":0,\"ticks\":\"\"}},\"type\":\"scattergeo\"}],\"scattergl\":[{\"marker\":{\"colorbar\":{\"outlinewidth\":0,\"ticks\":\"\"}},\"type\":\"scattergl\"}],\"scattermapbox\":[{\"marker\":{\"colorbar\":{\"outlinewidth\":0,\"ticks\":\"\"}},\"type\":\"scattermapbox\"}],\"scatterpolargl\":[{\"marker\":{\"colorbar\":{\"outlinewidth\":0,\"ticks\":\"\"}},\"type\":\"scatterpolargl\"}],\"scatterpolar\":[{\"marker\":{\"colorbar\":{\"outlinewidth\":0,\"ticks\":\"\"}},\"type\":\"scatterpolar\"}],\"scatter\":[{\"fillpattern\":{\"fillmode\":\"overlay\",\"size\":10,\"solidity\":0.2},\"type\":\"scatter\"}],\"scatterternary\":[{\"marker\":{\"colorbar\":{\"outlinewidth\":0,\"ticks\":\"\"}},\"type\":\"scatterternary\"}],\"surface\":[{\"colorbar\":{\"outlinewidth\":0,\"ticks\":\"\"},\"colorscale\":[[0.0,\"#0d0887\"],[0.1111111111111111,\"#46039f\"],[0.2222222222222222,\"#7201a8\"],[0.3333333333333333,\"#9c179e\"],[0.4444444444444444,\"#bd3786\"],[0.5555555555555556,\"#d8576b\"],[0.6666666666666666,\"#ed7953\"],[0.7777777777777778,\"#fb9f3a\"],[0.8888888888888888,\"#fdca26\"],[1.0,\"#f0f921\"]],\"type\":\"surface\"}],\"table\":[{\"cells\":{\"fill\":{\"color\":\"#EBF0F8\"},\"line\":{\"color\":\"white\"}},\"header\":{\"fill\":{\"color\":\"#C8D4E3\"},\"line\":{\"color\":\"white\"}},\"type\":\"table\"}]},\"layout\":{\"annotationdefaults\":{\"arrowcolor\":\"#2a3f5f\",\"arrowhead\":0,\"arrowwidth\":1},\"autotypenumbers\":\"strict\",\"coloraxis\":{\"colorbar\":{\"outlinewidth\":0,\"ticks\":\"\"}},\"colorscale\":{\"diverging\":[[0,\"#8e0152\"],[0.1,\"#c51b7d\"],[0.2,\"#de77ae\"],[0.3,\"#f1b6da\"],[0.4,\"#fde0ef\"],[0.5,\"#f7f7f7\"],[0.6,\"#e6f5d0\"],[0.7,\"#b8e186\"],[0.8,\"#7fbc41\"],[0.9,\"#4d9221\"],[1,\"#276419\"]],\"sequential\":[[0.0,\"#0d0887\"],[0.1111111111111111,\"#46039f\"],[0.2222222222222222,\"#7201a8\"],[0.3333333333333333,\"#9c179e\"],[0.4444444444444444,\"#bd3786\"],[0.5555555555555556,\"#d8576b\"],[0.6666666666666666,\"#ed7953\"],[0.7777777777777778,\"#fb9f3a\"],[0.8888888888888888,\"#fdca26\"],[1.0,\"#f0f921\"]],\"sequentialminus\":[[0.0,\"#0d0887\"],[0.1111111111111111,\"#46039f\"],[0.2222222222222222,\"#7201a8\"],[0.3333333333333333,\"#9c179e\"],[0.4444444444444444,\"#bd3786\"],[0.5555555555555556,\"#d8576b\"],[0.6666666666666666,\"#ed7953\"],[0.7777777777777778,\"#fb9f3a\"],[0.8888888888888888,\"#fdca26\"],[1.0,\"#f0f921\"]]},\"colorway\":[\"#636efa\",\"#EF553B\",\"#00cc96\",\"#ab63fa\",\"#FFA15A\",\"#19d3f3\",\"#FF6692\",\"#B6E880\",\"#FF97FF\",\"#FECB52\"],\"font\":{\"color\":\"#2a3f5f\"},\"geo\":{\"bgcolor\":\"white\",\"lakecolor\":\"white\",\"landcolor\":\"white\",\"showlakes\":true,\"showland\":true,\"subunitcolor\":\"#C8D4E3\"},\"hoverlabel\":{\"align\":\"left\"},\"hovermode\":\"closest\",\"mapbox\":{\"style\":\"light\"},\"paper_bgcolor\":\"white\",\"plot_bgcolor\":\"white\",\"polar\":{\"angularaxis\":{\"gridcolor\":\"#EBF0F8\",\"linecolor\":\"#EBF0F8\",\"ticks\":\"\"},\"bgcolor\":\"white\",\"radialaxis\":{\"gridcolor\":\"#EBF0F8\",\"linecolor\":\"#EBF0F8\",\"ticks\":\"\"}},\"scene\":{\"xaxis\":{\"backgroundcolor\":\"white\",\"gridcolor\":\"#DFE8F3\",\"gridwidth\":2,\"linecolor\":\"#EBF0F8\",\"showbackground\":true,\"ticks\":\"\",\"zerolinecolor\":\"#EBF0F8\"},\"yaxis\":{\"backgroundcolor\":\"white\",\"gridcolor\":\"#DFE8F3\",\"gridwidth\":2,\"linecolor\":\"#EBF0F8\",\"showbackground\":true,\"ticks\":\"\",\"zerolinecolor\":\"#EBF0F8\"},\"zaxis\":{\"backgroundcolor\":\"white\",\"gridcolor\":\"#DFE8F3\",\"gridwidth\":2,\"linecolor\":\"#EBF0F8\",\"showbackground\":true,\"ticks\":\"\",\"zerolinecolor\":\"#EBF0F8\"}},\"shapedefaults\":{\"line\":{\"color\":\"#2a3f5f\"}},\"ternary\":{\"aaxis\":{\"gridcolor\":\"#DFE8F3\",\"linecolor\":\"#A2B1C6\",\"ticks\":\"\"},\"baxis\":{\"gridcolor\":\"#DFE8F3\",\"linecolor\":\"#A2B1C6\",\"ticks\":\"\"},\"bgcolor\":\"white\",\"caxis\":{\"gridcolor\":\"#DFE8F3\",\"linecolor\":\"#A2B1C6\",\"ticks\":\"\"}},\"title\":{\"x\":0.05},\"xaxis\":{\"automargin\":true,\"gridcolor\":\"#EBF0F8\",\"linecolor\":\"#EBF0F8\",\"ticks\":\"\",\"title\":{\"standoff\":15},\"zerolinecolor\":\"#EBF0F8\",\"zerolinewidth\":2},\"yaxis\":{\"automargin\":true,\"gridcolor\":\"#EBF0F8\",\"linecolor\":\"#EBF0F8\",\"ticks\":\"\",\"title\":{\"standoff\":15},\"zerolinecolor\":\"#EBF0F8\",\"zerolinewidth\":2}}},\"xaxis\":{\"anchor\":\"y\",\"domain\":[0.0,1.0],\"title\":{\"text\":\"value\"}},\"yaxis\":{\"anchor\":\"x\",\"domain\":[0.0,1.0],\"title\":{\"text\":\"index\"}},\"legend\":{\"title\":{\"text\":\"variable\"},\"tracegroupgap\":0},\"margin\":{\"t\":60},\"barmode\":\"relative\",\"height\":350,\"showlegend\":false,\"title\":{\"text\":\"\\u003cb\\u003eFEATURE IMPORTANCE\\u003c\\u002fb\\u003e | SVC\"}},                        {\"responsive\": true}                    ).then(function(){\n",
              "                            \n",
              "var gd = document.getElementById('06461274-10cd-4f13-abb9-beeb9b383fc2');\n",
              "var x = new MutationObserver(function (mutations, observer) {{\n",
              "        var display = window.getComputedStyle(gd).display;\n",
              "        if (!display || display === 'none') {{\n",
              "            console.log([gd, 'removed!']);\n",
              "            Plotly.purge(gd);\n",
              "            observer.disconnect();\n",
              "        }}\n",
              "}});\n",
              "\n",
              "// Listen for the removal of the full notebook cells\n",
              "var notebookContainer = gd.closest('#notebook-container');\n",
              "if (notebookContainer) {{\n",
              "    x.observe(notebookContainer, {childList: true});\n",
              "}}\n",
              "\n",
              "// Listen for the clearing of the current output cell\n",
              "var outputEl = gd.closest('.output');\n",
              "if (outputEl) {{\n",
              "    x.observe(outputEl, {childList: true});\n",
              "}}\n",
              "\n",
              "                        })                };                            </script>        </div>\n",
              "</body>\n",
              "</html>"
            ]
          },
          "metadata": {}
        }
      ]
    },
    {
      "cell_type": "code",
      "source": [
        "# return list of sequences list ordered from most to least important\n",
        "neg_predictors"
      ],
      "metadata": {
        "id": "ksgoVgnyTFKf",
        "outputId": "cadb978c-5cdc-461b-8bc1-431da09907fe",
        "colab": {
          "base_uri": "https://localhost:8080/"
        }
      },
      "id": "ksgoVgnyTFKf",
      "execution_count": 46,
      "outputs": [
        {
          "output_type": "execute_result",
          "data": {
            "text/plain": [
              "[Seq('GTGCGACAGCAAAGTCCAAACCAGCGTCCCCGCC'),\n",
              " Seq('GCGCAGCCGCAAATCTTGTTTTCCCATTCCGCC'),\n",
              " Seq('GCCGAAATATTCCGTCAGCAGTTTTTCCCCC'),\n",
              " Seq('AACAGATGCGCCGCGAACAGGCGTTCAGACGGG'),\n",
              " Seq('AGAACATTGCGCCTGTTTATGACACAATTGGCAATAAAAAA')]"
            ]
          },
          "metadata": {},
          "execution_count": 46
        }
      ]
    },
    {
      "cell_type": "code",
      "source": [
        "# return list of sequences ordered from least to most important\n",
        "pos_predictors"
      ],
      "metadata": {
        "id": "8HqmaNskTG2W",
        "outputId": "4b506529-c30d-44bf-fe04-9b0c4f4f46f5",
        "colab": {
          "base_uri": "https://localhost:8080/"
        }
      },
      "id": "8HqmaNskTG2W",
      "execution_count": 47,
      "outputs": [
        {
          "output_type": "execute_result",
          "data": {
            "text/plain": [
              "[Seq('CGTCTGAAAAAACACAATATCGATGTCTATATTATGAGCGGCGA'),\n",
              " Seq('ATGACCGAACAACACTTTACCGAACAAATCAAATCCCTAATCGACAGCTTAAAAACCAT'),\n",
              " Seq('CATAAAGTTTCCTTGTTTTATTGAAATATAAATCG'),\n",
              " Seq('ATCCGGCAAAAAACGGAGGCGGCAGGAAACA'),\n",
              " Seq('TTACCCGTAATTTCAAAAATATCCCTTACGCCG')]"
            ]
          },
          "metadata": {},
          "execution_count": 47
        }
      ]
    }
  ],
  "metadata": {
    "kernelspec": {
      "display_name": "Python 3",
      "name": "python3"
    },
    "language_info": {
      "codemirror_mode": {
        "name": "ipython",
        "version": 3
      },
      "file_extension": ".py",
      "mimetype": "text/x-python",
      "name": "python",
      "nbconvert_exporter": "python",
      "pygments_lexer": "ipython3",
      "version": "3.10.16"
    },
    "colab": {
      "provenance": [],
      "machine_shape": "hm",
      "gpuType": "T4",
      "include_colab_link": true
    },
    "accelerator": "GPU"
  },
  "nbformat": 4,
  "nbformat_minor": 5
}