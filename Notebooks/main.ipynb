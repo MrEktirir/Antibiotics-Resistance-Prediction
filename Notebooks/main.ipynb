{
  "cells": [
    {
      "cell_type": "markdown",
      "metadata": {
        "id": "view-in-github",
        "colab_type": "text"
      },
      "source": [
        "<a href=\"https://colab.research.google.com/github/MrEktirir/Antibiotics-Resistance-Prediction/blob/feature%2Fdata-preparation-fix/Notebooks/main.ipynb\" target=\"_parent\"><img src=\"https://colab.research.google.com/assets/colab-badge.svg\" alt=\"Open In Colab\"/></a>"
      ]
    },
    {
      "cell_type": "markdown",
      "source": [
        "# Libraries"
      ],
      "metadata": {
        "id": "K52bKNx6dnhU"
      },
      "id": "K52bKNx6dnhU"
    },
    {
      "cell_type": "markdown",
      "source": [
        "from google.colab import drive\n",
        "drive.mount('/content/drive')"
      ],
      "metadata": {
        "id": "xCBRbZHdS7Rz"
      },
      "id": "xCBRbZHdS7Rz"
    },
    {
      "cell_type": "code",
      "execution_count": 11,
      "id": "fdb5bef6",
      "metadata": {
        "id": "fdb5bef6"
      },
      "outputs": [],
      "source": [
        "import pandas as pd\n",
        "import numpy as np\n",
        "import matplotlib.pyplot as plt\n",
        "import seaborn as sns"
      ]
    },
    {
      "cell_type": "code",
      "source": [
        "from google.colab import drive\n",
        "drive.mount('/content/drive')"
      ],
      "metadata": {
        "id": "M6GCwQr7xkOm",
        "outputId": "10f1e386-1519-43c0-b8ef-b10a7d41fcae",
        "colab": {
          "base_uri": "https://localhost:8080/"
        }
      },
      "id": "M6GCwQr7xkOm",
      "execution_count": 12,
      "outputs": [
        {
          "output_type": "stream",
          "name": "stdout",
          "text": [
            "Drive already mounted at /content/drive; to attempt to forcibly remount, call drive.mount(\"/content/drive\", force_remount=True).\n"
          ]
        }
      ]
    },
    {
      "cell_type": "markdown",
      "source": [
        "# Reading Files"
      ],
      "metadata": {
        "id": "1LGnoCF392-x"
      },
      "id": "1LGnoCF392-x"
    },
    {
      "cell_type": "code",
      "source": [
        "azm_sr_df = pd.read_csv('/content/drive/MyDrive/Dataset/azm_sr_gwas_filtered_unitigs.Rtab', sep=\"\\t\")\n",
        "cfx_sr_df = pd.read_csv('/content/drive/MyDrive/Dataset/cfx_sr_gwas_filtered_unitigs.Rtab', sep=\"\\t\")\n",
        "cip_sr_df = pd.read_csv('/content/drive/MyDrive/Dataset/cip_sr_gwas_filtered_unitigs.Rtab', sep=\"\\t\")\n",
        "metadata_df = pd.read_csv('/content/drive/MyDrive/Dataset/metadata.csv')"
      ],
      "metadata": {
        "id": "RUNAkltE9elS"
      },
      "id": "RUNAkltE9elS",
      "execution_count": 21,
      "outputs": []
    },
    {
      "cell_type": "markdown",
      "source": [
        "# Basic Stats"
      ],
      "metadata": {
        "id": "8WeXQ3Ia_Mle"
      },
      "id": "8WeXQ3Ia_Mle"
    },
    {
      "cell_type": "code",
      "source": [
        "azm_sr_df = azm_sr_df.T"
      ],
      "metadata": {
        "id": "ed8aY0d4N3-y"
      },
      "id": "ed8aY0d4N3-y",
      "execution_count": 36,
      "outputs": []
    },
    {
      "cell_type": "code",
      "source": [
        "azm_sr_df.shape"
      ],
      "metadata": {
        "id": "TRiglgDf-YrS",
        "outputId": "1561c0bd-a122-4b46-ce98-4f4843ee99bd",
        "colab": {
          "base_uri": "https://localhost:8080/"
        }
      },
      "id": "TRiglgDf-YrS",
      "execution_count": 37,
      "outputs": [
        {
          "output_type": "execute_result",
          "data": {
            "text/plain": [
              "(1, 515)"
            ]
          },
          "metadata": {},
          "execution_count": 37
        }
      ]
    },
    {
      "cell_type": "code",
      "source": [
        "cfx_sr_df.shape"
      ],
      "metadata": {
        "id": "ljS21uRn_Bcw",
        "outputId": "c0329294-caf7-4484-fc1c-455542f7408a",
        "colab": {
          "base_uri": "https://localhost:8080/"
        }
      },
      "id": "ljS21uRn_Bcw",
      "execution_count": 24,
      "outputs": [
        {
          "output_type": "execute_result",
          "data": {
            "text/plain": [
              "(384, 1)"
            ]
          },
          "metadata": {},
          "execution_count": 24
        }
      ]
    },
    {
      "cell_type": "code",
      "source": [
        "cip_sr_df.shape"
      ],
      "metadata": {
        "id": "p8PCFv4c_EMV",
        "outputId": "aa7e1cfd-a00a-498a-aacf-da00a0bf032b",
        "colab": {
          "base_uri": "https://localhost:8080/"
        }
      },
      "id": "p8PCFv4c_EMV",
      "execution_count": 26,
      "outputs": [
        {
          "output_type": "execute_result",
          "data": {
            "text/plain": [
              "(8873, 1)"
            ]
          },
          "metadata": {},
          "execution_count": 26
        }
      ]
    },
    {
      "cell_type": "code",
      "source": [
        "metadata_df.shape"
      ],
      "metadata": {
        "id": "hCRFUXls_Iot",
        "outputId": "67fb4993-0d29-4591-9514-459d2a4a8279",
        "colab": {
          "base_uri": "https://localhost:8080/"
        }
      },
      "id": "hCRFUXls_Iot",
      "execution_count": 27,
      "outputs": [
        {
          "output_type": "execute_result",
          "data": {
            "text/plain": [
              "(3786, 31)"
            ]
          },
          "metadata": {},
          "execution_count": 27
        }
      ]
    },
    {
      "cell_type": "code",
      "source": [
        "metadata_df.describe()"
      ],
      "metadata": {
        "id": "1uwWcKI0G9pv",
        "outputId": "e7080e9c-8c89-4700-917c-00828560bb08",
        "colab": {
          "base_uri": "https://localhost:8080/",
          "height": 320
        }
      },
      "id": "1uwWcKI0G9pv",
      "execution_count": 29,
      "outputs": [
        {
          "output_type": "execute_result",
          "data": {
            "text/plain": [
              "              Year        Group      azm_mic      cip_mic      cro_mic  \\\n",
              "count  3536.000000  3786.000000  3478.000000  3088.000000  3434.000000   \n",
              "mean   2010.300622   394.334390    17.118781     7.428788     0.029991   \n",
              "std       4.670817   326.263267    90.864520    11.266796     0.080375   \n",
              "min    1979.000000     0.000000     0.004000     0.001000     0.000250   \n",
              "25%    2009.000000   134.000000     0.125000     0.004000     0.004000   \n",
              "50%    2012.000000   275.000000     0.380000     0.094000     0.015000   \n",
              "75%    2013.000000   618.000000     1.000000    16.000000     0.032000   \n",
              "max    2017.000000  1078.000000  1024.000000    64.000000     2.000000   \n",
              "\n",
              "           cfx_mic     tet_mic      pen_mic  log2_azm_mic  log2_cip_mic  \\\n",
              "count  3401.000000  1472.00000  1465.000000   3478.000000   3088.000000   \n",
              "mean      0.064405     7.38609     3.044142     -1.107628     -2.043590   \n",
              "std       0.199151    22.10079    15.447995      2.749441      5.444110   \n",
              "min       0.001000     0.00800     0.002000     -7.965784     -9.965784   \n",
              "25%       0.015000     0.50000     0.250000     -3.000000     -7.965784   \n",
              "50%       0.016000     2.00000     0.500000     -1.395929     -3.411195   \n",
              "75%       0.060000     4.00000     2.000000      0.000000      4.000000   \n",
              "max       8.000000   256.00000   512.000000     10.000000      6.000000   \n",
              "\n",
              "       log2_cro_mic  log2_cfx_mic  log2_tet_mic  log2_pen_mic       azm_sr  \\\n",
              "count   3434.000000   3401.000000   1472.000000   1465.000000  3478.000000   \n",
              "mean      -6.203940     -5.164221      0.835492     -0.427788     0.128522   \n",
              "std        1.772691      1.664672      2.337490      2.259337     0.334718   \n",
              "min      -11.965784     -9.965784     -6.965784     -8.965784     0.000000   \n",
              "25%       -7.965784     -6.058894     -1.000000     -2.000000     0.000000   \n",
              "50%       -6.058894     -5.965784      1.000000     -1.000000     0.000000   \n",
              "75%       -4.965784     -4.058894      2.000000      1.000000     0.000000   \n",
              "max        1.000000      3.000000      8.000000      9.000000     1.000000   \n",
              "\n",
              "            cip_sr       cro_sr      cfx_sr       tet_sr      pen_sr  \n",
              "count  3088.000000  3434.000000  3401.00000  1472.000000  1465.00000  \n",
              "mean      0.462435     0.001165     0.00147     0.554348     0.34744  \n",
              "std       0.498668     0.034115     0.03832     0.497206     0.47632  \n",
              "min       0.000000     0.000000     0.00000     0.000000     0.00000  \n",
              "25%       0.000000     0.000000     0.00000     0.000000     0.00000  \n",
              "50%       0.000000     0.000000     0.00000     1.000000     0.00000  \n",
              "75%       1.000000     0.000000     0.00000     1.000000     1.00000  \n",
              "max       1.000000     1.000000     1.00000     1.000000     1.00000  "
            ],
            "text/html": [
              "\n",
              "  <div id=\"df-0be6546d-2d40-46fc-a538-ecd145e2b149\" class=\"colab-df-container\">\n",
              "    <div>\n",
              "<style scoped>\n",
              "    .dataframe tbody tr th:only-of-type {\n",
              "        vertical-align: middle;\n",
              "    }\n",
              "\n",
              "    .dataframe tbody tr th {\n",
              "        vertical-align: top;\n",
              "    }\n",
              "\n",
              "    .dataframe thead th {\n",
              "        text-align: right;\n",
              "    }\n",
              "</style>\n",
              "<table border=\"1\" class=\"dataframe\">\n",
              "  <thead>\n",
              "    <tr style=\"text-align: right;\">\n",
              "      <th></th>\n",
              "      <th>Year</th>\n",
              "      <th>Group</th>\n",
              "      <th>azm_mic</th>\n",
              "      <th>cip_mic</th>\n",
              "      <th>cro_mic</th>\n",
              "      <th>cfx_mic</th>\n",
              "      <th>tet_mic</th>\n",
              "      <th>pen_mic</th>\n",
              "      <th>log2_azm_mic</th>\n",
              "      <th>log2_cip_mic</th>\n",
              "      <th>log2_cro_mic</th>\n",
              "      <th>log2_cfx_mic</th>\n",
              "      <th>log2_tet_mic</th>\n",
              "      <th>log2_pen_mic</th>\n",
              "      <th>azm_sr</th>\n",
              "      <th>cip_sr</th>\n",
              "      <th>cro_sr</th>\n",
              "      <th>cfx_sr</th>\n",
              "      <th>tet_sr</th>\n",
              "      <th>pen_sr</th>\n",
              "    </tr>\n",
              "  </thead>\n",
              "  <tbody>\n",
              "    <tr>\n",
              "      <th>count</th>\n",
              "      <td>3536.000000</td>\n",
              "      <td>3786.000000</td>\n",
              "      <td>3478.000000</td>\n",
              "      <td>3088.000000</td>\n",
              "      <td>3434.000000</td>\n",
              "      <td>3401.000000</td>\n",
              "      <td>1472.00000</td>\n",
              "      <td>1465.000000</td>\n",
              "      <td>3478.000000</td>\n",
              "      <td>3088.000000</td>\n",
              "      <td>3434.000000</td>\n",
              "      <td>3401.000000</td>\n",
              "      <td>1472.000000</td>\n",
              "      <td>1465.000000</td>\n",
              "      <td>3478.000000</td>\n",
              "      <td>3088.000000</td>\n",
              "      <td>3434.000000</td>\n",
              "      <td>3401.00000</td>\n",
              "      <td>1472.000000</td>\n",
              "      <td>1465.00000</td>\n",
              "    </tr>\n",
              "    <tr>\n",
              "      <th>mean</th>\n",
              "      <td>2010.300622</td>\n",
              "      <td>394.334390</td>\n",
              "      <td>17.118781</td>\n",
              "      <td>7.428788</td>\n",
              "      <td>0.029991</td>\n",
              "      <td>0.064405</td>\n",
              "      <td>7.38609</td>\n",
              "      <td>3.044142</td>\n",
              "      <td>-1.107628</td>\n",
              "      <td>-2.043590</td>\n",
              "      <td>-6.203940</td>\n",
              "      <td>-5.164221</td>\n",
              "      <td>0.835492</td>\n",
              "      <td>-0.427788</td>\n",
              "      <td>0.128522</td>\n",
              "      <td>0.462435</td>\n",
              "      <td>0.001165</td>\n",
              "      <td>0.00147</td>\n",
              "      <td>0.554348</td>\n",
              "      <td>0.34744</td>\n",
              "    </tr>\n",
              "    <tr>\n",
              "      <th>std</th>\n",
              "      <td>4.670817</td>\n",
              "      <td>326.263267</td>\n",
              "      <td>90.864520</td>\n",
              "      <td>11.266796</td>\n",
              "      <td>0.080375</td>\n",
              "      <td>0.199151</td>\n",
              "      <td>22.10079</td>\n",
              "      <td>15.447995</td>\n",
              "      <td>2.749441</td>\n",
              "      <td>5.444110</td>\n",
              "      <td>1.772691</td>\n",
              "      <td>1.664672</td>\n",
              "      <td>2.337490</td>\n",
              "      <td>2.259337</td>\n",
              "      <td>0.334718</td>\n",
              "      <td>0.498668</td>\n",
              "      <td>0.034115</td>\n",
              "      <td>0.03832</td>\n",
              "      <td>0.497206</td>\n",
              "      <td>0.47632</td>\n",
              "    </tr>\n",
              "    <tr>\n",
              "      <th>min</th>\n",
              "      <td>1979.000000</td>\n",
              "      <td>0.000000</td>\n",
              "      <td>0.004000</td>\n",
              "      <td>0.001000</td>\n",
              "      <td>0.000250</td>\n",
              "      <td>0.001000</td>\n",
              "      <td>0.00800</td>\n",
              "      <td>0.002000</td>\n",
              "      <td>-7.965784</td>\n",
              "      <td>-9.965784</td>\n",
              "      <td>-11.965784</td>\n",
              "      <td>-9.965784</td>\n",
              "      <td>-6.965784</td>\n",
              "      <td>-8.965784</td>\n",
              "      <td>0.000000</td>\n",
              "      <td>0.000000</td>\n",
              "      <td>0.000000</td>\n",
              "      <td>0.00000</td>\n",
              "      <td>0.000000</td>\n",
              "      <td>0.00000</td>\n",
              "    </tr>\n",
              "    <tr>\n",
              "      <th>25%</th>\n",
              "      <td>2009.000000</td>\n",
              "      <td>134.000000</td>\n",
              "      <td>0.125000</td>\n",
              "      <td>0.004000</td>\n",
              "      <td>0.004000</td>\n",
              "      <td>0.015000</td>\n",
              "      <td>0.50000</td>\n",
              "      <td>0.250000</td>\n",
              "      <td>-3.000000</td>\n",
              "      <td>-7.965784</td>\n",
              "      <td>-7.965784</td>\n",
              "      <td>-6.058894</td>\n",
              "      <td>-1.000000</td>\n",
              "      <td>-2.000000</td>\n",
              "      <td>0.000000</td>\n",
              "      <td>0.000000</td>\n",
              "      <td>0.000000</td>\n",
              "      <td>0.00000</td>\n",
              "      <td>0.000000</td>\n",
              "      <td>0.00000</td>\n",
              "    </tr>\n",
              "    <tr>\n",
              "      <th>50%</th>\n",
              "      <td>2012.000000</td>\n",
              "      <td>275.000000</td>\n",
              "      <td>0.380000</td>\n",
              "      <td>0.094000</td>\n",
              "      <td>0.015000</td>\n",
              "      <td>0.016000</td>\n",
              "      <td>2.00000</td>\n",
              "      <td>0.500000</td>\n",
              "      <td>-1.395929</td>\n",
              "      <td>-3.411195</td>\n",
              "      <td>-6.058894</td>\n",
              "      <td>-5.965784</td>\n",
              "      <td>1.000000</td>\n",
              "      <td>-1.000000</td>\n",
              "      <td>0.000000</td>\n",
              "      <td>0.000000</td>\n",
              "      <td>0.000000</td>\n",
              "      <td>0.00000</td>\n",
              "      <td>1.000000</td>\n",
              "      <td>0.00000</td>\n",
              "    </tr>\n",
              "    <tr>\n",
              "      <th>75%</th>\n",
              "      <td>2013.000000</td>\n",
              "      <td>618.000000</td>\n",
              "      <td>1.000000</td>\n",
              "      <td>16.000000</td>\n",
              "      <td>0.032000</td>\n",
              "      <td>0.060000</td>\n",
              "      <td>4.00000</td>\n",
              "      <td>2.000000</td>\n",
              "      <td>0.000000</td>\n",
              "      <td>4.000000</td>\n",
              "      <td>-4.965784</td>\n",
              "      <td>-4.058894</td>\n",
              "      <td>2.000000</td>\n",
              "      <td>1.000000</td>\n",
              "      <td>0.000000</td>\n",
              "      <td>1.000000</td>\n",
              "      <td>0.000000</td>\n",
              "      <td>0.00000</td>\n",
              "      <td>1.000000</td>\n",
              "      <td>1.00000</td>\n",
              "    </tr>\n",
              "    <tr>\n",
              "      <th>max</th>\n",
              "      <td>2017.000000</td>\n",
              "      <td>1078.000000</td>\n",
              "      <td>1024.000000</td>\n",
              "      <td>64.000000</td>\n",
              "      <td>2.000000</td>\n",
              "      <td>8.000000</td>\n",
              "      <td>256.00000</td>\n",
              "      <td>512.000000</td>\n",
              "      <td>10.000000</td>\n",
              "      <td>6.000000</td>\n",
              "      <td>1.000000</td>\n",
              "      <td>3.000000</td>\n",
              "      <td>8.000000</td>\n",
              "      <td>9.000000</td>\n",
              "      <td>1.000000</td>\n",
              "      <td>1.000000</td>\n",
              "      <td>1.000000</td>\n",
              "      <td>1.00000</td>\n",
              "      <td>1.000000</td>\n",
              "      <td>1.00000</td>\n",
              "    </tr>\n",
              "  </tbody>\n",
              "</table>\n",
              "</div>\n",
              "    <div class=\"colab-df-buttons\">\n",
              "\n",
              "  <div class=\"colab-df-container\">\n",
              "    <button class=\"colab-df-convert\" onclick=\"convertToInteractive('df-0be6546d-2d40-46fc-a538-ecd145e2b149')\"\n",
              "            title=\"Convert this dataframe to an interactive table.\"\n",
              "            style=\"display:none;\">\n",
              "\n",
              "  <svg xmlns=\"http://www.w3.org/2000/svg\" height=\"24px\" viewBox=\"0 -960 960 960\">\n",
              "    <path d=\"M120-120v-720h720v720H120Zm60-500h600v-160H180v160Zm220 220h160v-160H400v160Zm0 220h160v-160H400v160ZM180-400h160v-160H180v160Zm440 0h160v-160H620v160ZM180-180h160v-160H180v160Zm440 0h160v-160H620v160Z\"/>\n",
              "  </svg>\n",
              "    </button>\n",
              "\n",
              "  <style>\n",
              "    .colab-df-container {\n",
              "      display:flex;\n",
              "      gap: 12px;\n",
              "    }\n",
              "\n",
              "    .colab-df-convert {\n",
              "      background-color: #E8F0FE;\n",
              "      border: none;\n",
              "      border-radius: 50%;\n",
              "      cursor: pointer;\n",
              "      display: none;\n",
              "      fill: #1967D2;\n",
              "      height: 32px;\n",
              "      padding: 0 0 0 0;\n",
              "      width: 32px;\n",
              "    }\n",
              "\n",
              "    .colab-df-convert:hover {\n",
              "      background-color: #E2EBFA;\n",
              "      box-shadow: 0px 1px 2px rgba(60, 64, 67, 0.3), 0px 1px 3px 1px rgba(60, 64, 67, 0.15);\n",
              "      fill: #174EA6;\n",
              "    }\n",
              "\n",
              "    .colab-df-buttons div {\n",
              "      margin-bottom: 4px;\n",
              "    }\n",
              "\n",
              "    [theme=dark] .colab-df-convert {\n",
              "      background-color: #3B4455;\n",
              "      fill: #D2E3FC;\n",
              "    }\n",
              "\n",
              "    [theme=dark] .colab-df-convert:hover {\n",
              "      background-color: #434B5C;\n",
              "      box-shadow: 0px 1px 3px 1px rgba(0, 0, 0, 0.15);\n",
              "      filter: drop-shadow(0px 1px 2px rgba(0, 0, 0, 0.3));\n",
              "      fill: #FFFFFF;\n",
              "    }\n",
              "  </style>\n",
              "\n",
              "    <script>\n",
              "      const buttonEl =\n",
              "        document.querySelector('#df-0be6546d-2d40-46fc-a538-ecd145e2b149 button.colab-df-convert');\n",
              "      buttonEl.style.display =\n",
              "        google.colab.kernel.accessAllowed ? 'block' : 'none';\n",
              "\n",
              "      async function convertToInteractive(key) {\n",
              "        const element = document.querySelector('#df-0be6546d-2d40-46fc-a538-ecd145e2b149');\n",
              "        const dataTable =\n",
              "          await google.colab.kernel.invokeFunction('convertToInteractive',\n",
              "                                                    [key], {});\n",
              "        if (!dataTable) return;\n",
              "\n",
              "        const docLinkHtml = 'Like what you see? Visit the ' +\n",
              "          '<a target=\"_blank\" href=https://colab.research.google.com/notebooks/data_table.ipynb>data table notebook</a>'\n",
              "          + ' to learn more about interactive tables.';\n",
              "        element.innerHTML = '';\n",
              "        dataTable['output_type'] = 'display_data';\n",
              "        await google.colab.output.renderOutput(dataTable, element);\n",
              "        const docLink = document.createElement('div');\n",
              "        docLink.innerHTML = docLinkHtml;\n",
              "        element.appendChild(docLink);\n",
              "      }\n",
              "    </script>\n",
              "  </div>\n",
              "\n",
              "\n",
              "    <div id=\"df-78ef2464-a5a2-4b9c-b0eb-61b377490b74\">\n",
              "      <button class=\"colab-df-quickchart\" onclick=\"quickchart('df-78ef2464-a5a2-4b9c-b0eb-61b377490b74')\"\n",
              "                title=\"Suggest charts\"\n",
              "                style=\"display:none;\">\n",
              "\n",
              "<svg xmlns=\"http://www.w3.org/2000/svg\" height=\"24px\"viewBox=\"0 0 24 24\"\n",
              "     width=\"24px\">\n",
              "    <g>\n",
              "        <path d=\"M19 3H5c-1.1 0-2 .9-2 2v14c0 1.1.9 2 2 2h14c1.1 0 2-.9 2-2V5c0-1.1-.9-2-2-2zM9 17H7v-7h2v7zm4 0h-2V7h2v10zm4 0h-2v-4h2v4z\"/>\n",
              "    </g>\n",
              "</svg>\n",
              "      </button>\n",
              "\n",
              "<style>\n",
              "  .colab-df-quickchart {\n",
              "      --bg-color: #E8F0FE;\n",
              "      --fill-color: #1967D2;\n",
              "      --hover-bg-color: #E2EBFA;\n",
              "      --hover-fill-color: #174EA6;\n",
              "      --disabled-fill-color: #AAA;\n",
              "      --disabled-bg-color: #DDD;\n",
              "  }\n",
              "\n",
              "  [theme=dark] .colab-df-quickchart {\n",
              "      --bg-color: #3B4455;\n",
              "      --fill-color: #D2E3FC;\n",
              "      --hover-bg-color: #434B5C;\n",
              "      --hover-fill-color: #FFFFFF;\n",
              "      --disabled-bg-color: #3B4455;\n",
              "      --disabled-fill-color: #666;\n",
              "  }\n",
              "\n",
              "  .colab-df-quickchart {\n",
              "    background-color: var(--bg-color);\n",
              "    border: none;\n",
              "    border-radius: 50%;\n",
              "    cursor: pointer;\n",
              "    display: none;\n",
              "    fill: var(--fill-color);\n",
              "    height: 32px;\n",
              "    padding: 0;\n",
              "    width: 32px;\n",
              "  }\n",
              "\n",
              "  .colab-df-quickchart:hover {\n",
              "    background-color: var(--hover-bg-color);\n",
              "    box-shadow: 0 1px 2px rgba(60, 64, 67, 0.3), 0 1px 3px 1px rgba(60, 64, 67, 0.15);\n",
              "    fill: var(--button-hover-fill-color);\n",
              "  }\n",
              "\n",
              "  .colab-df-quickchart-complete:disabled,\n",
              "  .colab-df-quickchart-complete:disabled:hover {\n",
              "    background-color: var(--disabled-bg-color);\n",
              "    fill: var(--disabled-fill-color);\n",
              "    box-shadow: none;\n",
              "  }\n",
              "\n",
              "  .colab-df-spinner {\n",
              "    border: 2px solid var(--fill-color);\n",
              "    border-color: transparent;\n",
              "    border-bottom-color: var(--fill-color);\n",
              "    animation:\n",
              "      spin 1s steps(1) infinite;\n",
              "  }\n",
              "\n",
              "  @keyframes spin {\n",
              "    0% {\n",
              "      border-color: transparent;\n",
              "      border-bottom-color: var(--fill-color);\n",
              "      border-left-color: var(--fill-color);\n",
              "    }\n",
              "    20% {\n",
              "      border-color: transparent;\n",
              "      border-left-color: var(--fill-color);\n",
              "      border-top-color: var(--fill-color);\n",
              "    }\n",
              "    30% {\n",
              "      border-color: transparent;\n",
              "      border-left-color: var(--fill-color);\n",
              "      border-top-color: var(--fill-color);\n",
              "      border-right-color: var(--fill-color);\n",
              "    }\n",
              "    40% {\n",
              "      border-color: transparent;\n",
              "      border-right-color: var(--fill-color);\n",
              "      border-top-color: var(--fill-color);\n",
              "    }\n",
              "    60% {\n",
              "      border-color: transparent;\n",
              "      border-right-color: var(--fill-color);\n",
              "    }\n",
              "    80% {\n",
              "      border-color: transparent;\n",
              "      border-right-color: var(--fill-color);\n",
              "      border-bottom-color: var(--fill-color);\n",
              "    }\n",
              "    90% {\n",
              "      border-color: transparent;\n",
              "      border-bottom-color: var(--fill-color);\n",
              "    }\n",
              "  }\n",
              "</style>\n",
              "\n",
              "      <script>\n",
              "        async function quickchart(key) {\n",
              "          const quickchartButtonEl =\n",
              "            document.querySelector('#' + key + ' button');\n",
              "          quickchartButtonEl.disabled = true;  // To prevent multiple clicks.\n",
              "          quickchartButtonEl.classList.add('colab-df-spinner');\n",
              "          try {\n",
              "            const charts = await google.colab.kernel.invokeFunction(\n",
              "                'suggestCharts', [key], {});\n",
              "          } catch (error) {\n",
              "            console.error('Error during call to suggestCharts:', error);\n",
              "          }\n",
              "          quickchartButtonEl.classList.remove('colab-df-spinner');\n",
              "          quickchartButtonEl.classList.add('colab-df-quickchart-complete');\n",
              "        }\n",
              "        (() => {\n",
              "          let quickchartButtonEl =\n",
              "            document.querySelector('#df-78ef2464-a5a2-4b9c-b0eb-61b377490b74 button');\n",
              "          quickchartButtonEl.style.display =\n",
              "            google.colab.kernel.accessAllowed ? 'block' : 'none';\n",
              "        })();\n",
              "      </script>\n",
              "    </div>\n",
              "\n",
              "    </div>\n",
              "  </div>\n"
            ],
            "application/vnd.google.colaboratory.intrinsic+json": {
              "type": "dataframe",
              "summary": "{\n  \"name\": \"metadata_df\",\n  \"rows\": 8,\n  \"fields\": [\n    {\n      \"column\": \"Year\",\n      \"properties\": {\n        \"dtype\": \"number\",\n        \"std\": 950.1816769517643,\n        \"min\": 4.670816998920301,\n        \"max\": 3536.0,\n        \"num_unique_values\": 8,\n        \"samples\": [\n          2010.3006221719456,\n          2012.0,\n          3536.0\n        ],\n        \"semantic_type\": \"\",\n        \"description\": \"\"\n      }\n    },\n    {\n      \"column\": \"Group\",\n      \"properties\": {\n        \"dtype\": \"number\",\n        \"std\": 1240.3443866863547,\n        \"min\": 0.0,\n        \"max\": 3786.0,\n        \"num_unique_values\": 8,\n        \"samples\": [\n          394.3343898573693,\n          275.0,\n          3786.0\n        ],\n        \"semantic_type\": \"\",\n        \"description\": \"\"\n      }\n    },\n    {\n      \"column\": \"azm_mic\",\n      \"properties\": {\n        \"dtype\": \"number\",\n        \"std\": 1224.4752764611003,\n        \"min\": 0.004,\n        \"max\": 3478.0,\n        \"num_unique_values\": 8,\n        \"samples\": [\n          17.118781196089703,\n          0.38,\n          3478.0\n        ],\n        \"semantic_type\": \"\",\n        \"description\": \"\"\n      }\n    },\n    {\n      \"column\": \"cip_mic\",\n      \"properties\": {\n        \"dtype\": \"number\",\n        \"std\": 1086.9893330677085,\n        \"min\": 0.001,\n        \"max\": 3088.0,\n        \"num_unique_values\": 8,\n        \"samples\": [\n          7.428787856217616,\n          0.094,\n          3088.0\n        ],\n        \"semantic_type\": \"\",\n        \"description\": \"\"\n      }\n    },\n    {\n      \"column\": \"cro_mic\",\n      \"properties\": {\n        \"dtype\": \"number\",\n        \"std\": 1213.9933617551221,\n        \"min\": 0.00025,\n        \"max\": 3434.0,\n        \"num_unique_values\": 8,\n        \"samples\": [\n          0.0299913948747816,\n          0.015,\n          3434.0\n        ],\n        \"semantic_type\": \"\",\n        \"description\": \"\"\n      }\n    },\n    {\n      \"column\": \"cfx_mic\",\n      \"properties\": {\n        \"dtype\": \"number\",\n        \"std\": 1202.016275382709,\n        \"min\": 0.001,\n        \"max\": 3401.0,\n        \"num_unique_values\": 8,\n        \"samples\": [\n          0.06440517494854456,\n          0.016,\n          3401.0\n        ],\n        \"semantic_type\": \"\",\n        \"description\": \"\"\n      }\n    },\n    {\n      \"column\": \"tet_mic\",\n      \"properties\": {\n        \"dtype\": \"number\",\n        \"std\": 513.2422857523723,\n        \"min\": 0.008,\n        \"max\": 1472.0,\n        \"num_unique_values\": 8,\n        \"samples\": [\n          7.386089673913044,\n          2.0,\n          1472.0\n        ],\n        \"semantic_type\": \"\",\n        \"description\": \"\"\n      }\n    },\n    {\n      \"column\": \"pen_mic\",\n      \"properties\": {\n        \"dtype\": \"number\",\n        \"std\": 522.2887496568588,\n        \"min\": 0.002,\n        \"max\": 1465.0,\n        \"num_unique_values\": 8,\n        \"samples\": [\n          3.044141979522184,\n          0.5,\n          1465.0\n        ],\n        \"semantic_type\": \"\",\n        \"description\": \"\"\n      }\n    },\n    {\n      \"column\": \"log2_azm_mic\",\n      \"properties\": {\n        \"dtype\": \"number\",\n        \"std\": 1229.7056893022457,\n        \"min\": -7.965784285,\n        \"max\": 3478.0,\n        \"num_unique_values\": 8,\n        \"samples\": [\n          -1.107627632774008,\n          -1.395928676,\n          3478.0\n        ],\n        \"semantic_type\": \"\",\n        \"description\": \"\"\n      }\n    },\n    {\n      \"column\": \"log2_cip_mic\",\n      \"properties\": {\n        \"dtype\": \"number\",\n        \"std\": 1092.1904431122284,\n        \"min\": -9.965784285,\n        \"max\": 3088.0,\n        \"num_unique_values\": 8,\n        \"samples\": [\n          -2.0435895699517483,\n          -3.411195433,\n          3088.0\n        ],\n        \"semantic_type\": \"\",\n        \"description\": \"\"\n      }\n    },\n    {\n      \"column\": \"log2_cro_mic\",\n      \"properties\": {\n        \"dtype\": \"number\",\n        \"std\": 1215.847499049578,\n        \"min\": -11.96578428,\n        \"max\": 3434.0,\n        \"num_unique_values\": 8,\n        \"samples\": [\n          -6.203939929651718,\n          -6.058893689,\n          3434.0\n        ],\n        \"semantic_type\": \"\",\n        \"description\": \"\"\n      }\n    },\n    {\n      \"column\": \"log2_cfx_mic\",\n      \"properties\": {\n        \"dtype\": \"number\",\n        \"std\": 1203.7834705567582,\n        \"min\": -9.965784285,\n        \"max\": 3401.0,\n        \"num_unique_values\": 8,\n        \"samples\": [\n          -5.164220737511614,\n          -5.965784285,\n          3401.0\n        ],\n        \"semantic_type\": \"\",\n        \"description\": \"\"\n      }\n    },\n    {\n      \"column\": \"log2_tet_mic\",\n      \"properties\": {\n        \"dtype\": \"number\",\n        \"std\": 520.1334470498089,\n        \"min\": -6.965784285,\n        \"max\": 1472.0,\n        \"num_unique_values\": 8,\n        \"samples\": [\n          0.8354919005991847,\n          1.0,\n          1472.0\n        ],\n        \"semantic_type\": \"\",\n        \"description\": \"\"\n      }\n    },\n    {\n      \"column\": \"log2_pen_mic\",\n      \"properties\": {\n        \"dtype\": \"number\",\n        \"std\": 517.9863082934454,\n        \"min\": -8.965784285,\n        \"max\": 1465.0,\n        \"num_unique_values\": 8,\n        \"samples\": [\n          -0.4277875088211604,\n          -1.0,\n          1465.0\n        ],\n        \"semantic_type\": \"\",\n        \"description\": \"\"\n      }\n    },\n    {\n      \"column\": \"azm_sr\",\n      \"properties\": {\n        \"dtype\": \"number\",\n        \"std\": 1229.5848354665782,\n        \"min\": 0.0,\n        \"max\": 3478.0,\n        \"num_unique_values\": 5,\n        \"samples\": [\n          0.12852213916043703,\n          1.0,\n          0.3347184067099108\n        ],\n        \"semantic_type\": \"\",\n        \"description\": \"\"\n      }\n    },\n    {\n      \"column\": \"cip_sr\",\n      \"properties\": {\n        \"dtype\": \"number\",\n        \"std\": 1091.6233910413823,\n        \"min\": 0.0,\n        \"max\": 3088.0,\n        \"num_unique_values\": 5,\n        \"samples\": [\n          0.46243523316062174,\n          1.0,\n          0.4986676407717965\n        ],\n        \"semantic_type\": \"\",\n        \"description\": \"\"\n      }\n    },\n    {\n      \"column\": \"cro_sr\",\n      \"properties\": {\n        \"dtype\": \"number\",\n        \"std\": 1214.0501036862504,\n        \"min\": 0.0,\n        \"max\": 3434.0,\n        \"num_unique_values\": 5,\n        \"samples\": [\n          0.0011648223645894002,\n          1.0,\n          0.03411457840592652\n        ],\n        \"semantic_type\": \"\",\n        \"description\": \"\"\n      }\n    },\n    {\n      \"column\": \"cfx_sr\",\n      \"properties\": {\n        \"dtype\": \"number\",\n        \"std\": 1202.3826143894767,\n        \"min\": 0.0,\n        \"max\": 3401.0,\n        \"num_unique_values\": 5,\n        \"samples\": [\n          0.001470155836518671,\n          1.0,\n          0.03832005012283871\n        ],\n        \"semantic_type\": \"\",\n        \"description\": \"\"\n      }\n    },\n    {\n      \"column\": \"tet_sr\",\n      \"properties\": {\n        \"dtype\": \"number\",\n        \"std\": 520.2261226282898,\n        \"min\": 0.0,\n        \"max\": 1472.0,\n        \"num_unique_values\": 5,\n        \"samples\": [\n          0.5543478260869565,\n          1.0,\n          0.4972064543713725\n        ],\n        \"semantic_type\": \"\",\n        \"description\": \"\"\n      }\n    },\n    {\n      \"column\": \"pen_sr\",\n      \"properties\": {\n        \"dtype\": \"number\",\n        \"std\": 517.8132625109278,\n        \"min\": 0.0,\n        \"max\": 1465.0,\n        \"num_unique_values\": 5,\n        \"samples\": [\n          0.34744027303754266,\n          1.0,\n          0.4763196372964698\n        ],\n        \"semantic_type\": \"\",\n        \"description\": \"\"\n      }\n    }\n  ]\n}"
            }
          },
          "metadata": {},
          "execution_count": 29
        }
      ]
    },
    {
      "cell_type": "code",
      "source": [
        "metadata_df.info()"
      ],
      "metadata": {
        "id": "F2RIK39WKD7W",
        "outputId": "6512d6ea-1249-42ba-a12b-31427bb7a24d",
        "colab": {
          "base_uri": "https://localhost:8080/"
        }
      },
      "id": "F2RIK39WKD7W",
      "execution_count": 32,
      "outputs": [
        {
          "output_type": "stream",
          "name": "stdout",
          "text": [
            "<class 'pandas.core.frame.DataFrame'>\n",
            "RangeIndex: 3786 entries, 0 to 3785\n",
            "Data columns (total 31 columns):\n",
            " #   Column          Non-Null Count  Dtype  \n",
            "---  ------          --------------  -----  \n",
            " 0   Sample_ID       3786 non-null   object \n",
            " 1   Year            3536 non-null   float64\n",
            " 2   Country         3785 non-null   object \n",
            " 3   Continent       3785 non-null   object \n",
            " 4   Beta.lactamase  1927 non-null   object \n",
            " 5   Azithromycin    3480 non-null   object \n",
            " 6   Ciprofloxacin   3129 non-null   object \n",
            " 7   Ceftriaxone     3436 non-null   object \n",
            " 8   Cefixime        3405 non-null   object \n",
            " 9   Tetracycline    1472 non-null   object \n",
            " 10  Penicillin      1465 non-null   object \n",
            " 11  NG_MAST         3779 non-null   object \n",
            " 12  Group           3786 non-null   int64  \n",
            " 13  azm_mic         3478 non-null   float64\n",
            " 14  cip_mic         3088 non-null   float64\n",
            " 15  cro_mic         3434 non-null   float64\n",
            " 16  cfx_mic         3401 non-null   float64\n",
            " 17  tet_mic         1472 non-null   float64\n",
            " 18  pen_mic         1465 non-null   float64\n",
            " 19  log2_azm_mic    3478 non-null   float64\n",
            " 20  log2_cip_mic    3088 non-null   float64\n",
            " 21  log2_cro_mic    3434 non-null   float64\n",
            " 22  log2_cfx_mic    3401 non-null   float64\n",
            " 23  log2_tet_mic    1472 non-null   float64\n",
            " 24  log2_pen_mic    1465 non-null   float64\n",
            " 25  azm_sr          3478 non-null   float64\n",
            " 26  cip_sr          3088 non-null   float64\n",
            " 27  cro_sr          3434 non-null   float64\n",
            " 28  cfx_sr          3401 non-null   float64\n",
            " 29  tet_sr          1472 non-null   float64\n",
            " 30  pen_sr          1465 non-null   float64\n",
            "dtypes: float64(19), int64(1), object(11)\n",
            "memory usage: 917.1+ KB\n"
          ]
        }
      ]
    }
  ],
  "metadata": {
    "kernelspec": {
      "display_name": "Python 3",
      "name": "python3"
    },
    "language_info": {
      "codemirror_mode": {
        "name": "ipython",
        "version": 3
      },
      "file_extension": ".py",
      "mimetype": "text/x-python",
      "name": "python",
      "nbconvert_exporter": "python",
      "pygments_lexer": "ipython3",
      "version": "3.10.16"
    },
    "colab": {
      "provenance": [],
      "machine_shape": "hm",
      "include_colab_link": true
    }
  },
  "nbformat": 4,
  "nbformat_minor": 5
}